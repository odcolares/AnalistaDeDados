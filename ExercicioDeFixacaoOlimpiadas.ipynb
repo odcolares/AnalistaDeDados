{
 "cells": [
  {
   "cell_type": "code",
   "execution_count": null,
   "source": [
    "# importando as bibliotecas\r\n",
    "import pandas as pd"
   ],
   "outputs": [],
   "metadata": {}
  },
  {
   "cell_type": "code",
   "execution_count": null,
   "source": [
    "excel_file = pd.ExcelFile(\"C:/Users/odair.colares/Documents/AnalistaDeDados/Olipiadas2021/Athletes.xlsx\")\r\n",
    "df = pd.read_excel(excel_file, sheet_name='Details')\r\n",
    "#df.describe()"
   ],
   "outputs": [],
   "metadata": {}
  },
  {
   "cell_type": "code",
   "execution_count": null,
   "source": [
    "df1 = df.rename({'NOC':'ComiteOlimpico', 'Name': 'Nome', 'Discipline': 'Modalidade'}, axis = 1)\r\n",
    "df1.head()\r\n",
    "#df"
   ],
   "outputs": [],
   "metadata": {}
  },
  {
   "cell_type": "code",
   "execution_count": null,
   "source": [
    "#df[df['Team/NOC'] == 'Japan'].groupby(['Gold']).Total.mean().reset_index()\r\n",
    "#df.loc[df['Team/NOC'] == 'Japan']\r\n",
    "#df.loc[0:10, ['Team/NOC', 'Gold']]\r\n",
    "#df = df.set_index('Rank')\r\n",
    "df[['Team/NOC','Gold','Silver','Bronze']].head(11).plot.bar();\r\n",
    "#df[(df.NOC == 'Brazil') & ((df.Discipline == 'Artistic Gymnastics') | (df.Discipline == 'Shooting') | (df.Discipline == 'Athletics'))].describe().T"
   ],
   "outputs": [],
   "metadata": {}
  }
 ],
 "metadata": {
  "orig_nbformat": 4,
  "language_info": {
   "name": "python",
   "version": "3.8.6",
   "mimetype": "text/x-python",
   "codemirror_mode": {
    "name": "ipython",
    "version": 3
   },
   "pygments_lexer": "ipython3",
   "nbconvert_exporter": "python",
   "file_extension": ".py"
  },
  "kernelspec": {
   "name": "python3",
   "display_name": "Python 3.8.6 64-bit"
  },
  "interpreter": {
   "hash": "1baa965d5efe3ac65b79dfc60c0d706280b1da80fedb7760faf2759126c4f253"
  }
 },
 "nbformat": 4,
 "nbformat_minor": 2
}