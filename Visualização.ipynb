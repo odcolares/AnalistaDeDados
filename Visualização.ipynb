{
 "cells": [
  {
   "cell_type": "code",
   "execution_count": null,
   "source": [
    "# importando as bibliotecas\r\n",
    "import pandas as pd\r\n",
    "import numpy as np\r\n",
    "import matplotlib.pyplot as plt"
   ],
   "outputs": [],
   "metadata": {}
  },
  {
   "cell_type": "code",
   "execution_count": null,
   "source": [
    "# leitura de planilhas excel\r\n",
    "# 2 abas (worksheets)\r\n",
    "# leitura do arquivo todo\r\n",
    "excel_file = pd.ExcelFile(\"C:/Users/odair.colares/Documents/AnalistaDeDados/temperature.xlsx\")\r\n",
    "df = pd.read_excel(excel_file, sheet_name='temperature')\r\n",
    "df\r\n",
    "#df ['date'] = pd.to_datetime(df['date'])\r\n",
    "#Setar o novo index.\r\n",
    "#df = df.set_index('date')\r\n",
    "#df.sort_values(['date'], ascending=True)\r\n"
   ],
   "outputs": [],
   "metadata": {}
  },
  {
   "cell_type": "code",
   "execution_count": null,
   "source": [
    "x1 = df.index\r\n",
    "y1 = df['temperatura_1']\r\n",
    "x2 = df.index\r\n",
    "y2 = df['temperatura_2']\r\n",
    "plt.plot(x1,y1, 'o--b')\r\n",
    "plt.plot(x2,y2, 'o--y')\r\n",
    "plt.xticks(rotation=90);"
   ],
   "outputs": [],
   "metadata": {}
  },
  {
   "cell_type": "code",
   "execution_count": null,
   "source": [
    "#Gerando copia do df\r\n",
    "df1 = df.copy()"
   ],
   "outputs": [],
   "metadata": {}
  },
  {
   "cell_type": "code",
   "execution_count": null,
   "source": [
    "# Transforma tipo da coluna de date para datetime.\r\n",
    "df ['date'] = pd.to_datetime(df['date'])\r\n",
    "#Setar o novo index.\r\n",
    "df = df.set_index('date')\r\n",
    "df"
   ],
   "outputs": [],
   "metadata": {}
  },
  {
   "cell_type": "code",
   "execution_count": null,
   "source": [
    "# Visualizar dados em graficos\r\n",
    "df.plot();\r\n",
    "#Ajustar o tamanho do plot (horizotal, vertical) com grid.\r\n",
    "#df.plot(figsize=(10,5), grid=True);"
   ],
   "outputs": [],
   "metadata": {}
  },
  {
   "cell_type": "code",
   "execution_count": null,
   "source": [
    "#Customizando plot com metodo style: Estilo, tamanho do quadro, expessura da linha, cor, gride visivel.\r\n",
    "df.plot(style = '--o',figsize=(13,7) ,linewidth=1 ,color= 'blue' ,grid=True );"
   ],
   "outputs": [],
   "metadata": {}
  },
  {
   "cell_type": "code",
   "execution_count": null,
   "source": [
    "# Contagem de numeros de vezes de certo elemento em texto (ou categorico)\r\n",
    "df['classification'].value_counts()"
   ],
   "outputs": [],
   "metadata": {}
  },
  {
   "cell_type": "code",
   "execution_count": null,
   "source": [
    "#Fazer o plot barras desse valores categoricos\r\n",
    "df['classification'].value_counts().plot.bar(figsize=(10,5), rot=0);"
   ],
   "outputs": [],
   "metadata": {}
  },
  {
   "cell_type": "code",
   "execution_count": null,
   "source": [
    "#Plot de pizza\r\n",
    "df['classification'].value_counts().plot.pie(autopct= '%1.1f%%',figsize= (15,5) , rot=0);"
   ],
   "outputs": [],
   "metadata": {}
  },
  {
   "cell_type": "code",
   "execution_count": null,
   "source": [
    "#Agrupamento de colunas passando alguma função: Sum(), mean() etc, etc...\r\n",
    "df.groupby(by= 'classification').sum()"
   ],
   "outputs": [],
   "metadata": {}
  },
  {
   "cell_type": "code",
   "execution_count": null,
   "source": [
    "# Deletar coluna ou linha\r\n",
    "df.drop('temperatura', axis=1)"
   ],
   "outputs": [],
   "metadata": {}
  }
 ],
 "metadata": {
  "orig_nbformat": 4,
  "language_info": {
   "name": "python",
   "version": "3.8.6",
   "mimetype": "text/x-python",
   "codemirror_mode": {
    "name": "ipython",
    "version": 3
   },
   "pygments_lexer": "ipython3",
   "nbconvert_exporter": "python",
   "file_extension": ".py"
  },
  "kernelspec": {
   "name": "python3",
   "display_name": "Python 3.8.6 64-bit"
  },
  "interpreter": {
   "hash": "1baa965d5efe3ac65b79dfc60c0d706280b1da80fedb7760faf2759126c4f253"
  }
 },
 "nbformat": 4,
 "nbformat_minor": 2
}