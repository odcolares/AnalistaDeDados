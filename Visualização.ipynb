{
 "cells": [
  {
   "cell_type": "code",
   "execution_count": 1,
   "source": [
    "# importando as bibliotecas\r\n",
    "import pandas as pd\r\n",
    "import numpy as np\r\n",
    "import matplotlib.pyplot as plt"
   ],
   "outputs": [],
   "metadata": {}
  },
  {
   "cell_type": "code",
   "execution_count": 2,
   "source": [
    "# leitura de planilhas excel\r\n",
    "# 2 abas (worksheets)\r\n",
    "# leitura do arquivo todo\r\n",
    "excel_file = pd.ExcelFile(\"C:/Users/odair.colares/Documents/AnalistaDeDados/temperature.xlsx\")\r\n",
    "df = pd.read_excel(excel_file, sheet_name='temperature')\r\n",
    "df\r\n",
    "#df ['date'] = pd.to_datetime(df['date'])\r\n",
    "#Setar o novo index.\r\n",
    "#df = df.set_index('date')\r\n",
    "#df.sort_values(['date'], ascending=True)\r\n"
   ],
   "outputs": [
    {
     "output_type": "execute_result",
     "data": {
      "text/plain": [
       "         date  temperatura_1  temperatura_2 classification\n",
       "0  2020-01-11           35.3           15.0         quente\n",
       "1  2020-01-07           34.3           20.0         quente\n",
       "2  2020-01-12           31.4           22.0   muito quente\n",
       "3  2020-01-02           31.2           23.0   muito quente\n",
       "4  2020-01-01           29.1           24.0         quente\n",
       "5  2020-01-13           28.7           25.0         quente\n",
       "6  2020-01-03           28.5           10.6         quente\n",
       "7  2020-01-06           23.2           23.2           frio\n",
       "8  2020-01-08           10.6           28.5   muito quente\n",
       "9  2020-01-04           25.0           28.7         quente\n",
       "10 2020-01-05           24.0           29.1    confortavel\n",
       "11 2020-01-09           23.0           31.2         quente\n",
       "12 2020-01-10           22.0           31.4       quente á\n",
       "13 2020-01-15           20.0           34.3         quente\n",
       "14 2020-01-14           15.0           35.3       quente á"
      ],
      "text/html": [
       "<div>\n",
       "<style scoped>\n",
       "    .dataframe tbody tr th:only-of-type {\n",
       "        vertical-align: middle;\n",
       "    }\n",
       "\n",
       "    .dataframe tbody tr th {\n",
       "        vertical-align: top;\n",
       "    }\n",
       "\n",
       "    .dataframe thead th {\n",
       "        text-align: right;\n",
       "    }\n",
       "</style>\n",
       "<table border=\"1\" class=\"dataframe\">\n",
       "  <thead>\n",
       "    <tr style=\"text-align: right;\">\n",
       "      <th></th>\n",
       "      <th>date</th>\n",
       "      <th>temperatura_1</th>\n",
       "      <th>temperatura_2</th>\n",
       "      <th>classification</th>\n",
       "    </tr>\n",
       "  </thead>\n",
       "  <tbody>\n",
       "    <tr>\n",
       "      <th>0</th>\n",
       "      <td>2020-01-11</td>\n",
       "      <td>35.3</td>\n",
       "      <td>15.0</td>\n",
       "      <td>quente</td>\n",
       "    </tr>\n",
       "    <tr>\n",
       "      <th>1</th>\n",
       "      <td>2020-01-07</td>\n",
       "      <td>34.3</td>\n",
       "      <td>20.0</td>\n",
       "      <td>quente</td>\n",
       "    </tr>\n",
       "    <tr>\n",
       "      <th>2</th>\n",
       "      <td>2020-01-12</td>\n",
       "      <td>31.4</td>\n",
       "      <td>22.0</td>\n",
       "      <td>muito quente</td>\n",
       "    </tr>\n",
       "    <tr>\n",
       "      <th>3</th>\n",
       "      <td>2020-01-02</td>\n",
       "      <td>31.2</td>\n",
       "      <td>23.0</td>\n",
       "      <td>muito quente</td>\n",
       "    </tr>\n",
       "    <tr>\n",
       "      <th>4</th>\n",
       "      <td>2020-01-01</td>\n",
       "      <td>29.1</td>\n",
       "      <td>24.0</td>\n",
       "      <td>quente</td>\n",
       "    </tr>\n",
       "    <tr>\n",
       "      <th>5</th>\n",
       "      <td>2020-01-13</td>\n",
       "      <td>28.7</td>\n",
       "      <td>25.0</td>\n",
       "      <td>quente</td>\n",
       "    </tr>\n",
       "    <tr>\n",
       "      <th>6</th>\n",
       "      <td>2020-01-03</td>\n",
       "      <td>28.5</td>\n",
       "      <td>10.6</td>\n",
       "      <td>quente</td>\n",
       "    </tr>\n",
       "    <tr>\n",
       "      <th>7</th>\n",
       "      <td>2020-01-06</td>\n",
       "      <td>23.2</td>\n",
       "      <td>23.2</td>\n",
       "      <td>frio</td>\n",
       "    </tr>\n",
       "    <tr>\n",
       "      <th>8</th>\n",
       "      <td>2020-01-08</td>\n",
       "      <td>10.6</td>\n",
       "      <td>28.5</td>\n",
       "      <td>muito quente</td>\n",
       "    </tr>\n",
       "    <tr>\n",
       "      <th>9</th>\n",
       "      <td>2020-01-04</td>\n",
       "      <td>25.0</td>\n",
       "      <td>28.7</td>\n",
       "      <td>quente</td>\n",
       "    </tr>\n",
       "    <tr>\n",
       "      <th>10</th>\n",
       "      <td>2020-01-05</td>\n",
       "      <td>24.0</td>\n",
       "      <td>29.1</td>\n",
       "      <td>confortavel</td>\n",
       "    </tr>\n",
       "    <tr>\n",
       "      <th>11</th>\n",
       "      <td>2020-01-09</td>\n",
       "      <td>23.0</td>\n",
       "      <td>31.2</td>\n",
       "      <td>quente</td>\n",
       "    </tr>\n",
       "    <tr>\n",
       "      <th>12</th>\n",
       "      <td>2020-01-10</td>\n",
       "      <td>22.0</td>\n",
       "      <td>31.4</td>\n",
       "      <td>quente á</td>\n",
       "    </tr>\n",
       "    <tr>\n",
       "      <th>13</th>\n",
       "      <td>2020-01-15</td>\n",
       "      <td>20.0</td>\n",
       "      <td>34.3</td>\n",
       "      <td>quente</td>\n",
       "    </tr>\n",
       "    <tr>\n",
       "      <th>14</th>\n",
       "      <td>2020-01-14</td>\n",
       "      <td>15.0</td>\n",
       "      <td>35.3</td>\n",
       "      <td>quente á</td>\n",
       "    </tr>\n",
       "  </tbody>\n",
       "</table>\n",
       "</div>"
      ]
     },
     "metadata": {},
     "execution_count": 2
    }
   ],
   "metadata": {}
  },
  {
   "cell_type": "code",
   "execution_count": null,
   "source": [
    "x1 = df.index\r\n",
    "y1 = df['temperatura_1']\r\n",
    "x2 = df.index\r\n",
    "y2 = df['temperatura_2']\r\n",
    "plt.plot(x1,y1, 'o--b')\r\n",
    "plt.plot(x2,y2, 'o--y')\r\n",
    "plt.xticks(rotation=90);"
   ],
   "outputs": [],
   "metadata": {}
  },
  {
   "cell_type": "code",
   "execution_count": null,
   "source": [
    "#Gerando copia do df\r\n",
    "df1 = df.copy()"
   ],
   "outputs": [],
   "metadata": {}
  },
  {
   "cell_type": "code",
   "execution_count": null,
   "source": [
    "# Transforma tipo da coluna de date para datetime.\r\n",
    "df ['date'] = pd.to_datetime(df['date'])\r\n",
    "#Setar o novo index.\r\n",
    "df = df.set_index('date')\r\n",
    "df"
   ],
   "outputs": [],
   "metadata": {}
  },
  {
   "cell_type": "code",
   "execution_count": null,
   "source": [
    "# Visualizar dados em graficos\r\n",
    "df.plot();\r\n",
    "#Ajustar o tamanho do plot (horizotal, vertical) com grid.\r\n",
    "#df.plot(figsize=(10,5), grid=True);"
   ],
   "outputs": [],
   "metadata": {}
  },
  {
   "cell_type": "code",
   "execution_count": null,
   "source": [
    "#Customizando plot com metodo style: Estilo, tamanho do quadro, expessura da linha, cor, gride visivel.\r\n",
    "df.plot(style = '--o',figsize=(13,7) ,linewidth=1 ,color= 'blue' ,grid=True );"
   ],
   "outputs": [],
   "metadata": {}
  },
  {
   "cell_type": "code",
   "execution_count": null,
   "source": [
    "# Contagem de numeros de vezes de certo elemento em texto (ou categorico)\r\n",
    "df['classification'].value_counts()"
   ],
   "outputs": [],
   "metadata": {}
  },
  {
   "cell_type": "code",
   "execution_count": null,
   "source": [
    "#Fazer o plot barras desse valores categoricos\r\n",
    "df['classification'].value_counts().plot.bar(figsize=(10,5), rot=0);"
   ],
   "outputs": [],
   "metadata": {}
  },
  {
   "cell_type": "code",
   "execution_count": null,
   "source": [
    "#Plot de pizza\r\n",
    "df['classification'].value_counts().plot.pie(autopct= '%1.1f%%',figsize= (15,5) , rot=0);"
   ],
   "outputs": [],
   "metadata": {}
  },
  {
   "cell_type": "code",
   "execution_count": null,
   "source": [
    "#Agrupamento de colunas passando alguma função: Sum(), mean() etc, etc...\r\n",
    "df.groupby(by= 'classification').sum()"
   ],
   "outputs": [],
   "metadata": {}
  },
  {
   "cell_type": "code",
   "execution_count": null,
   "source": [
    "# Deletar coluna ou linha\r\n",
    "df.drop('temperatura', axis=1)"
   ],
   "outputs": [],
   "metadata": {}
  }
 ],
 "metadata": {
  "orig_nbformat": 4,
  "language_info": {
   "name": "python",
   "version": "3.8.6",
   "mimetype": "text/x-python",
   "codemirror_mode": {
    "name": "ipython",
    "version": 3
   },
   "pygments_lexer": "ipython3",
   "nbconvert_exporter": "python",
   "file_extension": ".py"
  },
  "kernelspec": {
   "name": "python3",
   "display_name": "Python 3.8.6 64-bit"
  },
  "interpreter": {
   "hash": "1baa965d5efe3ac65b79dfc60c0d706280b1da80fedb7760faf2759126c4f253"
  }
 },
 "nbformat": 4,
 "nbformat_minor": 2
}