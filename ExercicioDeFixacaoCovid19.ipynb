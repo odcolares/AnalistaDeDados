{
 "cells": [
  {
   "cell_type": "markdown",
   "source": [
    "# DataSet informações Covid_19"
   ],
   "metadata": {}
  },
  {
   "cell_type": "code",
   "execution_count": 1,
   "source": [
    "# importando as bibliotecas\r\n",
    "import pandas as pd\r\n",
    "import plotly.express as px\r\n",
    "from urllib.request import urlretrieve #Import automatico de dataset direto da fonte(Site)"
   ],
   "outputs": [],
   "metadata": {}
  },
  {
   "cell_type": "code",
   "execution_count": null,
   "source": [
    "# Carregando DateSet, via site para que as infos sejam atualizadas automaticamentes conforme o local de origem.\r\n",
    "url = 'https://raw.githubusercontent.com/CSSEGISandData/COVID-19/master/csse_covid_19_data/csse_covid_19_time_series/time_series_covid19_confirmed_global.csv'\r\n",
    "urlretrieve(url, 'C:/Users/odair.colares/Documents/AnalistaDeDados/AnalistaDeDadoscovid19_global.csv')"
   ],
   "outputs": [],
   "metadata": {}
  },
  {
   "cell_type": "code",
   "execution_count": null,
   "source": [
    "# Carregar dataset.\r\n",
    "df_covid19 = pd.read_csv('C:/Users/odair.colares/Documents/AnalistaDeDados/AnalistaDeDadoscovid19_global.csv')\r\n",
    "df_covid19.head()"
   ],
   "outputs": [],
   "metadata": {}
  },
  {
   "cell_type": "code",
   "execution_count": 112,
   "source": [
    "# Retirando colunas desnecessarias do dataset.\r\n",
    "df_covid19.drop(['Lat', 'Long'], axis=1 , inplace= True)"
   ],
   "outputs": [],
   "metadata": {}
  },
  {
   "cell_type": "code",
   "execution_count": 150,
   "source": [
    "# Agrupamento por `Country/Region` para fazer s0mar total dos casos ao pais.\r\n",
    "df_country = df_covid19.groupby('Country/Region').sum()\r\n",
    "df_country.head()"
   ],
   "outputs": [
    {
     "output_type": "execute_result",
     "data": {
      "text/plain": [
       "                1/22/20  1/23/20  1/24/20  1/25/20  1/26/20  1/27/20  1/28/20  \\\n",
       "Country/Region                                                                  \n",
       "Afghanistan           0        0        0        0        0        0        0   \n",
       "Albania               0        0        0        0        0        0        0   \n",
       "Algeria               0        0        0        0        0        0        0   \n",
       "Andorra               0        0        0        0        0        0        0   \n",
       "Angola                0        0        0        0        0        0        0   \n",
       "\n",
       "                1/29/20  1/30/20  1/31/20  ...  9/13/21  9/14/21  9/15/21  \\\n",
       "Country/Region                             ...                              \n",
       "Afghanistan           0        0        0  ...   154094   154180   154283   \n",
       "Albania               0        0        0  ...   157436   158431   159423   \n",
       "Algeria               0        0        0  ...   200301   200528   200770   \n",
       "Andorra               0        0        0  ...    15096    15099    15108   \n",
       "Angola                0        0        0  ...    50738    51047    51407   \n",
       "\n",
       "                9/16/21  9/17/21  9/18/21  9/19/21  9/20/21  9/21/21  9/22/21  \n",
       "Country/Region                                                                 \n",
       "Afghanistan      154361   154487   154487   154487   154585   154712   154757  \n",
       "Albania          160365   161324   162173   162953   163404   164276   165096  \n",
       "Algeria          200989   201224   201425   201600   201766   201948   202122  \n",
       "Andorra           15113    15124    15124    15124    15140    15140    15153  \n",
       "Angola            51827    52208    52307    52307    52644    52968    53387  \n",
       "\n",
       "[5 rows x 610 columns]"
      ],
      "text/html": [
       "<div>\n",
       "<style scoped>\n",
       "    .dataframe tbody tr th:only-of-type {\n",
       "        vertical-align: middle;\n",
       "    }\n",
       "\n",
       "    .dataframe tbody tr th {\n",
       "        vertical-align: top;\n",
       "    }\n",
       "\n",
       "    .dataframe thead th {\n",
       "        text-align: right;\n",
       "    }\n",
       "</style>\n",
       "<table border=\"1\" class=\"dataframe\">\n",
       "  <thead>\n",
       "    <tr style=\"text-align: right;\">\n",
       "      <th></th>\n",
       "      <th>1/22/20</th>\n",
       "      <th>1/23/20</th>\n",
       "      <th>1/24/20</th>\n",
       "      <th>1/25/20</th>\n",
       "      <th>1/26/20</th>\n",
       "      <th>1/27/20</th>\n",
       "      <th>1/28/20</th>\n",
       "      <th>1/29/20</th>\n",
       "      <th>1/30/20</th>\n",
       "      <th>1/31/20</th>\n",
       "      <th>...</th>\n",
       "      <th>9/13/21</th>\n",
       "      <th>9/14/21</th>\n",
       "      <th>9/15/21</th>\n",
       "      <th>9/16/21</th>\n",
       "      <th>9/17/21</th>\n",
       "      <th>9/18/21</th>\n",
       "      <th>9/19/21</th>\n",
       "      <th>9/20/21</th>\n",
       "      <th>9/21/21</th>\n",
       "      <th>9/22/21</th>\n",
       "    </tr>\n",
       "    <tr>\n",
       "      <th>Country/Region</th>\n",
       "      <th></th>\n",
       "      <th></th>\n",
       "      <th></th>\n",
       "      <th></th>\n",
       "      <th></th>\n",
       "      <th></th>\n",
       "      <th></th>\n",
       "      <th></th>\n",
       "      <th></th>\n",
       "      <th></th>\n",
       "      <th></th>\n",
       "      <th></th>\n",
       "      <th></th>\n",
       "      <th></th>\n",
       "      <th></th>\n",
       "      <th></th>\n",
       "      <th></th>\n",
       "      <th></th>\n",
       "      <th></th>\n",
       "      <th></th>\n",
       "      <th></th>\n",
       "    </tr>\n",
       "  </thead>\n",
       "  <tbody>\n",
       "    <tr>\n",
       "      <th>Afghanistan</th>\n",
       "      <td>0</td>\n",
       "      <td>0</td>\n",
       "      <td>0</td>\n",
       "      <td>0</td>\n",
       "      <td>0</td>\n",
       "      <td>0</td>\n",
       "      <td>0</td>\n",
       "      <td>0</td>\n",
       "      <td>0</td>\n",
       "      <td>0</td>\n",
       "      <td>...</td>\n",
       "      <td>154094</td>\n",
       "      <td>154180</td>\n",
       "      <td>154283</td>\n",
       "      <td>154361</td>\n",
       "      <td>154487</td>\n",
       "      <td>154487</td>\n",
       "      <td>154487</td>\n",
       "      <td>154585</td>\n",
       "      <td>154712</td>\n",
       "      <td>154757</td>\n",
       "    </tr>\n",
       "    <tr>\n",
       "      <th>Albania</th>\n",
       "      <td>0</td>\n",
       "      <td>0</td>\n",
       "      <td>0</td>\n",
       "      <td>0</td>\n",
       "      <td>0</td>\n",
       "      <td>0</td>\n",
       "      <td>0</td>\n",
       "      <td>0</td>\n",
       "      <td>0</td>\n",
       "      <td>0</td>\n",
       "      <td>...</td>\n",
       "      <td>157436</td>\n",
       "      <td>158431</td>\n",
       "      <td>159423</td>\n",
       "      <td>160365</td>\n",
       "      <td>161324</td>\n",
       "      <td>162173</td>\n",
       "      <td>162953</td>\n",
       "      <td>163404</td>\n",
       "      <td>164276</td>\n",
       "      <td>165096</td>\n",
       "    </tr>\n",
       "    <tr>\n",
       "      <th>Algeria</th>\n",
       "      <td>0</td>\n",
       "      <td>0</td>\n",
       "      <td>0</td>\n",
       "      <td>0</td>\n",
       "      <td>0</td>\n",
       "      <td>0</td>\n",
       "      <td>0</td>\n",
       "      <td>0</td>\n",
       "      <td>0</td>\n",
       "      <td>0</td>\n",
       "      <td>...</td>\n",
       "      <td>200301</td>\n",
       "      <td>200528</td>\n",
       "      <td>200770</td>\n",
       "      <td>200989</td>\n",
       "      <td>201224</td>\n",
       "      <td>201425</td>\n",
       "      <td>201600</td>\n",
       "      <td>201766</td>\n",
       "      <td>201948</td>\n",
       "      <td>202122</td>\n",
       "    </tr>\n",
       "    <tr>\n",
       "      <th>Andorra</th>\n",
       "      <td>0</td>\n",
       "      <td>0</td>\n",
       "      <td>0</td>\n",
       "      <td>0</td>\n",
       "      <td>0</td>\n",
       "      <td>0</td>\n",
       "      <td>0</td>\n",
       "      <td>0</td>\n",
       "      <td>0</td>\n",
       "      <td>0</td>\n",
       "      <td>...</td>\n",
       "      <td>15096</td>\n",
       "      <td>15099</td>\n",
       "      <td>15108</td>\n",
       "      <td>15113</td>\n",
       "      <td>15124</td>\n",
       "      <td>15124</td>\n",
       "      <td>15124</td>\n",
       "      <td>15140</td>\n",
       "      <td>15140</td>\n",
       "      <td>15153</td>\n",
       "    </tr>\n",
       "    <tr>\n",
       "      <th>Angola</th>\n",
       "      <td>0</td>\n",
       "      <td>0</td>\n",
       "      <td>0</td>\n",
       "      <td>0</td>\n",
       "      <td>0</td>\n",
       "      <td>0</td>\n",
       "      <td>0</td>\n",
       "      <td>0</td>\n",
       "      <td>0</td>\n",
       "      <td>0</td>\n",
       "      <td>...</td>\n",
       "      <td>50738</td>\n",
       "      <td>51047</td>\n",
       "      <td>51407</td>\n",
       "      <td>51827</td>\n",
       "      <td>52208</td>\n",
       "      <td>52307</td>\n",
       "      <td>52307</td>\n",
       "      <td>52644</td>\n",
       "      <td>52968</td>\n",
       "      <td>53387</td>\n",
       "    </tr>\n",
       "  </tbody>\n",
       "</table>\n",
       "<p>5 rows × 610 columns</p>\n",
       "</div>"
      ]
     },
     "metadata": {},
     "execution_count": 150
    }
   ],
   "metadata": {}
  },
  {
   "cell_type": "code",
   "execution_count": 156,
   "source": [
    "date = df_country.loc['Brazil'].tail(100).index\r\n",
    "cases = df_country.loc['Brazil'].tail(100).values\r\n",
    "\r\n",
    "date1 = df_country.loc['China'].tail(20).index\r\n",
    "cases1 = df_country.loc['China'].tail(20).values"
   ],
   "outputs": [],
   "metadata": {}
  },
  {
   "cell_type": "code",
   "execution_count": 159,
   "source": [
    "px.bar(x=date, y=cases, title='Covid19 No Brazil', color=date)\r\n"
   ],
   "outputs": [
    {
     "output_type": "display_data",
     "data": {
      "application/vnd.plotly.v1+json": {
       "config": {
        "plotlyServerURL": "https://plot.ly"
       },
       "data": [
        {
         "alignmentgroup": "True",
         "hovertemplate": "color=6/15/21<br>x=%{x}<br>y=%{y}<extra></extra>",
         "legendgroup": "6/15/21",
         "marker": {
          "color": "#636efa",
          "pattern": {
           "shape": ""
          }
         },
         "name": "6/15/21",
         "offsetgroup": "6/15/21",
         "orientation": "v",
         "showlegend": true,
         "textposition": "auto",
         "type": "bar",
         "x": [
          "6/15/21"
         ],
         "xaxis": "x",
         "y": [
          17533221
         ],
         "yaxis": "y"
        },
        {
         "alignmentgroup": "True",
         "hovertemplate": "color=6/16/21<br>x=%{x}<br>y=%{y}<extra></extra>",
         "legendgroup": "6/16/21",
         "marker": {
          "color": "#EF553B",
          "pattern": {
           "shape": ""
          }
         },
         "name": "6/16/21",
         "offsetgroup": "6/16/21",
         "orientation": "v",
         "showlegend": true,
         "textposition": "auto",
         "type": "bar",
         "x": [
          "6/16/21"
         ],
         "xaxis": "x",
         "y": [
          17628588
         ],
         "yaxis": "y"
        },
        {
         "alignmentgroup": "True",
         "hovertemplate": "color=6/17/21<br>x=%{x}<br>y=%{y}<extra></extra>",
         "legendgroup": "6/17/21",
         "marker": {
          "color": "#00cc96",
          "pattern": {
           "shape": ""
          }
         },
         "name": "6/17/21",
         "offsetgroup": "6/17/21",
         "orientation": "v",
         "showlegend": true,
         "textposition": "auto",
         "type": "bar",
         "x": [
          "6/17/21"
         ],
         "xaxis": "x",
         "y": [
          17702630
         ],
         "yaxis": "y"
        },
        {
         "alignmentgroup": "True",
         "hovertemplate": "color=6/18/21<br>x=%{x}<br>y=%{y}<extra></extra>",
         "legendgroup": "6/18/21",
         "marker": {
          "color": "#ab63fa",
          "pattern": {
           "shape": ""
          }
         },
         "name": "6/18/21",
         "offsetgroup": "6/18/21",
         "orientation": "v",
         "showlegend": true,
         "textposition": "auto",
         "type": "bar",
         "x": [
          "6/18/21"
         ],
         "xaxis": "x",
         "y": [
          17801462
         ],
         "yaxis": "y"
        },
        {
         "alignmentgroup": "True",
         "hovertemplate": "color=6/19/21<br>x=%{x}<br>y=%{y}<extra></extra>",
         "legendgroup": "6/19/21",
         "marker": {
          "color": "#FFA15A",
          "pattern": {
           "shape": ""
          }
         },
         "name": "6/19/21",
         "offsetgroup": "6/19/21",
         "orientation": "v",
         "showlegend": true,
         "textposition": "auto",
         "type": "bar",
         "x": [
          "6/19/21"
         ],
         "xaxis": "x",
         "y": [
          17883750
         ],
         "yaxis": "y"
        },
        {
         "alignmentgroup": "True",
         "hovertemplate": "color=6/20/21<br>x=%{x}<br>y=%{y}<extra></extra>",
         "legendgroup": "6/20/21",
         "marker": {
          "color": "#19d3f3",
          "pattern": {
           "shape": ""
          }
         },
         "name": "6/20/21",
         "offsetgroup": "6/20/21",
         "orientation": "v",
         "showlegend": true,
         "textposition": "auto",
         "type": "bar",
         "x": [
          "6/20/21"
         ],
         "xaxis": "x",
         "y": [
          17927928
         ],
         "yaxis": "y"
        },
        {
         "alignmentgroup": "True",
         "hovertemplate": "color=6/21/21<br>x=%{x}<br>y=%{y}<extra></extra>",
         "legendgroup": "6/21/21",
         "marker": {
          "color": "#FF6692",
          "pattern": {
           "shape": ""
          }
         },
         "name": "6/21/21",
         "offsetgroup": "6/21/21",
         "orientation": "v",
         "showlegend": true,
         "textposition": "auto",
         "type": "bar",
         "x": [
          "6/21/21"
         ],
         "xaxis": "x",
         "y": [
          17966831
         ],
         "yaxis": "y"
        },
        {
         "alignmentgroup": "True",
         "hovertemplate": "color=6/22/21<br>x=%{x}<br>y=%{y}<extra></extra>",
         "legendgroup": "6/22/21",
         "marker": {
          "color": "#B6E880",
          "pattern": {
           "shape": ""
          }
         },
         "name": "6/22/21",
         "offsetgroup": "6/22/21",
         "orientation": "v",
         "showlegend": true,
         "textposition": "auto",
         "type": "bar",
         "x": [
          "6/22/21"
         ],
         "xaxis": "x",
         "y": [
          18054653
         ],
         "yaxis": "y"
        },
        {
         "alignmentgroup": "True",
         "hovertemplate": "color=6/23/21<br>x=%{x}<br>y=%{y}<extra></extra>",
         "legendgroup": "6/23/21",
         "marker": {
          "color": "#FF97FF",
          "pattern": {
           "shape": ""
          }
         },
         "name": "6/23/21",
         "offsetgroup": "6/23/21",
         "orientation": "v",
         "showlegend": true,
         "textposition": "auto",
         "type": "bar",
         "x": [
          "6/23/21"
         ],
         "xaxis": "x",
         "y": [
          18169881
         ],
         "yaxis": "y"
        },
        {
         "alignmentgroup": "True",
         "hovertemplate": "color=6/24/21<br>x=%{x}<br>y=%{y}<extra></extra>",
         "legendgroup": "6/24/21",
         "marker": {
          "color": "#FECB52",
          "pattern": {
           "shape": ""
          }
         },
         "name": "6/24/21",
         "offsetgroup": "6/24/21",
         "orientation": "v",
         "showlegend": true,
         "textposition": "auto",
         "type": "bar",
         "x": [
          "6/24/21"
         ],
         "xaxis": "x",
         "y": [
          18243483
         ],
         "yaxis": "y"
        },
        {
         "alignmentgroup": "True",
         "hovertemplate": "color=6/25/21<br>x=%{x}<br>y=%{y}<extra></extra>",
         "legendgroup": "6/25/21",
         "marker": {
          "color": "#636efa",
          "pattern": {
           "shape": ""
          }
         },
         "name": "6/25/21",
         "offsetgroup": "6/25/21",
         "orientation": "v",
         "showlegend": true,
         "textposition": "auto",
         "type": "bar",
         "x": [
          "6/25/21"
         ],
         "xaxis": "x",
         "y": [
          18322760
         ],
         "yaxis": "y"
        },
        {
         "alignmentgroup": "True",
         "hovertemplate": "color=6/26/21<br>x=%{x}<br>y=%{y}<extra></extra>",
         "legendgroup": "6/26/21",
         "marker": {
          "color": "#EF553B",
          "pattern": {
           "shape": ""
          }
         },
         "name": "6/26/21",
         "offsetgroup": "6/26/21",
         "orientation": "v",
         "showlegend": true,
         "textposition": "auto",
         "type": "bar",
         "x": [
          "6/26/21"
         ],
         "xaxis": "x",
         "y": [
          18386894
         ],
         "yaxis": "y"
        },
        {
         "alignmentgroup": "True",
         "hovertemplate": "color=6/27/21<br>x=%{x}<br>y=%{y}<extra></extra>",
         "legendgroup": "6/27/21",
         "marker": {
          "color": "#00cc96",
          "pattern": {
           "shape": ""
          }
         },
         "name": "6/27/21",
         "offsetgroup": "6/27/21",
         "orientation": "v",
         "showlegend": true,
         "textposition": "auto",
         "type": "bar",
         "x": [
          "6/27/21"
         ],
         "xaxis": "x",
         "y": [
          18420598
         ],
         "yaxis": "y"
        },
        {
         "alignmentgroup": "True",
         "hovertemplate": "color=6/28/21<br>x=%{x}<br>y=%{y}<extra></extra>",
         "legendgroup": "6/28/21",
         "marker": {
          "color": "#ab63fa",
          "pattern": {
           "shape": ""
          }
         },
         "name": "6/28/21",
         "offsetgroup": "6/28/21",
         "orientation": "v",
         "showlegend": true,
         "textposition": "auto",
         "type": "bar",
         "x": [
          "6/28/21"
         ],
         "xaxis": "x",
         "y": [
          18448402
         ],
         "yaxis": "y"
        },
        {
         "alignmentgroup": "True",
         "hovertemplate": "color=6/29/21<br>x=%{x}<br>y=%{y}<extra></extra>",
         "legendgroup": "6/29/21",
         "marker": {
          "color": "#FFA15A",
          "pattern": {
           "shape": ""
          }
         },
         "name": "6/29/21",
         "offsetgroup": "6/29/21",
         "orientation": "v",
         "showlegend": true,
         "textposition": "auto",
         "type": "bar",
         "x": [
          "6/29/21"
         ],
         "xaxis": "x",
         "y": [
          18513305
         ],
         "yaxis": "y"
        },
        {
         "alignmentgroup": "True",
         "hovertemplate": "color=6/30/21<br>x=%{x}<br>y=%{y}<extra></extra>",
         "legendgroup": "6/30/21",
         "marker": {
          "color": "#19d3f3",
          "pattern": {
           "shape": ""
          }
         },
         "name": "6/30/21",
         "offsetgroup": "6/30/21",
         "orientation": "v",
         "showlegend": true,
         "textposition": "auto",
         "type": "bar",
         "x": [
          "6/30/21"
         ],
         "xaxis": "x",
         "y": [
          18557141
         ],
         "yaxis": "y"
        },
        {
         "alignmentgroup": "True",
         "hovertemplate": "color=7/1/21<br>x=%{x}<br>y=%{y}<extra></extra>",
         "legendgroup": "7/1/21",
         "marker": {
          "color": "#FF6692",
          "pattern": {
           "shape": ""
          }
         },
         "name": "7/1/21",
         "offsetgroup": "7/1/21",
         "orientation": "v",
         "showlegend": true,
         "textposition": "auto",
         "type": "bar",
         "x": [
          "7/1/21"
         ],
         "xaxis": "x",
         "y": [
          18622304
         ],
         "yaxis": "y"
        },
        {
         "alignmentgroup": "True",
         "hovertemplate": "color=7/2/21<br>x=%{x}<br>y=%{y}<extra></extra>",
         "legendgroup": "7/2/21",
         "marker": {
          "color": "#B6E880",
          "pattern": {
           "shape": ""
          }
         },
         "name": "7/2/21",
         "offsetgroup": "7/2/21",
         "orientation": "v",
         "showlegend": true,
         "textposition": "auto",
         "type": "bar",
         "x": [
          "7/2/21"
         ],
         "xaxis": "x",
         "y": [
          18687469
         ],
         "yaxis": "y"
        },
        {
         "alignmentgroup": "True",
         "hovertemplate": "color=7/3/21<br>x=%{x}<br>y=%{y}<extra></extra>",
         "legendgroup": "7/3/21",
         "marker": {
          "color": "#FF97FF",
          "pattern": {
           "shape": ""
          }
         },
         "name": "7/3/21",
         "offsetgroup": "7/3/21",
         "orientation": "v",
         "showlegend": true,
         "textposition": "auto",
         "type": "bar",
         "x": [
          "7/3/21"
         ],
         "xaxis": "x",
         "y": [
          18742025
         ],
         "yaxis": "y"
        },
        {
         "alignmentgroup": "True",
         "hovertemplate": "color=7/4/21<br>x=%{x}<br>y=%{y}<extra></extra>",
         "legendgroup": "7/4/21",
         "marker": {
          "color": "#FECB52",
          "pattern": {
           "shape": ""
          }
         },
         "name": "7/4/21",
         "offsetgroup": "7/4/21",
         "orientation": "v",
         "showlegend": true,
         "textposition": "auto",
         "type": "bar",
         "x": [
          "7/4/21"
         ],
         "xaxis": "x",
         "y": [
          18769808
         ],
         "yaxis": "y"
        },
        {
         "alignmentgroup": "True",
         "hovertemplate": "color=7/5/21<br>x=%{x}<br>y=%{y}<extra></extra>",
         "legendgroup": "7/5/21",
         "marker": {
          "color": "#636efa",
          "pattern": {
           "shape": ""
          }
         },
         "name": "7/5/21",
         "offsetgroup": "7/5/21",
         "orientation": "v",
         "showlegend": true,
         "textposition": "auto",
         "type": "bar",
         "x": [
          "7/5/21"
         ],
         "xaxis": "x",
         "y": [
          18792511
         ],
         "yaxis": "y"
        },
        {
         "alignmentgroup": "True",
         "hovertemplate": "color=7/6/21<br>x=%{x}<br>y=%{y}<extra></extra>",
         "legendgroup": "7/6/21",
         "marker": {
          "color": "#EF553B",
          "pattern": {
           "shape": ""
          }
         },
         "name": "7/6/21",
         "offsetgroup": "7/6/21",
         "orientation": "v",
         "showlegend": true,
         "textposition": "auto",
         "type": "bar",
         "x": [
          "7/6/21"
         ],
         "xaxis": "x",
         "y": [
          18855015
         ],
         "yaxis": "y"
        },
        {
         "alignmentgroup": "True",
         "hovertemplate": "color=7/7/21<br>x=%{x}<br>y=%{y}<extra></extra>",
         "legendgroup": "7/7/21",
         "marker": {
          "color": "#00cc96",
          "pattern": {
           "shape": ""
          }
         },
         "name": "7/7/21",
         "offsetgroup": "7/7/21",
         "orientation": "v",
         "showlegend": true,
         "textposition": "auto",
         "type": "bar",
         "x": [
          "7/7/21"
         ],
         "xaxis": "x",
         "y": [
          18909037
         ],
         "yaxis": "y"
        },
        {
         "alignmentgroup": "True",
         "hovertemplate": "color=7/8/21<br>x=%{x}<br>y=%{y}<extra></extra>",
         "legendgroup": "7/8/21",
         "marker": {
          "color": "#ab63fa",
          "pattern": {
           "shape": ""
          }
         },
         "name": "7/8/21",
         "offsetgroup": "7/8/21",
         "orientation": "v",
         "showlegend": true,
         "textposition": "auto",
         "type": "bar",
         "x": [
          "7/8/21"
         ],
         "xaxis": "x",
         "y": [
          18962762
         ],
         "yaxis": "y"
        },
        {
         "alignmentgroup": "True",
         "hovertemplate": "color=7/9/21<br>x=%{x}<br>y=%{y}<extra></extra>",
         "legendgroup": "7/9/21",
         "marker": {
          "color": "#FFA15A",
          "pattern": {
           "shape": ""
          }
         },
         "name": "7/9/21",
         "offsetgroup": "7/9/21",
         "orientation": "v",
         "showlegend": true,
         "textposition": "auto",
         "type": "bar",
         "x": [
          "7/9/21"
         ],
         "xaxis": "x",
         "y": [
          19020499
         ],
         "yaxis": "y"
        },
        {
         "alignmentgroup": "True",
         "hovertemplate": "color=7/10/21<br>x=%{x}<br>y=%{y}<extra></extra>",
         "legendgroup": "7/10/21",
         "marker": {
          "color": "#19d3f3",
          "pattern": {
           "shape": ""
          }
         },
         "name": "7/10/21",
         "offsetgroup": "7/10/21",
         "orientation": "v",
         "showlegend": true,
         "textposition": "auto",
         "type": "bar",
         "x": [
          "7/10/21"
         ],
         "xaxis": "x",
         "y": [
          19069003
         ],
         "yaxis": "y"
        },
        {
         "alignmentgroup": "True",
         "hovertemplate": "color=7/11/21<br>x=%{x}<br>y=%{y}<extra></extra>",
         "legendgroup": "7/11/21",
         "marker": {
          "color": "#FF6692",
          "pattern": {
           "shape": ""
          }
         },
         "name": "7/11/21",
         "offsetgroup": "7/11/21",
         "orientation": "v",
         "showlegend": true,
         "textposition": "auto",
         "type": "bar",
         "x": [
          "7/11/21"
         ],
         "xaxis": "x",
         "y": [
          19089940
         ],
         "yaxis": "y"
        },
        {
         "alignmentgroup": "True",
         "hovertemplate": "color=7/12/21<br>x=%{x}<br>y=%{y}<extra></extra>",
         "legendgroup": "7/12/21",
         "marker": {
          "color": "#B6E880",
          "pattern": {
           "shape": ""
          }
         },
         "name": "7/12/21",
         "offsetgroup": "7/12/21",
         "orientation": "v",
         "showlegend": true,
         "textposition": "auto",
         "type": "bar",
         "x": [
          "7/12/21"
         ],
         "xaxis": "x",
         "y": [
          19106971
         ],
         "yaxis": "y"
        },
        {
         "alignmentgroup": "True",
         "hovertemplate": "color=7/13/21<br>x=%{x}<br>y=%{y}<extra></extra>",
         "legendgroup": "7/13/21",
         "marker": {
          "color": "#FF97FF",
          "pattern": {
           "shape": ""
          }
         },
         "name": "7/13/21",
         "offsetgroup": "7/13/21",
         "orientation": "v",
         "showlegend": true,
         "textposition": "auto",
         "type": "bar",
         "x": [
          "7/13/21"
         ],
         "xaxis": "x",
         "y": [
          19151993
         ],
         "yaxis": "y"
        },
        {
         "alignmentgroup": "True",
         "hovertemplate": "color=7/14/21<br>x=%{x}<br>y=%{y}<extra></extra>",
         "legendgroup": "7/14/21",
         "marker": {
          "color": "#FECB52",
          "pattern": {
           "shape": ""
          }
         },
         "name": "7/14/21",
         "offsetgroup": "7/14/21",
         "orientation": "v",
         "showlegend": true,
         "textposition": "auto",
         "type": "bar",
         "x": [
          "7/14/21"
         ],
         "xaxis": "x",
         "y": [
          19209729
         ],
         "yaxis": "y"
        },
        {
         "alignmentgroup": "True",
         "hovertemplate": "color=7/15/21<br>x=%{x}<br>y=%{y}<extra></extra>",
         "legendgroup": "7/15/21",
         "marker": {
          "color": "#636efa",
          "pattern": {
           "shape": ""
          }
         },
         "name": "7/15/21",
         "offsetgroup": "7/15/21",
         "orientation": "v",
         "showlegend": true,
         "textposition": "auto",
         "type": "bar",
         "x": [
          "7/15/21"
         ],
         "xaxis": "x",
         "y": [
          19262518
         ],
         "yaxis": "y"
        },
        {
         "alignmentgroup": "True",
         "hovertemplate": "color=7/16/21<br>x=%{x}<br>y=%{y}<extra></extra>",
         "legendgroup": "7/16/21",
         "marker": {
          "color": "#EF553B",
          "pattern": {
           "shape": ""
          }
         },
         "name": "7/16/21",
         "offsetgroup": "7/16/21",
         "orientation": "v",
         "showlegend": true,
         "textposition": "auto",
         "type": "bar",
         "x": [
          "7/16/21"
         ],
         "xaxis": "x",
         "y": [
          19308109
         ],
         "yaxis": "y"
        },
        {
         "alignmentgroup": "True",
         "hovertemplate": "color=7/17/21<br>x=%{x}<br>y=%{y}<extra></extra>",
         "legendgroup": "7/17/21",
         "marker": {
          "color": "#00cc96",
          "pattern": {
           "shape": ""
          }
         },
         "name": "7/17/21",
         "offsetgroup": "7/17/21",
         "orientation": "v",
         "showlegend": true,
         "textposition": "auto",
         "type": "bar",
         "x": [
          "7/17/21"
         ],
         "xaxis": "x",
         "y": [
          19342448
         ],
         "yaxis": "y"
        },
        {
         "alignmentgroup": "True",
         "hovertemplate": "color=7/18/21<br>x=%{x}<br>y=%{y}<extra></extra>",
         "legendgroup": "7/18/21",
         "marker": {
          "color": "#ab63fa",
          "pattern": {
           "shape": ""
          }
         },
         "name": "7/18/21",
         "offsetgroup": "7/18/21",
         "orientation": "v",
         "showlegend": true,
         "textposition": "auto",
         "type": "bar",
         "x": [
          "7/18/21"
         ],
         "xaxis": "x",
         "y": [
          19376574
         ],
         "yaxis": "y"
        },
        {
         "alignmentgroup": "True",
         "hovertemplate": "color=7/19/21<br>x=%{x}<br>y=%{y}<extra></extra>",
         "legendgroup": "7/19/21",
         "marker": {
          "color": "#FFA15A",
          "pattern": {
           "shape": ""
          }
         },
         "name": "7/19/21",
         "offsetgroup": "7/19/21",
         "orientation": "v",
         "showlegend": true,
         "textposition": "auto",
         "type": "bar",
         "x": [
          "7/19/21"
         ],
         "xaxis": "x",
         "y": [
          19391845
         ],
         "yaxis": "y"
        },
        {
         "alignmentgroup": "True",
         "hovertemplate": "color=7/20/21<br>x=%{x}<br>y=%{y}<extra></extra>",
         "legendgroup": "7/20/21",
         "marker": {
          "color": "#19d3f3",
          "pattern": {
           "shape": ""
          }
         },
         "name": "7/20/21",
         "offsetgroup": "7/20/21",
         "orientation": "v",
         "showlegend": true,
         "textposition": "auto",
         "type": "bar",
         "x": [
          "7/20/21"
         ],
         "xaxis": "x",
         "y": [
          19419437
         ],
         "yaxis": "y"
        },
        {
         "alignmentgroup": "True",
         "hovertemplate": "color=7/21/21<br>x=%{x}<br>y=%{y}<extra></extra>",
         "legendgroup": "7/21/21",
         "marker": {
          "color": "#FF6692",
          "pattern": {
           "shape": ""
          }
         },
         "name": "7/21/21",
         "offsetgroup": "7/21/21",
         "orientation": "v",
         "showlegend": true,
         "textposition": "auto",
         "type": "bar",
         "x": [
          "7/21/21"
         ],
         "xaxis": "x",
         "y": [
          19473954
         ],
         "yaxis": "y"
        },
        {
         "alignmentgroup": "True",
         "hovertemplate": "color=7/22/21<br>x=%{x}<br>y=%{y}<extra></extra>",
         "legendgroup": "7/22/21",
         "marker": {
          "color": "#B6E880",
          "pattern": {
           "shape": ""
          }
         },
         "name": "7/22/21",
         "offsetgroup": "7/22/21",
         "orientation": "v",
         "showlegend": true,
         "textposition": "auto",
         "type": "bar",
         "x": [
          "7/22/21"
         ],
         "xaxis": "x",
         "y": [
          19523711
         ],
         "yaxis": "y"
        },
        {
         "alignmentgroup": "True",
         "hovertemplate": "color=7/23/21<br>x=%{x}<br>y=%{y}<extra></extra>",
         "legendgroup": "7/23/21",
         "marker": {
          "color": "#FF97FF",
          "pattern": {
           "shape": ""
          }
         },
         "name": "7/23/21",
         "offsetgroup": "7/23/21",
         "orientation": "v",
         "showlegend": true,
         "textposition": "auto",
         "type": "bar",
         "x": [
          "7/23/21"
         ],
         "xaxis": "x",
         "y": [
          19632443
         ],
         "yaxis": "y"
        },
        {
         "alignmentgroup": "True",
         "hovertemplate": "color=7/24/21<br>x=%{x}<br>y=%{y}<extra></extra>",
         "legendgroup": "7/24/21",
         "marker": {
          "color": "#FECB52",
          "pattern": {
           "shape": ""
          }
         },
         "name": "7/24/21",
         "offsetgroup": "7/24/21",
         "orientation": "v",
         "showlegend": true,
         "textposition": "auto",
         "type": "bar",
         "x": [
          "7/24/21"
         ],
         "xaxis": "x",
         "y": [
          19670534
         ],
         "yaxis": "y"
        },
        {
         "alignmentgroup": "True",
         "hovertemplate": "color=7/25/21<br>x=%{x}<br>y=%{y}<extra></extra>",
         "legendgroup": "7/25/21",
         "marker": {
          "color": "#636efa",
          "pattern": {
           "shape": ""
          }
         },
         "name": "7/25/21",
         "offsetgroup": "7/25/21",
         "orientation": "v",
         "showlegend": true,
         "textposition": "auto",
         "type": "bar",
         "x": [
          "7/25/21"
         ],
         "xaxis": "x",
         "y": [
          19688663
         ],
         "yaxis": "y"
        },
        {
         "alignmentgroup": "True",
         "hovertemplate": "color=7/26/21<br>x=%{x}<br>y=%{y}<extra></extra>",
         "legendgroup": "7/26/21",
         "marker": {
          "color": "#EF553B",
          "pattern": {
           "shape": ""
          }
         },
         "name": "7/26/21",
         "offsetgroup": "7/26/21",
         "orientation": "v",
         "showlegend": true,
         "textposition": "auto",
         "type": "bar",
         "x": [
          "7/26/21"
         ],
         "xaxis": "x",
         "y": [
          19707662
         ],
         "yaxis": "y"
        },
        {
         "alignmentgroup": "True",
         "hovertemplate": "color=7/27/21<br>x=%{x}<br>y=%{y}<extra></extra>",
         "legendgroup": "7/27/21",
         "marker": {
          "color": "#00cc96",
          "pattern": {
           "shape": ""
          }
         },
         "name": "7/27/21",
         "offsetgroup": "7/27/21",
         "orientation": "v",
         "showlegend": true,
         "textposition": "auto",
         "type": "bar",
         "x": [
          "7/27/21"
         ],
         "xaxis": "x",
         "y": [
          19749073
         ],
         "yaxis": "y"
        },
        {
         "alignmentgroup": "True",
         "hovertemplate": "color=7/28/21<br>x=%{x}<br>y=%{y}<extra></extra>",
         "legendgroup": "7/28/21",
         "marker": {
          "color": "#ab63fa",
          "pattern": {
           "shape": ""
          }
         },
         "name": "7/28/21",
         "offsetgroup": "7/28/21",
         "orientation": "v",
         "showlegend": true,
         "textposition": "auto",
         "type": "bar",
         "x": [
          "7/28/21"
         ],
         "xaxis": "x",
         "y": [
          19797086
         ],
         "yaxis": "y"
        },
        {
         "alignmentgroup": "True",
         "hovertemplate": "color=7/29/21<br>x=%{x}<br>y=%{y}<extra></extra>",
         "legendgroup": "7/29/21",
         "marker": {
          "color": "#FFA15A",
          "pattern": {
           "shape": ""
          }
         },
         "name": "7/29/21",
         "offsetgroup": "7/29/21",
         "orientation": "v",
         "showlegend": true,
         "textposition": "auto",
         "type": "bar",
         "x": [
          "7/29/21"
         ],
         "xaxis": "x",
         "y": [
          19839369
         ],
         "yaxis": "y"
        },
        {
         "alignmentgroup": "True",
         "hovertemplate": "color=7/30/21<br>x=%{x}<br>y=%{y}<extra></extra>",
         "legendgroup": "7/30/21",
         "marker": {
          "color": "#19d3f3",
          "pattern": {
           "shape": ""
          }
         },
         "name": "7/30/21",
         "offsetgroup": "7/30/21",
         "orientation": "v",
         "showlegend": true,
         "textposition": "auto",
         "type": "bar",
         "x": [
          "7/30/21"
         ],
         "xaxis": "x",
         "y": [
          19880273
         ],
         "yaxis": "y"
        },
        {
         "alignmentgroup": "True",
         "hovertemplate": "color=7/31/21<br>x=%{x}<br>y=%{y}<extra></extra>",
         "legendgroup": "7/31/21",
         "marker": {
          "color": "#FF6692",
          "pattern": {
           "shape": ""
          }
         },
         "name": "7/31/21",
         "offsetgroup": "7/31/21",
         "orientation": "v",
         "showlegend": true,
         "textposition": "auto",
         "type": "bar",
         "x": [
          "7/31/21"
         ],
         "xaxis": "x",
         "y": [
          19917855
         ],
         "yaxis": "y"
        },
        {
         "alignmentgroup": "True",
         "hovertemplate": "color=8/1/21<br>x=%{x}<br>y=%{y}<extra></extra>",
         "legendgroup": "8/1/21",
         "marker": {
          "color": "#B6E880",
          "pattern": {
           "shape": ""
          }
         },
         "name": "8/1/21",
         "offsetgroup": "8/1/21",
         "orientation": "v",
         "showlegend": true,
         "textposition": "auto",
         "type": "bar",
         "x": [
          "8/1/21"
         ],
         "xaxis": "x",
         "y": [
          19938358
         ],
         "yaxis": "y"
        },
        {
         "alignmentgroup": "True",
         "hovertemplate": "color=8/2/21<br>x=%{x}<br>y=%{y}<extra></extra>",
         "legendgroup": "8/2/21",
         "marker": {
          "color": "#FF97FF",
          "pattern": {
           "shape": ""
          }
         },
         "name": "8/2/21",
         "offsetgroup": "8/2/21",
         "orientation": "v",
         "showlegend": true,
         "textposition": "auto",
         "type": "bar",
         "x": [
          "8/2/21"
         ],
         "xaxis": "x",
         "y": [
          19953501
         ],
         "yaxis": "y"
        },
        {
         "alignmentgroup": "True",
         "hovertemplate": "color=8/3/21<br>x=%{x}<br>y=%{y}<extra></extra>",
         "legendgroup": "8/3/21",
         "marker": {
          "color": "#FECB52",
          "pattern": {
           "shape": ""
          }
         },
         "name": "8/3/21",
         "offsetgroup": "8/3/21",
         "orientation": "v",
         "showlegend": true,
         "textposition": "auto",
         "type": "bar",
         "x": [
          "8/3/21"
         ],
         "xaxis": "x",
         "y": [
          19985817
         ],
         "yaxis": "y"
        },
        {
         "alignmentgroup": "True",
         "hovertemplate": "color=8/4/21<br>x=%{x}<br>y=%{y}<extra></extra>",
         "legendgroup": "8/4/21",
         "marker": {
          "color": "#636efa",
          "pattern": {
           "shape": ""
          }
         },
         "name": "8/4/21",
         "offsetgroup": "8/4/21",
         "orientation": "v",
         "showlegend": true,
         "textposition": "auto",
         "type": "bar",
         "x": [
          "8/4/21"
         ],
         "xaxis": "x",
         "y": [
          20026533
         ],
         "yaxis": "y"
        },
        {
         "alignmentgroup": "True",
         "hovertemplate": "color=8/5/21<br>x=%{x}<br>y=%{y}<extra></extra>",
         "legendgroup": "8/5/21",
         "marker": {
          "color": "#EF553B",
          "pattern": {
           "shape": ""
          }
         },
         "name": "8/5/21",
         "offsetgroup": "8/5/21",
         "orientation": "v",
         "showlegend": true,
         "textposition": "auto",
         "type": "bar",
         "x": [
          "8/5/21"
         ],
         "xaxis": "x",
         "y": [
          20066587
         ],
         "yaxis": "y"
        },
        {
         "alignmentgroup": "True",
         "hovertemplate": "color=8/6/21<br>x=%{x}<br>y=%{y}<extra></extra>",
         "legendgroup": "8/6/21",
         "marker": {
          "color": "#00cc96",
          "pattern": {
           "shape": ""
          }
         },
         "name": "8/6/21",
         "offsetgroup": "8/6/21",
         "orientation": "v",
         "showlegend": true,
         "textposition": "auto",
         "type": "bar",
         "x": [
          "8/6/21"
         ],
         "xaxis": "x",
         "y": [
          20108746
         ],
         "yaxis": "y"
        },
        {
         "alignmentgroup": "True",
         "hovertemplate": "color=8/7/21<br>x=%{x}<br>y=%{y}<extra></extra>",
         "legendgroup": "8/7/21",
         "marker": {
          "color": "#ab63fa",
          "pattern": {
           "shape": ""
          }
         },
         "name": "8/7/21",
         "offsetgroup": "8/7/21",
         "orientation": "v",
         "showlegend": true,
         "textposition": "auto",
         "type": "bar",
         "x": [
          "8/7/21"
         ],
         "xaxis": "x",
         "y": [
          20151779
         ],
         "yaxis": "y"
        },
        {
         "alignmentgroup": "True",
         "hovertemplate": "color=8/8/21<br>x=%{x}<br>y=%{y}<extra></extra>",
         "legendgroup": "8/8/21",
         "marker": {
          "color": "#FFA15A",
          "pattern": {
           "shape": ""
          }
         },
         "name": "8/8/21",
         "offsetgroup": "8/8/21",
         "orientation": "v",
         "showlegend": true,
         "textposition": "auto",
         "type": "bar",
         "x": [
          "8/8/21"
         ],
         "xaxis": "x",
         "y": [
          20165672
         ],
         "yaxis": "y"
        },
        {
         "alignmentgroup": "True",
         "hovertemplate": "color=8/9/21<br>x=%{x}<br>y=%{y}<extra></extra>",
         "legendgroup": "8/9/21",
         "marker": {
          "color": "#19d3f3",
          "pattern": {
           "shape": ""
          }
         },
         "name": "8/9/21",
         "offsetgroup": "8/9/21",
         "orientation": "v",
         "showlegend": true,
         "textposition": "auto",
         "type": "bar",
         "x": [
          "8/9/21"
         ],
         "xaxis": "x",
         "y": [
          20177757
         ],
         "yaxis": "y"
        },
        {
         "alignmentgroup": "True",
         "hovertemplate": "color=8/10/21<br>x=%{x}<br>y=%{y}<extra></extra>",
         "legendgroup": "8/10/21",
         "marker": {
          "color": "#FF6692",
          "pattern": {
           "shape": ""
          }
         },
         "name": "8/10/21",
         "offsetgroup": "8/10/21",
         "orientation": "v",
         "showlegend": true,
         "textposition": "auto",
         "type": "bar",
         "x": [
          "8/10/21"
         ],
         "xaxis": "x",
         "y": [
          20212642
         ],
         "yaxis": "y"
        },
        {
         "alignmentgroup": "True",
         "hovertemplate": "color=8/11/21<br>x=%{x}<br>y=%{y}<extra></extra>",
         "legendgroup": "8/11/21",
         "marker": {
          "color": "#B6E880",
          "pattern": {
           "shape": ""
          }
         },
         "name": "8/11/21",
         "offsetgroup": "8/11/21",
         "orientation": "v",
         "showlegend": true,
         "textposition": "auto",
         "type": "bar",
         "x": [
          "8/11/21"
         ],
         "xaxis": "x",
         "y": [
          20245085
         ],
         "yaxis": "y"
        },
        {
         "alignmentgroup": "True",
         "hovertemplate": "color=8/12/21<br>x=%{x}<br>y=%{y}<extra></extra>",
         "legendgroup": "8/12/21",
         "marker": {
          "color": "#FF97FF",
          "pattern": {
           "shape": ""
          }
         },
         "name": "8/12/21",
         "offsetgroup": "8/12/21",
         "orientation": "v",
         "showlegend": true,
         "textposition": "auto",
         "type": "bar",
         "x": [
          "8/12/21"
         ],
         "xaxis": "x",
         "y": [
          20285067
         ],
         "yaxis": "y"
        },
        {
         "alignmentgroup": "True",
         "hovertemplate": "color=8/13/21<br>x=%{x}<br>y=%{y}<extra></extra>",
         "legendgroup": "8/13/21",
         "marker": {
          "color": "#FECB52",
          "pattern": {
           "shape": ""
          }
         },
         "name": "8/13/21",
         "offsetgroup": "8/13/21",
         "orientation": "v",
         "showlegend": true,
         "textposition": "auto",
         "type": "bar",
         "x": [
          "8/13/21"
         ],
         "xaxis": "x",
         "y": [
          20319000
         ],
         "yaxis": "y"
        },
        {
         "alignmentgroup": "True",
         "hovertemplate": "color=8/14/21<br>x=%{x}<br>y=%{y}<extra></extra>",
         "legendgroup": "8/14/21",
         "marker": {
          "color": "#636efa",
          "pattern": {
           "shape": ""
          }
         },
         "name": "8/14/21",
         "offsetgroup": "8/14/21",
         "orientation": "v",
         "showlegend": true,
         "textposition": "auto",
         "type": "bar",
         "x": [
          "8/14/21"
         ],
         "xaxis": "x",
         "y": [
          20350142
         ],
         "yaxis": "y"
        },
        {
         "alignmentgroup": "True",
         "hovertemplate": "color=8/15/21<br>x=%{x}<br>y=%{y}<extra></extra>",
         "legendgroup": "8/15/21",
         "marker": {
          "color": "#EF553B",
          "pattern": {
           "shape": ""
          }
         },
         "name": "8/15/21",
         "offsetgroup": "8/15/21",
         "orientation": "v",
         "showlegend": true,
         "textposition": "auto",
         "type": "bar",
         "x": [
          "8/15/21"
         ],
         "xaxis": "x",
         "y": [
          20364099
         ],
         "yaxis": "y"
        },
        {
         "alignmentgroup": "True",
         "hovertemplate": "color=8/16/21<br>x=%{x}<br>y=%{y}<extra></extra>",
         "legendgroup": "8/16/21",
         "marker": {
          "color": "#00cc96",
          "pattern": {
           "shape": ""
          }
         },
         "name": "8/16/21",
         "offsetgroup": "8/16/21",
         "orientation": "v",
         "showlegend": true,
         "textposition": "auto",
         "type": "bar",
         "x": [
          "8/16/21"
         ],
         "xaxis": "x",
         "y": [
          20378570
         ],
         "yaxis": "y"
        },
        {
         "alignmentgroup": "True",
         "hovertemplate": "color=8/17/21<br>x=%{x}<br>y=%{y}<extra></extra>",
         "legendgroup": "8/17/21",
         "marker": {
          "color": "#ab63fa",
          "pattern": {
           "shape": ""
          }
         },
         "name": "8/17/21",
         "offsetgroup": "8/17/21",
         "orientation": "v",
         "showlegend": true,
         "textposition": "auto",
         "type": "bar",
         "x": [
          "8/17/21"
         ],
         "xaxis": "x",
         "y": [
          20416183
         ],
         "yaxis": "y"
        },
        {
         "alignmentgroup": "True",
         "hovertemplate": "color=8/18/21<br>x=%{x}<br>y=%{y}<extra></extra>",
         "legendgroup": "8/18/21",
         "marker": {
          "color": "#FFA15A",
          "pattern": {
           "shape": ""
          }
         },
         "name": "8/18/21",
         "offsetgroup": "8/18/21",
         "orientation": "v",
         "showlegend": true,
         "textposition": "auto",
         "type": "bar",
         "x": [
          "8/18/21"
         ],
         "xaxis": "x",
         "y": [
          20457897
         ],
         "yaxis": "y"
        },
        {
         "alignmentgroup": "True",
         "hovertemplate": "color=8/19/21<br>x=%{x}<br>y=%{y}<extra></extra>",
         "legendgroup": "8/19/21",
         "marker": {
          "color": "#19d3f3",
          "pattern": {
           "shape": ""
          }
         },
         "name": "8/19/21",
         "offsetgroup": "8/19/21",
         "orientation": "v",
         "showlegend": true,
         "textposition": "auto",
         "type": "bar",
         "x": [
          "8/19/21"
         ],
         "xaxis": "x",
         "y": [
          20494212
         ],
         "yaxis": "y"
        },
        {
         "alignmentgroup": "True",
         "hovertemplate": "color=8/20/21<br>x=%{x}<br>y=%{y}<extra></extra>",
         "legendgroup": "8/20/21",
         "marker": {
          "color": "#FF6692",
          "pattern": {
           "shape": ""
          }
         },
         "name": "8/20/21",
         "offsetgroup": "8/20/21",
         "orientation": "v",
         "showlegend": true,
         "textposition": "auto",
         "type": "bar",
         "x": [
          "8/20/21"
         ],
         "xaxis": "x",
         "y": [
          20528099
         ],
         "yaxis": "y"
        },
        {
         "alignmentgroup": "True",
         "hovertemplate": "color=8/21/21<br>x=%{x}<br>y=%{y}<extra></extra>",
         "legendgroup": "8/21/21",
         "marker": {
          "color": "#B6E880",
          "pattern": {
           "shape": ""
          }
         },
         "name": "8/21/21",
         "offsetgroup": "8/21/21",
         "orientation": "v",
         "showlegend": true,
         "textposition": "auto",
         "type": "bar",
         "x": [
          "8/21/21"
         ],
         "xaxis": "x",
         "y": [
          20556487
         ],
         "yaxis": "y"
        },
        {
         "alignmentgroup": "True",
         "hovertemplate": "color=8/22/21<br>x=%{x}<br>y=%{y}<extra></extra>",
         "legendgroup": "8/22/21",
         "marker": {
          "color": "#FF97FF",
          "pattern": {
           "shape": ""
          }
         },
         "name": "8/22/21",
         "offsetgroup": "8/22/21",
         "orientation": "v",
         "showlegend": true,
         "textposition": "auto",
         "type": "bar",
         "x": [
          "8/22/21"
         ],
         "xaxis": "x",
         "y": [
          20570891
         ],
         "yaxis": "y"
        },
        {
         "alignmentgroup": "True",
         "hovertemplate": "color=8/23/21<br>x=%{x}<br>y=%{y}<extra></extra>",
         "legendgroup": "8/23/21",
         "marker": {
          "color": "#FECB52",
          "pattern": {
           "shape": ""
          }
         },
         "name": "8/23/21",
         "offsetgroup": "8/23/21",
         "orientation": "v",
         "showlegend": true,
         "textposition": "auto",
         "type": "bar",
         "x": [
          "8/23/21"
         ],
         "xaxis": "x",
         "y": [
          20583994
         ],
         "yaxis": "y"
        },
        {
         "alignmentgroup": "True",
         "hovertemplate": "color=8/24/21<br>x=%{x}<br>y=%{y}<extra></extra>",
         "legendgroup": "8/24/21",
         "marker": {
          "color": "#636efa",
          "pattern": {
           "shape": ""
          }
         },
         "name": "8/24/21",
         "offsetgroup": "8/24/21",
         "orientation": "v",
         "showlegend": true,
         "textposition": "auto",
         "type": "bar",
         "x": [
          "8/24/21"
         ],
         "xaxis": "x",
         "y": [
          20614866
         ],
         "yaxis": "y"
        },
        {
         "alignmentgroup": "True",
         "hovertemplate": "color=8/25/21<br>x=%{x}<br>y=%{y}<extra></extra>",
         "legendgroup": "8/25/21",
         "marker": {
          "color": "#EF553B",
          "pattern": {
           "shape": ""
          }
         },
         "name": "8/25/21",
         "offsetgroup": "8/25/21",
         "orientation": "v",
         "showlegend": true,
         "textposition": "auto",
         "type": "bar",
         "x": [
          "8/25/21"
         ],
         "xaxis": "x",
         "y": [
          20645537
         ],
         "yaxis": "y"
        },
        {
         "alignmentgroup": "True",
         "hovertemplate": "color=8/26/21<br>x=%{x}<br>y=%{y}<extra></extra>",
         "legendgroup": "8/26/21",
         "marker": {
          "color": "#00cc96",
          "pattern": {
           "shape": ""
          }
         },
         "name": "8/26/21",
         "offsetgroup": "8/26/21",
         "orientation": "v",
         "showlegend": true,
         "textposition": "auto",
         "type": "bar",
         "x": [
          "8/26/21"
         ],
         "xaxis": "x",
         "y": [
          20676561
         ],
         "yaxis": "y"
        },
        {
         "alignmentgroup": "True",
         "hovertemplate": "color=8/27/21<br>x=%{x}<br>y=%{y}<extra></extra>",
         "legendgroup": "8/27/21",
         "marker": {
          "color": "#ab63fa",
          "pattern": {
           "shape": ""
          }
         },
         "name": "8/27/21",
         "offsetgroup": "8/27/21",
         "orientation": "v",
         "showlegend": true,
         "textposition": "auto",
         "type": "bar",
         "x": [
          "8/27/21"
         ],
         "xaxis": "x",
         "y": [
          20703906
         ],
         "yaxis": "y"
        },
        {
         "alignmentgroup": "True",
         "hovertemplate": "color=8/28/21<br>x=%{x}<br>y=%{y}<extra></extra>",
         "legendgroup": "8/28/21",
         "marker": {
          "color": "#FFA15A",
          "pattern": {
           "shape": ""
          }
         },
         "name": "8/28/21",
         "offsetgroup": "8/28/21",
         "orientation": "v",
         "showlegend": true,
         "textposition": "auto",
         "type": "bar",
         "x": [
          "8/28/21"
         ],
         "xaxis": "x",
         "y": [
          20728605
         ],
         "yaxis": "y"
        },
        {
         "alignmentgroup": "True",
         "hovertemplate": "color=8/29/21<br>x=%{x}<br>y=%{y}<extra></extra>",
         "legendgroup": "8/29/21",
         "marker": {
          "color": "#19d3f3",
          "pattern": {
           "shape": ""
          }
         },
         "name": "8/29/21",
         "offsetgroup": "8/29/21",
         "orientation": "v",
         "showlegend": true,
         "textposition": "auto",
         "type": "bar",
         "x": [
          "8/29/21"
         ],
         "xaxis": "x",
         "y": [
          20741815
         ],
         "yaxis": "y"
        },
        {
         "alignmentgroup": "True",
         "hovertemplate": "color=8/30/21<br>x=%{x}<br>y=%{y}<extra></extra>",
         "legendgroup": "8/30/21",
         "marker": {
          "color": "#FF6692",
          "pattern": {
           "shape": ""
          }
         },
         "name": "8/30/21",
         "offsetgroup": "8/30/21",
         "orientation": "v",
         "showlegend": true,
         "textposition": "auto",
         "type": "bar",
         "x": [
          "8/30/21"
         ],
         "xaxis": "x",
         "y": [
          20752281
         ],
         "yaxis": "y"
        },
        {
         "alignmentgroup": "True",
         "hovertemplate": "color=8/31/21<br>x=%{x}<br>y=%{y}<extra></extra>",
         "legendgroup": "8/31/21",
         "marker": {
          "color": "#B6E880",
          "pattern": {
           "shape": ""
          }
         },
         "name": "8/31/21",
         "offsetgroup": "8/31/21",
         "orientation": "v",
         "showlegend": true,
         "textposition": "auto",
         "type": "bar",
         "x": [
          "8/31/21"
         ],
         "xaxis": "x",
         "y": [
          20776870
         ],
         "yaxis": "y"
        },
        {
         "alignmentgroup": "True",
         "hovertemplate": "color=9/1/21<br>x=%{x}<br>y=%{y}<extra></extra>",
         "legendgroup": "9/1/21",
         "marker": {
          "color": "#FF97FF",
          "pattern": {
           "shape": ""
          }
         },
         "name": "9/1/21",
         "offsetgroup": "9/1/21",
         "orientation": "v",
         "showlegend": true,
         "textposition": "auto",
         "type": "bar",
         "x": [
          "9/1/21"
         ],
         "xaxis": "x",
         "y": [
          20804215
         ],
         "yaxis": "y"
        },
        {
         "alignmentgroup": "True",
         "hovertemplate": "color=9/2/21<br>x=%{x}<br>y=%{y}<extra></extra>",
         "legendgroup": "9/2/21",
         "marker": {
          "color": "#FECB52",
          "pattern": {
           "shape": ""
          }
         },
         "name": "9/2/21",
         "offsetgroup": "9/2/21",
         "orientation": "v",
         "showlegend": true,
         "textposition": "auto",
         "type": "bar",
         "x": [
          "9/2/21"
         ],
         "xaxis": "x",
         "y": [
          20830495
         ],
         "yaxis": "y"
        },
        {
         "alignmentgroup": "True",
         "hovertemplate": "color=9/3/21<br>x=%{x}<br>y=%{y}<extra></extra>",
         "legendgroup": "9/3/21",
         "marker": {
          "color": "#636efa",
          "pattern": {
           "shape": ""
          }
         },
         "name": "9/3/21",
         "offsetgroup": "9/3/21",
         "orientation": "v",
         "showlegend": true,
         "textposition": "auto",
         "type": "bar",
         "x": [
          "9/3/21"
         ],
         "xaxis": "x",
         "y": [
          20856060
         ],
         "yaxis": "y"
        },
        {
         "alignmentgroup": "True",
         "hovertemplate": "color=9/4/21<br>x=%{x}<br>y=%{y}<extra></extra>",
         "legendgroup": "9/4/21",
         "marker": {
          "color": "#EF553B",
          "pattern": {
           "shape": ""
          }
         },
         "name": "9/4/21",
         "offsetgroup": "9/4/21",
         "orientation": "v",
         "showlegend": true,
         "textposition": "auto",
         "type": "bar",
         "x": [
          "9/4/21"
         ],
         "xaxis": "x",
         "y": [
          20877864
         ],
         "yaxis": "y"
        },
        {
         "alignmentgroup": "True",
         "hovertemplate": "color=9/5/21<br>x=%{x}<br>y=%{y}<extra></extra>",
         "legendgroup": "9/5/21",
         "marker": {
          "color": "#00cc96",
          "pattern": {
           "shape": ""
          }
         },
         "name": "9/5/21",
         "offsetgroup": "9/5/21",
         "orientation": "v",
         "showlegend": true,
         "textposition": "auto",
         "type": "bar",
         "x": [
          "9/5/21"
         ],
         "xaxis": "x",
         "y": [
          20890779
         ],
         "yaxis": "y"
        },
        {
         "alignmentgroup": "True",
         "hovertemplate": "color=9/6/21<br>x=%{x}<br>y=%{y}<extra></extra>",
         "legendgroup": "9/6/21",
         "marker": {
          "color": "#ab63fa",
          "pattern": {
           "shape": ""
          }
         },
         "name": "9/6/21",
         "offsetgroup": "9/6/21",
         "orientation": "v",
         "showlegend": true,
         "textposition": "auto",
         "type": "bar",
         "x": [
          "9/6/21"
         ],
         "xaxis": "x",
         "y": [
          20899933
         ],
         "yaxis": "y"
        },
        {
         "alignmentgroup": "True",
         "hovertemplate": "color=9/7/21<br>x=%{x}<br>y=%{y}<extra></extra>",
         "legendgroup": "9/7/21",
         "marker": {
          "color": "#FFA15A",
          "pattern": {
           "shape": ""
          }
         },
         "name": "9/7/21",
         "offsetgroup": "9/7/21",
         "orientation": "v",
         "showlegend": true,
         "textposition": "auto",
         "type": "bar",
         "x": [
          "9/7/21"
         ],
         "xaxis": "x",
         "y": [
          20914237
         ],
         "yaxis": "y"
        },
        {
         "alignmentgroup": "True",
         "hovertemplate": "color=9/8/21<br>x=%{x}<br>y=%{y}<extra></extra>",
         "legendgroup": "9/8/21",
         "marker": {
          "color": "#19d3f3",
          "pattern": {
           "shape": ""
          }
         },
         "name": "9/8/21",
         "offsetgroup": "9/8/21",
         "orientation": "v",
         "showlegend": true,
         "textposition": "auto",
         "type": "bar",
         "x": [
          "9/8/21"
         ],
         "xaxis": "x",
         "y": [
          20928008
         ],
         "yaxis": "y"
        },
        {
         "alignmentgroup": "True",
         "hovertemplate": "color=9/9/21<br>x=%{x}<br>y=%{y}<extra></extra>",
         "legendgroup": "9/9/21",
         "marker": {
          "color": "#FF6692",
          "pattern": {
           "shape": ""
          }
         },
         "name": "9/9/21",
         "offsetgroup": "9/9/21",
         "orientation": "v",
         "showlegend": true,
         "textposition": "auto",
         "type": "bar",
         "x": [
          "9/9/21"
         ],
         "xaxis": "x",
         "y": [
          20958899
         ],
         "yaxis": "y"
        },
        {
         "alignmentgroup": "True",
         "hovertemplate": "color=9/10/21<br>x=%{x}<br>y=%{y}<extra></extra>",
         "legendgroup": "9/10/21",
         "marker": {
          "color": "#B6E880",
          "pattern": {
           "shape": ""
          }
         },
         "name": "9/10/21",
         "offsetgroup": "9/10/21",
         "orientation": "v",
         "showlegend": true,
         "textposition": "auto",
         "type": "bar",
         "x": [
          "9/10/21"
         ],
         "xaxis": "x",
         "y": [
          20974850
         ],
         "yaxis": "y"
        },
        {
         "alignmentgroup": "True",
         "hovertemplate": "color=9/11/21<br>x=%{x}<br>y=%{y}<extra></extra>",
         "legendgroup": "9/11/21",
         "marker": {
          "color": "#FF97FF",
          "pattern": {
           "shape": ""
          }
         },
         "name": "9/11/21",
         "offsetgroup": "9/11/21",
         "orientation": "v",
         "showlegend": true,
         "textposition": "auto",
         "type": "bar",
         "x": [
          "9/11/21"
         ],
         "xaxis": "x",
         "y": [
          20989164
         ],
         "yaxis": "y"
        },
        {
         "alignmentgroup": "True",
         "hovertemplate": "color=9/12/21<br>x=%{x}<br>y=%{y}<extra></extra>",
         "legendgroup": "9/12/21",
         "marker": {
          "color": "#FECB52",
          "pattern": {
           "shape": ""
          }
         },
         "name": "9/12/21",
         "offsetgroup": "9/12/21",
         "orientation": "v",
         "showlegend": true,
         "textposition": "auto",
         "type": "bar",
         "x": [
          "9/12/21"
         ],
         "xaxis": "x",
         "y": [
          20999779
         ],
         "yaxis": "y"
        },
        {
         "alignmentgroup": "True",
         "hovertemplate": "color=9/13/21<br>x=%{x}<br>y=%{y}<extra></extra>",
         "legendgroup": "9/13/21",
         "marker": {
          "color": "#636efa",
          "pattern": {
           "shape": ""
          }
         },
         "name": "9/13/21",
         "offsetgroup": "9/13/21",
         "orientation": "v",
         "showlegend": true,
         "textposition": "auto",
         "type": "bar",
         "x": [
          "9/13/21"
         ],
         "xaxis": "x",
         "y": [
          21006424
         ],
         "yaxis": "y"
        },
        {
         "alignmentgroup": "True",
         "hovertemplate": "color=9/14/21<br>x=%{x}<br>y=%{y}<extra></extra>",
         "legendgroup": "9/14/21",
         "marker": {
          "color": "#EF553B",
          "pattern": {
           "shape": ""
          }
         },
         "name": "9/14/21",
         "offsetgroup": "9/14/21",
         "orientation": "v",
         "showlegend": true,
         "textposition": "auto",
         "type": "bar",
         "x": [
          "9/14/21"
         ],
         "xaxis": "x",
         "y": [
          21019830
         ],
         "yaxis": "y"
        },
        {
         "alignmentgroup": "True",
         "hovertemplate": "color=9/15/21<br>x=%{x}<br>y=%{y}<extra></extra>",
         "legendgroup": "9/15/21",
         "marker": {
          "color": "#00cc96",
          "pattern": {
           "shape": ""
          }
         },
         "name": "9/15/21",
         "offsetgroup": "9/15/21",
         "orientation": "v",
         "showlegend": true,
         "textposition": "auto",
         "type": "bar",
         "x": [
          "9/15/21"
         ],
         "xaxis": "x",
         "y": [
          21034610
         ],
         "yaxis": "y"
        },
        {
         "alignmentgroup": "True",
         "hovertemplate": "color=9/16/21<br>x=%{x}<br>y=%{y}<extra></extra>",
         "legendgroup": "9/16/21",
         "marker": {
          "color": "#ab63fa",
          "pattern": {
           "shape": ""
          }
         },
         "name": "9/16/21",
         "offsetgroup": "9/16/21",
         "orientation": "v",
         "showlegend": true,
         "textposition": "auto",
         "type": "bar",
         "x": [
          "9/16/21"
         ],
         "xaxis": "x",
         "y": [
          21069017
         ],
         "yaxis": "y"
        },
        {
         "alignmentgroup": "True",
         "hovertemplate": "color=9/17/21<br>x=%{x}<br>y=%{y}<extra></extra>",
         "legendgroup": "9/17/21",
         "marker": {
          "color": "#FFA15A",
          "pattern": {
           "shape": ""
          }
         },
         "name": "9/17/21",
         "offsetgroup": "9/17/21",
         "orientation": "v",
         "showlegend": true,
         "textposition": "auto",
         "type": "bar",
         "x": [
          "9/17/21"
         ],
         "xaxis": "x",
         "y": [
          21080219
         ],
         "yaxis": "y"
        },
        {
         "alignmentgroup": "True",
         "hovertemplate": "color=9/18/21<br>x=%{x}<br>y=%{y}<extra></extra>",
         "legendgroup": "9/18/21",
         "marker": {
          "color": "#19d3f3",
          "pattern": {
           "shape": ""
          }
         },
         "name": "9/18/21",
         "offsetgroup": "9/18/21",
         "orientation": "v",
         "showlegend": true,
         "textposition": "auto",
         "type": "bar",
         "x": [
          "9/18/21"
         ],
         "xaxis": "x",
         "y": [
          21230325
         ],
         "yaxis": "y"
        },
        {
         "alignmentgroup": "True",
         "hovertemplate": "color=9/19/21<br>x=%{x}<br>y=%{y}<extra></extra>",
         "legendgroup": "9/19/21",
         "marker": {
          "color": "#FF6692",
          "pattern": {
           "shape": ""
          }
         },
         "name": "9/19/21",
         "offsetgroup": "9/19/21",
         "orientation": "v",
         "showlegend": true,
         "textposition": "auto",
         "type": "bar",
         "x": [
          "9/19/21"
         ],
         "xaxis": "x",
         "y": [
          21239783
         ],
         "yaxis": "y"
        },
        {
         "alignmentgroup": "True",
         "hovertemplate": "color=9/20/21<br>x=%{x}<br>y=%{y}<extra></extra>",
         "legendgroup": "9/20/21",
         "marker": {
          "color": "#B6E880",
          "pattern": {
           "shape": ""
          }
         },
         "name": "9/20/21",
         "offsetgroup": "9/20/21",
         "orientation": "v",
         "showlegend": true,
         "textposition": "auto",
         "type": "bar",
         "x": [
          "9/20/21"
         ],
         "xaxis": "x",
         "y": [
          21247667
         ],
         "yaxis": "y"
        },
        {
         "alignmentgroup": "True",
         "hovertemplate": "color=9/21/21<br>x=%{x}<br>y=%{y}<extra></extra>",
         "legendgroup": "9/21/21",
         "marker": {
          "color": "#FF97FF",
          "pattern": {
           "shape": ""
          }
         },
         "name": "9/21/21",
         "offsetgroup": "9/21/21",
         "orientation": "v",
         "showlegend": true,
         "textposition": "auto",
         "type": "bar",
         "x": [
          "9/21/21"
         ],
         "xaxis": "x",
         "y": [
          21247094
         ],
         "yaxis": "y"
        },
        {
         "alignmentgroup": "True",
         "hovertemplate": "color=9/22/21<br>x=%{x}<br>y=%{y}<extra></extra>",
         "legendgroup": "9/22/21",
         "marker": {
          "color": "#FECB52",
          "pattern": {
           "shape": ""
          }
         },
         "name": "9/22/21",
         "offsetgroup": "9/22/21",
         "orientation": "v",
         "showlegend": true,
         "textposition": "auto",
         "type": "bar",
         "x": [
          "9/22/21"
         ],
         "xaxis": "x",
         "y": [
          21283567
         ],
         "yaxis": "y"
        }
       ],
       "layout": {
        "barmode": "relative",
        "legend": {
         "title": {
          "text": "color"
         },
         "tracegroupgap": 0
        },
        "template": {
         "data": {
          "bar": [
           {
            "error_x": {
             "color": "#2a3f5f"
            },
            "error_y": {
             "color": "#2a3f5f"
            },
            "marker": {
             "line": {
              "color": "#E5ECF6",
              "width": 0.5
             },
             "pattern": {
              "fillmode": "overlay",
              "size": 10,
              "solidity": 0.2
             }
            },
            "type": "bar"
           }
          ],
          "barpolar": [
           {
            "marker": {
             "line": {
              "color": "#E5ECF6",
              "width": 0.5
             },
             "pattern": {
              "fillmode": "overlay",
              "size": 10,
              "solidity": 0.2
             }
            },
            "type": "barpolar"
           }
          ],
          "carpet": [
           {
            "aaxis": {
             "endlinecolor": "#2a3f5f",
             "gridcolor": "white",
             "linecolor": "white",
             "minorgridcolor": "white",
             "startlinecolor": "#2a3f5f"
            },
            "baxis": {
             "endlinecolor": "#2a3f5f",
             "gridcolor": "white",
             "linecolor": "white",
             "minorgridcolor": "white",
             "startlinecolor": "#2a3f5f"
            },
            "type": "carpet"
           }
          ],
          "choropleth": [
           {
            "colorbar": {
             "outlinewidth": 0,
             "ticks": ""
            },
            "type": "choropleth"
           }
          ],
          "contour": [
           {
            "colorbar": {
             "outlinewidth": 0,
             "ticks": ""
            },
            "colorscale": [
             [
              0,
              "#0d0887"
             ],
             [
              0.1111111111111111,
              "#46039f"
             ],
             [
              0.2222222222222222,
              "#7201a8"
             ],
             [
              0.3333333333333333,
              "#9c179e"
             ],
             [
              0.4444444444444444,
              "#bd3786"
             ],
             [
              0.5555555555555556,
              "#d8576b"
             ],
             [
              0.6666666666666666,
              "#ed7953"
             ],
             [
              0.7777777777777778,
              "#fb9f3a"
             ],
             [
              0.8888888888888888,
              "#fdca26"
             ],
             [
              1,
              "#f0f921"
             ]
            ],
            "type": "contour"
           }
          ],
          "contourcarpet": [
           {
            "colorbar": {
             "outlinewidth": 0,
             "ticks": ""
            },
            "type": "contourcarpet"
           }
          ],
          "heatmap": [
           {
            "colorbar": {
             "outlinewidth": 0,
             "ticks": ""
            },
            "colorscale": [
             [
              0,
              "#0d0887"
             ],
             [
              0.1111111111111111,
              "#46039f"
             ],
             [
              0.2222222222222222,
              "#7201a8"
             ],
             [
              0.3333333333333333,
              "#9c179e"
             ],
             [
              0.4444444444444444,
              "#bd3786"
             ],
             [
              0.5555555555555556,
              "#d8576b"
             ],
             [
              0.6666666666666666,
              "#ed7953"
             ],
             [
              0.7777777777777778,
              "#fb9f3a"
             ],
             [
              0.8888888888888888,
              "#fdca26"
             ],
             [
              1,
              "#f0f921"
             ]
            ],
            "type": "heatmap"
           }
          ],
          "heatmapgl": [
           {
            "colorbar": {
             "outlinewidth": 0,
             "ticks": ""
            },
            "colorscale": [
             [
              0,
              "#0d0887"
             ],
             [
              0.1111111111111111,
              "#46039f"
             ],
             [
              0.2222222222222222,
              "#7201a8"
             ],
             [
              0.3333333333333333,
              "#9c179e"
             ],
             [
              0.4444444444444444,
              "#bd3786"
             ],
             [
              0.5555555555555556,
              "#d8576b"
             ],
             [
              0.6666666666666666,
              "#ed7953"
             ],
             [
              0.7777777777777778,
              "#fb9f3a"
             ],
             [
              0.8888888888888888,
              "#fdca26"
             ],
             [
              1,
              "#f0f921"
             ]
            ],
            "type": "heatmapgl"
           }
          ],
          "histogram": [
           {
            "marker": {
             "pattern": {
              "fillmode": "overlay",
              "size": 10,
              "solidity": 0.2
             }
            },
            "type": "histogram"
           }
          ],
          "histogram2d": [
           {
            "colorbar": {
             "outlinewidth": 0,
             "ticks": ""
            },
            "colorscale": [
             [
              0,
              "#0d0887"
             ],
             [
              0.1111111111111111,
              "#46039f"
             ],
             [
              0.2222222222222222,
              "#7201a8"
             ],
             [
              0.3333333333333333,
              "#9c179e"
             ],
             [
              0.4444444444444444,
              "#bd3786"
             ],
             [
              0.5555555555555556,
              "#d8576b"
             ],
             [
              0.6666666666666666,
              "#ed7953"
             ],
             [
              0.7777777777777778,
              "#fb9f3a"
             ],
             [
              0.8888888888888888,
              "#fdca26"
             ],
             [
              1,
              "#f0f921"
             ]
            ],
            "type": "histogram2d"
           }
          ],
          "histogram2dcontour": [
           {
            "colorbar": {
             "outlinewidth": 0,
             "ticks": ""
            },
            "colorscale": [
             [
              0,
              "#0d0887"
             ],
             [
              0.1111111111111111,
              "#46039f"
             ],
             [
              0.2222222222222222,
              "#7201a8"
             ],
             [
              0.3333333333333333,
              "#9c179e"
             ],
             [
              0.4444444444444444,
              "#bd3786"
             ],
             [
              0.5555555555555556,
              "#d8576b"
             ],
             [
              0.6666666666666666,
              "#ed7953"
             ],
             [
              0.7777777777777778,
              "#fb9f3a"
             ],
             [
              0.8888888888888888,
              "#fdca26"
             ],
             [
              1,
              "#f0f921"
             ]
            ],
            "type": "histogram2dcontour"
           }
          ],
          "mesh3d": [
           {
            "colorbar": {
             "outlinewidth": 0,
             "ticks": ""
            },
            "type": "mesh3d"
           }
          ],
          "parcoords": [
           {
            "line": {
             "colorbar": {
              "outlinewidth": 0,
              "ticks": ""
             }
            },
            "type": "parcoords"
           }
          ],
          "pie": [
           {
            "automargin": true,
            "type": "pie"
           }
          ],
          "scatter": [
           {
            "marker": {
             "colorbar": {
              "outlinewidth": 0,
              "ticks": ""
             }
            },
            "type": "scatter"
           }
          ],
          "scatter3d": [
           {
            "line": {
             "colorbar": {
              "outlinewidth": 0,
              "ticks": ""
             }
            },
            "marker": {
             "colorbar": {
              "outlinewidth": 0,
              "ticks": ""
             }
            },
            "type": "scatter3d"
           }
          ],
          "scattercarpet": [
           {
            "marker": {
             "colorbar": {
              "outlinewidth": 0,
              "ticks": ""
             }
            },
            "type": "scattercarpet"
           }
          ],
          "scattergeo": [
           {
            "marker": {
             "colorbar": {
              "outlinewidth": 0,
              "ticks": ""
             }
            },
            "type": "scattergeo"
           }
          ],
          "scattergl": [
           {
            "marker": {
             "colorbar": {
              "outlinewidth": 0,
              "ticks": ""
             }
            },
            "type": "scattergl"
           }
          ],
          "scattermapbox": [
           {
            "marker": {
             "colorbar": {
              "outlinewidth": 0,
              "ticks": ""
             }
            },
            "type": "scattermapbox"
           }
          ],
          "scatterpolar": [
           {
            "marker": {
             "colorbar": {
              "outlinewidth": 0,
              "ticks": ""
             }
            },
            "type": "scatterpolar"
           }
          ],
          "scatterpolargl": [
           {
            "marker": {
             "colorbar": {
              "outlinewidth": 0,
              "ticks": ""
             }
            },
            "type": "scatterpolargl"
           }
          ],
          "scatterternary": [
           {
            "marker": {
             "colorbar": {
              "outlinewidth": 0,
              "ticks": ""
             }
            },
            "type": "scatterternary"
           }
          ],
          "surface": [
           {
            "colorbar": {
             "outlinewidth": 0,
             "ticks": ""
            },
            "colorscale": [
             [
              0,
              "#0d0887"
             ],
             [
              0.1111111111111111,
              "#46039f"
             ],
             [
              0.2222222222222222,
              "#7201a8"
             ],
             [
              0.3333333333333333,
              "#9c179e"
             ],
             [
              0.4444444444444444,
              "#bd3786"
             ],
             [
              0.5555555555555556,
              "#d8576b"
             ],
             [
              0.6666666666666666,
              "#ed7953"
             ],
             [
              0.7777777777777778,
              "#fb9f3a"
             ],
             [
              0.8888888888888888,
              "#fdca26"
             ],
             [
              1,
              "#f0f921"
             ]
            ],
            "type": "surface"
           }
          ],
          "table": [
           {
            "cells": {
             "fill": {
              "color": "#EBF0F8"
             },
             "line": {
              "color": "white"
             }
            },
            "header": {
             "fill": {
              "color": "#C8D4E3"
             },
             "line": {
              "color": "white"
             }
            },
            "type": "table"
           }
          ]
         },
         "layout": {
          "annotationdefaults": {
           "arrowcolor": "#2a3f5f",
           "arrowhead": 0,
           "arrowwidth": 1
          },
          "autotypenumbers": "strict",
          "coloraxis": {
           "colorbar": {
            "outlinewidth": 0,
            "ticks": ""
           }
          },
          "colorscale": {
           "diverging": [
            [
             0,
             "#8e0152"
            ],
            [
             0.1,
             "#c51b7d"
            ],
            [
             0.2,
             "#de77ae"
            ],
            [
             0.3,
             "#f1b6da"
            ],
            [
             0.4,
             "#fde0ef"
            ],
            [
             0.5,
             "#f7f7f7"
            ],
            [
             0.6,
             "#e6f5d0"
            ],
            [
             0.7,
             "#b8e186"
            ],
            [
             0.8,
             "#7fbc41"
            ],
            [
             0.9,
             "#4d9221"
            ],
            [
             1,
             "#276419"
            ]
           ],
           "sequential": [
            [
             0,
             "#0d0887"
            ],
            [
             0.1111111111111111,
             "#46039f"
            ],
            [
             0.2222222222222222,
             "#7201a8"
            ],
            [
             0.3333333333333333,
             "#9c179e"
            ],
            [
             0.4444444444444444,
             "#bd3786"
            ],
            [
             0.5555555555555556,
             "#d8576b"
            ],
            [
             0.6666666666666666,
             "#ed7953"
            ],
            [
             0.7777777777777778,
             "#fb9f3a"
            ],
            [
             0.8888888888888888,
             "#fdca26"
            ],
            [
             1,
             "#f0f921"
            ]
           ],
           "sequentialminus": [
            [
             0,
             "#0d0887"
            ],
            [
             0.1111111111111111,
             "#46039f"
            ],
            [
             0.2222222222222222,
             "#7201a8"
            ],
            [
             0.3333333333333333,
             "#9c179e"
            ],
            [
             0.4444444444444444,
             "#bd3786"
            ],
            [
             0.5555555555555556,
             "#d8576b"
            ],
            [
             0.6666666666666666,
             "#ed7953"
            ],
            [
             0.7777777777777778,
             "#fb9f3a"
            ],
            [
             0.8888888888888888,
             "#fdca26"
            ],
            [
             1,
             "#f0f921"
            ]
           ]
          },
          "colorway": [
           "#636efa",
           "#EF553B",
           "#00cc96",
           "#ab63fa",
           "#FFA15A",
           "#19d3f3",
           "#FF6692",
           "#B6E880",
           "#FF97FF",
           "#FECB52"
          ],
          "font": {
           "color": "#2a3f5f"
          },
          "geo": {
           "bgcolor": "white",
           "lakecolor": "white",
           "landcolor": "#E5ECF6",
           "showlakes": true,
           "showland": true,
           "subunitcolor": "white"
          },
          "hoverlabel": {
           "align": "left"
          },
          "hovermode": "closest",
          "mapbox": {
           "style": "light"
          },
          "paper_bgcolor": "white",
          "plot_bgcolor": "#E5ECF6",
          "polar": {
           "angularaxis": {
            "gridcolor": "white",
            "linecolor": "white",
            "ticks": ""
           },
           "bgcolor": "#E5ECF6",
           "radialaxis": {
            "gridcolor": "white",
            "linecolor": "white",
            "ticks": ""
           }
          },
          "scene": {
           "xaxis": {
            "backgroundcolor": "#E5ECF6",
            "gridcolor": "white",
            "gridwidth": 2,
            "linecolor": "white",
            "showbackground": true,
            "ticks": "",
            "zerolinecolor": "white"
           },
           "yaxis": {
            "backgroundcolor": "#E5ECF6",
            "gridcolor": "white",
            "gridwidth": 2,
            "linecolor": "white",
            "showbackground": true,
            "ticks": "",
            "zerolinecolor": "white"
           },
           "zaxis": {
            "backgroundcolor": "#E5ECF6",
            "gridcolor": "white",
            "gridwidth": 2,
            "linecolor": "white",
            "showbackground": true,
            "ticks": "",
            "zerolinecolor": "white"
           }
          },
          "shapedefaults": {
           "line": {
            "color": "#2a3f5f"
           }
          },
          "ternary": {
           "aaxis": {
            "gridcolor": "white",
            "linecolor": "white",
            "ticks": ""
           },
           "baxis": {
            "gridcolor": "white",
            "linecolor": "white",
            "ticks": ""
           },
           "bgcolor": "#E5ECF6",
           "caxis": {
            "gridcolor": "white",
            "linecolor": "white",
            "ticks": ""
           }
          },
          "title": {
           "x": 0.05
          },
          "xaxis": {
           "automargin": true,
           "gridcolor": "white",
           "linecolor": "white",
           "ticks": "",
           "title": {
            "standoff": 15
           },
           "zerolinecolor": "white",
           "zerolinewidth": 2
          },
          "yaxis": {
           "automargin": true,
           "gridcolor": "white",
           "linecolor": "white",
           "ticks": "",
           "title": {
            "standoff": 15
           },
           "zerolinecolor": "white",
           "zerolinewidth": 2
          }
         }
        },
        "title": {
         "text": "Covid19 No Brazil"
        },
        "xaxis": {
         "anchor": "y",
         "domain": [
          0,
          1
         ],
         "title": {
          "text": "x"
         }
        },
        "yaxis": {
         "anchor": "x",
         "domain": [
          0,
          1
         ],
         "title": {
          "text": "y"
         }
        }
       }
      }
     },
     "metadata": {}
    }
   ],
   "metadata": {}
  },
  {
   "cell_type": "code",
   "execution_count": null,
   "source": [],
   "outputs": [],
   "metadata": {}
  }
 ],
 "metadata": {
  "orig_nbformat": 4,
  "language_info": {
   "name": "python",
   "version": "3.8.6",
   "mimetype": "text/x-python",
   "codemirror_mode": {
    "name": "ipython",
    "version": 3
   },
   "pygments_lexer": "ipython3",
   "nbconvert_exporter": "python",
   "file_extension": ".py"
  },
  "kernelspec": {
   "name": "python3",
   "display_name": "Python 3.8.6 64-bit"
  },
  "interpreter": {
   "hash": "1baa965d5efe3ac65b79dfc60c0d706280b1da80fedb7760faf2759126c4f253"
  }
 },
 "nbformat": 4,
 "nbformat_minor": 2
}