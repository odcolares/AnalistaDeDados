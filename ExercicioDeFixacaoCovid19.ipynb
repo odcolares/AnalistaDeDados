{
 "cells": [
  {
   "cell_type": "code",
   "execution_count": null,
   "source": [
    "# importando as bibliotecas\r\n",
    "import pandas as pd"
   ],
   "outputs": [],
   "metadata": {}
  },
  {
   "cell_type": "code",
   "execution_count": null,
   "source": [
    "df = pd.read_csv(r\"C:\\Users\\odair.colares\\Documents\\AnalistaDeDados\\temperature.csv\", encoding='ISO 8859-1')\r\n",
    "#df1 = df['VALOR TOTAL'].replace('$', '', regex=True)\r\n",
    "df"
   ],
   "outputs": [],
   "metadata": {}
  },
  {
   "cell_type": "code",
   "execution_count": null,
   "source": [
    "df['temperatura'].apply(lambda x: x * 2).reset_index()"
   ],
   "outputs": [],
   "metadata": {}
  }
 ],
 "metadata": {
  "orig_nbformat": 4,
  "language_info": {
   "name": "python",
   "version": "3.8.6",
   "mimetype": "text/x-python",
   "codemirror_mode": {
    "name": "ipython",
    "version": 3
   },
   "pygments_lexer": "ipython3",
   "nbconvert_exporter": "python",
   "file_extension": ".py"
  },
  "kernelspec": {
   "name": "python3",
   "display_name": "Python 3.8.6 64-bit"
  },
  "interpreter": {
   "hash": "1baa965d5efe3ac65b79dfc60c0d706280b1da80fedb7760faf2759126c4f253"
  }
 },
 "nbformat": 4,
 "nbformat_minor": 2
}