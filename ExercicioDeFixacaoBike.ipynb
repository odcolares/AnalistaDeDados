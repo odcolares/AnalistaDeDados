{
 "cells": [
  {
   "cell_type": "code",
   "execution_count": null,
   "source": [
    "# importando as bibliotecas\r\n",
    "import pandas as pd"
   ],
   "outputs": [],
   "metadata": {}
  },
  {
   "cell_type": "code",
   "execution_count": null,
   "source": [
    "excel_file = pd.ExcelFile(\"C:/Users/odair.colares/Documents/AnalistaDeDados/bike.xlsx\")\r\n",
    "df = pd.read_excel(excel_file, sheet_name='bike-sharing')\r\n",
    "df"
   ],
   "outputs": [],
   "metadata": {}
  },
  {
   "cell_type": "code",
   "execution_count": null,
   "source": [
    "# Tamanho desse dataset (número de linhas, número de colunas)? \r\n",
    "df.shape"
   ],
   "outputs": [],
   "metadata": {}
  },
  {
   "cell_type": "code",
   "execution_count": null,
   "source": [
    "# Qual a média da coluna windspeed? \r\n",
    "df['windspeed'].mean().round(2)"
   ],
   "outputs": [],
   "metadata": {}
  },
  {
   "cell_type": "code",
   "execution_count": null,
   "source": [
    "#Qual a média da coluna temp?\r\n",
    "#df.describe().round(3)\r\n",
    "df['temp'].mean().round(3)"
   ],
   "outputs": [],
   "metadata": {}
  },
  {
   "cell_type": "code",
   "execution_count": null,
   "source": [
    "# Quantos registros de locações existem para o ano de 2011 (número de linhas, número de colunas)? \r\n",
    "df[df.year == 0].shape\r\n",
    "# Quantos registros de locações existem para o ano de 2012 (número de linhas, número de colunas)?\r\n",
    "df[df.year == 1].shape"
   ],
   "outputs": [],
   "metadata": {}
  },
  {
   "cell_type": "code",
   "execution_count": null,
   "source": [
    "# Quantas locações de bicicletas foram efetuadas em 2011?\r\n",
    "df[df.year == 0].total_count.sum()"
   ],
   "outputs": [],
   "metadata": {}
  },
  {
   "cell_type": "code",
   "execution_count": null,
   "source": [
    "# Quantas locações de bicicletas foram efetuadas em 20121? \r\n",
    "df[df.year == 1].total_count.sum()"
   ],
   "outputs": [],
   "metadata": {}
  },
  {
   "cell_type": "code",
   "execution_count": null,
   "source": [
    "# Qual estação do ano contém a maior média de locações de bicicletas? HELP SITE\r\n",
    "df.groupby(['season']).total_count.mean().round(3).sort_values(ascending=False).reset_index()"
   ],
   "outputs": [],
   "metadata": {}
  },
  {
   "cell_type": "code",
   "execution_count": null,
   "source": [
    "# Qual estação do ano contém a menor média de locações de bicicletas? \r\n",
    "df.groupby(['season']).total_count.mean().round(3).sort_values(ascending=True).reset_index()"
   ],
   "outputs": [],
   "metadata": {}
  },
  {
   "cell_type": "code",
   "execution_count": null,
   "source": [
    "# Qual horário do dia contém a maior média de locações de bicicletas?\r\n",
    "df.groupby(['hour']).total_count.mean().round(2).sort_values(ascending=False).reset_index()"
   ],
   "outputs": [],
   "metadata": {}
  },
  {
   "cell_type": "code",
   "execution_count": null,
   "source": [
    "# Qual horário do dia contém a menor média de locações de bicicletas?\r\n",
    "df.groupby(['hour']).total_count.mean().round(2).sort_values(ascending=True).reset_index()"
   ],
   "outputs": [],
   "metadata": {}
  },
  {
   "cell_type": "code",
   "execution_count": null,
   "source": [
    "# Que dia da semana contém a maior média de locações de bicicletas? \r\n",
    "df.groupby(['weekday']).total_count.mean().round(2).sort_values(ascending=False).reset_index()"
   ],
   "outputs": [],
   "metadata": {}
  },
  {
   "cell_type": "code",
   "execution_count": null,
   "source": [
    "# Que dia da semana contém a menor média de locações de bicicletas? \r\n",
    "df.groupby(['weekday']).total_count.mean().round(2).sort_values(ascending=True)"
   ],
   "outputs": [],
   "metadata": {}
  },
  {
   "cell_type": "code",
   "execution_count": null,
   "source": [
    "#Às quartas-feiras (weekday = 3), qual o horário do dia contém a maior média de locações de bicicletas? \r\n",
    "df[df.weekday == 3].groupby(['hour']).total_count.mean().round(2).sort_values(ascending=False).reset_index()\r\n"
   ],
   "outputs": [],
   "metadata": {}
  },
  {
   "cell_type": "code",
   "execution_count": null,
   "source": [
    "# Aos sábados (weekday = 6), qual o horário do dia contém a maior média de locações de bicicletas? \r\n",
    "df[df.weekday == 6].groupby(['hour']).total_count.mean().round(2).sort_values(ascending=False).reset_index()"
   ],
   "outputs": [],
   "metadata": {}
  },
  {
   "cell_type": "code",
   "execution_count": null,
   "source": [
    "df.head(10)"
   ],
   "outputs": [],
   "metadata": {}
  },
  {
   "cell_type": "code",
   "execution_count": null,
   "source": [
    "df[df.is_holiday == 0]"
   ],
   "outputs": [],
   "metadata": {}
  }
 ],
 "metadata": {
  "orig_nbformat": 4,
  "language_info": {
   "name": "python",
   "version": "3.8.6",
   "mimetype": "text/x-python",
   "codemirror_mode": {
    "name": "ipython",
    "version": 3
   },
   "pygments_lexer": "ipython3",
   "nbconvert_exporter": "python",
   "file_extension": ".py"
  },
  "kernelspec": {
   "name": "python3",
   "display_name": "Python 3.8.6 64-bit"
  },
  "interpreter": {
   "hash": "1baa965d5efe3ac65b79dfc60c0d706280b1da80fedb7760faf2759126c4f253"
  }
 },
 "nbformat": 4,
 "nbformat_minor": 2
}