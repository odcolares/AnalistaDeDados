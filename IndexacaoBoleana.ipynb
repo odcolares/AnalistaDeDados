{
 "cells": [
  {
   "cell_type": "code",
   "execution_count": null,
   "source": [
    "# importando as bibliotecas\r\n",
    "import pandas as pd"
   ],
   "outputs": [],
   "metadata": {}
  },
  {
   "cell_type": "code",
   "execution_count": null,
   "source": [
    "# leitura de planilhas excel\r\n",
    "# 2 abas (worksheets)\r\n",
    "# leitura do arquivo todo\r\n",
    "excel_file = pd.ExcelFile(\"C:/Users/odair.colares/Documents/AnalistaDeDados/cursosprouni.xls\")"
   ],
   "outputs": [],
   "metadata": {}
  },
  {
   "cell_type": "code",
   "execution_count": null,
   "source": [
    "# leitura da primeira aba (Sheet1)\r\n",
    "# dados numéricos com separador decimal = '.'\r\n",
    "df = pd.read_excel(excel_file, sheet_name='Sheet1')\r\n",
    "df"
   ],
   "outputs": [],
   "metadata": {}
  },
  {
   "cell_type": "code",
   "execution_count": null,
   "source": [
    "# Transforma tipo da coluna de date para datetime\r\n",
    "df['date'] = pd.to_datetime(df['date'])\r\n",
    "df\r\n",
    "# Setando o novo index na tabela\r\n",
    "df = df.set_index('NomeDoIndex')\r\n",
    "df"
   ],
   "outputs": [],
   "metadata": {}
  },
  {
   "cell_type": "code",
   "execution_count": null,
   "source": [
    "# Indexação boleana\r\n",
    "df[df['mensalidade'] <= 500]\r\n",
    "df[df['bolsa_parcial_cotas'] == 2.0]"
   ],
   "outputs": [],
   "metadata": {}
  },
  {
   "cell_type": "code",
   "execution_count": null,
   "source": [
    "# Indexação boleana com slice em linha e/ou colunas usando o index.\r\n",
    "df.loc[df.index <= 12, ['curso_busca','turno']]"
   ],
   "outputs": [],
   "metadata": {}
  }
 ],
 "metadata": {
  "orig_nbformat": 4,
  "language_info": {
   "name": "python",
   "version": "3.8.6",
   "mimetype": "text/x-python",
   "codemirror_mode": {
    "name": "ipython",
    "version": 3
   },
   "pygments_lexer": "ipython3",
   "nbconvert_exporter": "python",
   "file_extension": ".py"
  },
  "kernelspec": {
   "name": "python3",
   "display_name": "Python 3.8.6 64-bit"
  },
  "interpreter": {
   "hash": "1baa965d5efe3ac65b79dfc60c0d706280b1da80fedb7760faf2759126c4f253"
  }
 },
 "nbformat": 4,
 "nbformat_minor": 2
}