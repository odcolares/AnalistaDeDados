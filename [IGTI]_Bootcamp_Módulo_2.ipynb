{
  "nbformat": 4,
  "nbformat_minor": 2,
  "metadata": {
    "colab": {
      "name": "[IGTI] Bootcamp - Módulo 2.ipynb",
      "provenance": [],
      "collapsed_sections": [
        "IGa1ElkAlEha",
        "glXv_BQc-eKm",
        "769s_NzwDZII",
        "emFS9rYEJlwa",
        "dvkMMUaRMlsQ",
        "IQZaGV6jRRD5",
        "xbgWm1XGVdiq",
        "oIfWCzfoaSzL",
        "Jh3dR2mFfl9F",
        "4gU2Pi7crNNq",
        "D5RHAvSdsvws",
        "0sJc-R3uvEwU",
        "sjlWCwS_ycmt",
        "J8PmXTv0nnG9"
      ]
    },
    "kernelspec": {
      "name": "python3",
      "display_name": "Python 3.8.6 64-bit"
    },
    "language_info": {
      "name": "python",
      "version": "3.8.6",
      "mimetype": "text/x-python",
      "codemirror_mode": {
        "name": "ipython",
        "version": 3
      },
      "pygments_lexer": "ipython3",
      "nbconvert_exporter": "python",
      "file_extension": ".py"
    },
    "interpreter": {
      "hash": "1baa965d5efe3ac65b79dfc60c0d706280b1da80fedb7760faf2759126c4f253"
    }
  },
  "cells": [
    {
      "cell_type": "markdown",
      "source": [
        "## **Numpy**"
      ],
      "metadata": {
        "id": "IGa1ElkAlEha"
      }
    },
    {
      "cell_type": "code",
      "execution_count": null,
      "source": [
        "# importando as bibliotecas\r\n",
        "import numpy as np"
      ],
      "outputs": [],
      "metadata": {
        "id": "aL0_UKQ-n8pg"
      }
    },
    {
      "cell_type": "markdown",
      "source": [
        "**Criação de arrays**"
      ],
      "metadata": {
        "id": "glXv_BQc-eKm"
      }
    },
    {
      "cell_type": "code",
      "execution_count": null,
      "source": [
        "np.array"
      ],
      "outputs": [],
      "metadata": {
        "id": "JJDkzf_GcIPj"
      }
    },
    {
      "cell_type": "code",
      "execution_count": null,
      "source": [
        "# criação de um array 1D: [1, 2, 3]\r\n",
        "l = [1, 2, 3]\r\n",
        "x = np.array(l)\r\n",
        "print(\"x:\", x)\r\n",
        "print(\"shape:\", x.shape)"
      ],
      "outputs": [],
      "metadata": {
        "id": "6fyF9yoT9VQ8",
        "colab": {
          "base_uri": "https://localhost:8080/",
          "height": 53
        },
        "outputId": "89f894cd-5dc8-491e-bd59-6e01e8b5103f"
      }
    },
    {
      "cell_type": "code",
      "execution_count": null,
      "source": [
        "type(x)"
      ],
      "outputs": [],
      "metadata": {
        "id": "3s3W1ZHLdzs_",
        "colab": {
          "base_uri": "https://localhost:8080/",
          "height": 35
        },
        "outputId": "2fe2bfd6-0acb-4759-a18a-f7cb5227b030"
      }
    },
    {
      "cell_type": "code",
      "execution_count": null,
      "source": [
        "# criação de um array 2D: listas aninhadas\r\n",
        "l = [[1, 2], [3, 4]]\r\n",
        "x = np.array(l)\r\n",
        "print(\"x:\\n\", x)\r\n",
        "print(\"shape:\", x.shape)"
      ],
      "outputs": [],
      "metadata": {
        "id": "Q2_U-rjj9iN3",
        "colab": {
          "base_uri": "https://localhost:8080/",
          "height": 89
        },
        "outputId": "57ea7aa2-a3a8-4418-dd1c-d84e81b8d504"
      }
    },
    {
      "cell_type": "code",
      "execution_count": null,
      "source": [
        "type(x)"
      ],
      "outputs": [],
      "metadata": {
        "id": "45OpNTFPeO5D",
        "colab": {
          "base_uri": "https://localhost:8080/",
          "height": 35
        },
        "outputId": "89b97724-5802-4261-e9fe-92f3bdb316c6"
      }
    },
    {
      "cell_type": "code",
      "execution_count": null,
      "source": [
        "help(np.zeros)"
      ],
      "outputs": [],
      "metadata": {
        "id": "RYd7frOFeWyh",
        "colab": {
          "base_uri": "https://localhost:8080/",
          "height": 953
        },
        "outputId": "1548d847-5daa-45d3-9a06-90bc6e83a59d"
      }
    },
    {
      "cell_type": "code",
      "execution_count": null,
      "source": [
        "# array contendo apenas 0's\r\n",
        "dim = (2, 2)  # (linhas, colunas)\r\n",
        "x = np.zeros(dim)\r\n",
        "print(\"x:\\n\", x)\r\n",
        "print(\"shape:\", x.shape)"
      ],
      "outputs": [],
      "metadata": {
        "id": "XjnO6UaW9_rr",
        "colab": {
          "base_uri": "https://localhost:8080/",
          "height": 89
        },
        "outputId": "edf3eefe-2890-4bb6-c107-9967f77a7c63"
      }
    },
    {
      "cell_type": "code",
      "execution_count": null,
      "source": [
        "# array contendo apenas 1's\r\n",
        "size = (2, 2)  # (linhas, colunas)\r\n",
        "x = np.ones(size)\r\n",
        "print(\"x:\\n\", x)\r\n",
        "print(\"shape:\", x.shape)"
      ],
      "outputs": [],
      "metadata": {
        "id": "nPPcYGt4_fzU",
        "colab": {
          "base_uri": "https://localhost:8080/",
          "height": 89
        },
        "outputId": "ed3eff63-4d1b-4196-b4d2-7e12ed22c9c7"
      }
    },
    {
      "cell_type": "code",
      "execution_count": null,
      "source": [
        "np.linspace"
      ],
      "outputs": [],
      "metadata": {
        "id": "FD3QynDnfXyh"
      }
    },
    {
      "cell_type": "code",
      "execution_count": null,
      "source": [
        "# criação de valores dentro de um intervalo\r\n",
        "# valores uniformes entre 5 e 15\r\n",
        "x_min, x_max = 5, 15\r\n",
        "x = np.linspace(start=x_min, stop=x_max, num=6)\r\n",
        "print(\"x:\", x)\r\n",
        "print(\"shape:\", x.shape)"
      ],
      "outputs": [],
      "metadata": {
        "id": "x8eiwDYp_u_E",
        "colab": {
          "base_uri": "https://localhost:8080/",
          "height": 53
        },
        "outputId": "04765c03-3570-4aeb-e506-bc33eb69cb3d"
      }
    },
    {
      "cell_type": "code",
      "execution_count": null,
      "source": [
        "# criação da matriz identidade\r\n",
        "n = 4\r\n",
        "x = np.eye(n)\r\n",
        "print(\"x:\\n\", x)\r\n",
        "print(\"shape:\", x.shape)"
      ],
      "outputs": [],
      "metadata": {
        "id": "AfLgXJBSAOYp",
        "colab": {
          "base_uri": "https://localhost:8080/",
          "height": 125
        },
        "outputId": "9c6cd8e3-d98e-4e63-e56e-e64155792a4d"
      }
    },
    {
      "cell_type": "code",
      "execution_count": null,
      "source": [
        "help(np.random.random)"
      ],
      "outputs": [],
      "metadata": {
        "id": "3UOujghVgN7Z",
        "colab": {
          "base_uri": "https://localhost:8080/",
          "height": 161
        },
        "outputId": "56ae8910-8ead-4e06-a0cc-6c45bde20fa3"
      }
    },
    {
      "cell_type": "code",
      "execution_count": null,
      "source": [
        "# criação de valores aleatórios\r\n",
        "# np.random.seed(10)\r\n",
        "x = np.random.random(size=(2, 3))\r\n",
        "print(\"x:\\n\", x)\r\n",
        "print(\"shape:\", x.shape)"
      ],
      "outputs": [],
      "metadata": {
        "id": "A618d3pvCPsC",
        "colab": {
          "base_uri": "https://localhost:8080/",
          "height": 89
        },
        "outputId": "457c263d-b867-43c5-e718-c5fe8c6c6783"
      }
    },
    {
      "cell_type": "markdown",
      "source": [
        "### **Indexação de arrays**"
      ],
      "metadata": {
        "id": "769s_NzwDZII"
      }
    },
    {
      "cell_type": "code",
      "execution_count": null,
      "source": [
        "# os índices no Python vão de 0 a n-1,\r\n",
        "# onde n é o tamanho da dimensão\r\n",
        "x = np.linspace(start=10, stop=100, num=10)\r\n",
        "print(\"x:\", x)\r\n",
        "print(\"shape:\", x.shape)"
      ],
      "outputs": [],
      "metadata": {
        "id": "lSSxZMAKCaEb",
        "colab": {
          "base_uri": "https://localhost:8080/",
          "height": 53
        },
        "outputId": "11c73a4d-0850-4984-9f47-e5b36319bb3b"
      }
    },
    {
      "cell_type": "code",
      "execution_count": null,
      "source": [
        "# extração de elementos\r\n",
        "print(\"x:\", x)\r\n",
        "print(\"primeiro elemento:\", x[0])\r\n",
        "print(\"segundo elemento:\", x[1])\r\n",
        "print(\"último elemento:\", x[9])\r\n",
        "print(\"último elemento:\", x[-1])"
      ],
      "outputs": [],
      "metadata": {
        "id": "ql5HQ3KhDzVm",
        "colab": {
          "base_uri": "https://localhost:8080/",
          "height": 107
        },
        "outputId": "b2eda45c-4f16-4c49-d7cf-01528b113f0d"
      }
    },
    {
      "cell_type": "code",
      "execution_count": null,
      "source": [
        "x[5]"
      ],
      "outputs": [],
      "metadata": {
        "id": "Ds3lSMhqqjIz",
        "colab": {
          "base_uri": "https://localhost:8080/",
          "height": 35
        },
        "outputId": "88799a7f-a67b-4f7c-e165-cf3318afaf7a"
      }
    },
    {
      "cell_type": "code",
      "execution_count": null,
      "source": [
        "# slicing: extração de subarrays: \r\n",
        "print(\"x:\", x)\r\n",
        "print(\"dois primeiros elementos:\", x[0:2])  # 2 é exclusivo\r\n",
        "print(\"dois primeiros elementos:\", x[:2])\r\n",
        "print(\"dois últimos elementos:\", x[-2:])"
      ],
      "outputs": [],
      "metadata": {
        "id": "Kam3n9fJD4a1",
        "colab": {
          "base_uri": "https://localhost:8080/",
          "height": 89
        },
        "outputId": "ce8bf8bd-4c59-4f9c-c5b0-b13fa722eca6"
      }
    },
    {
      "cell_type": "code",
      "execution_count": null,
      "source": [
        "# slicing em arrays 2D (matrizes)\r\n",
        "x = x.reshape(2, 5)  # reshape de x para 2 linhas e 5 colunas\r\n",
        "print(\"x:\\n\", x)"
      ],
      "outputs": [],
      "metadata": {
        "id": "14-JCNQBEg_4",
        "colab": {
          "base_uri": "https://localhost:8080/",
          "height": 71
        },
        "outputId": "6208c788-8d02-4139-aae3-19d8fba17fe8"
      }
    },
    {
      "cell_type": "code",
      "execution_count": null,
      "source": [
        "# extração de elementos\r\n",
        "print(\"primeira linha, segunda coluna:\", x[0, 1])\r\n",
        "print(\"segunda linha, penúltima coluna:\", x[1, -2])\r\n",
        "print(\"última linha, última coluna:\", x[1, 4])\r\n",
        "print(\"última linha, última coluna:\", x[-1, -1])"
      ],
      "outputs": [],
      "metadata": {
        "id": "1_npwPKAGgu_",
        "colab": {
          "base_uri": "https://localhost:8080/",
          "height": 89
        },
        "outputId": "8f8a462a-2db4-4010-9fd3-9df826508573"
      }
    },
    {
      "cell_type": "code",
      "execution_count": null,
      "source": [
        "# slicing: extração de subarrays\r\n",
        "print(\"x:\\n\", x)\r\n",
        "print(\"primeira linha inteira: \", x[0, :])\r\n",
        "print(\"primeira linha, segunda a quarta coluna: \", x[0, 1:4])\r\n",
        "print(\"última coluna inteira:\\n\", x[:, [-1]])"
      ],
      "outputs": [],
      "metadata": {
        "id": "X19pfvbVHT3X",
        "colab": {
          "base_uri": "https://localhost:8080/",
          "height": 161
        },
        "outputId": "c87b5e50-8428-4ad8-86ff-7078d73f2be7"
      }
    },
    {
      "cell_type": "code",
      "execution_count": null,
      "source": [
        "# atenção com compartilhamento de memória em subarrays!!\r\n",
        "x = np.array([1, 2, 3])\r\n",
        "print(\"x antes:\", x)\r\n",
        "y = x[:2]\r\n",
        "y[0] = -100  # alteração do valor em y altera o valor de x\r\n",
        "print(\"x depois:\", x)"
      ],
      "outputs": [],
      "metadata": {
        "id": "l320gP9OH6dq",
        "colab": {
          "base_uri": "https://localhost:8080/",
          "height": 53
        },
        "outputId": "9f677915-72c9-4b90-b5d5-6dc0f900c84a"
      }
    },
    {
      "cell_type": "code",
      "execution_count": null,
      "source": [
        "# atenção com compartilhamento de memória em subarrays!!\r\n",
        "x = np.array([1, 2, 3])\r\n",
        "print(\"x antes:\", x)\r\n",
        "y = x[:2].copy()\r\n",
        "y[0] = -100  # alteração do valor em y altera o valor de x\r\n",
        "print(\"x depois:\", x)"
      ],
      "outputs": [],
      "metadata": {
        "id": "zfM3tL3HI4yX",
        "colab": {
          "base_uri": "https://localhost:8080/",
          "height": 53
        },
        "outputId": "ce134314-1786-4e6b-e972-c97cd2506e64"
      }
    },
    {
      "cell_type": "markdown",
      "source": [
        "### **Funções aritméticas: soma, subtração e divisão**"
      ],
      "metadata": {
        "id": "emFS9rYEJlwa"
      }
    },
    {
      "cell_type": "code",
      "execution_count": null,
      "source": [
        "# criação de dois arrays x e y\r\n",
        "x = np.ones((2, 2))\r\n",
        "y = np.eye(2)\r\n",
        "print(\"x: \\n\", x)\r\n",
        "print(\"y: \\n\", y)"
      ],
      "outputs": [],
      "metadata": {
        "id": "cxCuJmuCJE_f",
        "colab": {
          "base_uri": "https://localhost:8080/",
          "height": 125
        },
        "outputId": "7266ef4c-0eb1-49ec-f7d6-4fa71baa8221"
      }
    },
    {
      "cell_type": "code",
      "execution_count": null,
      "source": [
        "# soma\r\n",
        "print(\"soma de dois arrays:\\n\", x + y)\r\n",
        "print(\"soma com float/int:\\n\", x + 2.)  # broadcasting"
      ],
      "outputs": [],
      "metadata": {
        "id": "EWB48NHLJ3Pt"
      }
    },
    {
      "cell_type": "code",
      "execution_count": null,
      "source": [
        "# subtração\r\n",
        "print(\"subtração de dois arrays:\\n\", x - y)\r\n",
        "print(\"subtração com float/int:\\n\", x - 2)  # broadcasting"
      ],
      "outputs": [],
      "metadata": {
        "id": "iqG4J9jjKEHu"
      }
    },
    {
      "cell_type": "code",
      "execution_count": null,
      "source": [
        "# divisão\r\n",
        "print(\"divisão de dois arrays:\\n\", x / y)\r\n",
        "print(\"divisão com float/int:\\n\", x / 2)  # broadcasting"
      ],
      "outputs": [],
      "metadata": {
        "id": "napi10qVKdJi"
      }
    },
    {
      "cell_type": "code",
      "execution_count": null,
      "source": [
        "# quando o broadcasting não funciona\r\n",
        "# np.array([1, 2, 3]) + np.array([1, 2])"
      ],
      "outputs": [],
      "metadata": {
        "id": "gWqAQ9kfMzZU"
      }
    },
    {
      "cell_type": "code",
      "execution_count": null,
      "source": [
        "# soma, subtração e divisão\r\n",
        "print(\"combinação de operações: \\n\", (x+y)/(x-2))"
      ],
      "outputs": [],
      "metadata": {
        "id": "yTSOAIAdLpXb"
      }
    },
    {
      "cell_type": "markdown",
      "source": [
        "### **Funções aritméticas: multiplicação**"
      ],
      "metadata": {
        "id": "dvkMMUaRMlsQ"
      }
    },
    {
      "cell_type": "code",
      "execution_count": null,
      "source": [
        "# multiplicação elemento a elemento\r\n",
        "print(\"x: \\n\", x)\r\n",
        "print(\"y: \\n\", y)"
      ],
      "outputs": [],
      "metadata": {
        "id": "JUz-8PHIMeFh",
        "colab": {
          "base_uri": "https://localhost:8080/",
          "height": 125
        },
        "outputId": "81e82cba-5e51-412c-a828-b1fbfc2c8e11"
      }
    },
    {
      "cell_type": "code",
      "execution_count": null,
      "source": [
        "# multiplicação\r\n",
        "print(\"multiplicação de dois arrays:\\n\", x * y)\r\n",
        "print(\"multiplicação com float/int:\\n\", x * 2)  # broadcasting"
      ],
      "outputs": [],
      "metadata": {
        "id": "mHOzJbLFNu5I",
        "colab": {
          "base_uri": "https://localhost:8080/",
          "height": 125
        },
        "outputId": "1f8b023d-08b2-4aac-c51f-c18a9ad0acaf"
      }
    },
    {
      "cell_type": "code",
      "execution_count": null,
      "source": [
        "# multiplicação matricial\r\n",
        "print(\"multiplicação matricial (np.dot):\\n\", np.dot(x, y))\r\n",
        "print(\"multiplicação matricial (@):\\n\", x @ y)\r\n",
        "print(\"multiplicação matricial (.dot):\\n\", x.dot(y))"
      ],
      "outputs": [],
      "metadata": {
        "id": "ndmeNPMPN7Fn",
        "colab": {
          "base_uri": "https://localhost:8080/",
          "height": 179
        },
        "outputId": "b5de8b2c-cb29-4223-ea6b-b3136bc146ee"
      }
    },
    {
      "cell_type": "code",
      "execution_count": null,
      "source": [
        "\"\"\" \r\n",
        "Exemplo:\r\n",
        "Solução de um sistema de equações:\r\n",
        "  1*a + 2*b = 7\r\n",
        "  3*a - 2*b = -11\r\n",
        "  solução análitica: (a, b) = (-1, 4)\r\n",
        "Matricialmente, este problema tem a seguinte forma:\r\n",
        "  Ax = c, onde:\r\n",
        "  - x = [a, b]\r\n",
        "  - A = [[1, 2], [3, -2]]\r\n",
        "  - c = [7, -11]\r\n",
        "  solução numérica: x = inv(A) @ c, \r\n",
        "\"\"\"\r\n",
        " \r\n",
        "# definição do problema\r\n",
        "A = np.array([[1, 2], [3, -2]])\r\n",
        "c = np.array([[7], [-11]])\r\n",
        "print(\"A: \\n\", A)\r\n",
        "print(\"c: \\n\", c)"
      ],
      "outputs": [],
      "metadata": {
        "id": "Bm7Bwx_XONkg",
        "colab": {
          "base_uri": "https://localhost:8080/",
          "height": 125
        },
        "outputId": "ec0c262c-7557-4e87-b349-feb06acdfc54"
      }
    },
    {
      "cell_type": "markdown",
      "source": [
        "Sistema de equações:\n",
        "\n",
        "$$Ax=c,\\\\\\left[\\begin{array}{cc}1&2\\\\3&-2\\end{array}\\right]\\left[\\begin{array}{c}a\\\\b\\end{array}\\right] = \\left[\\begin{array}{c}7\\\\-11\\end{array}\\right].$$\n",
        "\n",
        "Solução:\n",
        "\n",
        "$$x=A^{-1}c.$$\n"
      ],
      "metadata": {
        "id": "FHXwax4qzKL-"
      }
    },
    {
      "cell_type": "code",
      "execution_count": null,
      "source": [
        "# solução\r\n",
        "x = np.dot(np.linalg.inv(A), c)\r\n",
        "# x = np.linalg.inv(A) @ c\r\n",
        "print(\"(a, b):\", x.ravel())"
      ],
      "outputs": [],
      "metadata": {
        "id": "4kJ62UMOQTwp",
        "colab": {
          "base_uri": "https://localhost:8080/",
          "height": 35
        },
        "outputId": "90645b9e-a5ab-410c-b1ff-42b3b0562eee"
      }
    },
    {
      "cell_type": "markdown",
      "source": [
        "### **Comparações**"
      ],
      "metadata": {
        "id": "IQZaGV6jRRD5"
      }
    },
    {
      "cell_type": "code",
      "execution_count": null,
      "source": [
        "# criação dos arrays\r\n",
        "x = np.array([[1, 2], [3, 4]])\r\n",
        "y = np.array([1.5, 3.5])\r\n",
        "print(\"x: \\n\", x)\r\n",
        "print(\"y: \\n\", y)"
      ],
      "outputs": [],
      "metadata": {
        "id": "GJqFMWubQdRp",
        "colab": {
          "base_uri": "https://localhost:8080/",
          "height": 107
        },
        "outputId": "942c06f0-76ce-49e4-92f1-24fcfa522963"
      }
    },
    {
      "cell_type": "code",
      "execution_count": null,
      "source": [
        "# comparações ponto a ponto\r\n",
        "print(\"Comparação de um array com um escalar (>): \\n\", x > 2)  \r\n",
        "print(\"Comparação de um array com um escalar (>=): \\n\", x >= 2)\r\n",
        "print(\"Comparação de um array com um escalar (<): \\n\", x < 2)  \r\n",
        "print(\"Comparação de um array com um escalar (<=): \\n\", x <= 2)\r\n",
        "print(\"Comparação entre arrays (==): \\n\", x == x)\r\n",
        "print(\"Comparação entre arrays (>): \\n\", x > x)\r\n",
        "print(\"Comparação entre arrays (>): \\n\", x > y)  # broadcasting"
      ],
      "outputs": [],
      "metadata": {
        "id": "bJI8UlGSSo5i",
        "colab": {
          "base_uri": "https://localhost:8080/",
          "height": 395
        },
        "outputId": "5e3dc10b-3461-4de6-d969-6a55c27f4ea2"
      }
    },
    {
      "cell_type": "markdown",
      "source": [
        "### **Indexação booleana**"
      ],
      "metadata": {
        "id": "xbgWm1XGVdiq"
      }
    },
    {
      "cell_type": "code",
      "execution_count": null,
      "source": [
        "# indexação booleana\r\n",
        "x = np.array([[1, 3, 7],\r\n",
        "              [4, 11, 21],\r\n",
        "              [42, 8, 9]])\r\n",
        "print(\"x:\\n\", x)"
      ],
      "outputs": [],
      "metadata": {
        "id": "cCq137a7Sr8s",
        "colab": {
          "base_uri": "https://localhost:8080/",
          "height": 89
        },
        "outputId": "0ba8f270-3a82-46f4-f9ab-1e58a3d65d24"
      }
    },
    {
      "cell_type": "code",
      "execution_count": null,
      "source": [
        "# indexação boolena: retornar o número de elementos\r\n",
        "# maiores que k\r\n",
        "k = 10\r\n",
        "cond = x > k\r\n",
        "print(\"condição: \\n\", cond)\r\n",
        "print(f\"elementos maiores que {k}:\", x[cond])\r\n",
        "print(f\"números de elementos maiores que {k}:\", len(x[cond]))"
      ],
      "outputs": [],
      "metadata": {
        "id": "IIBCawWNYtTR",
        "colab": {
          "base_uri": "https://localhost:8080/",
          "height": 125
        },
        "outputId": "d1a4b584-220b-47b7-de02-80608a7b61ce"
      }
    },
    {
      "cell_type": "code",
      "execution_count": null,
      "source": [
        "# indexação boolena: extração dos números pares\r\n",
        "cond = x % 2 == 0  # números pares\r\n",
        "print(\"condição: \\n\", cond)\r\n",
        "print(\"números pares:\", x[cond])"
      ],
      "outputs": [],
      "metadata": {
        "id": "Dgpjx5xnV1Nf",
        "colab": {
          "base_uri": "https://localhost:8080/",
          "height": 107
        },
        "outputId": "1187f933-00d2-431f-bfaa-e0988936c31c"
      }
    },
    {
      "cell_type": "code",
      "execution_count": null,
      "source": [
        "# indexação boolena: extração dos números ímpares\r\n",
        "cond = x % 2 == 1  # números pares\r\n",
        "print(\"condição: \\n\", cond)\r\n",
        "print(\"números pares:\", x[cond])"
      ],
      "outputs": [],
      "metadata": {
        "id": "l4xjwnpgWZNL",
        "colab": {
          "base_uri": "https://localhost:8080/",
          "height": 107
        },
        "outputId": "8294d70a-5596-40a0-f2c8-34c9cc158a9b"
      }
    },
    {
      "cell_type": "markdown",
      "source": [
        "### **Outras operações úteis em numpy**"
      ],
      "metadata": {
        "id": "oIfWCzfoaSzL"
      }
    },
    {
      "cell_type": "code",
      "execution_count": null,
      "source": [
        "# array\r\n",
        "x = np.array([[1, 3, 7],\r\n",
        "              [4, 11, 21],\r\n",
        "              [42, 8, 9]])\r\n",
        "print(\"x:\\n\", x)"
      ],
      "outputs": [],
      "metadata": {
        "id": "77006yraaxVQ",
        "colab": {
          "base_uri": "https://localhost:8080/",
          "height": 89
        },
        "outputId": "ceb12360-1b7e-4306-9521-8af63efa67f5"
      }
    },
    {
      "cell_type": "code",
      "execution_count": null,
      "source": [
        "# reshape: transformar a matriz em um vetor coluna\r\n",
        "# (3, 3) vira (9, 1): 3*3 = 9*1 = 9\r\n",
        "print(\"transformação de em um vetor coluna: \\n\", x.reshape(9, 1))"
      ],
      "outputs": [],
      "metadata": {
        "id": "S0SOQ7U-bkB4"
      }
    },
    {
      "cell_type": "code",
      "execution_count": null,
      "source": [
        "# transposição de matriz\r\n",
        "print(\"x transposta: \\n\", x.T)"
      ],
      "outputs": [],
      "metadata": {
        "id": "h6EWum1FbYiK"
      }
    },
    {
      "cell_type": "code",
      "execution_count": null,
      "source": [
        "# np.sum: soma em um dado eixo, axis = {0: linha, 1: coluna}\r\n",
        "print(\"x:\\n\", x)\r\n",
        "print(\"soma de todos elementos de x:\", np.sum(x))\r\n",
        "print(\"soma de x ao longo das linhas:\", np.sum(x, axis=0))\r\n",
        "print(\"soma de x ao longo das colunas:\", np.sum(x, axis=1))"
      ],
      "outputs": [],
      "metadata": {
        "id": "QG0LQUqzadSN"
      }
    },
    {
      "cell_type": "code",
      "execution_count": null,
      "source": [
        "# np.mean: média em um dado eixo, axis = {0: linha, 1: coluna}\r\n",
        "print(\"x:\\n\", x)\r\n",
        "print(\"média de todos elementos de x:\", np.mean(x))\r\n",
        "print(\"média de x ao longo das linhas:\", np.mean(x, axis=0))\r\n",
        "print(\"média de x ao longo das colunas:\", np.mean(x, axis=1))"
      ],
      "outputs": [],
      "metadata": {
        "id": "h_thkEYScPbf"
      }
    },
    {
      "cell_type": "code",
      "execution_count": null,
      "source": [
        "# np.where, indentificação dos índices onde uma dada condição\r\n",
        "# é atendida. Uso conjunto com indexação booleana\r\n",
        "cond = x % 2 == 0  # números pares\r\n",
        "print(\"condição: \\n\", cond)\r\n",
        "i, j = np.where(cond) # índices x[i, j] = x[cond]\r\n",
        "print(\"índice i (linhas):\", i)\r\n",
        "print(\"índice j (colunas):\", j) "
      ],
      "outputs": [],
      "metadata": {
        "id": "hnDWq-cUcpVJ",
        "colab": {
          "base_uri": "https://localhost:8080/",
          "height": 125
        },
        "outputId": "66ec5961-6635-4a94-a51e-85924c24266f"
      }
    },
    {
      "cell_type": "code",
      "execution_count": null,
      "source": [
        "# indexação booleana e slicing: selecionar as linhas\r\n",
        "# de x que possuem algum número par\r\n",
        "print(\"x:\\n\", x)\r\n",
        "cond = x % 2 == 0  # números pares\r\n",
        "print(\"condição: \\n\", cond)\r\n",
        "\r\n",
        "# # se houver alguma condição True na linha, a soma será > 0\r\n",
        "i_row = np.where(np.sum(cond, axis=1))[0]\r\n",
        "print(\"índice das linhas que possuem números pares:\", i_row)\r\n",
        "print(\"linhas que possuem número pares: \\n\", x[i_row, :])  \r\n"
      ],
      "outputs": [],
      "metadata": {
        "id": "oAW11bdbXWhL",
        "colab": {
          "base_uri": "https://localhost:8080/",
          "height": 233
        },
        "outputId": "242b91ac-e37e-48a8-fdf4-2f450a2c5229"
      }
    },
    {
      "cell_type": "markdown",
      "source": [
        "### **Regressão linear no numpy**"
      ],
      "metadata": {
        "id": "Jh3dR2mFfl9F"
      }
    },
    {
      "cell_type": "code",
      "execution_count": null,
      "source": [
        "# visualização de dados\n",
        "import matplotlib.pyplot as plt"
      ],
      "outputs": [],
      "metadata": {
        "id": "uWgnDPcEat9K"
      }
    },
    {
      "cell_type": "code",
      "execution_count": null,
      "source": [
        "# dados\n",
        "x = [-1., -0.77777778, -0.55555556, -0.33333333, -0.11111111,\n",
        "     0.11111111, 0.33333333, 0.55555556, 0.77777778, 1.]\n",
        "y = [-1.13956201, -0.57177999, -0.21697033, 0.5425699, 0.49406657,\n",
        "     1.14972239, 1.64228553, 2.1749824, 2.64773614, 2.95684202]"
      ],
      "outputs": [],
      "metadata": {
        "id": "YNrcPD63YCKf"
      }
    },
    {
      "cell_type": "code",
      "execution_count": null,
      "source": [
        "# plot dos dados\n",
        "plt.figure(figsize=(10, 5))\n",
        "plt.plot(x, y, 'o', label='dados originais')\n",
        "plt.legend()\n",
        "plt.xlabel(\"x\")\n",
        "plt.ylabel(\"y\")\n",
        "plt.grid()\n",
        "plt.show()"
      ],
      "outputs": [],
      "metadata": {
        "id": "HlfXmBHDggCf",
        "colab": {
          "base_uri": "https://localhost:8080/",
          "height": 334
        },
        "outputId": "0465c4a2-1221-4236-ebe9-34a9e9aef871"
      }
    },
    {
      "cell_type": "markdown",
      "source": [
        "Regressão linear:\n",
        "\n",
        "$$X\\beta=y,\\\\\\beta=\\left[\\begin{array}{c}a\\\\b\\end{array}\\right] .$$\n",
        "\n",
        "Solução via minimização do erro quadrático:\n",
        "\n",
        "$$\\beta=(X^TX)^{-1}X^Ty,$$\n",
        "onde $(X^TX)^{-1}X^T$ é a pseudo-inversa de $X$, facilmente calculada pelo método `np.linalg.pinv(X)`.\n"
      ],
      "metadata": {
        "id": "LXMj1FbXELaj"
      }
    },
    {
      "cell_type": "code",
      "execution_count": null,
      "source": [
        "\"\"\"\n",
        "Iremos estimar uma função do tipo: y = a*x + b\n",
        "ou seja, devemos achar quais os valores de a e b\n",
        "que melhor representam os dados.\n",
        "\n",
        "Os valores reais de a e b são: (a, b): 2, 1\n",
        "\"\"\"\n",
        "# transformando para numpy e vetor coluna\n",
        "x, y = np.array(x).reshape(-1, 1), np.array(y).reshape(-1, 1)\n",
        "\n",
        "# adicionando bias: para estimar o termo b\n",
        "X = np.hstack((x, np.ones(x.shape)))\n",
        "\n",
        "# estimando a e b\n",
        "beta = np.linalg.pinv(X).dot(y)\n",
        "print(\"a estimado:\", beta[0][0])\n",
        "print(\"b estimado:\", beta[1][0])"
      ],
      "outputs": [],
      "metadata": {
        "id": "W_2BzIoTgi2w",
        "colab": {
          "base_uri": "https://localhost:8080/",
          "height": 53
        },
        "outputId": "861a4532-9e76-40bd-d551-65c2d66f5f33"
      }
    },
    {
      "cell_type": "code",
      "execution_count": null,
      "source": [
        "# plot dos dados\n",
        "plt.figure(figsize=(10, 5))\n",
        "plt.plot(x, y, 'o', label='dados originais')\n",
        "plt.plot(x, X.dot(beta), label='regressão linear')\n",
        "plt.legend()\n",
        "plt.xlabel(\"x\")\n",
        "plt.ylabel(\"y\")\n",
        "plt.title(\"Regressão linear com numpy\")\n",
        "plt.grid()\n",
        "plt.show()"
      ],
      "outputs": [],
      "metadata": {
        "id": "J5QlwxE7kADi",
        "colab": {
          "base_uri": "https://localhost:8080/",
          "height": 350
        },
        "outputId": "3642c920-1ce1-47f0-ce16-ac1a1f399623"
      }
    },
    {
      "cell_type": "code",
      "execution_count": null,
      "source": [],
      "outputs": [],
      "metadata": {
        "id": "YTGu7ra9MpHO"
      }
    },
    {
      "cell_type": "markdown",
      "source": [
        "## **Pandas**"
      ],
      "metadata": {
        "id": "6BocI3zPlRVh"
      }
    },
    {
      "cell_type": "code",
      "execution_count": null,
      "source": [
        "# importando as bibliotecas\r\n",
        "import pandas as pd"
      ],
      "outputs": [],
      "metadata": {
        "id": "PXFWm35ZlOkO"
      }
    },
    {
      "cell_type": "markdown",
      "source": [
        "### **Leitura de dados**"
      ],
      "metadata": {
        "id": "25Y-6lLcoJ6v"
      }
    },
    {
      "cell_type": "code",
      "execution_count": null,
      "source": [
        "pd.read_csv"
      ],
      "outputs": [],
      "metadata": {
        "id": "XJ54BBHRe1ae"
      }
    },
    {
      "cell_type": "code",
      "execution_count": null,
      "source": [
        "# leitura dos dados csv\r\n",
        "df = pd.read_csv(\"https://sage.saude.gov.br/dados/repositorio/DistribuicaoCloroquinaOseltamivir.csv\", encoding='ISO 8859-1', engine='python-fwf')\r\n",
        "df"
      ],
      "outputs": [],
      "metadata": {
        "id": "9UqjkM2Jo_E9",
        "colab": {
          "base_uri": "https://localhost:8080/",
          "height": 227
        },
        "outputId": "92befff1-b1e8-4599-e9e3-ca49f3bea4b2"
      }
    },
    {
      "cell_type": "code",
      "execution_count": null,
      "source": [
        "# leitura de planilhas excel\r\n",
        "# 2 abas (worksheets)\r\n",
        "\r\n",
        "# leitura do arquivo todo\r\n",
        "excel_file = pd.ExcelFile(\"C:/Users/odair.colares/Documents/AnalistaDeDados/cursosprouni.xls\")"
      ],
      "outputs": [],
      "metadata": {
        "id": "ejKmUZpHaoQj"
      }
    },
    {
      "cell_type": "code",
      "execution_count": null,
      "source": [
        "type(excel_file)"
      ],
      "outputs": [],
      "metadata": {
        "id": "R2dmextegAHe",
        "colab": {
          "base_uri": "https://localhost:8080/",
          "height": 34
        },
        "outputId": "51fcd741-ee01-44ee-ecde-98d819abcb82"
      }
    },
    {
      "cell_type": "code",
      "execution_count": null,
      "source": [
        "# leitura da primeira aba (Sheet1)\r\n",
        "# dados numéricos com separador decimal = '.'\r\n",
        "df = pd.read_excel(excel_file, sheet_name='Sheet1')\r\n",
        "df"
      ],
      "outputs": [],
      "metadata": {
        "id": "3pxoXVmjb2sJ",
        "colab": {
          "base_uri": "https://localhost:8080/",
          "height": 235
        },
        "outputId": "fc18dc74-a702-4f7e-8743-8114519ad059"
      }
    },
    {
      "cell_type": "code",
      "execution_count": null,
      "source": [
        "# leitura da segunda aba (Sheet2)\r\n",
        "# dados numéricos com separador decimal = ','\r\n",
        "df3 = pd.read_excel(excel_file, sheet_name='Sheet1')\r\n",
        "df3['cursosprouni'] = df3['cursosprouni'].str.replace(',', '.').astype('float')\r\n",
        "df3"
      ],
      "outputs": [],
      "metadata": {
        "id": "wwEFKFjtb4Lc",
        "colab": {
          "base_uri": "https://localhost:8080/",
          "height": 227
        },
        "outputId": "944c4e16-8cb5-400b-9c7f-38df1b552db7"
      }
    },
    {
      "cell_type": "code",
      "execution_count": null,
      "source": [
        "# visualizando as primeiras n linhas\r\n",
        "n = 3\r\n",
        "df3.head(n)"
      ],
      "outputs": [],
      "metadata": {
        "id": "MZpdPIEhpXc6",
        "colab": {
          "base_uri": "https://localhost:8080/",
          "height": 142
        },
        "outputId": "3c8a6e68-eae5-4ab2-9a35-6cc2b7305a62"
      }
    },
    {
      "cell_type": "code",
      "execution_count": null,
      "source": [
        "# visualizando as últimas n linhas\r\n",
        "n = 3\r\n",
        "df3.tail(n)"
      ],
      "outputs": [],
      "metadata": {
        "id": "E5OOIZW_pt4m",
        "colab": {
          "base_uri": "https://localhost:8080/",
          "height": 142
        },
        "outputId": "bb6c5095-aeb2-465b-8bd0-092ae8e20e18"
      }
    },
    {
      "cell_type": "code",
      "execution_count": null,
      "source": [
        "# dtypes saber qual os dados inseridos do dataset\r\n",
        "df3.dtypes"
      ],
      "outputs": [],
      "metadata": {
        "id": "W5ybJEyoqLzT",
        "colab": {
          "base_uri": "https://localhost:8080/",
          "height": 89
        },
        "outputId": "5cb18a0c-bac5-49ab-d8fa-2782583f9ea2"
      }
    },
    {
      "cell_type": "code",
      "execution_count": null,
      "source": [
        "# estatísticas básicas\r\n",
        "df3.describe()"
      ],
      "outputs": [],
      "metadata": {
        "id": "1uMlDizuqRuj",
        "colab": {
          "base_uri": "https://localhost:8080/",
          "height": 297
        },
        "outputId": "513380e7-cd75-47d9-d6b3-d5fbad6fc228"
      }
    },
    {
      "cell_type": "code",
      "execution_count": null,
      "source": [
        "# dataframe info\r\n",
        "df.info()"
      ],
      "outputs": [],
      "metadata": {
        "id": "2lPQBYfhqi-G",
        "colab": {
          "base_uri": "https://localhost:8080/",
          "height": 197
        },
        "outputId": "5d923989-4fe9-4b97-f9f6-6d7e6473002f"
      }
    },
    {
      "cell_type": "code",
      "execution_count": null,
      "source": [
        "# nomes das colunas\r\n",
        "df.columns"
      ],
      "outputs": [],
      "metadata": {
        "id": "DLRY7u-LrTMI",
        "colab": {
          "base_uri": "https://localhost:8080/",
          "height": 35
        },
        "outputId": "f3e33828-b089-4a7e-da70-be15d029b53a"
      }
    },
    {
      "cell_type": "markdown",
      "source": [
        "### **Indexação**"
      ],
      "metadata": {
        "id": "4gU2Pi7crNNq"
      }
    },
    {
      "cell_type": "code",
      "execution_count": null,
      "source": [
        "df.head()"
      ],
      "outputs": [],
      "metadata": {
        "id": "MYXjp9_ozlyo",
        "colab": {
          "base_uri": "https://localhost:8080/",
          "height": 204
        },
        "outputId": "1f31e87d-9eca-48ed-a267-d50d9a1ae9cc"
      }
    },
    {
      "cell_type": "code",
      "execution_count": null,
      "source": [
        "# seleção de uma coluna\r\n",
        "df['REGIÃO']"
      ],
      "outputs": [],
      "metadata": {
        "id": "AFsKjAv9rPpS",
        "colab": {
          "base_uri": "https://localhost:8080/",
          "height": 143
        },
        "outputId": "3699ffce-ed56-439a-ce90-31a743f5a1d6"
      }
    },
    {
      "cell_type": "code",
      "execution_count": null,
      "source": [
        "# tipo\r\n",
        "type(df['temperatura'])"
      ],
      "outputs": [],
      "metadata": {
        "id": "LyshmpFeroZn",
        "colab": {
          "base_uri": "https://localhost:8080/",
          "height": 35
        },
        "outputId": "e38d0a7d-d64e-4ab8-cc73-8cc302cb081b"
      }
    },
    {
      "cell_type": "code",
      "execution_count": null,
      "source": [
        "# seleção de múltiplas colunas\r\n",
        "df[['date', 'classification', 'temperatura']]"
      ],
      "outputs": [],
      "metadata": {
        "id": "wNi1uHGyrv_J",
        "colab": {
          "base_uri": "https://localhost:8080/",
          "height": 235
        },
        "outputId": "f63052f3-0b4d-43e7-eda8-2e4dfdb983a0"
      }
    },
    {
      "cell_type": "code",
      "execution_count": null,
      "source": [
        "# tipo\r\n",
        "type(df[['date', 'classification']])"
      ],
      "outputs": [],
      "metadata": {
        "id": "o793Y9Hxr9tR",
        "colab": {
          "base_uri": "https://localhost:8080/",
          "height": 35
        },
        "outputId": "1c556ba0-35a9-4680-a8db-14fad24ab291"
      }
    },
    {
      "cell_type": "code",
      "execution_count": null,
      "source": [
        "# iloc\r\n",
        "df.iloc"
      ],
      "outputs": [],
      "metadata": {
        "id": "Aak_N4UMuIpV"
      }
    },
    {
      "cell_type": "code",
      "execution_count": null,
      "source": [
        "# indexação por índice\r\n",
        "# selecionado todas as linhas e a coluna 1\r\n",
        "# coluna 1: temperatura\r\n",
        "a = df.iloc[:, 1]"
      ],
      "outputs": [],
      "metadata": {
        "id": "EhQdVkbmsGsU"
      }
    },
    {
      "cell_type": "code",
      "execution_count": null,
      "source": [
        "# indexação por nome\r\n",
        "# selecionado todas as linhas e a coluna 1\r\n",
        "df.loc[:, 'classification']"
      ],
      "outputs": [],
      "metadata": {
        "id": "0FrYgFTpsKro",
        "colab": {
          "base_uri": "https://localhost:8080/",
          "height": 143
        },
        "outputId": "f40370c3-be89-4c52-af9e-be8785f86333"
      }
    },
    {
      "cell_type": "code",
      "execution_count": null,
      "source": [
        "# indexação por índice de múltiplas colunas\r\n",
        "df.iloc[:, 1:]"
      ],
      "outputs": [],
      "metadata": {
        "id": "pV9onCPesS7h",
        "colab": {
          "base_uri": "https://localhost:8080/",
          "height": 235
        },
        "outputId": "b2c2178e-85a5-4754-c9ff-afffa57da0a5"
      }
    },
    {
      "cell_type": "code",
      "execution_count": null,
      "source": [
        "# indexação por nome de múltiplas colunas\r\n",
        "df.loc[:, ['temperatura', 'classification']]"
      ],
      "outputs": [],
      "metadata": {
        "id": "eMC0RktesdLO",
        "colab": {
          "base_uri": "https://localhost:8080/",
          "height": 235
        },
        "outputId": "82dc2e27-37c9-438a-fec6-b27ec25d08c3"
      }
    },
    {
      "cell_type": "code",
      "execution_count": null,
      "source": [
        "# indexação por nome de múltiplas colunas\r\n",
        "df.loc[:, 'temperatura':]"
      ],
      "outputs": [],
      "metadata": {
        "id": "Mw0tAQCFsm17",
        "colab": {
          "base_uri": "https://localhost:8080/",
          "height": 235
        },
        "outputId": "7ee1460a-c3af-4563-921b-2ca2e6788c97"
      }
    },
    {
      "cell_type": "markdown",
      "source": [
        "### **Indexação booleana**"
      ],
      "metadata": {
        "id": "D5RHAvSdsvws"
      }
    },
    {
      "cell_type": "code",
      "execution_count": null,
      "source": [
        "df"
      ],
      "outputs": [],
      "metadata": {
        "id": "2cWyNMvu6ydj",
        "colab": {
          "base_uri": "https://localhost:8080/",
          "height": 235
        },
        "outputId": "182937b6-4e28-48ba-83c5-bb83d8a4c95f"
      }
    },
    {
      "cell_type": "code",
      "execution_count": null,
      "source": [
        "# dtype\r\n",
        "df.dtypes"
      ],
      "outputs": [],
      "metadata": {
        "id": "xQj5l5_Ht5yt",
        "colab": {
          "base_uri": "https://localhost:8080/",
          "height": 89
        },
        "outputId": "baacd3fb-de2f-41fe-c17e-636f52a891ba"
      }
    },
    {
      "cell_type": "code",
      "execution_count": null,
      "source": [
        "# transformando o tipo da coluna date para datetime\r\n",
        "df['date'] = pd.to_datetime(df['date'])\r\n",
        "df.dtypes"
      ],
      "outputs": [],
      "metadata": {
        "id": "A5u4E73Ut0nq",
        "colab": {
          "base_uri": "https://localhost:8080/",
          "height": 89
        },
        "outputId": "52343bb1-8f85-4a1f-9a33-6be14b2b3a21"
      }
    },
    {
      "cell_type": "code",
      "execution_count": null,
      "source": [
        "# setando o índice\r\n",
        "df = df.set_index('date')"
      ],
      "outputs": [],
      "metadata": {
        "id": "Cy-Yg0WJt_ir"
      }
    },
    {
      "cell_type": "code",
      "execution_count": null,
      "source": [
        "# visualizando o índice \r\n",
        "df"
      ],
      "outputs": [],
      "metadata": {
        "id": "JAS-zBkvuCo0",
        "colab": {
          "base_uri": "https://localhost:8080/",
          "height": 266
        },
        "outputId": "7ef67d7b-3a32-4a9d-a897-99b778789744"
      }
    },
    {
      "cell_type": "code",
      "execution_count": null,
      "source": [
        "# 5 primeiras linas\r\n",
        "df.head()"
      ],
      "outputs": [],
      "metadata": {
        "id": "dMkmDHk4ujTz",
        "colab": {
          "base_uri": "https://localhost:8080/",
          "height": 235
        },
        "outputId": "eee77d35-80ec-47fe-ac92-51e4b7d3e5d0"
      }
    },
    {
      "cell_type": "code",
      "execution_count": null,
      "source": [
        "# indexação booleana\r\n",
        "# seleção de exemplos acima de 25 graus\r\n",
        "cond = df['temperatura'] >= 25\r\n",
        "df[cond]"
      ],
      "outputs": [],
      "metadata": {
        "id": "oZqnYBJEuyvi",
        "colab": {
          "base_uri": "https://localhost:8080/",
          "height": 204
        },
        "outputId": "45ff174a-7749-4084-98d1-196199e7ac42"
      }
    },
    {
      "cell_type": "code",
      "execution_count": null,
      "source": [
        "# indexação booleana considerando datetime\r\n",
        "# seleção de entradas até Março de 2020\r\n",
        "cond = df.index <= '2020-03-01'\r\n",
        "df[cond]"
      ],
      "outputs": [],
      "metadata": {
        "id": "mhoVwQLJu2wP",
        "colab": {
          "base_uri": "https://localhost:8080/",
          "height": 173
        },
        "outputId": "88a40388-99d7-4ae1-8745-8829ff6b18c4"
      }
    },
    {
      "cell_type": "code",
      "execution_count": null,
      "source": [
        "# indexação booleana considerando datetime\r\n",
        "# seleção de entradas até Março de 2020 e slice na coluna classification usando nome da coluna\r\n",
        "df.loc[df.index <= '2020-03-01', ['classification']]"
      ],
      "outputs": [],
      "metadata": {
        "id": "bLqqKCCDu6bu",
        "colab": {
          "base_uri": "https://localhost:8080/",
          "height": 173
        },
        "outputId": "629955f5-1e9c-4ab5-9e6d-ab92df22349c"
      }
    },
    {
      "cell_type": "code",
      "execution_count": null,
      "source": [
        "# indexação booleana considerando datetime\r\n",
        "# seleção de entradas até Março de 2020 e  slice na coluna classification usando indice da coluna\r\n",
        "df.iloc[df.index <= '2020-03-01', [-1]]"
      ],
      "outputs": [],
      "metadata": {
        "id": "PB3ZZ-qLu84Z",
        "colab": {
          "base_uri": "https://localhost:8080/",
          "height": 173
        },
        "outputId": "1b1faa2d-5e7e-4352-bd8a-fe521a41cac1"
      }
    },
    {
      "cell_type": "markdown",
      "source": [
        "### **Ordenação**"
      ],
      "metadata": {
        "id": "0sJc-R3uvEwU"
      }
    },
    {
      "cell_type": "code",
      "execution_count": null,
      "source": [
        "# df.sort_values\r\n",
        "df"
      ],
      "outputs": [],
      "metadata": {
        "id": "Q7FqE0WNvKGd",
        "colab": {
          "base_uri": "https://localhost:8080/",
          "height": 266
        },
        "outputId": "a332bc3b-f81f-47c2-bd7a-1ba7f1367bdb"
      }
    },
    {
      "cell_type": "code",
      "execution_count": null,
      "source": [
        "# ordenação crescente por uma coluna\r\n",
        "df.sort_values(by='temperatura')"
      ],
      "outputs": [],
      "metadata": {
        "id": "gUdLqE_PvigB",
        "colab": {
          "base_uri": "https://localhost:8080/",
          "height": 266
        },
        "outputId": "068625af-6672-4397-bae8-b1e668458d6b"
      }
    },
    {
      "cell_type": "code",
      "execution_count": null,
      "source": [
        "# ordenação crescente por uma coluna\r\n",
        "df.sort_values(by='classification')"
      ],
      "outputs": [],
      "metadata": {
        "id": "6HOyiWOvQ_VB",
        "colab": {
          "base_uri": "https://localhost:8080/",
          "height": 266
        },
        "outputId": "66e6fd9a-b66a-4fb0-b08a-9a418d8dea97"
      }
    },
    {
      "cell_type": "code",
      "execution_count": null,
      "source": [
        "# ordenação crescente por mais de uma coluna\r\n",
        "df.sort_values(by=['classification', 'temperatura'])"
      ],
      "outputs": [],
      "metadata": {
        "id": "Xxy50lOsQ3Fq",
        "colab": {
          "base_uri": "https://localhost:8080/",
          "height": 266
        },
        "outputId": "b32c6179-94aa-416c-9826-adfcb2a50c72"
      }
    },
    {
      "cell_type": "code",
      "execution_count": null,
      "source": [
        "# ordenação decrescente por uma coluna\r\n",
        "df.sort_values(by=['classification', 'temperatura'], ascending=False)"
      ],
      "outputs": [],
      "metadata": {
        "id": "P7gLEKNEvpfb",
        "colab": {
          "base_uri": "https://localhost:8080/",
          "height": 266
        },
        "outputId": "092b7117-90b6-4d74-f03b-3783736d5866"
      }
    },
    {
      "cell_type": "code",
      "execution_count": null,
      "source": [
        "# ordenação crescente pelo índice\r\n",
        "df.sort_index()"
      ],
      "outputs": [],
      "metadata": {
        "id": "xQz2ONYJvyv-",
        "colab": {
          "base_uri": "https://localhost:8080/",
          "height": 266
        },
        "outputId": "2b0546c2-301d-4fa1-a9ad-d8fb358706ef"
      }
    },
    {
      "cell_type": "code",
      "execution_count": null,
      "source": [
        "# ordenação decrescente pelo índice\r\n",
        "df.sort_index(ascending=False)"
      ],
      "outputs": [],
      "metadata": {
        "id": "NXSBvENCv3PW",
        "colab": {
          "base_uri": "https://localhost:8080/",
          "height": 266
        },
        "outputId": "07727121-fc19-41b0-f1d5-b8d4004f523a"
      }
    },
    {
      "cell_type": "markdown",
      "source": [
        "### **Visualização**"
      ],
      "metadata": {
        "id": "sjlWCwS_ycmt"
      }
    },
    {
      "cell_type": "code",
      "execution_count": null,
      "source": [
        "# plot de linhas\r\n",
        "df.plot();"
      ],
      "outputs": [],
      "metadata": {
        "id": "Kc4SHEckVTzo",
        "colab": {
          "base_uri": "https://localhost:8080/",
          "height": 291
        },
        "outputId": "86cf981d-e595-49f8-a6f0-6f543b1ee9ec"
      }
    },
    {
      "cell_type": "code",
      "execution_count": null,
      "source": [
        "# plot de linhas: tamanho\r\n",
        "df.plot(figsize=(10, 5));"
      ],
      "outputs": [],
      "metadata": {
        "id": "7f134FdaX1ws",
        "colab": {
          "base_uri": "https://localhost:8080/",
          "height": 345
        },
        "outputId": "80923d4d-c614-496e-a29e-ce4c4650c73b"
      }
    },
    {
      "cell_type": "code",
      "execution_count": null,
      "source": [
        "# plot de linhas: grid\r\n",
        "df.plot(figsize=(10, 5), grid=True);"
      ],
      "outputs": [],
      "metadata": {
        "id": "KW7H1RMCYCgC",
        "colab": {
          "base_uri": "https://localhost:8080/",
          "height": 345
        },
        "outputId": "d25f0150-6a9e-42b2-a60c-278fcbeecd61"
      }
    },
    {
      "cell_type": "code",
      "execution_count": null,
      "source": [
        "# plot de linhas: style\r\n",
        "df.plot(style='-o', figsize=(10, 5), grid=True);\r\n",
        "# df.plot(style='--', figsize=(10, 5), grid=True);\r\n",
        "# df.plot(style='-.', figsize=(10, 5), grid=True);"
      ],
      "outputs": [],
      "metadata": {
        "id": "8zUMF1OvygdZ",
        "colab": {
          "base_uri": "https://localhost:8080/",
          "height": 345
        },
        "outputId": "3e4e53e4-9c85-46b1-cbfe-8b84e4238111"
      }
    },
    {
      "cell_type": "code",
      "execution_count": null,
      "source": [
        "# plot de linhas: linewidth\r\n",
        "df.plot(style='-o', linewidth=2, figsize=(10, 5), grid=True);"
      ],
      "outputs": [],
      "metadata": {
        "id": "-vMPaxaLYSkK",
        "colab": {
          "base_uri": "https://localhost:8080/",
          "height": 345
        },
        "outputId": "a8a423d7-7523-438c-8216-e88ae000fcee"
      }
    },
    {
      "cell_type": "code",
      "execution_count": null,
      "source": [
        "# plot de linhas: color\r\n",
        "df.plot(style='-o', linewidth=2.5, color='red', figsize=(10, 5), grid=True);"
      ],
      "outputs": [],
      "metadata": {
        "id": "kONqALFXY9oZ",
        "colab": {
          "base_uri": "https://localhost:8080/",
          "height": 345
        },
        "outputId": "eb7aa2b7-8f28-4e43-a48d-9235fb4dfd65"
      }
    },
    {
      "cell_type": "code",
      "execution_count": null,
      "source": [
        "# plot de linhas: color\r\n",
        "df.plot(style='-o', linewidth=2.5, color='#822fb5', figsize=(10, 5), grid=True);"
      ],
      "outputs": [],
      "metadata": {
        "id": "eIgIZnZ2Ye_x",
        "colab": {
          "base_uri": "https://localhost:8080/",
          "height": 345
        },
        "outputId": "3e04e3fb-8b02-49d1-eb2a-b8a8326921c0"
      }
    },
    {
      "cell_type": "code",
      "execution_count": null,
      "source": [
        "df"
      ],
      "outputs": [],
      "metadata": {
        "id": "Zk6vTv8HdRmz",
        "colab": {
          "base_uri": "https://localhost:8080/",
          "height": 266
        },
        "outputId": "4db06723-1473-460c-ee64-fde0f0790ced"
      }
    },
    {
      "cell_type": "code",
      "execution_count": null,
      "source": [
        "# plot de barras\r\n",
        "df['classification'].value_counts().plot.bar(figsize=(10, 5),\r\n",
        "                                             rot=0);"
      ],
      "outputs": [],
      "metadata": {
        "id": "vGohI5T50tBf",
        "colab": {
          "base_uri": "https://localhost:8080/",
          "height": 320
        },
        "outputId": "40bb317b-fd13-4ead-c662-8778545ce68e"
      }
    },
    {
      "cell_type": "code",
      "execution_count": null,
      "source": [
        "# plot de barras\r\n",
        "df.plot(kind='bar', figsize=(10, 5), rot=30);"
      ],
      "outputs": [],
      "metadata": {
        "id": "gsz3n6CTy1W-",
        "colab": {
          "base_uri": "https://localhost:8080/",
          "height": 385
        },
        "outputId": "7db6cf9d-66b6-43ad-be60-33ba83133bea"
      }
    },
    {
      "cell_type": "code",
      "execution_count": null,
      "source": [
        "# pie plot\r\n",
        "df['classification'].value_counts().plot.pie(autopct='%1.1f%%',\r\n",
        "                                             shadow=True,\r\n",
        "                                             figsize=(10, 7));"
      ],
      "outputs": [],
      "metadata": {
        "id": "1T12zZNW03AS",
        "colab": {
          "base_uri": "https://localhost:8080/",
          "height": 411
        },
        "outputId": "d3ddca96-5d35-4452-cbce-7d7dfeb345c3"
      }
    },
    {
      "cell_type": "markdown",
      "source": [
        "### **Outras operações úteis no pandas**"
      ],
      "metadata": {
        "id": "aZUFrYst7YWb"
      }
    },
    {
      "cell_type": "code",
      "execution_count": null,
      "source": [
        "# dataframe\r\n",
        "df.head(6)"
      ],
      "outputs": [],
      "metadata": {
        "id": "w05p6hO17wTE",
        "colab": {
          "base_uri": "https://localhost:8080/",
          "height": 235
        },
        "outputId": "c0f9996a-58ac-4824-881a-3a9624340cbc"
      }
    },
    {
      "cell_type": "code",
      "execution_count": null,
      "source": [
        "# groupby: agrupamento por valores únicos de uma ou mais colunas\r\n",
        "df.groupby(by='classification')"
      ],
      "outputs": [],
      "metadata": {
        "id": "eSULlalQ79M7",
        "colab": {
          "base_uri": "https://localhost:8080/",
          "height": 35
        },
        "outputId": "5a6457dc-5025-46dc-84d5-13fd86d127db"
      }
    },
    {
      "cell_type": "code",
      "execution_count": null,
      "source": [
        "# groupby: agrupamento por valores únicos de uma ou mais colunascounts\r\n",
        "df.groupby(by='classification').mean()"
      ],
      "outputs": [],
      "metadata": {
        "id": "ZNq-dHV57d3m",
        "colab": {
          "base_uri": "https://localhost:8080/",
          "height": 204
        },
        "outputId": "1a4d5f46-8894-49ad-a389-69f383c1c7ea"
      }
    },
    {
      "cell_type": "code",
      "execution_count": null,
      "source": [
        "# groupby: agrupamento por valores únicos de uma ou mais colunas\r\n",
        "df.groupby(by='classification').sum()"
      ],
      "outputs": [],
      "metadata": {
        "id": "pLwXeO2F73id",
        "colab": {
          "base_uri": "https://localhost:8080/",
          "height": 204
        },
        "outputId": "82a9a7ee-5833-4103-e79a-6812bc0dce42"
      }
    },
    {
      "cell_type": "code",
      "execution_count": null,
      "source": [
        "# drop: remoção de uma coluna\r\n",
        "df.drop('temperatura', axis=1)"
      ],
      "outputs": [],
      "metadata": {
        "id": "wkqq85JF8pb3",
        "colab": {
          "base_uri": "https://localhost:8080/",
          "height": 235
        },
        "outputId": "12dfa693-044e-491c-a808-83147b51e5cc"
      }
    },
    {
      "cell_type": "code",
      "execution_count": null,
      "source": [
        "df"
      ],
      "outputs": [],
      "metadata": {
        "id": "KXQ_dikvnAff",
        "colab": {
          "base_uri": "https://localhost:8080/",
          "height": 235
        },
        "outputId": "20b6c896-a662-4500-8ac0-8444e473fed0"
      }
    },
    {
      "cell_type": "code",
      "execution_count": null,
      "source": [
        "# cópia de um dataframe: evita compartilhamento de memória\r\n",
        "# sem copy(), operações inplace em df2 também alteram df\r\n",
        "# df2 = df.copy() \r\n",
        "df2 = df"
      ],
      "outputs": [],
      "metadata": {
        "id": "olsUSu1w9FKQ"
      }
    },
    {
      "cell_type": "code",
      "execution_count": null,
      "source": [
        "# argumento inplace\r\n",
        "# inplace=True aplica a transformação no próprio objeto\r\n",
        "df3 = df2.drop(\"temperatura\", axis=1)"
      ],
      "outputs": [],
      "metadata": {
        "id": "dBsx7tjb80WA"
      }
    },
    {
      "cell_type": "code",
      "execution_count": null,
      "source": [
        "# sem inplace, df2 continua o mesmo\r\n",
        "df3.head()"
      ],
      "outputs": [],
      "metadata": {
        "id": "zmYjdq0B9WFi",
        "colab": {
          "base_uri": "https://localhost:8080/",
          "height": 204
        },
        "outputId": "1bea5368-953a-42e2-b878-8ccaea51298a"
      }
    },
    {
      "cell_type": "code",
      "execution_count": null,
      "source": [
        "# argumento inplace\r\n",
        "# inplace=True aplica a transformação no próprio objeto\r\n",
        "df2.drop(\"temperatura\", axis=1, inplace=True)"
      ],
      "outputs": [],
      "metadata": {
        "id": "XHAEEuei9jsY"
      }
    },
    {
      "cell_type": "code",
      "execution_count": null,
      "source": [
        "# com inplace, df2 é alterado\n",
        "df2.head()"
      ],
      "outputs": [],
      "metadata": {
        "id": "U2_TboJ89oBA",
        "colab": {
          "base_uri": "https://localhost:8080/",
          "height": 204
        },
        "outputId": "c4d7cce5-95cc-4b7a-930e-2f6b4a700874"
      }
    },
    {
      "cell_type": "code",
      "execution_count": null,
      "source": [
        "# df\r\n",
        "df.head()"
      ],
      "outputs": [],
      "metadata": {
        "id": "bG2efm6khpMS",
        "colab": {
          "base_uri": "https://localhost:8080/",
          "height": 204
        },
        "outputId": "66805ee1-db96-4050-b71f-eff80004ec72"
      }
    },
    {
      "cell_type": "markdown",
      "source": [
        "## **Scikit-learn**"
      ],
      "metadata": {
        "id": "J8PmXTv0nnG9"
      }
    },
    {
      "cell_type": "markdown",
      "source": [
        "### **Classificação no scikit-learn**"
      ],
      "metadata": {
        "id": "_5O28yN93phC"
      }
    },
    {
      "cell_type": "code",
      "execution_count": null,
      "source": [
        "df"
      ],
      "outputs": [],
      "metadata": {
        "id": "TdYlunqkpXMP",
        "colab": {
          "base_uri": "https://localhost:8080/",
          "height": 266
        },
        "outputId": "f66b885b-9a47-45c4-bbd2-e87a70e6683f"
      }
    },
    {
      "cell_type": "code",
      "execution_count": null,
      "source": [
        "# extração de x e y\r\n",
        "x, y = df[['temperatura']].values, df[['classification']].values\r\n",
        "print(\"x:\\n\", x)\r\n",
        "print(\"y:\\n\", y)"
      ],
      "outputs": [],
      "metadata": {
        "id": "THBZz9mJw6u8",
        "colab": {
          "base_uri": "https://localhost:8080/",
          "height": 269
        },
        "outputId": "e255192b-70d9-40cd-f534-bd1a0bb893d0"
      }
    },
    {
      "cell_type": "code",
      "execution_count": null,
      "source": [
        "# pré-processamento\r\n",
        "from sklearn.preprocessing import LabelEncoder"
      ],
      "outputs": [],
      "metadata": {
        "id": "R_lQuLB33tyK"
      }
    },
    {
      "cell_type": "code",
      "execution_count": null,
      "source": [
        "LabelEncoder"
      ],
      "outputs": [],
      "metadata": {
        "id": "xa8-1KSfpxaI"
      }
    },
    {
      "cell_type": "code",
      "execution_count": null,
      "source": [
        "# conversão de y para valores numéricos\r\n",
        "le = LabelEncoder()  # label enconder\r\n",
        "y = le.fit_transform(y.ravel())\r\n",
        "print(\"y:\\n\", y)"
      ],
      "outputs": [],
      "metadata": {
        "id": "Wyaba5xK3vye",
        "colab": {
          "base_uri": "https://localhost:8080/",
          "height": 53
        },
        "outputId": "2a8e9140-5083-44cf-9b60-168021639e05"
      }
    },
    {
      "cell_type": "code",
      "execution_count": null,
      "source": [
        "# modelo\r\n",
        "from sklearn.linear_model import LogisticRegression"
      ],
      "outputs": [],
      "metadata": {
        "id": "Ko6_zxRZ3xYW"
      }
    },
    {
      "cell_type": "code",
      "execution_count": null,
      "source": [
        "# classificador\r\n",
        "clf = LogisticRegression()\r\n",
        "clf.fit(x, y)"
      ],
      "outputs": [],
      "metadata": {
        "id": "06xNwo0d4CGy",
        "colab": {
          "base_uri": "https://localhost:8080/",
          "height": 107
        },
        "outputId": "c3f6cd5c-e8c8-4379-a72c-6075a0fa2fa8"
      }
    },
    {
      "cell_type": "code",
      "execution_count": null,
      "source": [
        "# gerando 100 valores de temperatura\r\n",
        "# linearmente espaçados entre 0 e 45\r\n",
        "# predição em novos valores de temperatura\r\n",
        "x_test = np.linspace(start=0., stop=45., num=100).reshape(-1, 1)\r\n",
        "\r\n",
        "# predição desses valores\r\n",
        "y_pred = clf.predict(x_test)"
      ],
      "outputs": [],
      "metadata": {
        "id": "ixg2gews4Fn5"
      }
    },
    {
      "cell_type": "code",
      "execution_count": null,
      "source": [
        "print(y_pred)"
      ],
      "outputs": [],
      "metadata": {
        "id": "Frtax63f4Kkl",
        "colab": {
          "base_uri": "https://localhost:8080/",
          "height": 71
        },
        "outputId": "148871af-3c06-4fef-b930-9d30765a6664"
      }
    },
    {
      "cell_type": "code",
      "execution_count": null,
      "source": [
        "# conversão de y_pred para os valores originais\n",
        "y_pred = le.inverse_transform(y_pred)\n",
        "# print(y_pred)"
      ],
      "outputs": [],
      "metadata": {
        "id": "icEpsEJi4HaX"
      }
    },
    {
      "cell_type": "code",
      "execution_count": null,
      "source": [
        "# output\n",
        "output = {'new_temp': x_test.ravel(),\n",
        "         'new_class': y_pred.ravel()}\n",
        "output = pd.DataFrame(output)"
      ],
      "outputs": [],
      "metadata": {
        "id": "MzxLJVPR4JxM"
      }
    },
    {
      "cell_type": "code",
      "execution_count": null,
      "source": [
        "output.tail()"
      ],
      "outputs": [],
      "metadata": {
        "id": "KLRJrXql4_47",
        "colab": {
          "base_uri": "https://localhost:8080/",
          "height": 204
        },
        "outputId": "f86445d3-8eb6-47df-f1b6-2e5d89cd85a5"
      }
    },
    {
      "cell_type": "code",
      "execution_count": null,
      "source": [
        "# estatisticas\n",
        "output.info()"
      ],
      "outputs": [],
      "metadata": {
        "id": "xG8FuGy24MgQ",
        "colab": {
          "base_uri": "https://localhost:8080/",
          "height": 179
        },
        "outputId": "3768c986-4830-4c8c-d19c-af9f63bbad16"
      }
    },
    {
      "cell_type": "code",
      "execution_count": null,
      "source": [
        "# estatisticas\n",
        "output.describe()"
      ],
      "outputs": [],
      "metadata": {
        "id": "ZqxmxUom4N6w",
        "colab": {
          "base_uri": "https://localhost:8080/",
          "height": 297
        },
        "outputId": "751a0c63-bbd1-4ed0-e895-0e400fae14b9"
      }
    },
    {
      "cell_type": "code",
      "execution_count": null,
      "source": [
        "# contagem de valores gerados\n",
        "output['new_class'].value_counts().plot.bar(figsize=(10, 5),\n",
        "                                            rot=0,\n",
        "                                            title=\"# de novos valores gerados\");"
      ],
      "outputs": [],
      "metadata": {
        "id": "VgHAbbTP4PJs",
        "colab": {
          "base_uri": "https://localhost:8080/",
          "height": 336
        },
        "outputId": "ffc0bc9b-db6c-43fa-e2f5-ffb88dd72cf4"
      }
    },
    {
      "cell_type": "code",
      "execution_count": null,
      "source": [
        "# distribuição do output produzido\n",
        "# conseguimos inferir a classificação novas temperaturas\n",
        "# a partir de um dataset com 6 exemplos\n",
        "output.boxplot(by='new_class', figsize=(10, 5));"
      ],
      "outputs": [],
      "metadata": {
        "id": "UWK6GzV04RpY",
        "colab": {
          "base_uri": "https://localhost:8080/",
          "height": 362
        },
        "outputId": "4f170539-b7dd-4a2f-c175-e30af25ff594"
      }
    },
    {
      "cell_type": "code",
      "execution_count": null,
      "source": [
        "# sistema automático\n",
        "def classify_temp():\n",
        "  \"\"\"Classifica o input do usuário.\"\"\"\n",
        "\n",
        "  ask = True\n",
        "  while ask:\n",
        "    # input de temperatura\n",
        "    temp = input(\"Insira a temperatura (graus Celsius): \")\n",
        "\n",
        "    # transformar para numpy array\n",
        "    temp = np.array(float(temp)).reshape(-1, 1)\n",
        "    \n",
        "    # realiza classificação\n",
        "    class_temp = clf.predict(temp)\n",
        "\n",
        "    # transformação inversa para retornar a string original\n",
        "    class_temp =  le.inverse_transform(class_temp)\n",
        "\n",
        "    # classificação\n",
        "    print(f\"A classificação da temperatura {temp.ravel()[0]} é:\", class_temp[0])\n",
        "\n",
        "    # perguntar\n",
        "    ask = input(\"Nova classificação (y/n): \") == 'y'"
      ],
      "outputs": [],
      "metadata": {
        "id": "KlNss4v9qlw-"
      }
    },
    {
      "cell_type": "code",
      "execution_count": null,
      "source": [
        "# rodando programa \n",
        "classify_temp()"
      ],
      "outputs": [],
      "metadata": {
        "id": "YqHRWOfqrFyH",
        "colab": {
          "base_uri": "https://localhost:8080/",
          "height": 233
        },
        "outputId": "87b1bd9b-7eaa-4476-985d-b5358a6caf96"
      }
    },
    {
      "cell_type": "markdown",
      "source": [
        "### **Regressão linear no scikit-learn - I**\n",
        "\n"
      ],
      "metadata": {
        "id": "zXYRe1uZ4Y3M"
      }
    },
    {
      "cell_type": "code",
      "execution_count": null,
      "source": [
        "# dados do segundo capítulo\r\n",
        "x = [-1., -0.77777778, -0.55555556, -0.33333333, -0.11111111,\r\n",
        "     0.11111111, 0.33333333, 0.55555556, 0.77777778, 1.]\r\n",
        "y = [-1.13956201, -0.57177999, -0.21697033, 0.5425699, 0.49406657,\r\n",
        "     1.14972239, 1.64228553, 2.1749824, 2.64773614, 2.95684202]"
      ],
      "outputs": [],
      "metadata": {
        "id": "nVuf6gNN4THE"
      }
    },
    {
      "cell_type": "code",
      "execution_count": null,
      "source": [
        "# plot dos dados\r\n",
        "plt.figure(figsize=(10, 5))\r\n",
        "plt.plot(x, y, 'o', label='dados originais')\r\n",
        "plt.legend()\r\n",
        "plt.xlabel(\"x\")\r\n",
        "plt.ylabel(\"y\")\r\n",
        "plt.grid()\r\n",
        "plt.show()"
      ],
      "outputs": [],
      "metadata": {
        "id": "ExzD2e7e5qCl",
        "colab": {
          "base_uri": "https://localhost:8080/",
          "height": 334
        },
        "outputId": "34a9123d-b253-445f-eb17-7ec824ab2208"
      }
    },
    {
      "cell_type": "code",
      "execution_count": null,
      "source": [
        "# transformando em numpy array\r\n",
        "x, y = np.array(x).reshape(-1, 1), np.array(y).reshape(-1, 1)"
      ],
      "outputs": [],
      "metadata": {
        "id": "ANMu9pMX5SEN"
      }
    },
    {
      "cell_type": "code",
      "execution_count": null,
      "source": [
        "# modelo\r\n",
        "from sklearn.linear_model import LinearRegression"
      ],
      "outputs": [],
      "metadata": {
        "id": "tVwybFtM44gR"
      }
    },
    {
      "cell_type": "code",
      "execution_count": null,
      "source": [
        "# treinando o modelo: y = a*x + b, valores reais (a, b) = (2, 1)\r\n",
        "reg = LinearRegression()\r\n",
        "reg.fit(x, y)"
      ],
      "outputs": [],
      "metadata": {
        "id": "ZyZzrOhd5MiM",
        "colab": {
          "base_uri": "https://localhost:8080/",
          "height": 35
        },
        "outputId": "48254fbc-086f-4590-911a-f06969a7470d"
      }
    },
    {
      "cell_type": "code",
      "execution_count": null,
      "source": [
        "# coeficientes a, b estimados:\r\n",
        "# valores estimados usando o numpy diretamente\r\n",
        "# a estimado no numpy: 2.05414951\r\n",
        "# b estimado no numpy: 0.96798926\r\n",
        "print(\"a estimado:\", reg.coef_.ravel()[0])\r\n",
        "print(\"b estimado:\", reg.intercept_[0])"
      ],
      "outputs": [],
      "metadata": {
        "id": "lCukYdH_53eF",
        "colab": {
          "base_uri": "https://localhost:8080/",
          "height": 53
        },
        "outputId": "508fe503-09eb-43b2-b3e0-d4bb61bf2426"
      }
    },
    {
      "cell_type": "code",
      "execution_count": null,
      "source": [
        "# predição do modelo\r\n",
        "y_pred = reg.predict(x)"
      ],
      "outputs": [],
      "metadata": {
        "id": "y3PoSALG5vIV"
      }
    },
    {
      "cell_type": "code",
      "execution_count": null,
      "source": [
        "# score do modelo\n",
        "score = reg.score(x, y)\n",
        "print(\"score:\", score)"
      ],
      "outputs": [],
      "metadata": {
        "id": "Hgkubn3D6ocw",
        "colab": {
          "base_uri": "https://localhost:8080/",
          "height": 35
        },
        "outputId": "8e6a6f2c-397b-4af4-d6d5-c28ff6840674"
      }
    },
    {
      "cell_type": "code",
      "execution_count": null,
      "source": [
        "# plot dos dados\n",
        "plt.figure(figsize=(10, 5))\n",
        "plt.plot(x, y, 'o', label='dados originais')\n",
        "plt.plot(x, y_pred, label='regressão linear (R2: {:.3f})'.format(score))\n",
        "plt.legend()\n",
        "plt.xlabel(\"x\")\n",
        "plt.ylabel(\"y\")\n",
        "plt.title(\"Regressão linear no scikit-learn\")\n",
        "plt.grid()\n",
        "plt.show()"
      ],
      "outputs": [],
      "metadata": {
        "id": "Jwca7UQA5QYO",
        "colab": {
          "base_uri": "https://localhost:8080/",
          "height": 350
        },
        "outputId": "960d0237-9d2b-4d76-e360-7800d2650047"
      }
    },
    {
      "cell_type": "markdown",
      "source": [
        "### **Regressão linear no scikit-learn - II**\n"
      ],
      "metadata": {
        "id": "ECTpxDdC-6Bs"
      }
    },
    {
      "cell_type": "code",
      "execution_count": null,
      "source": [
        "# plot dos dados\r\n",
        "plt.figure(figsize=(10, 5))\r\n",
        "plt.plot(x, y, 'o', label='dados originais')\r\n",
        "plt.plot(x, y_pred, label='regressão linear (R2: {:.4f})'.format(score))\r\n",
        "plt.hlines(y=y.mean(), xmin=x.min(), xmax=x.max(), linestyle='dashed',\r\n",
        "           label='Modelo de referência do $R^2$')\r\n",
        "plt.legend()\r\n",
        "plt.xlabel(\"x\")\r\n",
        "plt.ylabel(\"y\")\r\n",
        "plt.title(\"Regressão linear no scikit-learn\")\r\n",
        "plt.grid()\r\n",
        "plt.show()"
      ],
      "outputs": [],
      "metadata": {
        "id": "_CqpevpU50t7",
        "colab": {
          "base_uri": "https://localhost:8080/",
          "height": 350
        },
        "outputId": "bc1c1ea5-99cc-453b-b9cb-a0ef20b3e4b6"
      }
    },
    {
      "cell_type": "markdown",
      "source": [
        "O erro quadrático médio de um modelo de regressão é dado por:\n",
        "\n",
        "$$MSE_{reg} = \\frac{1}{n}\\sum_{i=1}^{n} (y_i - \\hat{y}_i)^2.$$\n",
        "\n",
        "O coeficiente de determinação $R^2$ representa o quão melhor um modelo é em relação a um modelo de referência que prevê sempre a média dos pontos, ou seja, o MSE do modelo de referência é dado por:\n",
        "\n",
        "$$MSE_{ref} = \\frac{1}{n}\\sum_{i=1}^{n} (y_i - \\bar{y})^2,$$\n",
        "\n",
        "onde $\\bar{y}$ representa a média do vetor $y$.\n",
        "\n",
        "Sendo assim:\n",
        "\n",
        "$$R^2 = 1 - \\frac{MSE_{reg}}{MSE_{ref}}$$"
      ],
      "metadata": {
        "id": "mOxmlPL7Lj7A"
      }
    },
    {
      "cell_type": "code",
      "execution_count": null,
      "source": [
        "# função para cálculo do MSE\r\n",
        "def mse(y_true, y_pred, is_ref = False):\r\n",
        "\r\n",
        "  # mse modelo\r\n",
        "  if is_ref:\r\n",
        "    mse = ((y_true - y_true.mean())**2).mean()\r\n",
        "  else:\r\n",
        "    mse = ((y_true - y_pred)**2).mean()\r\n",
        "\r\n",
        "  return mse"
      ],
      "outputs": [],
      "metadata": {
        "id": "7Wg8zsdmLitv"
      }
    },
    {
      "cell_type": "code",
      "execution_count": null,
      "source": [
        "# função para cálculo do coeficiente de determinação R2\n",
        "def r2(mse_reg, mse_ref):\n",
        "  return 1 - mse_reg/mse_ref"
      ],
      "outputs": [],
      "metadata": {
        "id": "oLm3PiVe_CND"
      }
    },
    {
      "cell_type": "code",
      "execution_count": null,
      "source": [
        "# visualizando y e y_pred\n",
        "print(\"y_true:\", y.ravel())\n",
        "print(\"y_pred:\", y_pred.ravel())"
      ],
      "outputs": [],
      "metadata": {
        "id": "eLE-CsnrOXgs",
        "colab": {
          "base_uri": "https://localhost:8080/",
          "height": 89
        },
        "outputId": "b7729d00-d29d-4e5d-c949-cc527dca15ff"
      }
    },
    {
      "cell_type": "code",
      "execution_count": null,
      "source": [
        "# calculando o mse dos modelos\n",
        "mse_reg = mse(y_true=y, y_pred=y_pred)\n",
        "print(\"MSE do modelo de regressão:\", mse_reg)\n",
        "mse_ref = mse(y_true=y, y_pred=y_pred, is_ref=True)\n",
        "print(\"MSE do modelo de referência:\", mse_ref)"
      ],
      "outputs": [],
      "metadata": {
        "id": "5kSqL55IOH7J",
        "colab": {
          "base_uri": "https://localhost:8080/",
          "height": 53
        },
        "outputId": "3645343e-e197-45e1-b2f9-5100bf9c25dd"
      }
    },
    {
      "cell_type": "code",
      "execution_count": null,
      "source": [
        "# calculando o R2 score\n",
        "r2_score = r2(mse_reg=mse_reg, mse_ref=mse_ref)\n",
        "print(\"Coeficiente R2 do modelo implementado (calculado):\", r2_score)"
      ],
      "outputs": [],
      "metadata": {
        "id": "rqB6OLfFOx_M",
        "colab": {
          "base_uri": "https://localhost:8080/",
          "height": 35
        },
        "outputId": "6483780c-9189-405f-c39b-1badced80a75"
      }
    },
    {
      "cell_type": "code",
      "execution_count": null,
      "source": [
        "# score retornado pelo scikit-learn\n",
        "r2_score_skl = reg.score(x, y)\n",
        "print(\"Coeficiente R2 do modelo implementado (scikit-learn):\", r2_score_skl)"
      ],
      "outputs": [],
      "metadata": {
        "id": "_oX5Ef7IPM6C",
        "colab": {
          "base_uri": "https://localhost:8080/",
          "height": 35
        },
        "outputId": "5508a75f-b1ec-435b-a910-1053b548c14f"
      }
    },
    {
      "cell_type": "code",
      "execution_count": null,
      "source": [],
      "outputs": [],
      "metadata": {
        "id": "jKKAUuKsPvTb"
      }
    }
  ]
}