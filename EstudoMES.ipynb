{
 "cells": [
  {
   "cell_type": "code",
   "execution_count": 1,
   "source": [
    "# importando as bibliotecas\r\n",
    "import pandas as pd\r\n",
    "import plotly.express as px"
   ],
   "outputs": [],
   "metadata": {}
  },
  {
   "cell_type": "code",
   "execution_count": 2,
   "source": [
    "excel_file = pd.ExcelFile(\"C:/Users/odair.colares/Documents/AnalistaDeDados/mes_.xlsx\")\r\n",
    "df = pd.read_excel(excel_file, sheet_name='mes')\r\n",
    "# Renomeando Linhas\r\n",
    "df['Turno'] = df['Turno'].str.replace('1Âº Turno', '1º_Turno')\r\n",
    "df['Turno'] = df['Turno'].str.replace('Fora de', 'Fora de turno')\r\n",
    "df['Turno'] = df['Turno'].str.replace('2Âº Turno', '2º Turno')\r\n",
    "df['Lider'] = df['Lider'].str.replace('filipe carvalho fonseca', 'Filipe Fonseca')\r\n",
    "df['Lider'] = df['Lider'].str.replace('elaine mendes', 'Elaine Mendes')\r\n",
    "df['Lider'] = df['Lider'].str.replace('kaisa carvalho lima', 'Kaisa Lima')\r\n",
    "df['Justificativa'] = df['Justificativa'].str.replace('Em anÃ¡lise', 'Em_análise')\r\n",
    "df['Justificativa'] = df['Justificativa'].str.replace('em anÃ¡lise', 'Em_análise')\r\n",
    "df.head(3)"
   ],
   "outputs": [
    {
     "output_type": "execute_result",
     "data": {
      "text/plain": [
       "         Linha     Turno                    Lider                Data  Semana  \\\n",
       "0  TT LINHA 08  1º_Turno  Haniel Nascimento Moura 2021-08-02 07:21:00      32   \n",
       "1  TT LINHA 08  1º_Turno  Haniel Nascimento Moura 2021-08-02 07:22:00      32   \n",
       "2  TT LINHA 08  1º_Turno  Haniel Nascimento Moura 2021-08-02 07:23:00      32   \n",
       "\n",
       "   Mes           Modelo  Horas Disponiveis  Minutos Disponiveis  \\\n",
       "0    8  7043000000A0005               8.48                508.8   \n",
       "1    8  7043000000A0005               8.48                508.8   \n",
       "2    8  7043000000A0005               8.48                508.8   \n",
       "\n",
       "          Hota Inicio            Hota FIm          Hora Parada  \\\n",
       "0 2021-07-30 07:00:00 2021-08-12 15:56:00  1900-01-13 08:56:00   \n",
       "1 2021-07-30 09:00:00 2021-08-12 15:49:00  1900-01-18 01:44:00   \n",
       "2 2021-07-30 07:00:00 2021-08-12 15:42:00  1900-01-13 08:49:00   \n",
       "\n",
       "   Minutos Parados  Tempo Parado %            Usuario Reparo      Status  \\\n",
       "0            19256          0.3785  Thiago Freitas de Morais  Finalizado   \n",
       "1            26024          0.5115  Thiago Freitas de Morais  Aguardando   \n",
       "2            19249          0.3783  Thiago Freitas de Morais  Finalizado   \n",
       "\n",
       "                                            Problema  \\\n",
       "0  83 - PROBLEMA DE COMUNICAÃ‡ÃƒO ENTRE APP E SIS...   \n",
       "1                     MP01 - REIMPRESSÃƒO \"PC E IMP\"   \n",
       "2  MP18 - S2 PARTE 2 TESTE WNET E SD CARD E VALID...   \n",
       "\n",
       "                         Causa Justificativa  \n",
       "0  126 - ANALISE DA ENGENHARIA           NaN  \n",
       "1                          NaN    Em_análise  \n",
       "2   23 - FALTA DE MATERIAL/KIT    Em_análise  "
      ],
      "text/html": [
       "<div>\n",
       "<style scoped>\n",
       "    .dataframe tbody tr th:only-of-type {\n",
       "        vertical-align: middle;\n",
       "    }\n",
       "\n",
       "    .dataframe tbody tr th {\n",
       "        vertical-align: top;\n",
       "    }\n",
       "\n",
       "    .dataframe thead th {\n",
       "        text-align: right;\n",
       "    }\n",
       "</style>\n",
       "<table border=\"1\" class=\"dataframe\">\n",
       "  <thead>\n",
       "    <tr style=\"text-align: right;\">\n",
       "      <th></th>\n",
       "      <th>Linha</th>\n",
       "      <th>Turno</th>\n",
       "      <th>Lider</th>\n",
       "      <th>Data</th>\n",
       "      <th>Semana</th>\n",
       "      <th>Mes</th>\n",
       "      <th>Modelo</th>\n",
       "      <th>Horas Disponiveis</th>\n",
       "      <th>Minutos Disponiveis</th>\n",
       "      <th>Hota Inicio</th>\n",
       "      <th>Hota FIm</th>\n",
       "      <th>Hora Parada</th>\n",
       "      <th>Minutos Parados</th>\n",
       "      <th>Tempo Parado %</th>\n",
       "      <th>Usuario Reparo</th>\n",
       "      <th>Status</th>\n",
       "      <th>Problema</th>\n",
       "      <th>Causa</th>\n",
       "      <th>Justificativa</th>\n",
       "    </tr>\n",
       "  </thead>\n",
       "  <tbody>\n",
       "    <tr>\n",
       "      <th>0</th>\n",
       "      <td>TT LINHA 08</td>\n",
       "      <td>1º_Turno</td>\n",
       "      <td>Haniel Nascimento Moura</td>\n",
       "      <td>2021-08-02 07:21:00</td>\n",
       "      <td>32</td>\n",
       "      <td>8</td>\n",
       "      <td>7043000000A0005</td>\n",
       "      <td>8.48</td>\n",
       "      <td>508.8</td>\n",
       "      <td>2021-07-30 07:00:00</td>\n",
       "      <td>2021-08-12 15:56:00</td>\n",
       "      <td>1900-01-13 08:56:00</td>\n",
       "      <td>19256</td>\n",
       "      <td>0.3785</td>\n",
       "      <td>Thiago Freitas de Morais</td>\n",
       "      <td>Finalizado</td>\n",
       "      <td>83 - PROBLEMA DE COMUNICAÃ‡ÃƒO ENTRE APP E SIS...</td>\n",
       "      <td>126 - ANALISE DA ENGENHARIA</td>\n",
       "      <td>NaN</td>\n",
       "    </tr>\n",
       "    <tr>\n",
       "      <th>1</th>\n",
       "      <td>TT LINHA 08</td>\n",
       "      <td>1º_Turno</td>\n",
       "      <td>Haniel Nascimento Moura</td>\n",
       "      <td>2021-08-02 07:22:00</td>\n",
       "      <td>32</td>\n",
       "      <td>8</td>\n",
       "      <td>7043000000A0005</td>\n",
       "      <td>8.48</td>\n",
       "      <td>508.8</td>\n",
       "      <td>2021-07-30 09:00:00</td>\n",
       "      <td>2021-08-12 15:49:00</td>\n",
       "      <td>1900-01-18 01:44:00</td>\n",
       "      <td>26024</td>\n",
       "      <td>0.5115</td>\n",
       "      <td>Thiago Freitas de Morais</td>\n",
       "      <td>Aguardando</td>\n",
       "      <td>MP01 - REIMPRESSÃƒO \"PC E IMP\"</td>\n",
       "      <td>NaN</td>\n",
       "      <td>Em_análise</td>\n",
       "    </tr>\n",
       "    <tr>\n",
       "      <th>2</th>\n",
       "      <td>TT LINHA 08</td>\n",
       "      <td>1º_Turno</td>\n",
       "      <td>Haniel Nascimento Moura</td>\n",
       "      <td>2021-08-02 07:23:00</td>\n",
       "      <td>32</td>\n",
       "      <td>8</td>\n",
       "      <td>7043000000A0005</td>\n",
       "      <td>8.48</td>\n",
       "      <td>508.8</td>\n",
       "      <td>2021-07-30 07:00:00</td>\n",
       "      <td>2021-08-12 15:42:00</td>\n",
       "      <td>1900-01-13 08:49:00</td>\n",
       "      <td>19249</td>\n",
       "      <td>0.3783</td>\n",
       "      <td>Thiago Freitas de Morais</td>\n",
       "      <td>Finalizado</td>\n",
       "      <td>MP18 - S2 PARTE 2 TESTE WNET E SD CARD E VALID...</td>\n",
       "      <td>23 - FALTA DE MATERIAL/KIT</td>\n",
       "      <td>Em_análise</td>\n",
       "    </tr>\n",
       "  </tbody>\n",
       "</table>\n",
       "</div>"
      ]
     },
     "metadata": {},
     "execution_count": 2
    }
   ],
   "metadata": {}
  },
  {
   "cell_type": "code",
   "execution_count": 18,
   "source": [
    "df['Lider'].value_counts()"
   ],
   "outputs": [
    {
     "output_type": "execute_result",
     "data": {
      "text/plain": [
       "Haniel Nascimento Moura            46\n",
       "Jomara Almeida dos Santos          16\n",
       "Filipe Fonseca                      6\n",
       "Ery Rool Tourinho                   5\n",
       "Eduardo de Castro Marinho           3\n",
       "Elaine Mendes                       2\n",
       "Kaisa Lima                          2\n",
       "Maria Socorro Ribeiro Rodrigues     1\n",
       "Name: Lider, dtype: int64"
      ]
     },
     "metadata": {},
     "execution_count": 18
    }
   ],
   "metadata": {}
  },
  {
   "cell_type": "code",
   "execution_count": 16,
   "source": [
    "df.groupby('Lider' ,sort=False).agg({'Status': df.value_counts}).reset_index()"
   ],
   "outputs": [
    {
     "output_type": "execute_result",
     "data": {
      "text/plain": [
       "                             Lider       Status\n",
       "0          Haniel Nascimento Moura  [28, 16, 2]\n",
       "1                   Filipe Fonseca       [5, 1]\n",
       "2                    Elaine Mendes            2\n",
       "3        Eduardo de Castro Marinho            3\n",
       "4        Jomara Almeida dos Santos      [15, 1]\n",
       "5                Ery Rool Tourinho            5\n",
       "6                       Kaisa Lima       [1, 1]\n",
       "7  Maria Socorro Ribeiro Rodrigues            1"
      ],
      "text/html": [
       "<div>\n",
       "<style scoped>\n",
       "    .dataframe tbody tr th:only-of-type {\n",
       "        vertical-align: middle;\n",
       "    }\n",
       "\n",
       "    .dataframe tbody tr th {\n",
       "        vertical-align: top;\n",
       "    }\n",
       "\n",
       "    .dataframe thead th {\n",
       "        text-align: right;\n",
       "    }\n",
       "</style>\n",
       "<table border=\"1\" class=\"dataframe\">\n",
       "  <thead>\n",
       "    <tr style=\"text-align: right;\">\n",
       "      <th></th>\n",
       "      <th>Lider</th>\n",
       "      <th>Status</th>\n",
       "    </tr>\n",
       "  </thead>\n",
       "  <tbody>\n",
       "    <tr>\n",
       "      <th>0</th>\n",
       "      <td>Haniel Nascimento Moura</td>\n",
       "      <td>[28, 16, 2]</td>\n",
       "    </tr>\n",
       "    <tr>\n",
       "      <th>1</th>\n",
       "      <td>Filipe Fonseca</td>\n",
       "      <td>[5, 1]</td>\n",
       "    </tr>\n",
       "    <tr>\n",
       "      <th>2</th>\n",
       "      <td>Elaine Mendes</td>\n",
       "      <td>2</td>\n",
       "    </tr>\n",
       "    <tr>\n",
       "      <th>3</th>\n",
       "      <td>Eduardo de Castro Marinho</td>\n",
       "      <td>3</td>\n",
       "    </tr>\n",
       "    <tr>\n",
       "      <th>4</th>\n",
       "      <td>Jomara Almeida dos Santos</td>\n",
       "      <td>[15, 1]</td>\n",
       "    </tr>\n",
       "    <tr>\n",
       "      <th>5</th>\n",
       "      <td>Ery Rool Tourinho</td>\n",
       "      <td>5</td>\n",
       "    </tr>\n",
       "    <tr>\n",
       "      <th>6</th>\n",
       "      <td>Kaisa Lima</td>\n",
       "      <td>[1, 1]</td>\n",
       "    </tr>\n",
       "    <tr>\n",
       "      <th>7</th>\n",
       "      <td>Maria Socorro Ribeiro Rodrigues</td>\n",
       "      <td>1</td>\n",
       "    </tr>\n",
       "  </tbody>\n",
       "</table>\n",
       "</div>"
      ]
     },
     "metadata": {},
     "execution_count": 16
    }
   ],
   "metadata": {}
  },
  {
   "cell_type": "code",
   "execution_count": 22,
   "source": [
    "# Maior numero de chamado finalizados\r\n",
    "df[df.Status == 'Aguardando'].groupby(['Lider']).count().sort_values(['Status'], ascending=False).loc[:, 'Status'].reset_index()\r\n",
    "#px.bar(df2, x='Lider', y='Status')"
   ],
   "outputs": [
    {
     "output_type": "execute_result",
     "data": {
      "text/plain": [
       "Empty DataFrame\n",
       "Columns: [Lider, Status]\n",
       "Index: []"
      ],
      "text/html": [
       "<div>\n",
       "<style scoped>\n",
       "    .dataframe tbody tr th:only-of-type {\n",
       "        vertical-align: middle;\n",
       "    }\n",
       "\n",
       "    .dataframe tbody tr th {\n",
       "        vertical-align: top;\n",
       "    }\n",
       "\n",
       "    .dataframe thead th {\n",
       "        text-align: right;\n",
       "    }\n",
       "</style>\n",
       "<table border=\"1\" class=\"dataframe\">\n",
       "  <thead>\n",
       "    <tr style=\"text-align: right;\">\n",
       "      <th></th>\n",
       "      <th>Lider</th>\n",
       "      <th>Status</th>\n",
       "    </tr>\n",
       "  </thead>\n",
       "  <tbody>\n",
       "  </tbody>\n",
       "</table>\n",
       "</div>"
      ]
     },
     "metadata": {},
     "execution_count": 22
    }
   ],
   "metadata": {}
  },
  {
   "cell_type": "code",
   "execution_count": null,
   "source": [
    "# Maiores tempos com linha paradas\r\n",
    "df2 = df.groupby('Lider', sort= False).mean().reset_index()\r\n",
    "px.bar(df2, x='Lider', y='Tempo Parado %')"
   ],
   "outputs": [],
   "metadata": {}
  },
  {
   "cell_type": "code",
   "execution_count": null,
   "source": [
    "df2 = df.groupby('Lider', sort= False).mean().reset_index()\r\n",
    "df2.head(7)"
   ],
   "outputs": [],
   "metadata": {}
  },
  {
   "cell_type": "code",
   "execution_count": null,
   "source": [
    "# Maior turno com abertura de chamados\r\n",
    "df[df.Turno == '1º_Turno'].groupby(['Lider']).count().loc[:, ['Status']].sort_values('Status', ascending=False).plot.bar()"
   ],
   "outputs": [],
   "metadata": {}
  }
 ],
 "metadata": {
  "orig_nbformat": 4,
  "language_info": {
   "name": "python",
   "version": "3.8.6",
   "mimetype": "text/x-python",
   "codemirror_mode": {
    "name": "ipython",
    "version": 3
   },
   "pygments_lexer": "ipython3",
   "nbconvert_exporter": "python",
   "file_extension": ".py"
  },
  "kernelspec": {
   "name": "python3",
   "display_name": "Python 3.8.6 64-bit"
  },
  "interpreter": {
   "hash": "1baa965d5efe3ac65b79dfc60c0d706280b1da80fedb7760faf2759126c4f253"
  }
 },
 "nbformat": 4,
 "nbformat_minor": 2
}