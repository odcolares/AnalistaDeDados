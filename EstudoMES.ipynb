{
 "cells": [
  {
   "cell_type": "code",
   "execution_count": 1,
   "source": [
    "# importando as bibliotecas\r\n",
    "import pandas as pd\r\n",
    "import plotly.express as px"
   ],
   "outputs": [],
   "metadata": {}
  },
  {
   "cell_type": "code",
   "execution_count": 2,
   "source": [
    "excel_file = pd.ExcelFile(\"C:/Users/odair.colares/Documents/AnalistaDeDados/mes_.xlsx\")\r\n",
    "df = pd.read_excel(excel_file, sheet_name='mes')\r\n",
    "# Renomeando Linhas\r\n",
    "df['Turno'] = df['Turno'].str.replace('1Âº Turno', '1º_Turno')\r\n",
    "df['Turno'] = df['Turno'].str.replace('Fora de', 'Fora de turno')\r\n",
    "df['Turno'] = df['Turno'].str.replace('2Âº Turno', '2º Turno')\r\n",
    "df['Lider'] = df['Lider'].str.replace('filipe carvalho fonseca', 'Filipe Fonseca')\r\n",
    "df['Lider'] = df['Lider'].str.replace('elaine mendes', 'Elaine Mendes')\r\n",
    "df['Lider'] = df['Lider'].str.replace('kaisa carvalho lima', 'Kaisa Lima')\r\n",
    "df['Justificativa'] = df['Justificativa'].str.replace('Em anÃ¡lise', 'Em_análise')\r\n",
    "df['Justificativa'] = df['Justificativa'].str.replace('em anÃ¡lise', 'Em_análise')\r\n",
    "df.head(3)"
   ],
   "outputs": [
    {
     "output_type": "execute_result",
     "data": {
      "text/plain": [
       "         Linha     Turno                    Lider                Data  Semana  \\\n",
       "0  TT LINHA 08  1º_Turno  Haniel Nascimento Moura 2021-08-02 07:21:00      32   \n",
       "1  TT LINHA 08  1º_Turno  Haniel Nascimento Moura 2021-08-02 07:22:00      32   \n",
       "2  TT LINHA 08  1º_Turno  Haniel Nascimento Moura 2021-08-02 07:23:00      32   \n",
       "\n",
       "   Mes           Modelo  Horas Disponiveis  Minutos Disponiveis  \\\n",
       "0    8  7043000000A0005               8.48                508.8   \n",
       "1    8  7043000000A0005               8.48                508.8   \n",
       "2    8  7043000000A0005               8.48                508.8   \n",
       "\n",
       "          Hota Inicio            Hota FIm          Hora Parada  \\\n",
       "0 2021-07-30 07:00:00 2021-08-12 15:56:00  1900-01-13 08:56:00   \n",
       "1 2021-07-30 09:00:00 2021-08-12 15:49:00  1900-01-18 01:44:00   \n",
       "2 2021-07-30 07:00:00 2021-08-12 15:42:00  1900-01-13 08:49:00   \n",
       "\n",
       "   Minutos Parados  Tempo Parado %            Usuario Reparo      Status  \\\n",
       "0            19256          0.3785  Thiago Freitas de Morais  Finalizado   \n",
       "1            26024          0.5115  Thiago Freitas de Morais  Aguardando   \n",
       "2            19249          0.3783  Thiago Freitas de Morais  Finalizado   \n",
       "\n",
       "                                            Problema  \\\n",
       "0  83 - PROBLEMA DE COMUNICAÃ‡ÃƒO ENTRE APP E SIS...   \n",
       "1                     MP01 - REIMPRESSÃƒO \"PC E IMP\"   \n",
       "2  MP18 - S2 PARTE 2 TESTE WNET E SD CARD E VALID...   \n",
       "\n",
       "                         Causa Justificativa  \n",
       "0  126 - ANALISE DA ENGENHARIA           NaN  \n",
       "1                          NaN    Em_análise  \n",
       "2   23 - FALTA DE MATERIAL/KIT    Em_análise  "
      ],
      "text/html": [
       "<div>\n",
       "<style scoped>\n",
       "    .dataframe tbody tr th:only-of-type {\n",
       "        vertical-align: middle;\n",
       "    }\n",
       "\n",
       "    .dataframe tbody tr th {\n",
       "        vertical-align: top;\n",
       "    }\n",
       "\n",
       "    .dataframe thead th {\n",
       "        text-align: right;\n",
       "    }\n",
       "</style>\n",
       "<table border=\"1\" class=\"dataframe\">\n",
       "  <thead>\n",
       "    <tr style=\"text-align: right;\">\n",
       "      <th></th>\n",
       "      <th>Linha</th>\n",
       "      <th>Turno</th>\n",
       "      <th>Lider</th>\n",
       "      <th>Data</th>\n",
       "      <th>Semana</th>\n",
       "      <th>Mes</th>\n",
       "      <th>Modelo</th>\n",
       "      <th>Horas Disponiveis</th>\n",
       "      <th>Minutos Disponiveis</th>\n",
       "      <th>Hota Inicio</th>\n",
       "      <th>Hota FIm</th>\n",
       "      <th>Hora Parada</th>\n",
       "      <th>Minutos Parados</th>\n",
       "      <th>Tempo Parado %</th>\n",
       "      <th>Usuario Reparo</th>\n",
       "      <th>Status</th>\n",
       "      <th>Problema</th>\n",
       "      <th>Causa</th>\n",
       "      <th>Justificativa</th>\n",
       "    </tr>\n",
       "  </thead>\n",
       "  <tbody>\n",
       "    <tr>\n",
       "      <th>0</th>\n",
       "      <td>TT LINHA 08</td>\n",
       "      <td>1º_Turno</td>\n",
       "      <td>Haniel Nascimento Moura</td>\n",
       "      <td>2021-08-02 07:21:00</td>\n",
       "      <td>32</td>\n",
       "      <td>8</td>\n",
       "      <td>7043000000A0005</td>\n",
       "      <td>8.48</td>\n",
       "      <td>508.8</td>\n",
       "      <td>2021-07-30 07:00:00</td>\n",
       "      <td>2021-08-12 15:56:00</td>\n",
       "      <td>1900-01-13 08:56:00</td>\n",
       "      <td>19256</td>\n",
       "      <td>0.3785</td>\n",
       "      <td>Thiago Freitas de Morais</td>\n",
       "      <td>Finalizado</td>\n",
       "      <td>83 - PROBLEMA DE COMUNICAÃ‡ÃƒO ENTRE APP E SIS...</td>\n",
       "      <td>126 - ANALISE DA ENGENHARIA</td>\n",
       "      <td>NaN</td>\n",
       "    </tr>\n",
       "    <tr>\n",
       "      <th>1</th>\n",
       "      <td>TT LINHA 08</td>\n",
       "      <td>1º_Turno</td>\n",
       "      <td>Haniel Nascimento Moura</td>\n",
       "      <td>2021-08-02 07:22:00</td>\n",
       "      <td>32</td>\n",
       "      <td>8</td>\n",
       "      <td>7043000000A0005</td>\n",
       "      <td>8.48</td>\n",
       "      <td>508.8</td>\n",
       "      <td>2021-07-30 09:00:00</td>\n",
       "      <td>2021-08-12 15:49:00</td>\n",
       "      <td>1900-01-18 01:44:00</td>\n",
       "      <td>26024</td>\n",
       "      <td>0.5115</td>\n",
       "      <td>Thiago Freitas de Morais</td>\n",
       "      <td>Aguardando</td>\n",
       "      <td>MP01 - REIMPRESSÃƒO \"PC E IMP\"</td>\n",
       "      <td>NaN</td>\n",
       "      <td>Em_análise</td>\n",
       "    </tr>\n",
       "    <tr>\n",
       "      <th>2</th>\n",
       "      <td>TT LINHA 08</td>\n",
       "      <td>1º_Turno</td>\n",
       "      <td>Haniel Nascimento Moura</td>\n",
       "      <td>2021-08-02 07:23:00</td>\n",
       "      <td>32</td>\n",
       "      <td>8</td>\n",
       "      <td>7043000000A0005</td>\n",
       "      <td>8.48</td>\n",
       "      <td>508.8</td>\n",
       "      <td>2021-07-30 07:00:00</td>\n",
       "      <td>2021-08-12 15:42:00</td>\n",
       "      <td>1900-01-13 08:49:00</td>\n",
       "      <td>19249</td>\n",
       "      <td>0.3783</td>\n",
       "      <td>Thiago Freitas de Morais</td>\n",
       "      <td>Finalizado</td>\n",
       "      <td>MP18 - S2 PARTE 2 TESTE WNET E SD CARD E VALID...</td>\n",
       "      <td>23 - FALTA DE MATERIAL/KIT</td>\n",
       "      <td>Em_análise</td>\n",
       "    </tr>\n",
       "  </tbody>\n",
       "</table>\n",
       "</div>"
      ]
     },
     "metadata": {},
     "execution_count": 2
    }
   ],
   "metadata": {}
  },
  {
   "cell_type": "code",
   "execution_count": 37,
   "source": [
    "#df.loc[:,['Data', 'Modelo']]\r\n",
    "#df.loc[:, 'Lider':'Modelo']\r\n",
    "#df.loc[:, ['temperatura', 'classification']]\r\n",
    "df[(df.Lider == 'Haniel Nascimento Moura') | (df.Lider == 'Filipe Fonseca')].loc[:, 'Data':'Hota Inicio'].head()"
   ],
   "outputs": [
    {
     "output_type": "execute_result",
     "data": {
      "text/plain": [
       "                 Data  Semana  Mes           Modelo  Horas Disponiveis  \\\n",
       "0 2021-08-02 07:21:00      32    8  7043000000A0005               8.48   \n",
       "1 2021-08-02 07:22:00      32    8  7043000000A0005               8.48   \n",
       "2 2021-08-02 07:23:00      32    8  7043000000A0005               8.48   \n",
       "3 2021-08-02 07:24:00      32    8  7043000000A0005               8.48   \n",
       "4 2021-08-02 07:25:00      32    8  7043000000A0005               8.48   \n",
       "\n",
       "   Minutos Disponiveis         Hota Inicio  \n",
       "0                508.8 2021-07-30 07:00:00  \n",
       "1                508.8 2021-07-30 09:00:00  \n",
       "2                508.8 2021-07-30 07:00:00  \n",
       "3                508.8 2021-07-30 13:00:00  \n",
       "4                508.8 2021-07-30 07:00:00  "
      ],
      "text/html": [
       "<div>\n",
       "<style scoped>\n",
       "    .dataframe tbody tr th:only-of-type {\n",
       "        vertical-align: middle;\n",
       "    }\n",
       "\n",
       "    .dataframe tbody tr th {\n",
       "        vertical-align: top;\n",
       "    }\n",
       "\n",
       "    .dataframe thead th {\n",
       "        text-align: right;\n",
       "    }\n",
       "</style>\n",
       "<table border=\"1\" class=\"dataframe\">\n",
       "  <thead>\n",
       "    <tr style=\"text-align: right;\">\n",
       "      <th></th>\n",
       "      <th>Data</th>\n",
       "      <th>Semana</th>\n",
       "      <th>Mes</th>\n",
       "      <th>Modelo</th>\n",
       "      <th>Horas Disponiveis</th>\n",
       "      <th>Minutos Disponiveis</th>\n",
       "      <th>Hota Inicio</th>\n",
       "    </tr>\n",
       "  </thead>\n",
       "  <tbody>\n",
       "    <tr>\n",
       "      <th>0</th>\n",
       "      <td>2021-08-02 07:21:00</td>\n",
       "      <td>32</td>\n",
       "      <td>8</td>\n",
       "      <td>7043000000A0005</td>\n",
       "      <td>8.48</td>\n",
       "      <td>508.8</td>\n",
       "      <td>2021-07-30 07:00:00</td>\n",
       "    </tr>\n",
       "    <tr>\n",
       "      <th>1</th>\n",
       "      <td>2021-08-02 07:22:00</td>\n",
       "      <td>32</td>\n",
       "      <td>8</td>\n",
       "      <td>7043000000A0005</td>\n",
       "      <td>8.48</td>\n",
       "      <td>508.8</td>\n",
       "      <td>2021-07-30 09:00:00</td>\n",
       "    </tr>\n",
       "    <tr>\n",
       "      <th>2</th>\n",
       "      <td>2021-08-02 07:23:00</td>\n",
       "      <td>32</td>\n",
       "      <td>8</td>\n",
       "      <td>7043000000A0005</td>\n",
       "      <td>8.48</td>\n",
       "      <td>508.8</td>\n",
       "      <td>2021-07-30 07:00:00</td>\n",
       "    </tr>\n",
       "    <tr>\n",
       "      <th>3</th>\n",
       "      <td>2021-08-02 07:24:00</td>\n",
       "      <td>32</td>\n",
       "      <td>8</td>\n",
       "      <td>7043000000A0005</td>\n",
       "      <td>8.48</td>\n",
       "      <td>508.8</td>\n",
       "      <td>2021-07-30 13:00:00</td>\n",
       "    </tr>\n",
       "    <tr>\n",
       "      <th>4</th>\n",
       "      <td>2021-08-02 07:25:00</td>\n",
       "      <td>32</td>\n",
       "      <td>8</td>\n",
       "      <td>7043000000A0005</td>\n",
       "      <td>8.48</td>\n",
       "      <td>508.8</td>\n",
       "      <td>2021-07-30 07:00:00</td>\n",
       "    </tr>\n",
       "  </tbody>\n",
       "</table>\n",
       "</div>"
      ]
     },
     "metadata": {},
     "execution_count": 37
    }
   ],
   "metadata": {}
  },
  {
   "cell_type": "code",
   "execution_count": null,
   "source": [
    "df.groupby('Lider' ,sort=False).agg({'Status': df.value_counts}).reset_index()"
   ],
   "outputs": [],
   "metadata": {}
  },
  {
   "cell_type": "code",
   "execution_count": null,
   "source": [
    "# Maior numero de chamado finalizados\r\n",
    "df[df.Status == 'Aguardando'].groupby(['Lider']).count().sort_values(['Status'], ascending=False).loc[:, 'Status'].reset_index()\r\n",
    "#px.bar(df2, x='Lider', y='Status')"
   ],
   "outputs": [],
   "metadata": {}
  },
  {
   "cell_type": "code",
   "execution_count": null,
   "source": [
    "# Maiores tempos com linha paradas\r\n",
    "df2 = df.groupby('Lider', sort= False).mean().reset_index()\r\n",
    "px.bar(df2, x='Lider', y='Tempo Parado %')"
   ],
   "outputs": [],
   "metadata": {}
  },
  {
   "cell_type": "code",
   "execution_count": null,
   "source": [
    "df2 = df.groupby('Lider', sort= False).mean().reset_index()\r\n",
    "df2.head(7)"
   ],
   "outputs": [],
   "metadata": {}
  },
  {
   "cell_type": "code",
   "execution_count": 19,
   "source": [
    "# Maior turno com abertura de chamados\r\n",
    "df[df.Turno == '1º_Turno'].groupby(['Lider']).count().loc[:, ['Status']].sort_values('Status', ascending=False).plot.bar()"
   ],
   "outputs": [
    {
     "output_type": "execute_result",
     "data": {
      "text/plain": [
       "<AxesSubplot:xlabel='Lider'>"
      ]
     },
     "metadata": {},
     "execution_count": 19
    },
    {
     "output_type": "display_data",
     "data": {
      "text/plain": [
       "<Figure size 432x288 with 1 Axes>"
      ],
      "image/svg+xml": "<?xml version=\"1.0\" encoding=\"utf-8\" standalone=\"no\"?>\r\n<!DOCTYPE svg PUBLIC \"-//W3C//DTD SVG 1.1//EN\"\r\n  \"http://www.w3.org/Graphics/SVG/1.1/DTD/svg11.dtd\">\r\n<svg height=\"412.765pt\" version=\"1.1\" viewBox=\"0 0 368.925 412.765\" width=\"368.925pt\" xmlns=\"http://www.w3.org/2000/svg\" xmlns:xlink=\"http://www.w3.org/1999/xlink\">\r\n <metadata>\r\n  <rdf:RDF xmlns:cc=\"http://creativecommons.org/ns#\" xmlns:dc=\"http://purl.org/dc/elements/1.1/\" xmlns:rdf=\"http://www.w3.org/1999/02/22-rdf-syntax-ns#\">\r\n   <cc:Work>\r\n    <dc:type rdf:resource=\"http://purl.org/dc/dcmitype/StillImage\"/>\r\n    <dc:date>2021-09-24T11:57:22.028455</dc:date>\r\n    <dc:format>image/svg+xml</dc:format>\r\n    <dc:creator>\r\n     <cc:Agent>\r\n      <dc:title>Matplotlib v3.4.3, https://matplotlib.org/</dc:title>\r\n     </cc:Agent>\r\n    </dc:creator>\r\n   </cc:Work>\r\n  </rdf:RDF>\r\n </metadata>\r\n <defs>\r\n  <style type=\"text/css\">*{stroke-linecap:butt;stroke-linejoin:round;}</style>\r\n </defs>\r\n <g id=\"figure_1\">\r\n  <g id=\"patch_1\">\r\n   <path d=\"M -0 412.765 \r\nL 368.925 412.765 \r\nL 368.925 0 \r\nL -0 0 \r\nz\r\n\"/>\r\n  </g>\r\n  <g id=\"axes_1\">\r\n   <g id=\"patch_2\">\r\n    <path d=\"M 26.925 224.64 \r\nL 361.725 224.64 \r\nL 361.725 7.2 \r\nL 26.925 7.2 \r\nz\r\n\"/>\r\n   </g>\r\n   <g id=\"patch_3\">\r\n    <path clip-path=\"url(#p6ee4907c49)\" d=\"M 38.882143 224.64 \r\nL 62.796429 224.64 \r\nL 62.796429 17.554286 \r\nL 38.882143 17.554286 \r\nz\r\n\" style=\"fill:#8dd3c7;\"/>\r\n   </g>\r\n   <g id=\"patch_4\">\r\n    <path clip-path=\"url(#p6ee4907c49)\" d=\"M 86.710714 224.64 \r\nL 110.625 224.64 \r\nL 110.625 152.610186 \r\nL 86.710714 152.610186 \r\nz\r\n\" style=\"fill:#8dd3c7;\"/>\r\n   </g>\r\n   <g id=\"patch_5\">\r\n    <path clip-path=\"url(#p6ee4907c49)\" d=\"M 134.539286 224.64 \r\nL 158.453571 224.64 \r\nL 158.453571 197.62882 \r\nL 134.539286 197.62882 \r\nz\r\n\" style=\"fill:#8dd3c7;\"/>\r\n   </g>\r\n   <g id=\"patch_6\">\r\n    <path clip-path=\"url(#p6ee4907c49)\" d=\"M 182.367857 224.64 \r\nL 206.282143 224.64 \r\nL 206.282143 211.13441 \r\nL 182.367857 211.13441 \r\nz\r\n\" style=\"fill:#8dd3c7;\"/>\r\n   </g>\r\n   <g id=\"patch_7\">\r\n    <path clip-path=\"url(#p6ee4907c49)\" d=\"M 230.196429 224.64 \r\nL 254.110714 224.64 \r\nL 254.110714 215.636273 \r\nL 230.196429 215.636273 \r\nz\r\n\" style=\"fill:#8dd3c7;\"/>\r\n   </g>\r\n   <g id=\"patch_8\">\r\n    <path clip-path=\"url(#p6ee4907c49)\" d=\"M 278.025 224.64 \r\nL 301.939286 224.64 \r\nL 301.939286 215.636273 \r\nL 278.025 215.636273 \r\nz\r\n\" style=\"fill:#8dd3c7;\"/>\r\n   </g>\r\n   <g id=\"patch_9\">\r\n    <path clip-path=\"url(#p6ee4907c49)\" d=\"M 325.853571 224.64 \r\nL 349.767857 224.64 \r\nL 349.767857 220.138137 \r\nL 325.853571 220.138137 \r\nz\r\n\" style=\"fill:#8dd3c7;\"/>\r\n   </g>\r\n   <g id=\"matplotlib.axis_1\">\r\n    <g id=\"xtick_1\">\r\n     <g id=\"line2d_1\">\r\n      <defs>\r\n       <path d=\"M 0 0 \r\nL 0 3.5 \r\n\" id=\"md7b22fd570\" style=\"stroke:#ffffff;stroke-width:0.8;\"/>\r\n      </defs>\r\n      <g>\r\n       <use style=\"fill:#ffffff;stroke:#ffffff;stroke-width:0.8;\" x=\"50.839286\" xlink:href=\"#md7b22fd570\" y=\"224.64\"/>\r\n      </g>\r\n     </g>\r\n     <g id=\"text_1\">\r\n      <!-- Haniel Nascimento Moura -->\r\n      <g style=\"fill:#ffffff;\" transform=\"translate(53.598661 360.380625)rotate(-90)scale(0.1 -0.1)\">\r\n       <defs>\r\n        <path d=\"M 628 4666 \r\nL 1259 4666 \r\nL 1259 2753 \r\nL 3553 2753 \r\nL 3553 4666 \r\nL 4184 4666 \r\nL 4184 0 \r\nL 3553 0 \r\nL 3553 2222 \r\nL 1259 2222 \r\nL 1259 0 \r\nL 628 0 \r\nL 628 4666 \r\nz\r\n\" id=\"DejaVuSans-48\" transform=\"scale(0.015625)\"/>\r\n        <path d=\"M 2194 1759 \r\nQ 1497 1759 1228 1600 \r\nQ 959 1441 959 1056 \r\nQ 959 750 1161 570 \r\nQ 1363 391 1709 391 \r\nQ 2188 391 2477 730 \r\nQ 2766 1069 2766 1631 \r\nL 2766 1759 \r\nL 2194 1759 \r\nz\r\nM 3341 1997 \r\nL 3341 0 \r\nL 2766 0 \r\nL 2766 531 \r\nQ 2569 213 2275 61 \r\nQ 1981 -91 1556 -91 \r\nQ 1019 -91 701 211 \r\nQ 384 513 384 1019 \r\nQ 384 1609 779 1909 \r\nQ 1175 2209 1959 2209 \r\nL 2766 2209 \r\nL 2766 2266 \r\nQ 2766 2663 2505 2880 \r\nQ 2244 3097 1772 3097 \r\nQ 1472 3097 1187 3025 \r\nQ 903 2953 641 2809 \r\nL 641 3341 \r\nQ 956 3463 1253 3523 \r\nQ 1550 3584 1831 3584 \r\nQ 2591 3584 2966 3190 \r\nQ 3341 2797 3341 1997 \r\nz\r\n\" id=\"DejaVuSans-61\" transform=\"scale(0.015625)\"/>\r\n        <path d=\"M 3513 2113 \r\nL 3513 0 \r\nL 2938 0 \r\nL 2938 2094 \r\nQ 2938 2591 2744 2837 \r\nQ 2550 3084 2163 3084 \r\nQ 1697 3084 1428 2787 \r\nQ 1159 2491 1159 1978 \r\nL 1159 0 \r\nL 581 0 \r\nL 581 3500 \r\nL 1159 3500 \r\nL 1159 2956 \r\nQ 1366 3272 1645 3428 \r\nQ 1925 3584 2291 3584 \r\nQ 2894 3584 3203 3211 \r\nQ 3513 2838 3513 2113 \r\nz\r\n\" id=\"DejaVuSans-6e\" transform=\"scale(0.015625)\"/>\r\n        <path d=\"M 603 3500 \r\nL 1178 3500 \r\nL 1178 0 \r\nL 603 0 \r\nL 603 3500 \r\nz\r\nM 603 4863 \r\nL 1178 4863 \r\nL 1178 4134 \r\nL 603 4134 \r\nL 603 4863 \r\nz\r\n\" id=\"DejaVuSans-69\" transform=\"scale(0.015625)\"/>\r\n        <path d=\"M 3597 1894 \r\nL 3597 1613 \r\nL 953 1613 \r\nQ 991 1019 1311 708 \r\nQ 1631 397 2203 397 \r\nQ 2534 397 2845 478 \r\nQ 3156 559 3463 722 \r\nL 3463 178 \r\nQ 3153 47 2828 -22 \r\nQ 2503 -91 2169 -91 \r\nQ 1331 -91 842 396 \r\nQ 353 884 353 1716 \r\nQ 353 2575 817 3079 \r\nQ 1281 3584 2069 3584 \r\nQ 2775 3584 3186 3129 \r\nQ 3597 2675 3597 1894 \r\nz\r\nM 3022 2063 \r\nQ 3016 2534 2758 2815 \r\nQ 2500 3097 2075 3097 \r\nQ 1594 3097 1305 2825 \r\nQ 1016 2553 972 2059 \r\nL 3022 2063 \r\nz\r\n\" id=\"DejaVuSans-65\" transform=\"scale(0.015625)\"/>\r\n        <path d=\"M 603 4863 \r\nL 1178 4863 \r\nL 1178 0 \r\nL 603 0 \r\nL 603 4863 \r\nz\r\n\" id=\"DejaVuSans-6c\" transform=\"scale(0.015625)\"/>\r\n        <path id=\"DejaVuSans-20\" transform=\"scale(0.015625)\"/>\r\n        <path d=\"M 628 4666 \r\nL 1478 4666 \r\nL 3547 763 \r\nL 3547 4666 \r\nL 4159 4666 \r\nL 4159 0 \r\nL 3309 0 \r\nL 1241 3903 \r\nL 1241 0 \r\nL 628 0 \r\nL 628 4666 \r\nz\r\n\" id=\"DejaVuSans-4e\" transform=\"scale(0.015625)\"/>\r\n        <path d=\"M 2834 3397 \r\nL 2834 2853 \r\nQ 2591 2978 2328 3040 \r\nQ 2066 3103 1784 3103 \r\nQ 1356 3103 1142 2972 \r\nQ 928 2841 928 2578 \r\nQ 928 2378 1081 2264 \r\nQ 1234 2150 1697 2047 \r\nL 1894 2003 \r\nQ 2506 1872 2764 1633 \r\nQ 3022 1394 3022 966 \r\nQ 3022 478 2636 193 \r\nQ 2250 -91 1575 -91 \r\nQ 1294 -91 989 -36 \r\nQ 684 19 347 128 \r\nL 347 722 \r\nQ 666 556 975 473 \r\nQ 1284 391 1588 391 \r\nQ 1994 391 2212 530 \r\nQ 2431 669 2431 922 \r\nQ 2431 1156 2273 1281 \r\nQ 2116 1406 1581 1522 \r\nL 1381 1569 \r\nQ 847 1681 609 1914 \r\nQ 372 2147 372 2553 \r\nQ 372 3047 722 3315 \r\nQ 1072 3584 1716 3584 \r\nQ 2034 3584 2315 3537 \r\nQ 2597 3491 2834 3397 \r\nz\r\n\" id=\"DejaVuSans-73\" transform=\"scale(0.015625)\"/>\r\n        <path d=\"M 3122 3366 \r\nL 3122 2828 \r\nQ 2878 2963 2633 3030 \r\nQ 2388 3097 2138 3097 \r\nQ 1578 3097 1268 2742 \r\nQ 959 2388 959 1747 \r\nQ 959 1106 1268 751 \r\nQ 1578 397 2138 397 \r\nQ 2388 397 2633 464 \r\nQ 2878 531 3122 666 \r\nL 3122 134 \r\nQ 2881 22 2623 -34 \r\nQ 2366 -91 2075 -91 \r\nQ 1284 -91 818 406 \r\nQ 353 903 353 1747 \r\nQ 353 2603 823 3093 \r\nQ 1294 3584 2113 3584 \r\nQ 2378 3584 2631 3529 \r\nQ 2884 3475 3122 3366 \r\nz\r\n\" id=\"DejaVuSans-63\" transform=\"scale(0.015625)\"/>\r\n        <path d=\"M 3328 2828 \r\nQ 3544 3216 3844 3400 \r\nQ 4144 3584 4550 3584 \r\nQ 5097 3584 5394 3201 \r\nQ 5691 2819 5691 2113 \r\nL 5691 0 \r\nL 5113 0 \r\nL 5113 2094 \r\nQ 5113 2597 4934 2840 \r\nQ 4756 3084 4391 3084 \r\nQ 3944 3084 3684 2787 \r\nQ 3425 2491 3425 1978 \r\nL 3425 0 \r\nL 2847 0 \r\nL 2847 2094 \r\nQ 2847 2600 2669 2842 \r\nQ 2491 3084 2119 3084 \r\nQ 1678 3084 1418 2786 \r\nQ 1159 2488 1159 1978 \r\nL 1159 0 \r\nL 581 0 \r\nL 581 3500 \r\nL 1159 3500 \r\nL 1159 2956 \r\nQ 1356 3278 1631 3431 \r\nQ 1906 3584 2284 3584 \r\nQ 2666 3584 2933 3390 \r\nQ 3200 3197 3328 2828 \r\nz\r\n\" id=\"DejaVuSans-6d\" transform=\"scale(0.015625)\"/>\r\n        <path d=\"M 1172 4494 \r\nL 1172 3500 \r\nL 2356 3500 \r\nL 2356 3053 \r\nL 1172 3053 \r\nL 1172 1153 \r\nQ 1172 725 1289 603 \r\nQ 1406 481 1766 481 \r\nL 2356 481 \r\nL 2356 0 \r\nL 1766 0 \r\nQ 1100 0 847 248 \r\nQ 594 497 594 1153 \r\nL 594 3053 \r\nL 172 3053 \r\nL 172 3500 \r\nL 594 3500 \r\nL 594 4494 \r\nL 1172 4494 \r\nz\r\n\" id=\"DejaVuSans-74\" transform=\"scale(0.015625)\"/>\r\n        <path d=\"M 1959 3097 \r\nQ 1497 3097 1228 2736 \r\nQ 959 2375 959 1747 \r\nQ 959 1119 1226 758 \r\nQ 1494 397 1959 397 \r\nQ 2419 397 2687 759 \r\nQ 2956 1122 2956 1747 \r\nQ 2956 2369 2687 2733 \r\nQ 2419 3097 1959 3097 \r\nz\r\nM 1959 3584 \r\nQ 2709 3584 3137 3096 \r\nQ 3566 2609 3566 1747 \r\nQ 3566 888 3137 398 \r\nQ 2709 -91 1959 -91 \r\nQ 1206 -91 779 398 \r\nQ 353 888 353 1747 \r\nQ 353 2609 779 3096 \r\nQ 1206 3584 1959 3584 \r\nz\r\n\" id=\"DejaVuSans-6f\" transform=\"scale(0.015625)\"/>\r\n        <path d=\"M 628 4666 \r\nL 1569 4666 \r\nL 2759 1491 \r\nL 3956 4666 \r\nL 4897 4666 \r\nL 4897 0 \r\nL 4281 0 \r\nL 4281 4097 \r\nL 3078 897 \r\nL 2444 897 \r\nL 1241 4097 \r\nL 1241 0 \r\nL 628 0 \r\nL 628 4666 \r\nz\r\n\" id=\"DejaVuSans-4d\" transform=\"scale(0.015625)\"/>\r\n        <path d=\"M 544 1381 \r\nL 544 3500 \r\nL 1119 3500 \r\nL 1119 1403 \r\nQ 1119 906 1312 657 \r\nQ 1506 409 1894 409 \r\nQ 2359 409 2629 706 \r\nQ 2900 1003 2900 1516 \r\nL 2900 3500 \r\nL 3475 3500 \r\nL 3475 0 \r\nL 2900 0 \r\nL 2900 538 \r\nQ 2691 219 2414 64 \r\nQ 2138 -91 1772 -91 \r\nQ 1169 -91 856 284 \r\nQ 544 659 544 1381 \r\nz\r\nM 1991 3584 \r\nL 1991 3584 \r\nz\r\n\" id=\"DejaVuSans-75\" transform=\"scale(0.015625)\"/>\r\n        <path d=\"M 2631 2963 \r\nQ 2534 3019 2420 3045 \r\nQ 2306 3072 2169 3072 \r\nQ 1681 3072 1420 2755 \r\nQ 1159 2438 1159 1844 \r\nL 1159 0 \r\nL 581 0 \r\nL 581 3500 \r\nL 1159 3500 \r\nL 1159 2956 \r\nQ 1341 3275 1631 3429 \r\nQ 1922 3584 2338 3584 \r\nQ 2397 3584 2469 3576 \r\nQ 2541 3569 2628 3553 \r\nL 2631 2963 \r\nz\r\n\" id=\"DejaVuSans-72\" transform=\"scale(0.015625)\"/>\r\n       </defs>\r\n       <use xlink:href=\"#DejaVuSans-48\"/>\r\n       <use x=\"75.195312\" xlink:href=\"#DejaVuSans-61\"/>\r\n       <use x=\"136.474609\" xlink:href=\"#DejaVuSans-6e\"/>\r\n       <use x=\"199.853516\" xlink:href=\"#DejaVuSans-69\"/>\r\n       <use x=\"227.636719\" xlink:href=\"#DejaVuSans-65\"/>\r\n       <use x=\"289.160156\" xlink:href=\"#DejaVuSans-6c\"/>\r\n       <use x=\"316.943359\" xlink:href=\"#DejaVuSans-20\"/>\r\n       <use x=\"348.730469\" xlink:href=\"#DejaVuSans-4e\"/>\r\n       <use x=\"423.535156\" xlink:href=\"#DejaVuSans-61\"/>\r\n       <use x=\"484.814453\" xlink:href=\"#DejaVuSans-73\"/>\r\n       <use x=\"536.914062\" xlink:href=\"#DejaVuSans-63\"/>\r\n       <use x=\"591.894531\" xlink:href=\"#DejaVuSans-69\"/>\r\n       <use x=\"619.677734\" xlink:href=\"#DejaVuSans-6d\"/>\r\n       <use x=\"717.089844\" xlink:href=\"#DejaVuSans-65\"/>\r\n       <use x=\"778.613281\" xlink:href=\"#DejaVuSans-6e\"/>\r\n       <use x=\"841.992188\" xlink:href=\"#DejaVuSans-74\"/>\r\n       <use x=\"881.201172\" xlink:href=\"#DejaVuSans-6f\"/>\r\n       <use x=\"942.382812\" xlink:href=\"#DejaVuSans-20\"/>\r\n       <use x=\"974.169922\" xlink:href=\"#DejaVuSans-4d\"/>\r\n       <use x=\"1060.449219\" xlink:href=\"#DejaVuSans-6f\"/>\r\n       <use x=\"1121.630859\" xlink:href=\"#DejaVuSans-75\"/>\r\n       <use x=\"1185.009766\" xlink:href=\"#DejaVuSans-72\"/>\r\n       <use x=\"1226.123047\" xlink:href=\"#DejaVuSans-61\"/>\r\n      </g>\r\n     </g>\r\n    </g>\r\n    <g id=\"xtick_2\">\r\n     <g id=\"line2d_2\">\r\n      <g>\r\n       <use style=\"fill:#ffffff;stroke:#ffffff;stroke-width:0.8;\" x=\"98.667857\" xlink:href=\"#md7b22fd570\" y=\"224.64\"/>\r\n      </g>\r\n     </g>\r\n     <g id=\"text_2\">\r\n      <!-- Jomara Almeida dos Santos -->\r\n      <g style=\"fill:#ffffff;\" transform=\"translate(101.427232 368.857188)rotate(-90)scale(0.1 -0.1)\">\r\n       <defs>\r\n        <path d=\"M 628 4666 \r\nL 1259 4666 \r\nL 1259 325 \r\nQ 1259 -519 939 -900 \r\nQ 619 -1281 -91 -1281 \r\nL -331 -1281 \r\nL -331 -750 \r\nL -134 -750 \r\nQ 284 -750 456 -515 \r\nQ 628 -281 628 325 \r\nL 628 4666 \r\nz\r\n\" id=\"DejaVuSans-4a\" transform=\"scale(0.015625)\"/>\r\n        <path d=\"M 2188 4044 \r\nL 1331 1722 \r\nL 3047 1722 \r\nL 2188 4044 \r\nz\r\nM 1831 4666 \r\nL 2547 4666 \r\nL 4325 0 \r\nL 3669 0 \r\nL 3244 1197 \r\nL 1141 1197 \r\nL 716 0 \r\nL 50 0 \r\nL 1831 4666 \r\nz\r\n\" id=\"DejaVuSans-41\" transform=\"scale(0.015625)\"/>\r\n        <path d=\"M 2906 2969 \r\nL 2906 4863 \r\nL 3481 4863 \r\nL 3481 0 \r\nL 2906 0 \r\nL 2906 525 \r\nQ 2725 213 2448 61 \r\nQ 2172 -91 1784 -91 \r\nQ 1150 -91 751 415 \r\nQ 353 922 353 1747 \r\nQ 353 2572 751 3078 \r\nQ 1150 3584 1784 3584 \r\nQ 2172 3584 2448 3432 \r\nQ 2725 3281 2906 2969 \r\nz\r\nM 947 1747 \r\nQ 947 1113 1208 752 \r\nQ 1469 391 1925 391 \r\nQ 2381 391 2643 752 \r\nQ 2906 1113 2906 1747 \r\nQ 2906 2381 2643 2742 \r\nQ 2381 3103 1925 3103 \r\nQ 1469 3103 1208 2742 \r\nQ 947 2381 947 1747 \r\nz\r\n\" id=\"DejaVuSans-64\" transform=\"scale(0.015625)\"/>\r\n        <path d=\"M 3425 4513 \r\nL 3425 3897 \r\nQ 3066 4069 2747 4153 \r\nQ 2428 4238 2131 4238 \r\nQ 1616 4238 1336 4038 \r\nQ 1056 3838 1056 3469 \r\nQ 1056 3159 1242 3001 \r\nQ 1428 2844 1947 2747 \r\nL 2328 2669 \r\nQ 3034 2534 3370 2195 \r\nQ 3706 1856 3706 1288 \r\nQ 3706 609 3251 259 \r\nQ 2797 -91 1919 -91 \r\nQ 1588 -91 1214 -16 \r\nQ 841 59 441 206 \r\nL 441 856 \r\nQ 825 641 1194 531 \r\nQ 1563 422 1919 422 \r\nQ 2459 422 2753 634 \r\nQ 3047 847 3047 1241 \r\nQ 3047 1584 2836 1778 \r\nQ 2625 1972 2144 2069 \r\nL 1759 2144 \r\nQ 1053 2284 737 2584 \r\nQ 422 2884 422 3419 \r\nQ 422 4038 858 4394 \r\nQ 1294 4750 2059 4750 \r\nQ 2388 4750 2728 4690 \r\nQ 3069 4631 3425 4513 \r\nz\r\n\" id=\"DejaVuSans-53\" transform=\"scale(0.015625)\"/>\r\n       </defs>\r\n       <use xlink:href=\"#DejaVuSans-4a\"/>\r\n       <use x=\"29.492188\" xlink:href=\"#DejaVuSans-6f\"/>\r\n       <use x=\"90.673828\" xlink:href=\"#DejaVuSans-6d\"/>\r\n       <use x=\"188.085938\" xlink:href=\"#DejaVuSans-61\"/>\r\n       <use x=\"249.365234\" xlink:href=\"#DejaVuSans-72\"/>\r\n       <use x=\"290.478516\" xlink:href=\"#DejaVuSans-61\"/>\r\n       <use x=\"351.757812\" xlink:href=\"#DejaVuSans-20\"/>\r\n       <use x=\"383.544922\" xlink:href=\"#DejaVuSans-41\"/>\r\n       <use x=\"451.953125\" xlink:href=\"#DejaVuSans-6c\"/>\r\n       <use x=\"479.736328\" xlink:href=\"#DejaVuSans-6d\"/>\r\n       <use x=\"577.148438\" xlink:href=\"#DejaVuSans-65\"/>\r\n       <use x=\"638.671875\" xlink:href=\"#DejaVuSans-69\"/>\r\n       <use x=\"666.455078\" xlink:href=\"#DejaVuSans-64\"/>\r\n       <use x=\"729.931641\" xlink:href=\"#DejaVuSans-61\"/>\r\n       <use x=\"791.210938\" xlink:href=\"#DejaVuSans-20\"/>\r\n       <use x=\"822.998047\" xlink:href=\"#DejaVuSans-64\"/>\r\n       <use x=\"886.474609\" xlink:href=\"#DejaVuSans-6f\"/>\r\n       <use x=\"947.65625\" xlink:href=\"#DejaVuSans-73\"/>\r\n       <use x=\"999.755859\" xlink:href=\"#DejaVuSans-20\"/>\r\n       <use x=\"1031.542969\" xlink:href=\"#DejaVuSans-53\"/>\r\n       <use x=\"1095.019531\" xlink:href=\"#DejaVuSans-61\"/>\r\n       <use x=\"1156.298828\" xlink:href=\"#DejaVuSans-6e\"/>\r\n       <use x=\"1219.677734\" xlink:href=\"#DejaVuSans-74\"/>\r\n       <use x=\"1258.886719\" xlink:href=\"#DejaVuSans-6f\"/>\r\n       <use x=\"1320.068359\" xlink:href=\"#DejaVuSans-73\"/>\r\n      </g>\r\n     </g>\r\n    </g>\r\n    <g id=\"xtick_3\">\r\n     <g id=\"line2d_3\">\r\n      <g>\r\n       <use style=\"fill:#ffffff;stroke:#ffffff;stroke-width:0.8;\" x=\"146.496429\" xlink:href=\"#md7b22fd570\" y=\"224.64\"/>\r\n      </g>\r\n     </g>\r\n     <g id=\"text_3\">\r\n      <!-- Filipe Fonseca -->\r\n      <g style=\"fill:#ffffff;\" transform=\"translate(149.255804 301.515)rotate(-90)scale(0.1 -0.1)\">\r\n       <defs>\r\n        <path d=\"M 628 4666 \r\nL 3309 4666 \r\nL 3309 4134 \r\nL 1259 4134 \r\nL 1259 2759 \r\nL 3109 2759 \r\nL 3109 2228 \r\nL 1259 2228 \r\nL 1259 0 \r\nL 628 0 \r\nL 628 4666 \r\nz\r\n\" id=\"DejaVuSans-46\" transform=\"scale(0.015625)\"/>\r\n        <path d=\"M 1159 525 \r\nL 1159 -1331 \r\nL 581 -1331 \r\nL 581 3500 \r\nL 1159 3500 \r\nL 1159 2969 \r\nQ 1341 3281 1617 3432 \r\nQ 1894 3584 2278 3584 \r\nQ 2916 3584 3314 3078 \r\nQ 3713 2572 3713 1747 \r\nQ 3713 922 3314 415 \r\nQ 2916 -91 2278 -91 \r\nQ 1894 -91 1617 61 \r\nQ 1341 213 1159 525 \r\nz\r\nM 3116 1747 \r\nQ 3116 2381 2855 2742 \r\nQ 2594 3103 2138 3103 \r\nQ 1681 3103 1420 2742 \r\nQ 1159 2381 1159 1747 \r\nQ 1159 1113 1420 752 \r\nQ 1681 391 2138 391 \r\nQ 2594 391 2855 752 \r\nQ 3116 1113 3116 1747 \r\nz\r\n\" id=\"DejaVuSans-70\" transform=\"scale(0.015625)\"/>\r\n       </defs>\r\n       <use xlink:href=\"#DejaVuSans-46\"/>\r\n       <use x=\"50.269531\" xlink:href=\"#DejaVuSans-69\"/>\r\n       <use x=\"78.052734\" xlink:href=\"#DejaVuSans-6c\"/>\r\n       <use x=\"105.835938\" xlink:href=\"#DejaVuSans-69\"/>\r\n       <use x=\"133.619141\" xlink:href=\"#DejaVuSans-70\"/>\r\n       <use x=\"197.095703\" xlink:href=\"#DejaVuSans-65\"/>\r\n       <use x=\"258.619141\" xlink:href=\"#DejaVuSans-20\"/>\r\n       <use x=\"290.40625\" xlink:href=\"#DejaVuSans-46\"/>\r\n       <use x=\"344.300781\" xlink:href=\"#DejaVuSans-6f\"/>\r\n       <use x=\"405.482422\" xlink:href=\"#DejaVuSans-6e\"/>\r\n       <use x=\"468.861328\" xlink:href=\"#DejaVuSans-73\"/>\r\n       <use x=\"520.960938\" xlink:href=\"#DejaVuSans-65\"/>\r\n       <use x=\"582.484375\" xlink:href=\"#DejaVuSans-63\"/>\r\n       <use x=\"637.464844\" xlink:href=\"#DejaVuSans-61\"/>\r\n      </g>\r\n     </g>\r\n    </g>\r\n    <g id=\"xtick_4\">\r\n     <g id=\"line2d_4\">\r\n      <g>\r\n       <use style=\"fill:#ffffff;stroke:#ffffff;stroke-width:0.8;\" x=\"194.325\" xlink:href=\"#md7b22fd570\" y=\"224.64\"/>\r\n      </g>\r\n     </g>\r\n     <g id=\"text_4\">\r\n      <!-- Eduardo de Castro Marinho -->\r\n      <g style=\"fill:#ffffff;\" transform=\"translate(197.084375 367.89625)rotate(-90)scale(0.1 -0.1)\">\r\n       <defs>\r\n        <path d=\"M 628 4666 \r\nL 3578 4666 \r\nL 3578 4134 \r\nL 1259 4134 \r\nL 1259 2753 \r\nL 3481 2753 \r\nL 3481 2222 \r\nL 1259 2222 \r\nL 1259 531 \r\nL 3634 531 \r\nL 3634 0 \r\nL 628 0 \r\nL 628 4666 \r\nz\r\n\" id=\"DejaVuSans-45\" transform=\"scale(0.015625)\"/>\r\n        <path d=\"M 4122 4306 \r\nL 4122 3641 \r\nQ 3803 3938 3442 4084 \r\nQ 3081 4231 2675 4231 \r\nQ 1875 4231 1450 3742 \r\nQ 1025 3253 1025 2328 \r\nQ 1025 1406 1450 917 \r\nQ 1875 428 2675 428 \r\nQ 3081 428 3442 575 \r\nQ 3803 722 4122 1019 \r\nL 4122 359 \r\nQ 3791 134 3420 21 \r\nQ 3050 -91 2638 -91 \r\nQ 1578 -91 968 557 \r\nQ 359 1206 359 2328 \r\nQ 359 3453 968 4101 \r\nQ 1578 4750 2638 4750 \r\nQ 3056 4750 3426 4639 \r\nQ 3797 4528 4122 4306 \r\nz\r\n\" id=\"DejaVuSans-43\" transform=\"scale(0.015625)\"/>\r\n        <path d=\"M 3513 2113 \r\nL 3513 0 \r\nL 2938 0 \r\nL 2938 2094 \r\nQ 2938 2591 2744 2837 \r\nQ 2550 3084 2163 3084 \r\nQ 1697 3084 1428 2787 \r\nQ 1159 2491 1159 1978 \r\nL 1159 0 \r\nL 581 0 \r\nL 581 4863 \r\nL 1159 4863 \r\nL 1159 2956 \r\nQ 1366 3272 1645 3428 \r\nQ 1925 3584 2291 3584 \r\nQ 2894 3584 3203 3211 \r\nQ 3513 2838 3513 2113 \r\nz\r\n\" id=\"DejaVuSans-68\" transform=\"scale(0.015625)\"/>\r\n       </defs>\r\n       <use xlink:href=\"#DejaVuSans-45\"/>\r\n       <use x=\"63.183594\" xlink:href=\"#DejaVuSans-64\"/>\r\n       <use x=\"126.660156\" xlink:href=\"#DejaVuSans-75\"/>\r\n       <use x=\"190.039062\" xlink:href=\"#DejaVuSans-61\"/>\r\n       <use x=\"251.318359\" xlink:href=\"#DejaVuSans-72\"/>\r\n       <use x=\"290.681641\" xlink:href=\"#DejaVuSans-64\"/>\r\n       <use x=\"354.158203\" xlink:href=\"#DejaVuSans-6f\"/>\r\n       <use x=\"415.339844\" xlink:href=\"#DejaVuSans-20\"/>\r\n       <use x=\"447.126953\" xlink:href=\"#DejaVuSans-64\"/>\r\n       <use x=\"510.603516\" xlink:href=\"#DejaVuSans-65\"/>\r\n       <use x=\"572.126953\" xlink:href=\"#DejaVuSans-20\"/>\r\n       <use x=\"603.914062\" xlink:href=\"#DejaVuSans-43\"/>\r\n       <use x=\"673.738281\" xlink:href=\"#DejaVuSans-61\"/>\r\n       <use x=\"735.017578\" xlink:href=\"#DejaVuSans-73\"/>\r\n       <use x=\"787.117188\" xlink:href=\"#DejaVuSans-74\"/>\r\n       <use x=\"826.326172\" xlink:href=\"#DejaVuSans-72\"/>\r\n       <use x=\"865.189453\" xlink:href=\"#DejaVuSans-6f\"/>\r\n       <use x=\"926.371094\" xlink:href=\"#DejaVuSans-20\"/>\r\n       <use x=\"958.158203\" xlink:href=\"#DejaVuSans-4d\"/>\r\n       <use x=\"1044.4375\" xlink:href=\"#DejaVuSans-61\"/>\r\n       <use x=\"1105.716797\" xlink:href=\"#DejaVuSans-72\"/>\r\n       <use x=\"1146.830078\" xlink:href=\"#DejaVuSans-69\"/>\r\n       <use x=\"1174.613281\" xlink:href=\"#DejaVuSans-6e\"/>\r\n       <use x=\"1237.992188\" xlink:href=\"#DejaVuSans-68\"/>\r\n       <use x=\"1301.371094\" xlink:href=\"#DejaVuSans-6f\"/>\r\n      </g>\r\n     </g>\r\n    </g>\r\n    <g id=\"xtick_5\">\r\n     <g id=\"line2d_5\">\r\n      <g>\r\n       <use style=\"fill:#ffffff;stroke:#ffffff;stroke-width:0.8;\" x=\"242.153571\" xlink:href=\"#md7b22fd570\" y=\"224.64\"/>\r\n      </g>\r\n     </g>\r\n     <g id=\"text_5\">\r\n      <!-- Elaine Mendes -->\r\n      <g style=\"fill:#ffffff;\" transform=\"translate(244.912946 304.141562)rotate(-90)scale(0.1 -0.1)\">\r\n       <use xlink:href=\"#DejaVuSans-45\"/>\r\n       <use x=\"63.183594\" xlink:href=\"#DejaVuSans-6c\"/>\r\n       <use x=\"90.966797\" xlink:href=\"#DejaVuSans-61\"/>\r\n       <use x=\"152.246094\" xlink:href=\"#DejaVuSans-69\"/>\r\n       <use x=\"180.029297\" xlink:href=\"#DejaVuSans-6e\"/>\r\n       <use x=\"243.408203\" xlink:href=\"#DejaVuSans-65\"/>\r\n       <use x=\"304.931641\" xlink:href=\"#DejaVuSans-20\"/>\r\n       <use x=\"336.71875\" xlink:href=\"#DejaVuSans-4d\"/>\r\n       <use x=\"422.998047\" xlink:href=\"#DejaVuSans-65\"/>\r\n       <use x=\"484.521484\" xlink:href=\"#DejaVuSans-6e\"/>\r\n       <use x=\"547.900391\" xlink:href=\"#DejaVuSans-64\"/>\r\n       <use x=\"611.376953\" xlink:href=\"#DejaVuSans-65\"/>\r\n       <use x=\"672.900391\" xlink:href=\"#DejaVuSans-73\"/>\r\n      </g>\r\n     </g>\r\n    </g>\r\n    <g id=\"xtick_6\">\r\n     <g id=\"line2d_6\">\r\n      <g>\r\n       <use style=\"fill:#ffffff;stroke:#ffffff;stroke-width:0.8;\" x=\"289.982143\" xlink:href=\"#md7b22fd570\" y=\"224.64\"/>\r\n      </g>\r\n     </g>\r\n     <g id=\"text_6\">\r\n      <!-- Kaisa Lima -->\r\n      <g style=\"fill:#ffffff;\" transform=\"translate(292.741518 285.663437)rotate(-90)scale(0.1 -0.1)\">\r\n       <defs>\r\n        <path d=\"M 628 4666 \r\nL 1259 4666 \r\nL 1259 2694 \r\nL 3353 4666 \r\nL 4166 4666 \r\nL 1850 2491 \r\nL 4331 0 \r\nL 3500 0 \r\nL 1259 2247 \r\nL 1259 0 \r\nL 628 0 \r\nL 628 4666 \r\nz\r\n\" id=\"DejaVuSans-4b\" transform=\"scale(0.015625)\"/>\r\n        <path d=\"M 628 4666 \r\nL 1259 4666 \r\nL 1259 531 \r\nL 3531 531 \r\nL 3531 0 \r\nL 628 0 \r\nL 628 4666 \r\nz\r\n\" id=\"DejaVuSans-4c\" transform=\"scale(0.015625)\"/>\r\n       </defs>\r\n       <use xlink:href=\"#DejaVuSans-4b\"/>\r\n       <use x=\"63.826172\" xlink:href=\"#DejaVuSans-61\"/>\r\n       <use x=\"125.105469\" xlink:href=\"#DejaVuSans-69\"/>\r\n       <use x=\"152.888672\" xlink:href=\"#DejaVuSans-73\"/>\r\n       <use x=\"204.988281\" xlink:href=\"#DejaVuSans-61\"/>\r\n       <use x=\"266.267578\" xlink:href=\"#DejaVuSans-20\"/>\r\n       <use x=\"298.054688\" xlink:href=\"#DejaVuSans-4c\"/>\r\n       <use x=\"353.767578\" xlink:href=\"#DejaVuSans-69\"/>\r\n       <use x=\"381.550781\" xlink:href=\"#DejaVuSans-6d\"/>\r\n       <use x=\"478.962891\" xlink:href=\"#DejaVuSans-61\"/>\r\n      </g>\r\n     </g>\r\n    </g>\r\n    <g id=\"xtick_7\">\r\n     <g id=\"line2d_7\">\r\n      <g>\r\n       <use style=\"fill:#ffffff;stroke:#ffffff;stroke-width:0.8;\" x=\"337.810714\" xlink:href=\"#md7b22fd570\" y=\"224.64\"/>\r\n      </g>\r\n     </g>\r\n     <g id=\"text_7\">\r\n      <!-- Maria Socorro Ribeiro Rodrigues -->\r\n      <g style=\"fill:#ffffff;\" transform=\"translate(340.570089 391.886875)rotate(-90)scale(0.1 -0.1)\">\r\n       <defs>\r\n        <path d=\"M 2841 2188 \r\nQ 3044 2119 3236 1894 \r\nQ 3428 1669 3622 1275 \r\nL 4263 0 \r\nL 3584 0 \r\nL 2988 1197 \r\nQ 2756 1666 2539 1819 \r\nQ 2322 1972 1947 1972 \r\nL 1259 1972 \r\nL 1259 0 \r\nL 628 0 \r\nL 628 4666 \r\nL 2053 4666 \r\nQ 2853 4666 3247 4331 \r\nQ 3641 3997 3641 3322 \r\nQ 3641 2881 3436 2590 \r\nQ 3231 2300 2841 2188 \r\nz\r\nM 1259 4147 \r\nL 1259 2491 \r\nL 2053 2491 \r\nQ 2509 2491 2742 2702 \r\nQ 2975 2913 2975 3322 \r\nQ 2975 3731 2742 3939 \r\nQ 2509 4147 2053 4147 \r\nL 1259 4147 \r\nz\r\n\" id=\"DejaVuSans-52\" transform=\"scale(0.015625)\"/>\r\n        <path d=\"M 3116 1747 \r\nQ 3116 2381 2855 2742 \r\nQ 2594 3103 2138 3103 \r\nQ 1681 3103 1420 2742 \r\nQ 1159 2381 1159 1747 \r\nQ 1159 1113 1420 752 \r\nQ 1681 391 2138 391 \r\nQ 2594 391 2855 752 \r\nQ 3116 1113 3116 1747 \r\nz\r\nM 1159 2969 \r\nQ 1341 3281 1617 3432 \r\nQ 1894 3584 2278 3584 \r\nQ 2916 3584 3314 3078 \r\nQ 3713 2572 3713 1747 \r\nQ 3713 922 3314 415 \r\nQ 2916 -91 2278 -91 \r\nQ 1894 -91 1617 61 \r\nQ 1341 213 1159 525 \r\nL 1159 0 \r\nL 581 0 \r\nL 581 4863 \r\nL 1159 4863 \r\nL 1159 2969 \r\nz\r\n\" id=\"DejaVuSans-62\" transform=\"scale(0.015625)\"/>\r\n        <path d=\"M 2906 1791 \r\nQ 2906 2416 2648 2759 \r\nQ 2391 3103 1925 3103 \r\nQ 1463 3103 1205 2759 \r\nQ 947 2416 947 1791 \r\nQ 947 1169 1205 825 \r\nQ 1463 481 1925 481 \r\nQ 2391 481 2648 825 \r\nQ 2906 1169 2906 1791 \r\nz\r\nM 3481 434 \r\nQ 3481 -459 3084 -895 \r\nQ 2688 -1331 1869 -1331 \r\nQ 1566 -1331 1297 -1286 \r\nQ 1028 -1241 775 -1147 \r\nL 775 -588 \r\nQ 1028 -725 1275 -790 \r\nQ 1522 -856 1778 -856 \r\nQ 2344 -856 2625 -561 \r\nQ 2906 -266 2906 331 \r\nL 2906 616 \r\nQ 2728 306 2450 153 \r\nQ 2172 0 1784 0 \r\nQ 1141 0 747 490 \r\nQ 353 981 353 1791 \r\nQ 353 2603 747 3093 \r\nQ 1141 3584 1784 3584 \r\nQ 2172 3584 2450 3431 \r\nQ 2728 3278 2906 2969 \r\nL 2906 3500 \r\nL 3481 3500 \r\nL 3481 434 \r\nz\r\n\" id=\"DejaVuSans-67\" transform=\"scale(0.015625)\"/>\r\n       </defs>\r\n       <use xlink:href=\"#DejaVuSans-4d\"/>\r\n       <use x=\"86.279297\" xlink:href=\"#DejaVuSans-61\"/>\r\n       <use x=\"147.558594\" xlink:href=\"#DejaVuSans-72\"/>\r\n       <use x=\"188.671875\" xlink:href=\"#DejaVuSans-69\"/>\r\n       <use x=\"216.455078\" xlink:href=\"#DejaVuSans-61\"/>\r\n       <use x=\"277.734375\" xlink:href=\"#DejaVuSans-20\"/>\r\n       <use x=\"309.521484\" xlink:href=\"#DejaVuSans-53\"/>\r\n       <use x=\"372.998047\" xlink:href=\"#DejaVuSans-6f\"/>\r\n       <use x=\"434.179688\" xlink:href=\"#DejaVuSans-63\"/>\r\n       <use x=\"489.160156\" xlink:href=\"#DejaVuSans-6f\"/>\r\n       <use x=\"550.341797\" xlink:href=\"#DejaVuSans-72\"/>\r\n       <use x=\"589.705078\" xlink:href=\"#DejaVuSans-72\"/>\r\n       <use x=\"628.568359\" xlink:href=\"#DejaVuSans-6f\"/>\r\n       <use x=\"689.75\" xlink:href=\"#DejaVuSans-20\"/>\r\n       <use x=\"721.537109\" xlink:href=\"#DejaVuSans-52\"/>\r\n       <use x=\"791.019531\" xlink:href=\"#DejaVuSans-69\"/>\r\n       <use x=\"818.802734\" xlink:href=\"#DejaVuSans-62\"/>\r\n       <use x=\"882.279297\" xlink:href=\"#DejaVuSans-65\"/>\r\n       <use x=\"943.802734\" xlink:href=\"#DejaVuSans-69\"/>\r\n       <use x=\"971.585938\" xlink:href=\"#DejaVuSans-72\"/>\r\n       <use x=\"1010.449219\" xlink:href=\"#DejaVuSans-6f\"/>\r\n       <use x=\"1071.630859\" xlink:href=\"#DejaVuSans-20\"/>\r\n       <use x=\"1103.417969\" xlink:href=\"#DejaVuSans-52\"/>\r\n       <use x=\"1168.400391\" xlink:href=\"#DejaVuSans-6f\"/>\r\n       <use x=\"1229.582031\" xlink:href=\"#DejaVuSans-64\"/>\r\n       <use x=\"1293.058594\" xlink:href=\"#DejaVuSans-72\"/>\r\n       <use x=\"1334.171875\" xlink:href=\"#DejaVuSans-69\"/>\r\n       <use x=\"1361.955078\" xlink:href=\"#DejaVuSans-67\"/>\r\n       <use x=\"1425.431641\" xlink:href=\"#DejaVuSans-75\"/>\r\n       <use x=\"1488.810547\" xlink:href=\"#DejaVuSans-65\"/>\r\n       <use x=\"1550.333984\" xlink:href=\"#DejaVuSans-73\"/>\r\n      </g>\r\n     </g>\r\n    </g>\r\n    <g id=\"text_8\">\r\n     <!-- Lider -->\r\n     <g style=\"fill:#ffffff;\" transform=\"translate(181.84375 403.485313)scale(0.1 -0.1)\">\r\n      <use xlink:href=\"#DejaVuSans-4c\"/>\r\n      <use x=\"55.712891\" xlink:href=\"#DejaVuSans-69\"/>\r\n      <use x=\"83.496094\" xlink:href=\"#DejaVuSans-64\"/>\r\n      <use x=\"146.972656\" xlink:href=\"#DejaVuSans-65\"/>\r\n      <use x=\"208.496094\" xlink:href=\"#DejaVuSans-72\"/>\r\n     </g>\r\n    </g>\r\n   </g>\r\n   <g id=\"matplotlib.axis_2\">\r\n    <g id=\"ytick_1\">\r\n     <g id=\"line2d_8\">\r\n      <defs>\r\n       <path d=\"M 0 0 \r\nL -3.5 0 \r\n\" id=\"m3997e96901\" style=\"stroke:#ffffff;stroke-width:0.8;\"/>\r\n      </defs>\r\n      <g>\r\n       <use style=\"fill:#ffffff;stroke:#ffffff;stroke-width:0.8;\" x=\"26.925\" xlink:href=\"#m3997e96901\" y=\"224.64\"/>\r\n      </g>\r\n     </g>\r\n     <g id=\"text_9\">\r\n      <!-- 0 -->\r\n      <g style=\"fill:#ffffff;\" transform=\"translate(13.5625 228.439219)scale(0.1 -0.1)\">\r\n       <defs>\r\n        <path d=\"M 2034 4250 \r\nQ 1547 4250 1301 3770 \r\nQ 1056 3291 1056 2328 \r\nQ 1056 1369 1301 889 \r\nQ 1547 409 2034 409 \r\nQ 2525 409 2770 889 \r\nQ 3016 1369 3016 2328 \r\nQ 3016 3291 2770 3770 \r\nQ 2525 4250 2034 4250 \r\nz\r\nM 2034 4750 \r\nQ 2819 4750 3233 4129 \r\nQ 3647 3509 3647 2328 \r\nQ 3647 1150 3233 529 \r\nQ 2819 -91 2034 -91 \r\nQ 1250 -91 836 529 \r\nQ 422 1150 422 2328 \r\nQ 422 3509 836 4129 \r\nQ 1250 4750 2034 4750 \r\nz\r\n\" id=\"DejaVuSans-30\" transform=\"scale(0.015625)\"/>\r\n       </defs>\r\n       <use xlink:href=\"#DejaVuSans-30\"/>\r\n      </g>\r\n     </g>\r\n    </g>\r\n    <g id=\"ytick_2\">\r\n     <g id=\"line2d_9\">\r\n      <g>\r\n       <use style=\"fill:#ffffff;stroke:#ffffff;stroke-width:0.8;\" x=\"26.925\" xlink:href=\"#m3997e96901\" y=\"179.621366\"/>\r\n      </g>\r\n     </g>\r\n     <g id=\"text_10\">\r\n      <!-- 10 -->\r\n      <g style=\"fill:#ffffff;\" transform=\"translate(7.2 183.420585)scale(0.1 -0.1)\">\r\n       <defs>\r\n        <path d=\"M 794 531 \r\nL 1825 531 \r\nL 1825 4091 \r\nL 703 3866 \r\nL 703 4441 \r\nL 1819 4666 \r\nL 2450 4666 \r\nL 2450 531 \r\nL 3481 531 \r\nL 3481 0 \r\nL 794 0 \r\nL 794 531 \r\nz\r\n\" id=\"DejaVuSans-31\" transform=\"scale(0.015625)\"/>\r\n       </defs>\r\n       <use xlink:href=\"#DejaVuSans-31\"/>\r\n       <use x=\"63.623047\" xlink:href=\"#DejaVuSans-30\"/>\r\n      </g>\r\n     </g>\r\n    </g>\r\n    <g id=\"ytick_3\">\r\n     <g id=\"line2d_10\">\r\n      <g>\r\n       <use style=\"fill:#ffffff;stroke:#ffffff;stroke-width:0.8;\" x=\"26.925\" xlink:href=\"#m3997e96901\" y=\"134.602733\"/>\r\n      </g>\r\n     </g>\r\n     <g id=\"text_11\">\r\n      <!-- 20 -->\r\n      <g style=\"fill:#ffffff;\" transform=\"translate(7.2 138.401952)scale(0.1 -0.1)\">\r\n       <defs>\r\n        <path d=\"M 1228 531 \r\nL 3431 531 \r\nL 3431 0 \r\nL 469 0 \r\nL 469 531 \r\nQ 828 903 1448 1529 \r\nQ 2069 2156 2228 2338 \r\nQ 2531 2678 2651 2914 \r\nQ 2772 3150 2772 3378 \r\nQ 2772 3750 2511 3984 \r\nQ 2250 4219 1831 4219 \r\nQ 1534 4219 1204 4116 \r\nQ 875 4013 500 3803 \r\nL 500 4441 \r\nQ 881 4594 1212 4672 \r\nQ 1544 4750 1819 4750 \r\nQ 2544 4750 2975 4387 \r\nQ 3406 4025 3406 3419 \r\nQ 3406 3131 3298 2873 \r\nQ 3191 2616 2906 2266 \r\nQ 2828 2175 2409 1742 \r\nQ 1991 1309 1228 531 \r\nz\r\n\" id=\"DejaVuSans-32\" transform=\"scale(0.015625)\"/>\r\n       </defs>\r\n       <use xlink:href=\"#DejaVuSans-32\"/>\r\n       <use x=\"63.623047\" xlink:href=\"#DejaVuSans-30\"/>\r\n      </g>\r\n     </g>\r\n    </g>\r\n    <g id=\"ytick_4\">\r\n     <g id=\"line2d_11\">\r\n      <g>\r\n       <use style=\"fill:#ffffff;stroke:#ffffff;stroke-width:0.8;\" x=\"26.925\" xlink:href=\"#m3997e96901\" y=\"89.584099\"/>\r\n      </g>\r\n     </g>\r\n     <g id=\"text_12\">\r\n      <!-- 30 -->\r\n      <g style=\"fill:#ffffff;\" transform=\"translate(7.2 93.383318)scale(0.1 -0.1)\">\r\n       <defs>\r\n        <path d=\"M 2597 2516 \r\nQ 3050 2419 3304 2112 \r\nQ 3559 1806 3559 1356 \r\nQ 3559 666 3084 287 \r\nQ 2609 -91 1734 -91 \r\nQ 1441 -91 1130 -33 \r\nQ 819 25 488 141 \r\nL 488 750 \r\nQ 750 597 1062 519 \r\nQ 1375 441 1716 441 \r\nQ 2309 441 2620 675 \r\nQ 2931 909 2931 1356 \r\nQ 2931 1769 2642 2001 \r\nQ 2353 2234 1838 2234 \r\nL 1294 2234 \r\nL 1294 2753 \r\nL 1863 2753 \r\nQ 2328 2753 2575 2939 \r\nQ 2822 3125 2822 3475 \r\nQ 2822 3834 2567 4026 \r\nQ 2313 4219 1838 4219 \r\nQ 1578 4219 1281 4162 \r\nQ 984 4106 628 3988 \r\nL 628 4550 \r\nQ 988 4650 1302 4700 \r\nQ 1616 4750 1894 4750 \r\nQ 2613 4750 3031 4423 \r\nQ 3450 4097 3450 3541 \r\nQ 3450 3153 3228 2886 \r\nQ 3006 2619 2597 2516 \r\nz\r\n\" id=\"DejaVuSans-33\" transform=\"scale(0.015625)\"/>\r\n       </defs>\r\n       <use xlink:href=\"#DejaVuSans-33\"/>\r\n       <use x=\"63.623047\" xlink:href=\"#DejaVuSans-30\"/>\r\n      </g>\r\n     </g>\r\n    </g>\r\n    <g id=\"ytick_5\">\r\n     <g id=\"line2d_12\">\r\n      <g>\r\n       <use style=\"fill:#ffffff;stroke:#ffffff;stroke-width:0.8;\" x=\"26.925\" xlink:href=\"#m3997e96901\" y=\"44.565466\"/>\r\n      </g>\r\n     </g>\r\n     <g id=\"text_13\">\r\n      <!-- 40 -->\r\n      <g style=\"fill:#ffffff;\" transform=\"translate(7.2 48.364685)scale(0.1 -0.1)\">\r\n       <defs>\r\n        <path d=\"M 2419 4116 \r\nL 825 1625 \r\nL 2419 1625 \r\nL 2419 4116 \r\nz\r\nM 2253 4666 \r\nL 3047 4666 \r\nL 3047 1625 \r\nL 3713 1625 \r\nL 3713 1100 \r\nL 3047 1100 \r\nL 3047 0 \r\nL 2419 0 \r\nL 2419 1100 \r\nL 313 1100 \r\nL 313 1709 \r\nL 2253 4666 \r\nz\r\n\" id=\"DejaVuSans-34\" transform=\"scale(0.015625)\"/>\r\n       </defs>\r\n       <use xlink:href=\"#DejaVuSans-34\"/>\r\n       <use x=\"63.623047\" xlink:href=\"#DejaVuSans-30\"/>\r\n      </g>\r\n     </g>\r\n    </g>\r\n   </g>\r\n   <g id=\"patch_10\">\r\n    <path d=\"M 26.925 224.64 \r\nL 26.925 7.2 \r\n\" style=\"fill:none;stroke:#ffffff;stroke-linecap:square;stroke-linejoin:miter;stroke-width:0.8;\"/>\r\n   </g>\r\n   <g id=\"patch_11\">\r\n    <path d=\"M 361.725 224.64 \r\nL 361.725 7.2 \r\n\" style=\"fill:none;stroke:#ffffff;stroke-linecap:square;stroke-linejoin:miter;stroke-width:0.8;\"/>\r\n   </g>\r\n   <g id=\"patch_12\">\r\n    <path d=\"M 26.925 224.64 \r\nL 361.725 224.64 \r\n\" style=\"fill:none;stroke:#ffffff;stroke-linecap:square;stroke-linejoin:miter;stroke-width:0.8;\"/>\r\n   </g>\r\n   <g id=\"patch_13\">\r\n    <path d=\"M 26.925 7.2 \r\nL 361.725 7.2 \r\n\" style=\"fill:none;stroke:#ffffff;stroke-linecap:square;stroke-linejoin:miter;stroke-width:0.8;\"/>\r\n   </g>\r\n   <g id=\"legend_1\">\r\n    <g id=\"patch_14\">\r\n     <path d=\"M 290.860938 29.878125 \r\nL 354.725 29.878125 \r\nQ 356.725 29.878125 356.725 27.878125 \r\nL 356.725 14.2 \r\nQ 356.725 12.2 354.725 12.2 \r\nL 290.860938 12.2 \r\nQ 288.860938 12.2 288.860938 14.2 \r\nL 288.860938 27.878125 \r\nQ 288.860938 29.878125 290.860938 29.878125 \r\nz\r\n\" style=\"opacity:0.8;stroke:#cccccc;stroke-linejoin:miter;\"/>\r\n    </g>\r\n    <g id=\"patch_15\">\r\n     <path d=\"M 292.860938 23.798437 \r\nL 312.860938 23.798437 \r\nL 312.860938 16.798437 \r\nL 292.860938 16.798437 \r\nz\r\n\" style=\"fill:#8dd3c7;\"/>\r\n    </g>\r\n    <g id=\"text_14\">\r\n     <!-- Status -->\r\n     <g style=\"fill:#ffffff;\" transform=\"translate(320.860938 23.798437)scale(0.1 -0.1)\">\r\n      <use xlink:href=\"#DejaVuSans-53\"/>\r\n      <use x=\"63.476562\" xlink:href=\"#DejaVuSans-74\"/>\r\n      <use x=\"102.685547\" xlink:href=\"#DejaVuSans-61\"/>\r\n      <use x=\"163.964844\" xlink:href=\"#DejaVuSans-74\"/>\r\n      <use x=\"203.173828\" xlink:href=\"#DejaVuSans-75\"/>\r\n      <use x=\"266.552734\" xlink:href=\"#DejaVuSans-73\"/>\r\n     </g>\r\n    </g>\r\n   </g>\r\n  </g>\r\n </g>\r\n <defs>\r\n  <clipPath id=\"p6ee4907c49\">\r\n   <rect height=\"217.44\" width=\"334.8\" x=\"26.925\" y=\"7.2\"/>\r\n  </clipPath>\r\n </defs>\r\n</svg>\r\n",
      "image/png": "[encoded data removed]"
     },
     "metadata": {}
    }
   ],
   "metadata": {}
  }
 ],
 "metadata": {
  "orig_nbformat": 4,
  "language_info": {
   "name": "python",
   "version": "3.8.6",
   "mimetype": "text/x-python",
   "codemirror_mode": {
    "name": "ipython",
    "version": 3
   },
   "pygments_lexer": "ipython3",
   "nbconvert_exporter": "python",
   "file_extension": ".py"
  },
  "kernelspec": {
   "name": "python3",
   "display_name": "Python 3.8.6 64-bit"
  },
  "interpreter": {
   "hash": "1baa965d5efe3ac65b79dfc60c0d706280b1da80fedb7760faf2759126c4f253"
  }
 },
 "nbformat": 4,
 "nbformat_minor": 2
}