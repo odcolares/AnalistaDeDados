{
 "cells": [
  {
   "cell_type": "code",
   "execution_count": null,
   "source": [
    "# importando as bibliotecas\r\n",
    "import pandas as pd\r\n",
    "import matplotlib.pyplot as plt"
   ],
   "outputs": [],
   "metadata": {}
  },
  {
   "cell_type": "code",
   "execution_count": null,
   "source": [
    "excel_file = pd.ExcelFile(\"C:/Users/odair.colares/Documents/AnalistaDeDados/mes_.xlsx\")\r\n",
    "df = pd.read_excel(excel_file, sheet_name='mes')\r\n",
    "# Renomeando Linhas\r\n",
    "df['Turno'] = df['Turno'].str.replace('1Âº Turno', '1º_Turno')\r\n",
    "df['Turno'] = df['Turno'].str.replace('Fora de', 'Fora de turno')\r\n",
    "df['Turno'] = df['Turno'].str.replace('2Âº Turno', '2º Turno')\r\n",
    "df['Lider'] = df['Lider'].str.replace('filipe carvalho fonseca', 'Filipe Fonseca')\r\n",
    "df['Lider'] = df['Lider'].str.replace('elaine mendes', 'Elaine Mendes')\r\n",
    "df['Lider'] = df['Lider'].str.replace('kaisa carvalho lima', 'Kaisa Lima')\r\n",
    "df['Justificativa'] = df['Justificativa'].str.replace('Em anÃ¡lise', 'Em_análise')\r\n",
    "df['Justificativa'] = df['Justificativa'].str.replace('em anÃ¡lise', 'Em_análise')\r\n",
    "#df['Minutos Parados'] = df['Minutos Parados'].str.replace('Minutos Parados', 'Minutos_Parados')\r\n",
    "df.head(5)\r\n"
   ],
   "outputs": [],
   "metadata": {}
  },
  {
   "cell_type": "code",
   "execution_count": null,
   "source": [],
   "outputs": [],
   "metadata": {}
  },
  {
   "cell_type": "code",
   "execution_count": null,
   "source": [
    "# Maior numero de chamado finalizados\r\n",
    "df[df.Status == 'Finalizado'].groupby(['Lider']).count().sort_values(['Status'], ascending=False).loc[:, 'Status'].plot.bar();"
   ],
   "outputs": [],
   "metadata": {}
  },
  {
   "cell_type": "code",
   "execution_count": null,
   "source": [
    "# Maior turno com abertura de chamados\r\n",
    "df[df.Turno == '1º_Turno'].groupby(['Lider']).count().loc[:, ['Status']].sort_values('Status', ascending=False).plot.bar()"
   ],
   "outputs": [],
   "metadata": {}
  },
  {
   "cell_type": "code",
   "execution_count": null,
   "source": [
    "y = df.index\r\n",
    "x = df.Lider\r\n",
    "plt.bar(x,y)\r\n",
    "plt.xticks(rotation=90);"
   ],
   "outputs": [],
   "metadata": {}
  }
 ],
 "metadata": {
  "orig_nbformat": 4,
  "language_info": {
   "name": "python",
   "version": "3.8.6",
   "mimetype": "text/x-python",
   "codemirror_mode": {
    "name": "ipython",
    "version": 3
   },
   "pygments_lexer": "ipython3",
   "nbconvert_exporter": "python",
   "file_extension": ".py"
  },
  "kernelspec": {
   "name": "python3",
   "display_name": "Python 3.8.6 64-bit"
  },
  "interpreter": {
   "hash": "1baa965d5efe3ac65b79dfc60c0d706280b1da80fedb7760faf2759126c4f253"
  }
 },
 "nbformat": 4,
 "nbformat_minor": 2
}