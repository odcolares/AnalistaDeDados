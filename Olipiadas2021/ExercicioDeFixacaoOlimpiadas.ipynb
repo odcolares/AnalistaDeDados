{
 "cells": [
  {
   "cell_type": "markdown",
   "metadata": {},
   "source": [
    "## Futuro Projeto"
   ]
  },
  {
   "cell_type": "code",
   "execution_count": null,
   "metadata": {},
   "outputs": [],
   "source": [
    "# importando as bibliotecas\n",
    "import pandas as pd"
   ]
  },
  {
   "cell_type": "code",
   "execution_count": null,
   "metadata": {},
   "outputs": [],
   "source": [
    "excel_file = pd.ExcelFile(\"C:/Users/odair.colares/Documents/AnalistaDeDados/Olipiadas2021/Athletes.xlsx\")\n",
    "df = pd.read_excel(excel_file, sheet_name='Details')\n",
    "#df.describe()"
   ]
  },
  {
   "cell_type": "code",
   "execution_count": null,
   "metadata": {},
   "outputs": [],
   "source": [
    "df1 = df.rename({'NOC':'ComiteOlimpico', 'Name': 'Nome', 'Discipline': 'Modalidade'}, axis = 1)\n",
    "df1.head()\n",
    "#df"
   ]
  },
  {
   "cell_type": "code",
   "execution_count": null,
   "metadata": {},
   "outputs": [],
   "source": [
    "#df[df['Team/NOC'] == 'Japan'].groupby(['Gold']).Total.mean().reset_index()\n",
    "#df.loc[df['Team/NOC'] == 'Japan']\n",
    "#df.loc[0:10, ['Team/NOC', 'Gold']]\n",
    "#df = df.set_index('Rank')\n",
    "df[['Team/NOC','Gold','Silver','Bronze']].head(11).plot.bar();\n",
    "#df[(df.NOC == 'Brazil') & ((df.Discipline == 'Artistic Gymnastics') | (df.Discipline == 'Shooting') | (df.Discipline == 'Athletics'))].describe().T"
   ]
  }
 ],
 "metadata": {
  "interpreter": {
   "hash": "1baa965d5efe3ac65b79dfc60c0d706280b1da80fedb7760faf2759126c4f253"
  },
  "kernelspec": {
   "display_name": "Python 3.8.6 64-bit",
   "name": "python3"
  },
  "language_info": {
   "codemirror_mode": {
    "name": "ipython",
    "version": 3
   },
   "file_extension": ".py",
   "mimetype": "text/x-python",
   "name": "python",
   "nbconvert_exporter": "python",
   "pygments_lexer": "ipython3",
   "version": "3.8.6"
  },
  "orig_nbformat": 4
 },
 "nbformat": 4,
 "nbformat_minor": 2
}
