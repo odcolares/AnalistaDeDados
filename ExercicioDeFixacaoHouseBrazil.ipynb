{
 "cells": [
  {
   "cell_type": "code",
   "execution_count": 105,
   "source": [
    "import pandas as pd\r\n",
    "import plotly.express as px"
   ],
   "outputs": [],
   "metadata": {}
  },
  {
   "cell_type": "code",
   "execution_count": 107,
   "source": [
    "# Carregando DateSet\r\n",
    "excel_file = pd.ExcelFile(r\"C:\\Users\\odair.colares\\Documents\\AnalistaDeDados\\houseBrazilian\\houses_to_rent_v2.xlsx\")\r\n",
    "df = pd.read_excel(excel_file, sheet_name='houses_to_rent_v2')\r\n",
    "# Renomear as colunas desejadas.\r\n",
    "df = df.rename({'city': 'Cidade', 'area': 'Area', 'rooms': 'Quartos', 'bathroom': 'Banheiro', 'parking spaces': 'Vagas Grm', 'floor': 'Andar', 'animal': 'Animal', 'furniture': 'Mobiliado', 'hoa (R$)': 'Condominio(R$)', 'rent amount (R$)': 'Aluguel(R$)', 'property tax (R$)': 'IPTU(R$)',\r\n",
    "'fire insurance (R$)': 'Seguro Incendio(R$)', 'total (R$)': 'Total(R$)'}, axis = 1)\r\n",
    "# Substituir multiplos texto em uma coluna.\r\n",
    "df['Cidade'] = df['Cidade'].str.replace('SÃ£o Paulo', 'São Paulo')\r\n",
    "df['Animal'] = df['Animal'].str.replace('acept', 'Permitido')\r\n",
    "df['Animal'] = df['Animal'].str.replace('not Permitido', 'Nào Permitido')\r\n",
    "df['Mobiliado'] = df['Mobiliado'].str.replace('furnished', 'Mobilhado')\r\n",
    "df['Mobiliado'] = df['Mobiliado'].str.replace('not Mobilhado', 'Nào Mobilhado')\r\n",
    "df.head(3)\r\n",
    "#df.sort_values(['Cidade', 'Aluguel(R$)']).head(15).reset_index().plot()"
   ],
   "outputs": [
    {
     "output_type": "execute_result",
     "data": {
      "text/plain": [
       "         Cidade  Area  Quartos  Banheiro  Vagas Grm Andar     Animal  \\\n",
       "0     São Paulo    70        2         1          1     7  Permitido   \n",
       "1     São Paulo   320        4         4          0    20  Permitido   \n",
       "2  Porto Alegre    80        1         1          1     6  Permitido   \n",
       "\n",
       "       Mobiliado  Condominio(R$)  Aluguel(R$)  IPTU(R$)  Seguro Incendio(R$)  \\\n",
       "0      Mobilhado            2065         3300       211                   42   \n",
       "1  Nào Mobilhado            1200         4960      1750                   63   \n",
       "2  Nào Mobilhado            1000         2800         0                   41   \n",
       "\n",
       "   Total(R$)  \n",
       "0       5618  \n",
       "1       7973  \n",
       "2       3841  "
      ],
      "text/html": [
       "<div>\n",
       "<style scoped>\n",
       "    .dataframe tbody tr th:only-of-type {\n",
       "        vertical-align: middle;\n",
       "    }\n",
       "\n",
       "    .dataframe tbody tr th {\n",
       "        vertical-align: top;\n",
       "    }\n",
       "\n",
       "    .dataframe thead th {\n",
       "        text-align: right;\n",
       "    }\n",
       "</style>\n",
       "<table border=\"1\" class=\"dataframe\">\n",
       "  <thead>\n",
       "    <tr style=\"text-align: right;\">\n",
       "      <th></th>\n",
       "      <th>Cidade</th>\n",
       "      <th>Area</th>\n",
       "      <th>Quartos</th>\n",
       "      <th>Banheiro</th>\n",
       "      <th>Vagas Grm</th>\n",
       "      <th>Andar</th>\n",
       "      <th>Animal</th>\n",
       "      <th>Mobiliado</th>\n",
       "      <th>Condominio(R$)</th>\n",
       "      <th>Aluguel(R$)</th>\n",
       "      <th>IPTU(R$)</th>\n",
       "      <th>Seguro Incendio(R$)</th>\n",
       "      <th>Total(R$)</th>\n",
       "    </tr>\n",
       "  </thead>\n",
       "  <tbody>\n",
       "    <tr>\n",
       "      <th>0</th>\n",
       "      <td>São Paulo</td>\n",
       "      <td>70</td>\n",
       "      <td>2</td>\n",
       "      <td>1</td>\n",
       "      <td>1</td>\n",
       "      <td>7</td>\n",
       "      <td>Permitido</td>\n",
       "      <td>Mobilhado</td>\n",
       "      <td>2065</td>\n",
       "      <td>3300</td>\n",
       "      <td>211</td>\n",
       "      <td>42</td>\n",
       "      <td>5618</td>\n",
       "    </tr>\n",
       "    <tr>\n",
       "      <th>1</th>\n",
       "      <td>São Paulo</td>\n",
       "      <td>320</td>\n",
       "      <td>4</td>\n",
       "      <td>4</td>\n",
       "      <td>0</td>\n",
       "      <td>20</td>\n",
       "      <td>Permitido</td>\n",
       "      <td>Nào Mobilhado</td>\n",
       "      <td>1200</td>\n",
       "      <td>4960</td>\n",
       "      <td>1750</td>\n",
       "      <td>63</td>\n",
       "      <td>7973</td>\n",
       "    </tr>\n",
       "    <tr>\n",
       "      <th>2</th>\n",
       "      <td>Porto Alegre</td>\n",
       "      <td>80</td>\n",
       "      <td>1</td>\n",
       "      <td>1</td>\n",
       "      <td>1</td>\n",
       "      <td>6</td>\n",
       "      <td>Permitido</td>\n",
       "      <td>Nào Mobilhado</td>\n",
       "      <td>1000</td>\n",
       "      <td>2800</td>\n",
       "      <td>0</td>\n",
       "      <td>41</td>\n",
       "      <td>3841</td>\n",
       "    </tr>\n",
       "  </tbody>\n",
       "</table>\n",
       "</div>"
      ]
     },
     "metadata": {},
     "execution_count": 107
    }
   ],
   "metadata": {}
  },
  {
   "cell_type": "code",
   "execution_count": 135,
   "source": [
    "df['Area'].value_counts().reset_index()\r\n",
    "px.histogram(df, x='Vagas Grm', color='Cidade', title= 'Histograma relação vagas por cidades')\r\n",
    "#df2 = df.groupby(['Cidade', 'Area']).size() #Contar N valores dentro de uma colunas \r\n",
    "#df2 = df['Cidade'].value_counts()\r\n",
    "#px.bar(df2, x=None, y='Cidade', color='Cidade', title='Cidade com maior disponibilidades de locações')\r\n",
    "#df2 = df[df['Cidade'] == 'São Paulo'].reset_index()\r\n",
    "#df2[['Cidade','Area']].value_counts().reset_index()\r\n",
    "#px.histogram(df2, x='Area', y=None)"
   ],
   "outputs": [
    {
     "output_type": "execute_result",
     "data": {
      "text/plain": [
       "        Cidade   Area    0\n",
       "0    São Paulo     50  177\n",
       "1    São Paulo     70  146\n",
       "2    São Paulo    100  134\n",
       "3    São Paulo     60  131\n",
       "4    São Paulo    200  124\n",
       "..         ...    ...  ...\n",
       "446  São Paulo    363    1\n",
       "447  São Paulo    362    1\n",
       "448  São Paulo    356    1\n",
       "449  São Paulo    354    1\n",
       "450  São Paulo  24606    1\n",
       "\n",
       "[451 rows x 3 columns]"
      ],
      "text/html": [
       "<div>\n",
       "<style scoped>\n",
       "    .dataframe tbody tr th:only-of-type {\n",
       "        vertical-align: middle;\n",
       "    }\n",
       "\n",
       "    .dataframe tbody tr th {\n",
       "        vertical-align: top;\n",
       "    }\n",
       "\n",
       "    .dataframe thead th {\n",
       "        text-align: right;\n",
       "    }\n",
       "</style>\n",
       "<table border=\"1\" class=\"dataframe\">\n",
       "  <thead>\n",
       "    <tr style=\"text-align: right;\">\n",
       "      <th></th>\n",
       "      <th>Cidade</th>\n",
       "      <th>Area</th>\n",
       "      <th>0</th>\n",
       "    </tr>\n",
       "  </thead>\n",
       "  <tbody>\n",
       "    <tr>\n",
       "      <th>0</th>\n",
       "      <td>São Paulo</td>\n",
       "      <td>50</td>\n",
       "      <td>177</td>\n",
       "    </tr>\n",
       "    <tr>\n",
       "      <th>1</th>\n",
       "      <td>São Paulo</td>\n",
       "      <td>70</td>\n",
       "      <td>146</td>\n",
       "    </tr>\n",
       "    <tr>\n",
       "      <th>2</th>\n",
       "      <td>São Paulo</td>\n",
       "      <td>100</td>\n",
       "      <td>134</td>\n",
       "    </tr>\n",
       "    <tr>\n",
       "      <th>3</th>\n",
       "      <td>São Paulo</td>\n",
       "      <td>60</td>\n",
       "      <td>131</td>\n",
       "    </tr>\n",
       "    <tr>\n",
       "      <th>4</th>\n",
       "      <td>São Paulo</td>\n",
       "      <td>200</td>\n",
       "      <td>124</td>\n",
       "    </tr>\n",
       "    <tr>\n",
       "      <th>...</th>\n",
       "      <td>...</td>\n",
       "      <td>...</td>\n",
       "      <td>...</td>\n",
       "    </tr>\n",
       "    <tr>\n",
       "      <th>446</th>\n",
       "      <td>São Paulo</td>\n",
       "      <td>363</td>\n",
       "      <td>1</td>\n",
       "    </tr>\n",
       "    <tr>\n",
       "      <th>447</th>\n",
       "      <td>São Paulo</td>\n",
       "      <td>362</td>\n",
       "      <td>1</td>\n",
       "    </tr>\n",
       "    <tr>\n",
       "      <th>448</th>\n",
       "      <td>São Paulo</td>\n",
       "      <td>356</td>\n",
       "      <td>1</td>\n",
       "    </tr>\n",
       "    <tr>\n",
       "      <th>449</th>\n",
       "      <td>São Paulo</td>\n",
       "      <td>354</td>\n",
       "      <td>1</td>\n",
       "    </tr>\n",
       "    <tr>\n",
       "      <th>450</th>\n",
       "      <td>São Paulo</td>\n",
       "      <td>24606</td>\n",
       "      <td>1</td>\n",
       "    </tr>\n",
       "  </tbody>\n",
       "</table>\n",
       "<p>451 rows × 3 columns</p>\n",
       "</div>"
      ]
     },
     "metadata": {},
     "execution_count": 135
    }
   ],
   "metadata": {}
  },
  {
   "cell_type": "code",
   "execution_count": null,
   "source": [
    "# Media de locação de alugueis?\r\n",
    "df2 = df.groupby('Cidade', sort=False).mean().round(2).reset_index()\r\n",
    "px.bar(df2, x='Cidade', y='Aluguel(R$)', color='Condominio(R$)')"
   ],
   "outputs": [],
   "metadata": {}
  },
  {
   "cell_type": "code",
   "execution_count": null,
   "source": [
    "df[['Cidade', 'Area', 'Aluguel(R$)']]"
   ],
   "outputs": [],
   "metadata": {}
  },
  {
   "cell_type": "code",
   "execution_count": null,
   "source": [
    "# Filtrar coluna por parte do nome.\r\n",
    "df.filter(like='do')"
   ],
   "outputs": [],
   "metadata": {}
  },
  {
   "cell_type": "code",
   "execution_count": null,
   "source": [
    "# Qnts casa tem 01 quarto?\r\n",
    "df[df['Quartos'] == 1].shape"
   ],
   "outputs": [],
   "metadata": {}
  },
  {
   "cell_type": "code",
   "execution_count": null,
   "source": [
    "# Quantas casas estão no 1 andar?\r\n",
    "df[df['Andar'] == 1].shape"
   ],
   "outputs": [],
   "metadata": {}
  },
  {
   "cell_type": "code",
   "execution_count": null,
   "source": [
    "# Qnts casas tem mais de 2 banheiros?\r\n",
    "df[df['Banheiro'] > 2].shape"
   ],
   "outputs": [],
   "metadata": {}
  },
  {
   "cell_type": "code",
   "execution_count": null,
   "source": [
    "# Quantos quartos em media, as casas possuem?\r\n",
    "df['Quartos'].mean().round(2)"
   ],
   "outputs": [],
   "metadata": {}
  },
  {
   "cell_type": "code",
   "execution_count": null,
   "source": [
    "# Quais os preços medios das casas?\r\n",
    "df['Total(R$)'].mean().round(2, )"
   ],
   "outputs": [],
   "metadata": {}
  },
  {
   "cell_type": "code",
   "execution_count": null,
   "source": [
    "# Qual o desvio padrão de preços das casas?\r\n",
    "df['Total(R$)'].skew().round(2)"
   ],
   "outputs": [],
   "metadata": {}
  },
  {
   "cell_type": "code",
   "execution_count": null,
   "source": [
    "# Qual a media de preço de casas e seus atributos em SP,PA e RJ em ordem crescente? \r\n",
    "#df[df['Cidade'] == 'São Paulo'].groupby('Total(R$)').mean().sort_values(by = ['Area'], ascending=False).reset_index()\r\n",
    "# Operadores e vetores logicos (==, &, |)\r\n",
    "df[(df.Animal == 'Permitido') & ((df.Cidade == 'Porto Alegre') | (df.Cidade == 'Rio de Janeiro'))].sort_values(by='Total(R$)')"
   ],
   "outputs": [],
   "metadata": {}
  }
 ],
 "metadata": {
  "orig_nbformat": 4,
  "language_info": {
   "name": "python",
   "version": "3.8.6",
   "mimetype": "text/x-python",
   "codemirror_mode": {
    "name": "ipython",
    "version": 3
   },
   "pygments_lexer": "ipython3",
   "nbconvert_exporter": "python",
   "file_extension": ".py"
  },
  "kernelspec": {
   "name": "python3",
   "display_name": "Python 3.8.6 64-bit"
  },
  "interpreter": {
   "hash": "1baa965d5efe3ac65b79dfc60c0d706280b1da80fedb7760faf2759126c4f253"
  }
 },
 "nbformat": 4,
 "nbformat_minor": 2
}