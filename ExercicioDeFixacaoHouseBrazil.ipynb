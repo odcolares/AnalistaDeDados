{
 "cells": [
  {
   "cell_type": "code",
   "execution_count": null,
   "source": [
    "import pandas as pd"
   ],
   "outputs": [],
   "metadata": {}
  },
  {
   "cell_type": "code",
   "execution_count": null,
   "source": [
    "# Carregando DateSet\r\n",
    "excel_file = pd.ExcelFile(r\"C:\\Users\\odair.colares\\Documents\\AnalistaDeDados\\houseBrazilian\\houses_to_rent_v2.xlsx\")\r\n",
    "df = pd.read_excel(excel_file, sheet_name='houses_to_rent_v2')\r\n",
    "# Renomear as colunas desejadas.\r\n",
    "df = df.rename({'city': 'Cidade', 'area': 'Area', 'rooms': 'Quartos', 'bathroom': 'Banheiro', 'parking spaces': 'Vagas Grm', 'floor': 'Andar', 'animal': 'Animal', 'furniture': 'Mobiliado', 'hoa (R$)': 'Condominio(R$)', 'rent amount (R$)': 'Aluguel(R$)', 'property tax (R$)': 'IPTU(R$)',\r\n",
    "'fire insurance (R$)': 'Seguro Incendio(R$)', 'total (R$)': 'Total(R$)'}, axis = 1)\r\n",
    "# Substituir multiplos texto em uma coluna.\r\n",
    "df['Cidade'] = df['Cidade'].str.replace('SÃ£o Paulo', 'São Paulo')\r\n",
    "df['Animal'] = df['Animal'].str.replace('acept', 'Permitido')\r\n",
    "df['Animal'] = df['Animal'].str.replace('not Permitido', 'Nào Permitido')\r\n",
    "df['Mobiliado'] = df['Mobiliado'].str.replace('furnished', 'Mobilhado')\r\n",
    "df['Mobiliado'] = df['Mobiliado'].str.replace('not Mobilhado', 'Nào Mobilhado')\r\n",
    "df\r\n",
    "#df.sort_values(['Cidade', 'Aluguel(R$)']).head(15).reset_index().plot()"
   ],
   "outputs": [],
   "metadata": {}
  },
  {
   "cell_type": "code",
   "execution_count": null,
   "source": [
    "# Filtrar coluna por parte do nome.\r\n",
    "df.filter(like='do')"
   ],
   "outputs": [],
   "metadata": {}
  },
  {
   "cell_type": "code",
   "execution_count": null,
   "source": [
    "# Qnts casa tem 01 quarto?\r\n",
    "df[df['Quartos'] == 1].shape"
   ],
   "outputs": [],
   "metadata": {}
  },
  {
   "cell_type": "code",
   "execution_count": null,
   "source": [
    "# Quantas casas estão no 1 andar?\r\n",
    "df[df['Andar'] == 1].shape"
   ],
   "outputs": [],
   "metadata": {}
  },
  {
   "cell_type": "code",
   "execution_count": null,
   "source": [
    "# Qnts casas tem mais de 2 banheiros?\r\n",
    "df[df['Banheiro'] > 2].shape"
   ],
   "outputs": [],
   "metadata": {}
  },
  {
   "cell_type": "code",
   "execution_count": null,
   "source": [
    "# Quantos quartos em media, as casas possuem?\r\n",
    "df['Quartos'].mean().round(2)"
   ],
   "outputs": [],
   "metadata": {}
  },
  {
   "cell_type": "code",
   "execution_count": null,
   "source": [
    "# Quais os preços medios das casas?\r\n",
    "df['Total(R$)'].mean().round(2, )"
   ],
   "outputs": [],
   "metadata": {}
  },
  {
   "cell_type": "code",
   "execution_count": null,
   "source": [
    "# Qual o desvio padrão de preços das casas?\r\n",
    "df['Total(R$)'].skew().round(2)"
   ],
   "outputs": [],
   "metadata": {}
  },
  {
   "cell_type": "code",
   "execution_count": null,
   "source": [
    "# Qual a media de preço de casas e seus atributos em SP em ordem crescente? \r\n",
    "#df[df['Cidade'] == 'São Paulo'].groupby('Total(R$)').mean().sort_values(by = ['Area'], ascending=False).reset_index()\r\n",
    "# Operadores e vetores logicos (==, &, |)\r\n",
    "df[(df.Animal == 'Permitido') & ((df.Cidade == 'Porto Alegre') | (df.Cidade == 'Rio de Janeiro'))].sort_values(by='Total(R$)')"
   ],
   "outputs": [],
   "metadata": {}
  }
 ],
 "metadata": {
  "orig_nbformat": 4,
  "language_info": {
   "name": "python",
   "version": "3.8.6",
   "mimetype": "text/x-python",
   "codemirror_mode": {
    "name": "ipython",
    "version": 3
   },
   "pygments_lexer": "ipython3",
   "nbconvert_exporter": "python",
   "file_extension": ".py"
  },
  "kernelspec": {
   "name": "python3",
   "display_name": "Python 3.8.6 64-bit"
  },
  "interpreter": {
   "hash": "1baa965d5efe3ac65b79dfc60c0d706280b1da80fedb7760faf2759126c4f253"
  }
 },
 "nbformat": 4,
 "nbformat_minor": 2
}