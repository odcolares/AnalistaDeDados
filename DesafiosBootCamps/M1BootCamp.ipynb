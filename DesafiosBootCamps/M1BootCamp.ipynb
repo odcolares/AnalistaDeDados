{
 "cells": [
  {
   "cell_type": "markdown",
   "metadata": {},
   "source": [
    "## **Execicios de fixação**\n",
    "#### **Executar/Completar os trechos de código a seguir para responder às questões objetivas. Complete-os de forma que o resultado da execução da função print seja igual ao da imagem correspondente**"
   ]
  },
  {
   "cell_type": "code",
   "execution_count": null,
   "metadata": {},
   "outputs": [],
   "source": [
    "# Importando bibliotecas\n",
    "import numpy as np\n",
    "import pandas as pd"
   ]
  },
  {
   "cell_type": "code",
   "execution_count": null,
   "metadata": {},
   "outputs": [],
   "source": [
    "# Codigo #1\n",
    "z = np.zeros((4,))\n",
    "print(\"Z: \", z)"
   ]
  },
  {
   "cell_type": "code",
   "execution_count": null,
   "metadata": {},
   "outputs": [],
   "source": [
    "# Codigo #2\n",
    "z = np.zeros((4,))\n",
    "z[1] = 1\n",
    "z[3] = 7\n",
    "print(\"Z: \", z)"
   ]
  },
  {
   "cell_type": "code",
   "execution_count": null,
   "metadata": {},
   "outputs": [],
   "source": [
    "# Codigo #3\n",
    "Z = np.zeros((4,))\n",
    "z[1:] = 1\n",
    "print(\"z: \", z)"
   ]
  },
  {
   "cell_type": "code",
   "execution_count": null,
   "metadata": {},
   "outputs": [],
   "source": [
    "# Codigo #4\n",
    "z = np.zeros((4,))\n",
    "z[:-1] = 1\n",
    "print(\"z: \", z)"
   ]
  },
  {
   "cell_type": "code",
   "execution_count": null,
   "metadata": {},
   "outputs": [],
   "source": [
    "# Codigo #5\n",
    "z = np.zeros((2,2))\n",
    "z[:] = 2\n",
    "print(\"x: \\n\", z)"
   ]
  },
  {
   "cell_type": "code",
   "execution_count": null,
   "metadata": {},
   "outputs": [],
   "source": [
    "# Codigo #6\n",
    "r = np.array([[1,2],[3,4]])\n",
    "y = r[0, :]\n",
    "y[1] = 10\n",
    "print(\"r: \\n\", r)"
   ]
  },
  {
   "cell_type": "code",
   "execution_count": null,
   "metadata": {},
   "outputs": [],
   "source": [
    "# Codigo #7\n",
    "x = np.array([[1,3], [11,10]])\n",
    "print(np.mean(x[x > np.pi]))"
   ]
  },
  {
   "cell_type": "code",
   "execution_count": null,
   "metadata": {},
   "outputs": [],
   "source": [
    "# Codigo #8\n",
    "data = {'animal': ['cat', 'cat', 'snake', 'dog', 'dog',\n",
    "        'cat', 'snake', 'cat', 'dog', 'dog'],\n",
    "\n",
    "        'age': [2.5, 3, 0.5, np.nan, 5, 2, 4.5, np.nan, 7, 3],\n",
    "\n",
    "        'visits': [1, 3, 2, 3, 2, 3, 2, 3, 1, 1],\n",
    "\n",
    "        'priority': ['yes', 'yes', 'no', 'yes', 'no',\n",
    "                     'no', 'no', 'yes', 'no', 'no']}\n",
    "\n",
    "labels = ['a', 'b', 'c', 'd', 'e', 'f', 'g', 'h', 'i', 'j']\n",
    "\n",
    "pd.DataFrame(data=data, index=labels)"
   ]
  },
  {
   "cell_type": "code",
   "execution_count": null,
   "metadata": {},
   "outputs": [],
   "source": [
    "# Codigo #9\n",
    "df = pd.DataFrame(data=data, index=labels)\n",
    "df.shape"
   ]
  },
  {
   "cell_type": "code",
   "execution_count": null,
   "metadata": {},
   "outputs": [],
   "source": [
    "# Codigo #10\n",
    "df['animal'].value_counts()"
   ]
  },
  {
   "cell_type": "code",
   "execution_count": null,
   "metadata": {},
   "outputs": [],
   "source": [
    "# Codigo #11\n",
    "M = df['age'].mean()\n",
    "print(\"A media de idade é: \", M)"
   ]
  },
  {
   "cell_type": "code",
   "execution_count": null,
   "metadata": {},
   "outputs": [],
   "source": [
    "# Codigo #12\n",
    "df.sort_values(by = 'age', ascending= False)"
   ]
  },
  {
   "cell_type": "code",
   "execution_count": null,
   "metadata": {},
   "outputs": [],
   "source": [
    "# Codigo #13\n",
    "y_true = np.array([1., 2., 1.])\n",
    "y_pred = np.array([1.1, 1.98, 1.05])\n",
    "\n",
    "np.sqrt(((y_true-y_pred)**2).mean())"
   ]
  },
  {
   "cell_type": "code",
   "execution_count": null,
   "metadata": {},
   "outputs": [],
   "source": [
    "# Codigo #14\n",
    "y_true = np.array([1., 2., 1.])\n",
    "y_pred = np.array([1.1, 1.98, 1.05])\n",
    "\n",
    "np.sqrt(((y_true == y_pred)**2).mean())"
   ]
  }
 ],
 "metadata": {
  "interpreter": {
   "hash": "570feb405e2e27c949193ac68f46852414290d515b0ba6e5d90d076ed2284471"
  },
  "kernelspec": {
   "display_name": "Python 3.8.6 64-bit",
   "language": "python",
   "name": "python3"
  },
  "language_info": {
   "codemirror_mode": {
    "name": "ipython",
    "version": 3
   },
   "file_extension": ".py",
   "mimetype": "text/x-python",
   "name": "python",
   "nbconvert_exporter": "python",
   "pygments_lexer": "ipython3",
   "version": "3.8.6"
  },
  "orig_nbformat": 4
 },
 "nbformat": 4,
 "nbformat_minor": 2
}
