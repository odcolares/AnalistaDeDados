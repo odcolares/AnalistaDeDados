{
 "cells": [
  {
   "cell_type": "code",
   "execution_count": 89,
   "source": [
    "# importando as bibliotecas\r\n",
    "import pandas as pd"
   ],
   "outputs": [],
   "metadata": {}
  },
  {
   "cell_type": "code",
   "execution_count": 92,
   "source": [
    "# leitura de planilhas\r\n",
    "# leitura do arquivo todo\r\n",
    "# leitura dos dados csv\r\n",
    "# df = pd.read_csv(\"C:/Users/odair.colares/Documents/AnalistaDeDados/.csv\", encoding='ISO 8859-1', engine='python-fwf')\r\n",
    "# Leitura de arquivos excel.\r\n",
    "excel_file = pd.ExcelFile(\"C:/Users/odair.colares/Documents/AnalistaDeDados/covid19New.xlsx\")\r\n",
    "# Leitura de Abas (worksheets).\r\n",
    "df = pd.read_excel(excel_file, sheet_name='covid19_')\r\n",
    "df"
   ],
   "outputs": [],
   "metadata": {}
  },
  {
   "cell_type": "code",
   "execution_count": null,
   "source": [
    "df.dtypes"
   ],
   "outputs": [],
   "metadata": {}
  },
  {
   "cell_type": "code",
   "execution_count": null,
   "source": [
    "df.sample(5).T"
   ],
   "outputs": [],
   "metadata": {}
  },
  {
   "cell_type": "code",
   "execution_count": null,
   "source": [
    "# Contar o número de munícipios por estado e plotar o gráfico.\r\n",
    "df.head(30)[['cidade_busca', 'uf_busca']].value_counts().plot.bar(figsize=(10,5), rot=90);"
   ],
   "outputs": [],
   "metadata": {}
  }
 ],
 "metadata": {
  "orig_nbformat": 4,
  "language_info": {
   "name": "python",
   "version": "3.8.6",
   "mimetype": "text/x-python",
   "codemirror_mode": {
    "name": "ipython",
    "version": 3
   },
   "pygments_lexer": "ipython3",
   "nbconvert_exporter": "python",
   "file_extension": ".py"
  },
  "kernelspec": {
   "name": "python3",
   "display_name": "Python 3.8.6 64-bit"
  },
  "interpreter": {
   "hash": "1baa965d5efe3ac65b79dfc60c0d706280b1da80fedb7760faf2759126c4f253"
  }
 },
 "nbformat": 4,
 "nbformat_minor": 2
}