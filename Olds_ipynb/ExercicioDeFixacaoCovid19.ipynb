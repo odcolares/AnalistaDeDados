{
 "cells": [
  {
   "cell_type": "markdown",
   "source": [
    "# DataSet informações Covid_19"
   ],
   "metadata": {}
  },
  {
   "cell_type": "code",
   "execution_count": 1,
   "source": [
    "# importando as bibliotecas\r\n",
    "import pandas as pd\r\n",
    "import plotly.express as px\r\n",
    "from urllib.request import urlretrieve #Import automatico de dataset direto da fonte(Site)"
   ],
   "outputs": [],
   "metadata": {}
  },
  {
   "cell_type": "code",
   "execution_count": 3,
   "source": [
    "# Carregar dataset.\r\n",
    "df_covid19 = pd.read_csv('C:/Users/odair.colares/Documents/1_AnalistaDeDados/AnalistaDeDadoscovid19_global.csv')\r\n",
    "df_covid19.head()"
   ],
   "outputs": [
    {
     "output_type": "execute_result",
     "data": {
      "text/html": [
       "<div>\n",
       "<style scoped>\n",
       "    .dataframe tbody tr th:only-of-type {\n",
       "        vertical-align: middle;\n",
       "    }\n",
       "\n",
       "    .dataframe tbody tr th {\n",
       "        vertical-align: top;\n",
       "    }\n",
       "\n",
       "    .dataframe thead th {\n",
       "        text-align: right;\n",
       "    }\n",
       "</style>\n",
       "<table border=\"1\" class=\"dataframe\">\n",
       "  <thead>\n",
       "    <tr style=\"text-align: right;\">\n",
       "      <th></th>\n",
       "      <th>Province/State</th>\n",
       "      <th>Country/Region</th>\n",
       "      <th>Lat</th>\n",
       "      <th>Long</th>\n",
       "      <th>1/22/20</th>\n",
       "      <th>1/23/20</th>\n",
       "      <th>1/24/20</th>\n",
       "      <th>1/25/20</th>\n",
       "      <th>1/26/20</th>\n",
       "      <th>1/27/20</th>\n",
       "      <th>...</th>\n",
       "      <th>11/2/21</th>\n",
       "      <th>11/3/21</th>\n",
       "      <th>11/4/21</th>\n",
       "      <th>11/5/21</th>\n",
       "      <th>11/6/21</th>\n",
       "      <th>11/7/21</th>\n",
       "      <th>11/8/21</th>\n",
       "      <th>11/9/21</th>\n",
       "      <th>11/10/21</th>\n",
       "      <th>11/11/21</th>\n",
       "    </tr>\n",
       "  </thead>\n",
       "  <tbody>\n",
       "    <tr>\n",
       "      <th>0</th>\n",
       "      <td>NaN</td>\n",
       "      <td>Afghanistan</td>\n",
       "      <td>33.93911</td>\n",
       "      <td>67.709953</td>\n",
       "      <td>0</td>\n",
       "      <td>0</td>\n",
       "      <td>0</td>\n",
       "      <td>0</td>\n",
       "      <td>0</td>\n",
       "      <td>0</td>\n",
       "      <td>...</td>\n",
       "      <td>156307</td>\n",
       "      <td>156323</td>\n",
       "      <td>156363</td>\n",
       "      <td>156392</td>\n",
       "      <td>156397</td>\n",
       "      <td>156397</td>\n",
       "      <td>156397</td>\n",
       "      <td>156397</td>\n",
       "      <td>156414</td>\n",
       "      <td>156456</td>\n",
       "    </tr>\n",
       "    <tr>\n",
       "      <th>1</th>\n",
       "      <td>NaN</td>\n",
       "      <td>Albania</td>\n",
       "      <td>41.15330</td>\n",
       "      <td>20.168300</td>\n",
       "      <td>0</td>\n",
       "      <td>0</td>\n",
       "      <td>0</td>\n",
       "      <td>0</td>\n",
       "      <td>0</td>\n",
       "      <td>0</td>\n",
       "      <td>...</td>\n",
       "      <td>186222</td>\n",
       "      <td>186793</td>\n",
       "      <td>187363</td>\n",
       "      <td>187994</td>\n",
       "      <td>187994</td>\n",
       "      <td>189125</td>\n",
       "      <td>189355</td>\n",
       "      <td>190125</td>\n",
       "      <td>190815</td>\n",
       "      <td>191440</td>\n",
       "    </tr>\n",
       "    <tr>\n",
       "      <th>2</th>\n",
       "      <td>NaN</td>\n",
       "      <td>Algeria</td>\n",
       "      <td>28.03390</td>\n",
       "      <td>1.659600</td>\n",
       "      <td>0</td>\n",
       "      <td>0</td>\n",
       "      <td>0</td>\n",
       "      <td>0</td>\n",
       "      <td>0</td>\n",
       "      <td>0</td>\n",
       "      <td>...</td>\n",
       "      <td>206649</td>\n",
       "      <td>206754</td>\n",
       "      <td>206878</td>\n",
       "      <td>206995</td>\n",
       "      <td>207079</td>\n",
       "      <td>207156</td>\n",
       "      <td>207254</td>\n",
       "      <td>207385</td>\n",
       "      <td>207509</td>\n",
       "      <td>207624</td>\n",
       "    </tr>\n",
       "    <tr>\n",
       "      <th>3</th>\n",
       "      <td>NaN</td>\n",
       "      <td>Andorra</td>\n",
       "      <td>42.50630</td>\n",
       "      <td>1.521800</td>\n",
       "      <td>0</td>\n",
       "      <td>0</td>\n",
       "      <td>0</td>\n",
       "      <td>0</td>\n",
       "      <td>0</td>\n",
       "      <td>0</td>\n",
       "      <td>...</td>\n",
       "      <td>15516</td>\n",
       "      <td>15572</td>\n",
       "      <td>15618</td>\n",
       "      <td>15618</td>\n",
       "      <td>15618</td>\n",
       "      <td>15618</td>\n",
       "      <td>15705</td>\n",
       "      <td>15717</td>\n",
       "      <td>15744</td>\n",
       "      <td>15744</td>\n",
       "    </tr>\n",
       "    <tr>\n",
       "      <th>4</th>\n",
       "      <td>NaN</td>\n",
       "      <td>Angola</td>\n",
       "      <td>-11.20270</td>\n",
       "      <td>17.873900</td>\n",
       "      <td>0</td>\n",
       "      <td>0</td>\n",
       "      <td>0</td>\n",
       "      <td>0</td>\n",
       "      <td>0</td>\n",
       "      <td>0</td>\n",
       "      <td>...</td>\n",
       "      <td>64487</td>\n",
       "      <td>64533</td>\n",
       "      <td>64583</td>\n",
       "      <td>64612</td>\n",
       "      <td>64654</td>\n",
       "      <td>64674</td>\n",
       "      <td>64724</td>\n",
       "      <td>64762</td>\n",
       "      <td>64815</td>\n",
       "      <td>64857</td>\n",
       "    </tr>\n",
       "  </tbody>\n",
       "</table>\n",
       "<p>5 rows × 664 columns</p>\n",
       "</div>"
      ],
      "text/plain": [
       "  Province/State Country/Region       Lat       Long  1/22/20  1/23/20  \\\n",
       "0            NaN    Afghanistan  33.93911  67.709953        0        0   \n",
       "1            NaN        Albania  41.15330  20.168300        0        0   \n",
       "2            NaN        Algeria  28.03390   1.659600        0        0   \n",
       "3            NaN        Andorra  42.50630   1.521800        0        0   \n",
       "4            NaN         Angola -11.20270  17.873900        0        0   \n",
       "\n",
       "   1/24/20  1/25/20  1/26/20  1/27/20  ...  11/2/21  11/3/21  11/4/21  \\\n",
       "0        0        0        0        0  ...   156307   156323   156363   \n",
       "1        0        0        0        0  ...   186222   186793   187363   \n",
       "2        0        0        0        0  ...   206649   206754   206878   \n",
       "3        0        0        0        0  ...    15516    15572    15618   \n",
       "4        0        0        0        0  ...    64487    64533    64583   \n",
       "\n",
       "   11/5/21  11/6/21  11/7/21  11/8/21  11/9/21  11/10/21  11/11/21  \n",
       "0   156392   156397   156397   156397   156397    156414    156456  \n",
       "1   187994   187994   189125   189355   190125    190815    191440  \n",
       "2   206995   207079   207156   207254   207385    207509    207624  \n",
       "3    15618    15618    15618    15705    15717     15744     15744  \n",
       "4    64612    64654    64674    64724    64762     64815     64857  \n",
       "\n",
       "[5 rows x 664 columns]"
      ]
     },
     "metadata": {},
     "execution_count": 3
    }
   ],
   "metadata": {}
  },
  {
   "cell_type": "code",
   "execution_count": 4,
   "source": [
    "# Retirando colunas desnecessarias do dataset.\r\n",
    "df_covid19.drop(['Lat', 'Long'], axis=1 , inplace= True)"
   ],
   "outputs": [],
   "metadata": {}
  },
  {
   "cell_type": "code",
   "execution_count": 5,
   "source": [
    "# Agrupamento por `Country/Region` para fazer s0mar total dos casos ao pais.\r\n",
    "df_country = df_covid19.groupby('Country/Region').sum()\r\n",
    "df_country.head()"
   ],
   "outputs": [
    {
     "output_type": "execute_result",
     "data": {
      "text/html": [
       "<div>\n",
       "<style scoped>\n",
       "    .dataframe tbody tr th:only-of-type {\n",
       "        vertical-align: middle;\n",
       "    }\n",
       "\n",
       "    .dataframe tbody tr th {\n",
       "        vertical-align: top;\n",
       "    }\n",
       "\n",
       "    .dataframe thead th {\n",
       "        text-align: right;\n",
       "    }\n",
       "</style>\n",
       "<table border=\"1\" class=\"dataframe\">\n",
       "  <thead>\n",
       "    <tr style=\"text-align: right;\">\n",
       "      <th></th>\n",
       "      <th>1/22/20</th>\n",
       "      <th>1/23/20</th>\n",
       "      <th>1/24/20</th>\n",
       "      <th>1/25/20</th>\n",
       "      <th>1/26/20</th>\n",
       "      <th>1/27/20</th>\n",
       "      <th>1/28/20</th>\n",
       "      <th>1/29/20</th>\n",
       "      <th>1/30/20</th>\n",
       "      <th>1/31/20</th>\n",
       "      <th>...</th>\n",
       "      <th>11/2/21</th>\n",
       "      <th>11/3/21</th>\n",
       "      <th>11/4/21</th>\n",
       "      <th>11/5/21</th>\n",
       "      <th>11/6/21</th>\n",
       "      <th>11/7/21</th>\n",
       "      <th>11/8/21</th>\n",
       "      <th>11/9/21</th>\n",
       "      <th>11/10/21</th>\n",
       "      <th>11/11/21</th>\n",
       "    </tr>\n",
       "    <tr>\n",
       "      <th>Country/Region</th>\n",
       "      <th></th>\n",
       "      <th></th>\n",
       "      <th></th>\n",
       "      <th></th>\n",
       "      <th></th>\n",
       "      <th></th>\n",
       "      <th></th>\n",
       "      <th></th>\n",
       "      <th></th>\n",
       "      <th></th>\n",
       "      <th></th>\n",
       "      <th></th>\n",
       "      <th></th>\n",
       "      <th></th>\n",
       "      <th></th>\n",
       "      <th></th>\n",
       "      <th></th>\n",
       "      <th></th>\n",
       "      <th></th>\n",
       "      <th></th>\n",
       "      <th></th>\n",
       "    </tr>\n",
       "  </thead>\n",
       "  <tbody>\n",
       "    <tr>\n",
       "      <th>Afghanistan</th>\n",
       "      <td>0</td>\n",
       "      <td>0</td>\n",
       "      <td>0</td>\n",
       "      <td>0</td>\n",
       "      <td>0</td>\n",
       "      <td>0</td>\n",
       "      <td>0</td>\n",
       "      <td>0</td>\n",
       "      <td>0</td>\n",
       "      <td>0</td>\n",
       "      <td>...</td>\n",
       "      <td>156307</td>\n",
       "      <td>156323</td>\n",
       "      <td>156363</td>\n",
       "      <td>156392</td>\n",
       "      <td>156397</td>\n",
       "      <td>156397</td>\n",
       "      <td>156397</td>\n",
       "      <td>156397</td>\n",
       "      <td>156414</td>\n",
       "      <td>156456</td>\n",
       "    </tr>\n",
       "    <tr>\n",
       "      <th>Albania</th>\n",
       "      <td>0</td>\n",
       "      <td>0</td>\n",
       "      <td>0</td>\n",
       "      <td>0</td>\n",
       "      <td>0</td>\n",
       "      <td>0</td>\n",
       "      <td>0</td>\n",
       "      <td>0</td>\n",
       "      <td>0</td>\n",
       "      <td>0</td>\n",
       "      <td>...</td>\n",
       "      <td>186222</td>\n",
       "      <td>186793</td>\n",
       "      <td>187363</td>\n",
       "      <td>187994</td>\n",
       "      <td>187994</td>\n",
       "      <td>189125</td>\n",
       "      <td>189355</td>\n",
       "      <td>190125</td>\n",
       "      <td>190815</td>\n",
       "      <td>191440</td>\n",
       "    </tr>\n",
       "    <tr>\n",
       "      <th>Algeria</th>\n",
       "      <td>0</td>\n",
       "      <td>0</td>\n",
       "      <td>0</td>\n",
       "      <td>0</td>\n",
       "      <td>0</td>\n",
       "      <td>0</td>\n",
       "      <td>0</td>\n",
       "      <td>0</td>\n",
       "      <td>0</td>\n",
       "      <td>0</td>\n",
       "      <td>...</td>\n",
       "      <td>206649</td>\n",
       "      <td>206754</td>\n",
       "      <td>206878</td>\n",
       "      <td>206995</td>\n",
       "      <td>207079</td>\n",
       "      <td>207156</td>\n",
       "      <td>207254</td>\n",
       "      <td>207385</td>\n",
       "      <td>207509</td>\n",
       "      <td>207624</td>\n",
       "    </tr>\n",
       "    <tr>\n",
       "      <th>Andorra</th>\n",
       "      <td>0</td>\n",
       "      <td>0</td>\n",
       "      <td>0</td>\n",
       "      <td>0</td>\n",
       "      <td>0</td>\n",
       "      <td>0</td>\n",
       "      <td>0</td>\n",
       "      <td>0</td>\n",
       "      <td>0</td>\n",
       "      <td>0</td>\n",
       "      <td>...</td>\n",
       "      <td>15516</td>\n",
       "      <td>15572</td>\n",
       "      <td>15618</td>\n",
       "      <td>15618</td>\n",
       "      <td>15618</td>\n",
       "      <td>15618</td>\n",
       "      <td>15705</td>\n",
       "      <td>15717</td>\n",
       "      <td>15744</td>\n",
       "      <td>15744</td>\n",
       "    </tr>\n",
       "    <tr>\n",
       "      <th>Angola</th>\n",
       "      <td>0</td>\n",
       "      <td>0</td>\n",
       "      <td>0</td>\n",
       "      <td>0</td>\n",
       "      <td>0</td>\n",
       "      <td>0</td>\n",
       "      <td>0</td>\n",
       "      <td>0</td>\n",
       "      <td>0</td>\n",
       "      <td>0</td>\n",
       "      <td>...</td>\n",
       "      <td>64487</td>\n",
       "      <td>64533</td>\n",
       "      <td>64583</td>\n",
       "      <td>64612</td>\n",
       "      <td>64654</td>\n",
       "      <td>64674</td>\n",
       "      <td>64724</td>\n",
       "      <td>64762</td>\n",
       "      <td>64815</td>\n",
       "      <td>64857</td>\n",
       "    </tr>\n",
       "  </tbody>\n",
       "</table>\n",
       "<p>5 rows × 660 columns</p>\n",
       "</div>"
      ],
      "text/plain": [
       "                1/22/20  1/23/20  1/24/20  1/25/20  1/26/20  1/27/20  1/28/20  \\\n",
       "Country/Region                                                                  \n",
       "Afghanistan           0        0        0        0        0        0        0   \n",
       "Albania               0        0        0        0        0        0        0   \n",
       "Algeria               0        0        0        0        0        0        0   \n",
       "Andorra               0        0        0        0        0        0        0   \n",
       "Angola                0        0        0        0        0        0        0   \n",
       "\n",
       "                1/29/20  1/30/20  1/31/20  ...  11/2/21  11/3/21  11/4/21  \\\n",
       "Country/Region                             ...                              \n",
       "Afghanistan           0        0        0  ...   156307   156323   156363   \n",
       "Albania               0        0        0  ...   186222   186793   187363   \n",
       "Algeria               0        0        0  ...   206649   206754   206878   \n",
       "Andorra               0        0        0  ...    15516    15572    15618   \n",
       "Angola                0        0        0  ...    64487    64533    64583   \n",
       "\n",
       "                11/5/21  11/6/21  11/7/21  11/8/21  11/9/21  11/10/21  \\\n",
       "Country/Region                                                          \n",
       "Afghanistan      156392   156397   156397   156397   156397    156414   \n",
       "Albania          187994   187994   189125   189355   190125    190815   \n",
       "Algeria          206995   207079   207156   207254   207385    207509   \n",
       "Andorra           15618    15618    15618    15705    15717     15744   \n",
       "Angola            64612    64654    64674    64724    64762     64815   \n",
       "\n",
       "                11/11/21  \n",
       "Country/Region            \n",
       "Afghanistan       156456  \n",
       "Albania           191440  \n",
       "Algeria           207624  \n",
       "Andorra            15744  \n",
       "Angola             64857  \n",
       "\n",
       "[5 rows x 660 columns]"
      ]
     },
     "metadata": {},
     "execution_count": 5
    }
   ],
   "metadata": {}
  },
  {
   "cell_type": "code",
   "execution_count": 6,
   "source": [
    "date = df_country.loc['Brazil'].tail(100).index\r\n",
    "cases = df_country.loc['Brazil'].tail(100).values\r\n",
    "\r\n",
    "date1 = df_country.loc['China'].tail(20).index\r\n",
    "cases1 = df_country.loc['China'].tail(20).values"
   ],
   "outputs": [],
   "metadata": {}
  },
  {
   "cell_type": "code",
   "execution_count": 7,
   "source": [
    "px.bar(x=date, y=cases, title='Covid19 No Brazil', color=date)\r\n"
   ],
   "outputs": [
    {
     "output_type": "display_data",
     "data": {
      "application/vnd.plotly.v1+json": {
       "config": {
        "plotlyServerURL": "https://plot.ly"
       },
       "data": [
        {
         "alignmentgroup": "True",
         "hovertemplate": "color=8/4/21<br>x=%{x}<br>y=%{y}<extra></extra>",
         "legendgroup": "8/4/21",
         "marker": {
          "color": "#636efa",
          "pattern": {
           "shape": ""
          }
         },
         "name": "8/4/21",
         "offsetgroup": "8/4/21",
         "orientation": "v",
         "showlegend": true,
         "textposition": "auto",
         "type": "bar",
         "x": [
          "8/4/21"
         ],
         "xaxis": "x",
         "y": [
          20026533
         ],
         "yaxis": "y"
        },
        {
         "alignmentgroup": "True",
         "hovertemplate": "color=8/5/21<br>x=%{x}<br>y=%{y}<extra></extra>",
         "legendgroup": "8/5/21",
         "marker": {
          "color": "#EF553B",
          "pattern": {
           "shape": ""
          }
         },
         "name": "8/5/21",
         "offsetgroup": "8/5/21",
         "orientation": "v",
         "showlegend": true,
         "textposition": "auto",
         "type": "bar",
         "x": [
          "8/5/21"
         ],
         "xaxis": "x",
         "y": [
          20066587
         ],
         "yaxis": "y"
        },
        {
         "alignmentgroup": "True",
         "hovertemplate": "color=8/6/21<br>x=%{x}<br>y=%{y}<extra></extra>",
         "legendgroup": "8/6/21",
         "marker": {
          "color": "#00cc96",
          "pattern": {
           "shape": ""
          }
         },
         "name": "8/6/21",
         "offsetgroup": "8/6/21",
         "orientation": "v",
         "showlegend": true,
         "textposition": "auto",
         "type": "bar",
         "x": [
          "8/6/21"
         ],
         "xaxis": "x",
         "y": [
          20108746
         ],
         "yaxis": "y"
        },
        {
         "alignmentgroup": "True",
         "hovertemplate": "color=8/7/21<br>x=%{x}<br>y=%{y}<extra></extra>",
         "legendgroup": "8/7/21",
         "marker": {
          "color": "#ab63fa",
          "pattern": {
           "shape": ""
          }
         },
         "name": "8/7/21",
         "offsetgroup": "8/7/21",
         "orientation": "v",
         "showlegend": true,
         "textposition": "auto",
         "type": "bar",
         "x": [
          "8/7/21"
         ],
         "xaxis": "x",
         "y": [
          20151779
         ],
         "yaxis": "y"
        },
        {
         "alignmentgroup": "True",
         "hovertemplate": "color=8/8/21<br>x=%{x}<br>y=%{y}<extra></extra>",
         "legendgroup": "8/8/21",
         "marker": {
          "color": "#FFA15A",
          "pattern": {
           "shape": ""
          }
         },
         "name": "8/8/21",
         "offsetgroup": "8/8/21",
         "orientation": "v",
         "showlegend": true,
         "textposition": "auto",
         "type": "bar",
         "x": [
          "8/8/21"
         ],
         "xaxis": "x",
         "y": [
          20165672
         ],
         "yaxis": "y"
        },
        {
         "alignmentgroup": "True",
         "hovertemplate": "color=8/9/21<br>x=%{x}<br>y=%{y}<extra></extra>",
         "legendgroup": "8/9/21",
         "marker": {
          "color": "#19d3f3",
          "pattern": {
           "shape": ""
          }
         },
         "name": "8/9/21",
         "offsetgroup": "8/9/21",
         "orientation": "v",
         "showlegend": true,
         "textposition": "auto",
         "type": "bar",
         "x": [
          "8/9/21"
         ],
         "xaxis": "x",
         "y": [
          20177757
         ],
         "yaxis": "y"
        },
        {
         "alignmentgroup": "True",
         "hovertemplate": "color=8/10/21<br>x=%{x}<br>y=%{y}<extra></extra>",
         "legendgroup": "8/10/21",
         "marker": {
          "color": "#FF6692",
          "pattern": {
           "shape": ""
          }
         },
         "name": "8/10/21",
         "offsetgroup": "8/10/21",
         "orientation": "v",
         "showlegend": true,
         "textposition": "auto",
         "type": "bar",
         "x": [
          "8/10/21"
         ],
         "xaxis": "x",
         "y": [
          20212642
         ],
         "yaxis": "y"
        },
        {
         "alignmentgroup": "True",
         "hovertemplate": "color=8/11/21<br>x=%{x}<br>y=%{y}<extra></extra>",
         "legendgroup": "8/11/21",
         "marker": {
          "color": "#B6E880",
          "pattern": {
           "shape": ""
          }
         },
         "name": "8/11/21",
         "offsetgroup": "8/11/21",
         "orientation": "v",
         "showlegend": true,
         "textposition": "auto",
         "type": "bar",
         "x": [
          "8/11/21"
         ],
         "xaxis": "x",
         "y": [
          20245085
         ],
         "yaxis": "y"
        },
        {
         "alignmentgroup": "True",
         "hovertemplate": "color=8/12/21<br>x=%{x}<br>y=%{y}<extra></extra>",
         "legendgroup": "8/12/21",
         "marker": {
          "color": "#FF97FF",
          "pattern": {
           "shape": ""
          }
         },
         "name": "8/12/21",
         "offsetgroup": "8/12/21",
         "orientation": "v",
         "showlegend": true,
         "textposition": "auto",
         "type": "bar",
         "x": [
          "8/12/21"
         ],
         "xaxis": "x",
         "y": [
          20285067
         ],
         "yaxis": "y"
        },
        {
         "alignmentgroup": "True",
         "hovertemplate": "color=8/13/21<br>x=%{x}<br>y=%{y}<extra></extra>",
         "legendgroup": "8/13/21",
         "marker": {
          "color": "#FECB52",
          "pattern": {
           "shape": ""
          }
         },
         "name": "8/13/21",
         "offsetgroup": "8/13/21",
         "orientation": "v",
         "showlegend": true,
         "textposition": "auto",
         "type": "bar",
         "x": [
          "8/13/21"
         ],
         "xaxis": "x",
         "y": [
          20319000
         ],
         "yaxis": "y"
        },
        {
         "alignmentgroup": "True",
         "hovertemplate": "color=8/14/21<br>x=%{x}<br>y=%{y}<extra></extra>",
         "legendgroup": "8/14/21",
         "marker": {
          "color": "#636efa",
          "pattern": {
           "shape": ""
          }
         },
         "name": "8/14/21",
         "offsetgroup": "8/14/21",
         "orientation": "v",
         "showlegend": true,
         "textposition": "auto",
         "type": "bar",
         "x": [
          "8/14/21"
         ],
         "xaxis": "x",
         "y": [
          20350142
         ],
         "yaxis": "y"
        },
        {
         "alignmentgroup": "True",
         "hovertemplate": "color=8/15/21<br>x=%{x}<br>y=%{y}<extra></extra>",
         "legendgroup": "8/15/21",
         "marker": {
          "color": "#EF553B",
          "pattern": {
           "shape": ""
          }
         },
         "name": "8/15/21",
         "offsetgroup": "8/15/21",
         "orientation": "v",
         "showlegend": true,
         "textposition": "auto",
         "type": "bar",
         "x": [
          "8/15/21"
         ],
         "xaxis": "x",
         "y": [
          20364099
         ],
         "yaxis": "y"
        },
        {
         "alignmentgroup": "True",
         "hovertemplate": "color=8/16/21<br>x=%{x}<br>y=%{y}<extra></extra>",
         "legendgroup": "8/16/21",
         "marker": {
          "color": "#00cc96",
          "pattern": {
           "shape": ""
          }
         },
         "name": "8/16/21",
         "offsetgroup": "8/16/21",
         "orientation": "v",
         "showlegend": true,
         "textposition": "auto",
         "type": "bar",
         "x": [
          "8/16/21"
         ],
         "xaxis": "x",
         "y": [
          20378570
         ],
         "yaxis": "y"
        },
        {
         "alignmentgroup": "True",
         "hovertemplate": "color=8/17/21<br>x=%{x}<br>y=%{y}<extra></extra>",
         "legendgroup": "8/17/21",
         "marker": {
          "color": "#ab63fa",
          "pattern": {
           "shape": ""
          }
         },
         "name": "8/17/21",
         "offsetgroup": "8/17/21",
         "orientation": "v",
         "showlegend": true,
         "textposition": "auto",
         "type": "bar",
         "x": [
          "8/17/21"
         ],
         "xaxis": "x",
         "y": [
          20416183
         ],
         "yaxis": "y"
        },
        {
         "alignmentgroup": "True",
         "hovertemplate": "color=8/18/21<br>x=%{x}<br>y=%{y}<extra></extra>",
         "legendgroup": "8/18/21",
         "marker": {
          "color": "#FFA15A",
          "pattern": {
           "shape": ""
          }
         },
         "name": "8/18/21",
         "offsetgroup": "8/18/21",
         "orientation": "v",
         "showlegend": true,
         "textposition": "auto",
         "type": "bar",
         "x": [
          "8/18/21"
         ],
         "xaxis": "x",
         "y": [
          20457897
         ],
         "yaxis": "y"
        },
        {
         "alignmentgroup": "True",
         "hovertemplate": "color=8/19/21<br>x=%{x}<br>y=%{y}<extra></extra>",
         "legendgroup": "8/19/21",
         "marker": {
          "color": "#19d3f3",
          "pattern": {
           "shape": ""
          }
         },
         "name": "8/19/21",
         "offsetgroup": "8/19/21",
         "orientation": "v",
         "showlegend": true,
         "textposition": "auto",
         "type": "bar",
         "x": [
          "8/19/21"
         ],
         "xaxis": "x",
         "y": [
          20494212
         ],
         "yaxis": "y"
        },
        {
         "alignmentgroup": "True",
         "hovertemplate": "color=8/20/21<br>x=%{x}<br>y=%{y}<extra></extra>",
         "legendgroup": "8/20/21",
         "marker": {
          "color": "#FF6692",
          "pattern": {
           "shape": ""
          }
         },
         "name": "8/20/21",
         "offsetgroup": "8/20/21",
         "orientation": "v",
         "showlegend": true,
         "textposition": "auto",
         "type": "bar",
         "x": [
          "8/20/21"
         ],
         "xaxis": "x",
         "y": [
          20528099
         ],
         "yaxis": "y"
        },
        {
         "alignmentgroup": "True",
         "hovertemplate": "color=8/21/21<br>x=%{x}<br>y=%{y}<extra></extra>",
         "legendgroup": "8/21/21",
         "marker": {
          "color": "#B6E880",
          "pattern": {
           "shape": ""
          }
         },
         "name": "8/21/21",
         "offsetgroup": "8/21/21",
         "orientation": "v",
         "showlegend": true,
         "textposition": "auto",
         "type": "bar",
         "x": [
          "8/21/21"
         ],
         "xaxis": "x",
         "y": [
          20556487
         ],
         "yaxis": "y"
        },
        {
         "alignmentgroup": "True",
         "hovertemplate": "color=8/22/21<br>x=%{x}<br>y=%{y}<extra></extra>",
         "legendgroup": "8/22/21",
         "marker": {
          "color": "#FF97FF",
          "pattern": {
           "shape": ""
          }
         },
         "name": "8/22/21",
         "offsetgroup": "8/22/21",
         "orientation": "v",
         "showlegend": true,
         "textposition": "auto",
         "type": "bar",
         "x": [
          "8/22/21"
         ],
         "xaxis": "x",
         "y": [
          20570891
         ],
         "yaxis": "y"
        },
        {
         "alignmentgroup": "True",
         "hovertemplate": "color=8/23/21<br>x=%{x}<br>y=%{y}<extra></extra>",
         "legendgroup": "8/23/21",
         "marker": {
          "color": "#FECB52",
          "pattern": {
           "shape": ""
          }
         },
         "name": "8/23/21",
         "offsetgroup": "8/23/21",
         "orientation": "v",
         "showlegend": true,
         "textposition": "auto",
         "type": "bar",
         "x": [
          "8/23/21"
         ],
         "xaxis": "x",
         "y": [
          20583994
         ],
         "yaxis": "y"
        },
        {
         "alignmentgroup": "True",
         "hovertemplate": "color=8/24/21<br>x=%{x}<br>y=%{y}<extra></extra>",
         "legendgroup": "8/24/21",
         "marker": {
          "color": "#636efa",
          "pattern": {
           "shape": ""
          }
         },
         "name": "8/24/21",
         "offsetgroup": "8/24/21",
         "orientation": "v",
         "showlegend": true,
         "textposition": "auto",
         "type": "bar",
         "x": [
          "8/24/21"
         ],
         "xaxis": "x",
         "y": [
          20614866
         ],
         "yaxis": "y"
        },
        {
         "alignmentgroup": "True",
         "hovertemplate": "color=8/25/21<br>x=%{x}<br>y=%{y}<extra></extra>",
         "legendgroup": "8/25/21",
         "marker": {
          "color": "#EF553B",
          "pattern": {
           "shape": ""
          }
         },
         "name": "8/25/21",
         "offsetgroup": "8/25/21",
         "orientation": "v",
         "showlegend": true,
         "textposition": "auto",
         "type": "bar",
         "x": [
          "8/25/21"
         ],
         "xaxis": "x",
         "y": [
          20645537
         ],
         "yaxis": "y"
        },
        {
         "alignmentgroup": "True",
         "hovertemplate": "color=8/26/21<br>x=%{x}<br>y=%{y}<extra></extra>",
         "legendgroup": "8/26/21",
         "marker": {
          "color": "#00cc96",
          "pattern": {
           "shape": ""
          }
         },
         "name": "8/26/21",
         "offsetgroup": "8/26/21",
         "orientation": "v",
         "showlegend": true,
         "textposition": "auto",
         "type": "bar",
         "x": [
          "8/26/21"
         ],
         "xaxis": "x",
         "y": [
          20676561
         ],
         "yaxis": "y"
        },
        {
         "alignmentgroup": "True",
         "hovertemplate": "color=8/27/21<br>x=%{x}<br>y=%{y}<extra></extra>",
         "legendgroup": "8/27/21",
         "marker": {
          "color": "#ab63fa",
          "pattern": {
           "shape": ""
          }
         },
         "name": "8/27/21",
         "offsetgroup": "8/27/21",
         "orientation": "v",
         "showlegend": true,
         "textposition": "auto",
         "type": "bar",
         "x": [
          "8/27/21"
         ],
         "xaxis": "x",
         "y": [
          20703906
         ],
         "yaxis": "y"
        },
        {
         "alignmentgroup": "True",
         "hovertemplate": "color=8/28/21<br>x=%{x}<br>y=%{y}<extra></extra>",
         "legendgroup": "8/28/21",
         "marker": {
          "color": "#FFA15A",
          "pattern": {
           "shape": ""
          }
         },
         "name": "8/28/21",
         "offsetgroup": "8/28/21",
         "orientation": "v",
         "showlegend": true,
         "textposition": "auto",
         "type": "bar",
         "x": [
          "8/28/21"
         ],
         "xaxis": "x",
         "y": [
          20728605
         ],
         "yaxis": "y"
        },
        {
         "alignmentgroup": "True",
         "hovertemplate": "color=8/29/21<br>x=%{x}<br>y=%{y}<extra></extra>",
         "legendgroup": "8/29/21",
         "marker": {
          "color": "#19d3f3",
          "pattern": {
           "shape": ""
          }
         },
         "name": "8/29/21",
         "offsetgroup": "8/29/21",
         "orientation": "v",
         "showlegend": true,
         "textposition": "auto",
         "type": "bar",
         "x": [
          "8/29/21"
         ],
         "xaxis": "x",
         "y": [
          20741815
         ],
         "yaxis": "y"
        },
        {
         "alignmentgroup": "True",
         "hovertemplate": "color=8/30/21<br>x=%{x}<br>y=%{y}<extra></extra>",
         "legendgroup": "8/30/21",
         "marker": {
          "color": "#FF6692",
          "pattern": {
           "shape": ""
          }
         },
         "name": "8/30/21",
         "offsetgroup": "8/30/21",
         "orientation": "v",
         "showlegend": true,
         "textposition": "auto",
         "type": "bar",
         "x": [
          "8/30/21"
         ],
         "xaxis": "x",
         "y": [
          20752281
         ],
         "yaxis": "y"
        },
        {
         "alignmentgroup": "True",
         "hovertemplate": "color=8/31/21<br>x=%{x}<br>y=%{y}<extra></extra>",
         "legendgroup": "8/31/21",
         "marker": {
          "color": "#B6E880",
          "pattern": {
           "shape": ""
          }
         },
         "name": "8/31/21",
         "offsetgroup": "8/31/21",
         "orientation": "v",
         "showlegend": true,
         "textposition": "auto",
         "type": "bar",
         "x": [
          "8/31/21"
         ],
         "xaxis": "x",
         "y": [
          20776870
         ],
         "yaxis": "y"
        },
        {
         "alignmentgroup": "True",
         "hovertemplate": "color=9/1/21<br>x=%{x}<br>y=%{y}<extra></extra>",
         "legendgroup": "9/1/21",
         "marker": {
          "color": "#FF97FF",
          "pattern": {
           "shape": ""
          }
         },
         "name": "9/1/21",
         "offsetgroup": "9/1/21",
         "orientation": "v",
         "showlegend": true,
         "textposition": "auto",
         "type": "bar",
         "x": [
          "9/1/21"
         ],
         "xaxis": "x",
         "y": [
          20804215
         ],
         "yaxis": "y"
        },
        {
         "alignmentgroup": "True",
         "hovertemplate": "color=9/2/21<br>x=%{x}<br>y=%{y}<extra></extra>",
         "legendgroup": "9/2/21",
         "marker": {
          "color": "#FECB52",
          "pattern": {
           "shape": ""
          }
         },
         "name": "9/2/21",
         "offsetgroup": "9/2/21",
         "orientation": "v",
         "showlegend": true,
         "textposition": "auto",
         "type": "bar",
         "x": [
          "9/2/21"
         ],
         "xaxis": "x",
         "y": [
          20830495
         ],
         "yaxis": "y"
        },
        {
         "alignmentgroup": "True",
         "hovertemplate": "color=9/3/21<br>x=%{x}<br>y=%{y}<extra></extra>",
         "legendgroup": "9/3/21",
         "marker": {
          "color": "#636efa",
          "pattern": {
           "shape": ""
          }
         },
         "name": "9/3/21",
         "offsetgroup": "9/3/21",
         "orientation": "v",
         "showlegend": true,
         "textposition": "auto",
         "type": "bar",
         "x": [
          "9/3/21"
         ],
         "xaxis": "x",
         "y": [
          20856060
         ],
         "yaxis": "y"
        },
        {
         "alignmentgroup": "True",
         "hovertemplate": "color=9/4/21<br>x=%{x}<br>y=%{y}<extra></extra>",
         "legendgroup": "9/4/21",
         "marker": {
          "color": "#EF553B",
          "pattern": {
           "shape": ""
          }
         },
         "name": "9/4/21",
         "offsetgroup": "9/4/21",
         "orientation": "v",
         "showlegend": true,
         "textposition": "auto",
         "type": "bar",
         "x": [
          "9/4/21"
         ],
         "xaxis": "x",
         "y": [
          20877864
         ],
         "yaxis": "y"
        },
        {
         "alignmentgroup": "True",
         "hovertemplate": "color=9/5/21<br>x=%{x}<br>y=%{y}<extra></extra>",
         "legendgroup": "9/5/21",
         "marker": {
          "color": "#00cc96",
          "pattern": {
           "shape": ""
          }
         },
         "name": "9/5/21",
         "offsetgroup": "9/5/21",
         "orientation": "v",
         "showlegend": true,
         "textposition": "auto",
         "type": "bar",
         "x": [
          "9/5/21"
         ],
         "xaxis": "x",
         "y": [
          20890779
         ],
         "yaxis": "y"
        },
        {
         "alignmentgroup": "True",
         "hovertemplate": "color=9/6/21<br>x=%{x}<br>y=%{y}<extra></extra>",
         "legendgroup": "9/6/21",
         "marker": {
          "color": "#ab63fa",
          "pattern": {
           "shape": ""
          }
         },
         "name": "9/6/21",
         "offsetgroup": "9/6/21",
         "orientation": "v",
         "showlegend": true,
         "textposition": "auto",
         "type": "bar",
         "x": [
          "9/6/21"
         ],
         "xaxis": "x",
         "y": [
          20899933
         ],
         "yaxis": "y"
        },
        {
         "alignmentgroup": "True",
         "hovertemplate": "color=9/7/21<br>x=%{x}<br>y=%{y}<extra></extra>",
         "legendgroup": "9/7/21",
         "marker": {
          "color": "#FFA15A",
          "pattern": {
           "shape": ""
          }
         },
         "name": "9/7/21",
         "offsetgroup": "9/7/21",
         "orientation": "v",
         "showlegend": true,
         "textposition": "auto",
         "type": "bar",
         "x": [
          "9/7/21"
         ],
         "xaxis": "x",
         "y": [
          20914237
         ],
         "yaxis": "y"
        },
        {
         "alignmentgroup": "True",
         "hovertemplate": "color=9/8/21<br>x=%{x}<br>y=%{y}<extra></extra>",
         "legendgroup": "9/8/21",
         "marker": {
          "color": "#19d3f3",
          "pattern": {
           "shape": ""
          }
         },
         "name": "9/8/21",
         "offsetgroup": "9/8/21",
         "orientation": "v",
         "showlegend": true,
         "textposition": "auto",
         "type": "bar",
         "x": [
          "9/8/21"
         ],
         "xaxis": "x",
         "y": [
          20928008
         ],
         "yaxis": "y"
        },
        {
         "alignmentgroup": "True",
         "hovertemplate": "color=9/9/21<br>x=%{x}<br>y=%{y}<extra></extra>",
         "legendgroup": "9/9/21",
         "marker": {
          "color": "#FF6692",
          "pattern": {
           "shape": ""
          }
         },
         "name": "9/9/21",
         "offsetgroup": "9/9/21",
         "orientation": "v",
         "showlegend": true,
         "textposition": "auto",
         "type": "bar",
         "x": [
          "9/9/21"
         ],
         "xaxis": "x",
         "y": [
          20958899
         ],
         "yaxis": "y"
        },
        {
         "alignmentgroup": "True",
         "hovertemplate": "color=9/10/21<br>x=%{x}<br>y=%{y}<extra></extra>",
         "legendgroup": "9/10/21",
         "marker": {
          "color": "#B6E880",
          "pattern": {
           "shape": ""
          }
         },
         "name": "9/10/21",
         "offsetgroup": "9/10/21",
         "orientation": "v",
         "showlegend": true,
         "textposition": "auto",
         "type": "bar",
         "x": [
          "9/10/21"
         ],
         "xaxis": "x",
         "y": [
          20974850
         ],
         "yaxis": "y"
        },
        {
         "alignmentgroup": "True",
         "hovertemplate": "color=9/11/21<br>x=%{x}<br>y=%{y}<extra></extra>",
         "legendgroup": "9/11/21",
         "marker": {
          "color": "#FF97FF",
          "pattern": {
           "shape": ""
          }
         },
         "name": "9/11/21",
         "offsetgroup": "9/11/21",
         "orientation": "v",
         "showlegend": true,
         "textposition": "auto",
         "type": "bar",
         "x": [
          "9/11/21"
         ],
         "xaxis": "x",
         "y": [
          20989164
         ],
         "yaxis": "y"
        },
        {
         "alignmentgroup": "True",
         "hovertemplate": "color=9/12/21<br>x=%{x}<br>y=%{y}<extra></extra>",
         "legendgroup": "9/12/21",
         "marker": {
          "color": "#FECB52",
          "pattern": {
           "shape": ""
          }
         },
         "name": "9/12/21",
         "offsetgroup": "9/12/21",
         "orientation": "v",
         "showlegend": true,
         "textposition": "auto",
         "type": "bar",
         "x": [
          "9/12/21"
         ],
         "xaxis": "x",
         "y": [
          20999779
         ],
         "yaxis": "y"
        },
        {
         "alignmentgroup": "True",
         "hovertemplate": "color=9/13/21<br>x=%{x}<br>y=%{y}<extra></extra>",
         "legendgroup": "9/13/21",
         "marker": {
          "color": "#636efa",
          "pattern": {
           "shape": ""
          }
         },
         "name": "9/13/21",
         "offsetgroup": "9/13/21",
         "orientation": "v",
         "showlegend": true,
         "textposition": "auto",
         "type": "bar",
         "x": [
          "9/13/21"
         ],
         "xaxis": "x",
         "y": [
          21006424
         ],
         "yaxis": "y"
        },
        {
         "alignmentgroup": "True",
         "hovertemplate": "color=9/14/21<br>x=%{x}<br>y=%{y}<extra></extra>",
         "legendgroup": "9/14/21",
         "marker": {
          "color": "#EF553B",
          "pattern": {
           "shape": ""
          }
         },
         "name": "9/14/21",
         "offsetgroup": "9/14/21",
         "orientation": "v",
         "showlegend": true,
         "textposition": "auto",
         "type": "bar",
         "x": [
          "9/14/21"
         ],
         "xaxis": "x",
         "y": [
          21019830
         ],
         "yaxis": "y"
        },
        {
         "alignmentgroup": "True",
         "hovertemplate": "color=9/15/21<br>x=%{x}<br>y=%{y}<extra></extra>",
         "legendgroup": "9/15/21",
         "marker": {
          "color": "#00cc96",
          "pattern": {
           "shape": ""
          }
         },
         "name": "9/15/21",
         "offsetgroup": "9/15/21",
         "orientation": "v",
         "showlegend": true,
         "textposition": "auto",
         "type": "bar",
         "x": [
          "9/15/21"
         ],
         "xaxis": "x",
         "y": [
          21034610
         ],
         "yaxis": "y"
        },
        {
         "alignmentgroup": "True",
         "hovertemplate": "color=9/16/21<br>x=%{x}<br>y=%{y}<extra></extra>",
         "legendgroup": "9/16/21",
         "marker": {
          "color": "#ab63fa",
          "pattern": {
           "shape": ""
          }
         },
         "name": "9/16/21",
         "offsetgroup": "9/16/21",
         "orientation": "v",
         "showlegend": true,
         "textposition": "auto",
         "type": "bar",
         "x": [
          "9/16/21"
         ],
         "xaxis": "x",
         "y": [
          21069017
         ],
         "yaxis": "y"
        },
        {
         "alignmentgroup": "True",
         "hovertemplate": "color=9/17/21<br>x=%{x}<br>y=%{y}<extra></extra>",
         "legendgroup": "9/17/21",
         "marker": {
          "color": "#FFA15A",
          "pattern": {
           "shape": ""
          }
         },
         "name": "9/17/21",
         "offsetgroup": "9/17/21",
         "orientation": "v",
         "showlegend": true,
         "textposition": "auto",
         "type": "bar",
         "x": [
          "9/17/21"
         ],
         "xaxis": "x",
         "y": [
          21080219
         ],
         "yaxis": "y"
        },
        {
         "alignmentgroup": "True",
         "hovertemplate": "color=9/18/21<br>x=%{x}<br>y=%{y}<extra></extra>",
         "legendgroup": "9/18/21",
         "marker": {
          "color": "#19d3f3",
          "pattern": {
           "shape": ""
          }
         },
         "name": "9/18/21",
         "offsetgroup": "9/18/21",
         "orientation": "v",
         "showlegend": true,
         "textposition": "auto",
         "type": "bar",
         "x": [
          "9/18/21"
         ],
         "xaxis": "x",
         "y": [
          21230325
         ],
         "yaxis": "y"
        },
        {
         "alignmentgroup": "True",
         "hovertemplate": "color=9/19/21<br>x=%{x}<br>y=%{y}<extra></extra>",
         "legendgroup": "9/19/21",
         "marker": {
          "color": "#FF6692",
          "pattern": {
           "shape": ""
          }
         },
         "name": "9/19/21",
         "offsetgroup": "9/19/21",
         "orientation": "v",
         "showlegend": true,
         "textposition": "auto",
         "type": "bar",
         "x": [
          "9/19/21"
         ],
         "xaxis": "x",
         "y": [
          21239783
         ],
         "yaxis": "y"
        },
        {
         "alignmentgroup": "True",
         "hovertemplate": "color=9/20/21<br>x=%{x}<br>y=%{y}<extra></extra>",
         "legendgroup": "9/20/21",
         "marker": {
          "color": "#B6E880",
          "pattern": {
           "shape": ""
          }
         },
         "name": "9/20/21",
         "offsetgroup": "9/20/21",
         "orientation": "v",
         "showlegend": true,
         "textposition": "auto",
         "type": "bar",
         "x": [
          "9/20/21"
         ],
         "xaxis": "x",
         "y": [
          21247667
         ],
         "yaxis": "y"
        },
        {
         "alignmentgroup": "True",
         "hovertemplate": "color=9/21/21<br>x=%{x}<br>y=%{y}<extra></extra>",
         "legendgroup": "9/21/21",
         "marker": {
          "color": "#FF97FF",
          "pattern": {
           "shape": ""
          }
         },
         "name": "9/21/21",
         "offsetgroup": "9/21/21",
         "orientation": "v",
         "showlegend": true,
         "textposition": "auto",
         "type": "bar",
         "x": [
          "9/21/21"
         ],
         "xaxis": "x",
         "y": [
          21247094
         ],
         "yaxis": "y"
        },
        {
         "alignmentgroup": "True",
         "hovertemplate": "color=9/22/21<br>x=%{x}<br>y=%{y}<extra></extra>",
         "legendgroup": "9/22/21",
         "marker": {
          "color": "#FECB52",
          "pattern": {
           "shape": ""
          }
         },
         "name": "9/22/21",
         "offsetgroup": "9/22/21",
         "orientation": "v",
         "showlegend": true,
         "textposition": "auto",
         "type": "bar",
         "x": [
          "9/22/21"
         ],
         "xaxis": "x",
         "y": [
          21283567
         ],
         "yaxis": "y"
        },
        {
         "alignmentgroup": "True",
         "hovertemplate": "color=9/23/21<br>x=%{x}<br>y=%{y}<extra></extra>",
         "legendgroup": "9/23/21",
         "marker": {
          "color": "#636efa",
          "pattern": {
           "shape": ""
          }
         },
         "name": "9/23/21",
         "offsetgroup": "9/23/21",
         "orientation": "v",
         "showlegend": true,
         "textposition": "auto",
         "type": "bar",
         "x": [
          "9/23/21"
         ],
         "xaxis": "x",
         "y": [
          21308178
         ],
         "yaxis": "y"
        },
        {
         "alignmentgroup": "True",
         "hovertemplate": "color=9/24/21<br>x=%{x}<br>y=%{y}<extra></extra>",
         "legendgroup": "9/24/21",
         "marker": {
          "color": "#EF553B",
          "pattern": {
           "shape": ""
          }
         },
         "name": "9/24/21",
         "offsetgroup": "9/24/21",
         "orientation": "v",
         "showlegend": true,
         "textposition": "auto",
         "type": "bar",
         "x": [
          "9/24/21"
         ],
         "xaxis": "x",
         "y": [
          21327616
         ],
         "yaxis": "y"
        },
        {
         "alignmentgroup": "True",
         "hovertemplate": "color=9/25/21<br>x=%{x}<br>y=%{y}<extra></extra>",
         "legendgroup": "9/25/21",
         "marker": {
          "color": "#00cc96",
          "pattern": {
           "shape": ""
          }
         },
         "name": "9/25/21",
         "offsetgroup": "9/25/21",
         "orientation": "v",
         "showlegend": true,
         "textposition": "auto",
         "type": "bar",
         "x": [
          "9/25/21"
         ],
         "xaxis": "x",
         "y": [
          21343304
         ],
         "yaxis": "y"
        },
        {
         "alignmentgroup": "True",
         "hovertemplate": "color=9/26/21<br>x=%{x}<br>y=%{y}<extra></extra>",
         "legendgroup": "9/26/21",
         "marker": {
          "color": "#ab63fa",
          "pattern": {
           "shape": ""
          }
         },
         "name": "9/26/21",
         "offsetgroup": "9/26/21",
         "orientation": "v",
         "showlegend": true,
         "textposition": "auto",
         "type": "bar",
         "x": [
          "9/26/21"
         ],
         "xaxis": "x",
         "y": [
          21351972
         ],
         "yaxis": "y"
        },
        {
         "alignmentgroup": "True",
         "hovertemplate": "color=9/27/21<br>x=%{x}<br>y=%{y}<extra></extra>",
         "legendgroup": "9/27/21",
         "marker": {
          "color": "#FFA15A",
          "pattern": {
           "shape": ""
          }
         },
         "name": "9/27/21",
         "offsetgroup": "9/27/21",
         "orientation": "v",
         "showlegend": true,
         "textposition": "auto",
         "type": "bar",
         "x": [
          "9/27/21"
         ],
         "xaxis": "x",
         "y": [
          21366395
         ],
         "yaxis": "y"
        },
        {
         "alignmentgroup": "True",
         "hovertemplate": "color=9/28/21<br>x=%{x}<br>y=%{y}<extra></extra>",
         "legendgroup": "9/28/21",
         "marker": {
          "color": "#19d3f3",
          "pattern": {
           "shape": ""
          }
         },
         "name": "9/28/21",
         "offsetgroup": "9/28/21",
         "orientation": "v",
         "showlegend": true,
         "textposition": "auto",
         "type": "bar",
         "x": [
          "9/28/21"
         ],
         "xaxis": "x",
         "y": [
          21381790
         ],
         "yaxis": "y"
        },
        {
         "alignmentgroup": "True",
         "hovertemplate": "color=9/29/21<br>x=%{x}<br>y=%{y}<extra></extra>",
         "legendgroup": "9/29/21",
         "marker": {
          "color": "#FF6692",
          "pattern": {
           "shape": ""
          }
         },
         "name": "9/29/21",
         "offsetgroup": "9/29/21",
         "orientation": "v",
         "showlegend": true,
         "textposition": "auto",
         "type": "bar",
         "x": [
          "9/29/21"
         ],
         "xaxis": "x",
         "y": [
          21399546
         ],
         "yaxis": "y"
        },
        {
         "alignmentgroup": "True",
         "hovertemplate": "color=9/30/21<br>x=%{x}<br>y=%{y}<extra></extra>",
         "legendgroup": "9/30/21",
         "marker": {
          "color": "#B6E880",
          "pattern": {
           "shape": ""
          }
         },
         "name": "9/30/21",
         "offsetgroup": "9/30/21",
         "orientation": "v",
         "showlegend": true,
         "textposition": "auto",
         "type": "bar",
         "x": [
          "9/30/21"
         ],
         "xaxis": "x",
         "y": [
          21427073
         ],
         "yaxis": "y"
        },
        {
         "alignmentgroup": "True",
         "hovertemplate": "color=10/1/21<br>x=%{x}<br>y=%{y}<extra></extra>",
         "legendgroup": "10/1/21",
         "marker": {
          "color": "#FF97FF",
          "pattern": {
           "shape": ""
          }
         },
         "name": "10/1/21",
         "offsetgroup": "10/1/21",
         "orientation": "v",
         "showlegend": true,
         "textposition": "auto",
         "type": "bar",
         "x": [
          "10/1/21"
         ],
         "xaxis": "x",
         "y": [
          21445651
         ],
         "yaxis": "y"
        },
        {
         "alignmentgroup": "True",
         "hovertemplate": "color=10/2/21<br>x=%{x}<br>y=%{y}<extra></extra>",
         "legendgroup": "10/2/21",
         "marker": {
          "color": "#FECB52",
          "pattern": {
           "shape": ""
          }
         },
         "name": "10/2/21",
         "offsetgroup": "10/2/21",
         "orientation": "v",
         "showlegend": true,
         "textposition": "auto",
         "type": "bar",
         "x": [
          "10/2/21"
         ],
         "xaxis": "x",
         "y": [
          21459117
         ],
         "yaxis": "y"
        },
        {
         "alignmentgroup": "True",
         "hovertemplate": "color=10/3/21<br>x=%{x}<br>y=%{y}<extra></extra>",
         "legendgroup": "10/3/21",
         "marker": {
          "color": "#636efa",
          "pattern": {
           "shape": ""
          }
         },
         "name": "10/3/21",
         "offsetgroup": "10/3/21",
         "orientation": "v",
         "showlegend": true,
         "textposition": "auto",
         "type": "bar",
         "x": [
          "10/3/21"
         ],
         "xaxis": "x",
         "y": [
          21468121
         ],
         "yaxis": "y"
        },
        {
         "alignmentgroup": "True",
         "hovertemplate": "color=10/4/21<br>x=%{x}<br>y=%{y}<extra></extra>",
         "legendgroup": "10/4/21",
         "marker": {
          "color": "#EF553B",
          "pattern": {
           "shape": ""
          }
         },
         "name": "10/4/21",
         "offsetgroup": "10/4/21",
         "orientation": "v",
         "showlegend": true,
         "textposition": "auto",
         "type": "bar",
         "x": [
          "10/4/21"
         ],
         "xaxis": "x",
         "y": [
          21478546
         ],
         "yaxis": "y"
        },
        {
         "alignmentgroup": "True",
         "hovertemplate": "color=10/5/21<br>x=%{x}<br>y=%{y}<extra></extra>",
         "legendgroup": "10/5/21",
         "marker": {
          "color": "#00cc96",
          "pattern": {
           "shape": ""
          }
         },
         "name": "10/5/21",
         "offsetgroup": "10/5/21",
         "orientation": "v",
         "showlegend": true,
         "textposition": "auto",
         "type": "bar",
         "x": [
          "10/5/21"
         ],
         "xaxis": "x",
         "y": [
          21499074
         ],
         "yaxis": "y"
        },
        {
         "alignmentgroup": "True",
         "hovertemplate": "color=10/6/21<br>x=%{x}<br>y=%{y}<extra></extra>",
         "legendgroup": "10/6/21",
         "marker": {
          "color": "#ab63fa",
          "pattern": {
           "shape": ""
          }
         },
         "name": "10/6/21",
         "offsetgroup": "10/6/21",
         "orientation": "v",
         "showlegend": true,
         "textposition": "auto",
         "type": "bar",
         "x": [
          "10/6/21"
         ],
         "xaxis": "x",
         "y": [
          21516967
         ],
         "yaxis": "y"
        },
        {
         "alignmentgroup": "True",
         "hovertemplate": "color=10/7/21<br>x=%{x}<br>y=%{y}<extra></extra>",
         "legendgroup": "10/7/21",
         "marker": {
          "color": "#FFA15A",
          "pattern": {
           "shape": ""
          }
         },
         "name": "10/7/21",
         "offsetgroup": "10/7/21",
         "orientation": "v",
         "showlegend": true,
         "textposition": "auto",
         "type": "bar",
         "x": [
          "10/7/21"
         ],
         "xaxis": "x",
         "y": [
          21532558
         ],
         "yaxis": "y"
        },
        {
         "alignmentgroup": "True",
         "hovertemplate": "color=10/8/21<br>x=%{x}<br>y=%{y}<extra></extra>",
         "legendgroup": "10/8/21",
         "marker": {
          "color": "#19d3f3",
          "pattern": {
           "shape": ""
          }
         },
         "name": "10/8/21",
         "offsetgroup": "10/8/21",
         "orientation": "v",
         "showlegend": true,
         "textposition": "auto",
         "type": "bar",
         "x": [
          "10/8/21"
         ],
         "xaxis": "x",
         "y": [
          21550730
         ],
         "yaxis": "y"
        },
        {
         "alignmentgroup": "True",
         "hovertemplate": "color=10/9/21<br>x=%{x}<br>y=%{y}<extra></extra>",
         "legendgroup": "10/9/21",
         "marker": {
          "color": "#FF6692",
          "pattern": {
           "shape": ""
          }
         },
         "name": "10/9/21",
         "offsetgroup": "10/9/21",
         "orientation": "v",
         "showlegend": true,
         "textposition": "auto",
         "type": "bar",
         "x": [
          "10/9/21"
         ],
         "xaxis": "x",
         "y": [
          21567181
         ],
         "yaxis": "y"
        },
        {
         "alignmentgroup": "True",
         "hovertemplate": "color=10/10/21<br>x=%{x}<br>y=%{y}<extra></extra>",
         "legendgroup": "10/10/21",
         "marker": {
          "color": "#B6E880",
          "pattern": {
           "shape": ""
          }
         },
         "name": "10/10/21",
         "offsetgroup": "10/10/21",
         "orientation": "v",
         "showlegend": true,
         "textposition": "auto",
         "type": "bar",
         "x": [
          "10/10/21"
         ],
         "xaxis": "x",
         "y": [
          21575820
         ],
         "yaxis": "y"
        },
        {
         "alignmentgroup": "True",
         "hovertemplate": "color=10/11/21<br>x=%{x}<br>y=%{y}<extra></extra>",
         "legendgroup": "10/11/21",
         "marker": {
          "color": "#FF97FF",
          "pattern": {
           "shape": ""
          }
         },
         "name": "10/11/21",
         "offsetgroup": "10/11/21",
         "orientation": "v",
         "showlegend": true,
         "textposition": "auto",
         "type": "bar",
         "x": [
          "10/11/21"
         ],
         "xaxis": "x",
         "y": [
          21582738
         ],
         "yaxis": "y"
        },
        {
         "alignmentgroup": "True",
         "hovertemplate": "color=10/12/21<br>x=%{x}<br>y=%{y}<extra></extra>",
         "legendgroup": "10/12/21",
         "marker": {
          "color": "#FECB52",
          "pattern": {
           "shape": ""
          }
         },
         "name": "10/12/21",
         "offsetgroup": "10/12/21",
         "orientation": "v",
         "showlegend": true,
         "textposition": "auto",
         "type": "bar",
         "x": [
          "10/12/21"
         ],
         "xaxis": "x",
         "y": [
          21590097
         ],
         "yaxis": "y"
        },
        {
         "alignmentgroup": "True",
         "hovertemplate": "color=10/13/21<br>x=%{x}<br>y=%{y}<extra></extra>",
         "legendgroup": "10/13/21",
         "marker": {
          "color": "#636efa",
          "pattern": {
           "shape": ""
          }
         },
         "name": "10/13/21",
         "offsetgroup": "10/13/21",
         "orientation": "v",
         "showlegend": true,
         "textposition": "auto",
         "type": "bar",
         "x": [
          "10/13/21"
         ],
         "xaxis": "x",
         "y": [
          21597949
         ],
         "yaxis": "y"
        },
        {
         "alignmentgroup": "True",
         "hovertemplate": "color=10/14/21<br>x=%{x}<br>y=%{y}<extra></extra>",
         "legendgroup": "10/14/21",
         "marker": {
          "color": "#EF553B",
          "pattern": {
           "shape": ""
          }
         },
         "name": "10/14/21",
         "offsetgroup": "10/14/21",
         "orientation": "v",
         "showlegend": true,
         "textposition": "auto",
         "type": "bar",
         "x": [
          "10/14/21"
         ],
         "xaxis": "x",
         "y": [
          21612237
         ],
         "yaxis": "y"
        },
        {
         "alignmentgroup": "True",
         "hovertemplate": "color=10/15/21<br>x=%{x}<br>y=%{y}<extra></extra>",
         "legendgroup": "10/15/21",
         "marker": {
          "color": "#00cc96",
          "pattern": {
           "shape": ""
          }
         },
         "name": "10/15/21",
         "offsetgroup": "10/15/21",
         "orientation": "v",
         "showlegend": true,
         "textposition": "auto",
         "type": "bar",
         "x": [
          "10/15/21"
         ],
         "xaxis": "x",
         "y": [
          21627476
         ],
         "yaxis": "y"
        },
        {
         "alignmentgroup": "True",
         "hovertemplate": "color=10/16/21<br>x=%{x}<br>y=%{y}<extra></extra>",
         "legendgroup": "10/16/21",
         "marker": {
          "color": "#ab63fa",
          "pattern": {
           "shape": ""
          }
         },
         "name": "10/16/21",
         "offsetgroup": "10/16/21",
         "orientation": "v",
         "showlegend": true,
         "textposition": "auto",
         "type": "bar",
         "x": [
          "10/16/21"
         ],
         "xaxis": "x",
         "y": [
          21638726
         ],
         "yaxis": "y"
        },
        {
         "alignmentgroup": "True",
         "hovertemplate": "color=10/17/21<br>x=%{x}<br>y=%{y}<extra></extra>",
         "legendgroup": "10/17/21",
         "marker": {
          "color": "#FFA15A",
          "pattern": {
           "shape": ""
          }
         },
         "name": "10/17/21",
         "offsetgroup": "10/17/21",
         "orientation": "v",
         "showlegend": true,
         "textposition": "auto",
         "type": "bar",
         "x": [
          "10/17/21"
         ],
         "xaxis": "x",
         "y": [
          21644464
         ],
         "yaxis": "y"
        },
        {
         "alignmentgroup": "True",
         "hovertemplate": "color=10/18/21<br>x=%{x}<br>y=%{y}<extra></extra>",
         "legendgroup": "10/18/21",
         "marker": {
          "color": "#19d3f3",
          "pattern": {
           "shape": ""
          }
         },
         "name": "10/18/21",
         "offsetgroup": "10/18/21",
         "orientation": "v",
         "showlegend": true,
         "textposition": "auto",
         "type": "bar",
         "x": [
          "10/18/21"
         ],
         "xaxis": "x",
         "y": [
          21651910
         ],
         "yaxis": "y"
        },
        {
         "alignmentgroup": "True",
         "hovertemplate": "color=10/19/21<br>x=%{x}<br>y=%{y}<extra></extra>",
         "legendgroup": "10/19/21",
         "marker": {
          "color": "#FF6692",
          "pattern": {
           "shape": ""
          }
         },
         "name": "10/19/21",
         "offsetgroup": "10/19/21",
         "orientation": "v",
         "showlegend": true,
         "textposition": "auto",
         "type": "bar",
         "x": [
          "10/19/21"
         ],
         "xaxis": "x",
         "y": [
          21664879
         ],
         "yaxis": "y"
        },
        {
         "alignmentgroup": "True",
         "hovertemplate": "color=10/20/21<br>x=%{x}<br>y=%{y}<extra></extra>",
         "legendgroup": "10/20/21",
         "marker": {
          "color": "#B6E880",
          "pattern": {
           "shape": ""
          }
         },
         "name": "10/20/21",
         "offsetgroup": "10/20/21",
         "orientation": "v",
         "showlegend": true,
         "textposition": "auto",
         "type": "bar",
         "x": [
          "10/20/21"
         ],
         "xaxis": "x",
         "y": [
          21680488
         ],
         "yaxis": "y"
        },
        {
         "alignmentgroup": "True",
         "hovertemplate": "color=10/21/21<br>x=%{x}<br>y=%{y}<extra></extra>",
         "legendgroup": "10/21/21",
         "marker": {
          "color": "#FF97FF",
          "pattern": {
           "shape": ""
          }
         },
         "name": "10/21/21",
         "offsetgroup": "10/21/21",
         "orientation": "v",
         "showlegend": true,
         "textposition": "auto",
         "type": "bar",
         "x": [
          "10/21/21"
         ],
         "xaxis": "x",
         "y": [
          21697341
         ],
         "yaxis": "y"
        },
        {
         "alignmentgroup": "True",
         "hovertemplate": "color=10/22/21<br>x=%{x}<br>y=%{y}<extra></extra>",
         "legendgroup": "10/22/21",
         "marker": {
          "color": "#FECB52",
          "pattern": {
           "shape": ""
          }
         },
         "name": "10/22/21",
         "offsetgroup": "10/22/21",
         "orientation": "v",
         "showlegend": true,
         "textposition": "auto",
         "type": "bar",
         "x": [
          "10/22/21"
         ],
         "xaxis": "x",
         "y": [
          21711843
         ],
         "yaxis": "y"
        },
        {
         "alignmentgroup": "True",
         "hovertemplate": "color=10/23/21<br>x=%{x}<br>y=%{y}<extra></extra>",
         "legendgroup": "10/23/21",
         "marker": {
          "color": "#636efa",
          "pattern": {
           "shape": ""
          }
         },
         "name": "10/23/21",
         "offsetgroup": "10/23/21",
         "orientation": "v",
         "showlegend": true,
         "textposition": "auto",
         "type": "bar",
         "x": [
          "10/23/21"
         ],
         "xaxis": "x",
         "y": [
          21723559
         ],
         "yaxis": "y"
        },
        {
         "alignmentgroup": "True",
         "hovertemplate": "color=10/24/21<br>x=%{x}<br>y=%{y}<extra></extra>",
         "legendgroup": "10/24/21",
         "marker": {
          "color": "#EF553B",
          "pattern": {
           "shape": ""
          }
         },
         "name": "10/24/21",
         "offsetgroup": "10/24/21",
         "orientation": "v",
         "showlegend": true,
         "textposition": "auto",
         "type": "bar",
         "x": [
          "10/24/21"
         ],
         "xaxis": "x",
         "y": [
          21729763
         ],
         "yaxis": "y"
        },
        {
         "alignmentgroup": "True",
         "hovertemplate": "color=10/25/21<br>x=%{x}<br>y=%{y}<extra></extra>",
         "legendgroup": "10/25/21",
         "marker": {
          "color": "#00cc96",
          "pattern": {
           "shape": ""
          }
         },
         "name": "10/25/21",
         "offsetgroup": "10/25/21",
         "orientation": "v",
         "showlegend": true,
         "textposition": "auto",
         "type": "bar",
         "x": [
          "10/25/21"
         ],
         "xaxis": "x",
         "y": [
          21735560
         ],
         "yaxis": "y"
        },
        {
         "alignmentgroup": "True",
         "hovertemplate": "color=10/26/21<br>x=%{x}<br>y=%{y}<extra></extra>",
         "legendgroup": "10/26/21",
         "marker": {
          "color": "#ab63fa",
          "pattern": {
           "shape": ""
          }
         },
         "name": "10/26/21",
         "offsetgroup": "10/26/21",
         "orientation": "v",
         "showlegend": true,
         "textposition": "auto",
         "type": "bar",
         "x": [
          "10/26/21"
         ],
         "xaxis": "x",
         "y": [
          21748984
         ],
         "yaxis": "y"
        },
        {
         "alignmentgroup": "True",
         "hovertemplate": "color=10/27/21<br>x=%{x}<br>y=%{y}<extra></extra>",
         "legendgroup": "10/27/21",
         "marker": {
          "color": "#FFA15A",
          "pattern": {
           "shape": ""
          }
         },
         "name": "10/27/21",
         "offsetgroup": "10/27/21",
         "orientation": "v",
         "showlegend": true,
         "textposition": "auto",
         "type": "bar",
         "x": [
          "10/27/21"
         ],
         "xaxis": "x",
         "y": [
          21766168
         ],
         "yaxis": "y"
        },
        {
         "alignmentgroup": "True",
         "hovertemplate": "color=10/28/21<br>x=%{x}<br>y=%{y}<extra></extra>",
         "legendgroup": "10/28/21",
         "marker": {
          "color": "#19d3f3",
          "pattern": {
           "shape": ""
          }
         },
         "name": "10/28/21",
         "offsetgroup": "10/28/21",
         "orientation": "v",
         "showlegend": true,
         "textposition": "auto",
         "type": "bar",
         "x": [
          "10/28/21"
         ],
         "xaxis": "x",
         "y": [
          21781436
         ],
         "yaxis": "y"
        },
        {
         "alignmentgroup": "True",
         "hovertemplate": "color=10/29/21<br>x=%{x}<br>y=%{y}<extra></extra>",
         "legendgroup": "10/29/21",
         "marker": {
          "color": "#FF6692",
          "pattern": {
           "shape": ""
          }
         },
         "name": "10/29/21",
         "offsetgroup": "10/29/21",
         "orientation": "v",
         "showlegend": true,
         "textposition": "auto",
         "type": "bar",
         "x": [
          "10/29/21"
         ],
         "xaxis": "x",
         "y": [
          21793401
         ],
         "yaxis": "y"
        },
        {
         "alignmentgroup": "True",
         "hovertemplate": "color=10/30/21<br>x=%{x}<br>y=%{y}<extra></extra>",
         "legendgroup": "10/30/21",
         "marker": {
          "color": "#B6E880",
          "pattern": {
           "shape": ""
          }
         },
         "name": "10/30/21",
         "offsetgroup": "10/30/21",
         "orientation": "v",
         "showlegend": true,
         "textposition": "auto",
         "type": "bar",
         "x": [
          "10/30/21"
         ],
         "xaxis": "x",
         "y": [
          21804094
         ],
         "yaxis": "y"
        },
        {
         "alignmentgroup": "True",
         "hovertemplate": "color=10/31/21<br>x=%{x}<br>y=%{y}<extra></extra>",
         "legendgroup": "10/31/21",
         "marker": {
          "color": "#FF97FF",
          "pattern": {
           "shape": ""
          }
         },
         "name": "10/31/21",
         "offsetgroup": "10/31/21",
         "orientation": "v",
         "showlegend": true,
         "textposition": "auto",
         "type": "bar",
         "x": [
          "10/31/21"
         ],
         "xaxis": "x",
         "y": [
          21810855
         ],
         "yaxis": "y"
        },
        {
         "alignmentgroup": "True",
         "hovertemplate": "color=11/1/21<br>x=%{x}<br>y=%{y}<extra></extra>",
         "legendgroup": "11/1/21",
         "marker": {
          "color": "#FECB52",
          "pattern": {
           "shape": ""
          }
         },
         "name": "11/1/21",
         "offsetgroup": "11/1/21",
         "orientation": "v",
         "showlegend": true,
         "textposition": "auto",
         "type": "bar",
         "x": [
          "11/1/21"
         ],
         "xaxis": "x",
         "y": [
          21814693
         ],
         "yaxis": "y"
        },
        {
         "alignmentgroup": "True",
         "hovertemplate": "color=11/2/21<br>x=%{x}<br>y=%{y}<extra></extra>",
         "legendgroup": "11/2/21",
         "marker": {
          "color": "#636efa",
          "pattern": {
           "shape": ""
          }
         },
         "name": "11/2/21",
         "offsetgroup": "11/2/21",
         "orientation": "v",
         "showlegend": true,
         "textposition": "auto",
         "type": "bar",
         "x": [
          "11/2/21"
         ],
         "xaxis": "x",
         "y": [
          21821124
         ],
         "yaxis": "y"
        },
        {
         "alignmentgroup": "True",
         "hovertemplate": "color=11/3/21<br>x=%{x}<br>y=%{y}<extra></extra>",
         "legendgroup": "11/3/21",
         "marker": {
          "color": "#EF553B",
          "pattern": {
           "shape": ""
          }
         },
         "name": "11/3/21",
         "offsetgroup": "11/3/21",
         "orientation": "v",
         "showlegend": true,
         "textposition": "auto",
         "type": "bar",
         "x": [
          "11/3/21"
         ],
         "xaxis": "x",
         "y": [
          21835785
         ],
         "yaxis": "y"
        },
        {
         "alignmentgroup": "True",
         "hovertemplate": "color=11/4/21<br>x=%{x}<br>y=%{y}<extra></extra>",
         "legendgroup": "11/4/21",
         "marker": {
          "color": "#00cc96",
          "pattern": {
           "shape": ""
          }
         },
         "name": "11/4/21",
         "offsetgroup": "11/4/21",
         "orientation": "v",
         "showlegend": true,
         "textposition": "auto",
         "type": "bar",
         "x": [
          "11/4/21"
         ],
         "xaxis": "x",
         "y": [
          21849137
         ],
         "yaxis": "y"
        },
        {
         "alignmentgroup": "True",
         "hovertemplate": "color=11/5/21<br>x=%{x}<br>y=%{y}<extra></extra>",
         "legendgroup": "11/5/21",
         "marker": {
          "color": "#ab63fa",
          "pattern": {
           "shape": ""
          }
         },
         "name": "11/5/21",
         "offsetgroup": "11/5/21",
         "orientation": "v",
         "showlegend": true,
         "textposition": "auto",
         "type": "bar",
         "x": [
          "11/5/21"
         ],
         "xaxis": "x",
         "y": [
          21862458
         ],
         "yaxis": "y"
        },
        {
         "alignmentgroup": "True",
         "hovertemplate": "color=11/6/21<br>x=%{x}<br>y=%{y}<extra></extra>",
         "legendgroup": "11/6/21",
         "marker": {
          "color": "#FFA15A",
          "pattern": {
           "shape": ""
          }
         },
         "name": "11/6/21",
         "offsetgroup": "11/6/21",
         "orientation": "v",
         "showlegend": true,
         "textposition": "auto",
         "type": "bar",
         "x": [
          "11/6/21"
         ],
         "xaxis": "x",
         "y": [
          21874324
         ],
         "yaxis": "y"
        },
        {
         "alignmentgroup": "True",
         "hovertemplate": "color=11/7/21<br>x=%{x}<br>y=%{y}<extra></extra>",
         "legendgroup": "11/7/21",
         "marker": {
          "color": "#19d3f3",
          "pattern": {
           "shape": ""
          }
         },
         "name": "11/7/21",
         "offsetgroup": "11/7/21",
         "orientation": "v",
         "showlegend": true,
         "textposition": "auto",
         "type": "bar",
         "x": [
          "11/7/21"
         ],
         "xaxis": "x",
         "y": [
          21880439
         ],
         "yaxis": "y"
        },
        {
         "alignmentgroup": "True",
         "hovertemplate": "color=11/8/21<br>x=%{x}<br>y=%{y}<extra></extra>",
         "legendgroup": "11/8/21",
         "marker": {
          "color": "#FF6692",
          "pattern": {
           "shape": ""
          }
         },
         "name": "11/8/21",
         "offsetgroup": "11/8/21",
         "orientation": "v",
         "showlegend": true,
         "textposition": "auto",
         "type": "bar",
         "x": [
          "11/8/21"
         ],
         "xaxis": "x",
         "y": [
          21886077
         ],
         "yaxis": "y"
        },
        {
         "alignmentgroup": "True",
         "hovertemplate": "color=11/9/21<br>x=%{x}<br>y=%{y}<extra></extra>",
         "legendgroup": "11/9/21",
         "marker": {
          "color": "#B6E880",
          "pattern": {
           "shape": ""
          }
         },
         "name": "11/9/21",
         "offsetgroup": "11/9/21",
         "orientation": "v",
         "showlegend": true,
         "textposition": "auto",
         "type": "bar",
         "x": [
          "11/9/21"
         ],
         "xaxis": "x",
         "y": [
          21897025
         ],
         "yaxis": "y"
        },
        {
         "alignmentgroup": "True",
         "hovertemplate": "color=11/10/21<br>x=%{x}<br>y=%{y}<extra></extra>",
         "legendgroup": "11/10/21",
         "marker": {
          "color": "#FF97FF",
          "pattern": {
           "shape": ""
          }
         },
         "name": "11/10/21",
         "offsetgroup": "11/10/21",
         "orientation": "v",
         "showlegend": true,
         "textposition": "auto",
         "type": "bar",
         "x": [
          "11/10/21"
         ],
         "xaxis": "x",
         "y": [
          21909298
         ],
         "yaxis": "y"
        },
        {
         "alignmentgroup": "True",
         "hovertemplate": "color=11/11/21<br>x=%{x}<br>y=%{y}<extra></extra>",
         "legendgroup": "11/11/21",
         "marker": {
          "color": "#FECB52",
          "pattern": {
           "shape": ""
          }
         },
         "name": "11/11/21",
         "offsetgroup": "11/11/21",
         "orientation": "v",
         "showlegend": true,
         "textposition": "auto",
         "type": "bar",
         "x": [
          "11/11/21"
         ],
         "xaxis": "x",
         "y": [
          21924598
         ],
         "yaxis": "y"
        }
       ],
       "layout": {
        "barmode": "relative",
        "legend": {
         "title": {
          "text": "color"
         },
         "tracegroupgap": 0
        },
        "template": {
         "data": {
          "bar": [
           {
            "error_x": {
             "color": "#2a3f5f"
            },
            "error_y": {
             "color": "#2a3f5f"
            },
            "marker": {
             "line": {
              "color": "#E5ECF6",
              "width": 0.5
             },
             "pattern": {
              "fillmode": "overlay",
              "size": 10,
              "solidity": 0.2
             }
            },
            "type": "bar"
           }
          ],
          "barpolar": [
           {
            "marker": {
             "line": {
              "color": "#E5ECF6",
              "width": 0.5
             },
             "pattern": {
              "fillmode": "overlay",
              "size": 10,
              "solidity": 0.2
             }
            },
            "type": "barpolar"
           }
          ],
          "carpet": [
           {
            "aaxis": {
             "endlinecolor": "#2a3f5f",
             "gridcolor": "white",
             "linecolor": "white",
             "minorgridcolor": "white",
             "startlinecolor": "#2a3f5f"
            },
            "baxis": {
             "endlinecolor": "#2a3f5f",
             "gridcolor": "white",
             "linecolor": "white",
             "minorgridcolor": "white",
             "startlinecolor": "#2a3f5f"
            },
            "type": "carpet"
           }
          ],
          "choropleth": [
           {
            "colorbar": {
             "outlinewidth": 0,
             "ticks": ""
            },
            "type": "choropleth"
           }
          ],
          "contour": [
           {
            "colorbar": {
             "outlinewidth": 0,
             "ticks": ""
            },
            "colorscale": [
             [
              0,
              "#0d0887"
             ],
             [
              0.1111111111111111,
              "#46039f"
             ],
             [
              0.2222222222222222,
              "#7201a8"
             ],
             [
              0.3333333333333333,
              "#9c179e"
             ],
             [
              0.4444444444444444,
              "#bd3786"
             ],
             [
              0.5555555555555556,
              "#d8576b"
             ],
             [
              0.6666666666666666,
              "#ed7953"
             ],
             [
              0.7777777777777778,
              "#fb9f3a"
             ],
             [
              0.8888888888888888,
              "#fdca26"
             ],
             [
              1,
              "#f0f921"
             ]
            ],
            "type": "contour"
           }
          ],
          "contourcarpet": [
           {
            "colorbar": {
             "outlinewidth": 0,
             "ticks": ""
            },
            "type": "contourcarpet"
           }
          ],
          "heatmap": [
           {
            "colorbar": {
             "outlinewidth": 0,
             "ticks": ""
            },
            "colorscale": [
             [
              0,
              "#0d0887"
             ],
             [
              0.1111111111111111,
              "#46039f"
             ],
             [
              0.2222222222222222,
              "#7201a8"
             ],
             [
              0.3333333333333333,
              "#9c179e"
             ],
             [
              0.4444444444444444,
              "#bd3786"
             ],
             [
              0.5555555555555556,
              "#d8576b"
             ],
             [
              0.6666666666666666,
              "#ed7953"
             ],
             [
              0.7777777777777778,
              "#fb9f3a"
             ],
             [
              0.8888888888888888,
              "#fdca26"
             ],
             [
              1,
              "#f0f921"
             ]
            ],
            "type": "heatmap"
           }
          ],
          "heatmapgl": [
           {
            "colorbar": {
             "outlinewidth": 0,
             "ticks": ""
            },
            "colorscale": [
             [
              0,
              "#0d0887"
             ],
             [
              0.1111111111111111,
              "#46039f"
             ],
             [
              0.2222222222222222,
              "#7201a8"
             ],
             [
              0.3333333333333333,
              "#9c179e"
             ],
             [
              0.4444444444444444,
              "#bd3786"
             ],
             [
              0.5555555555555556,
              "#d8576b"
             ],
             [
              0.6666666666666666,
              "#ed7953"
             ],
             [
              0.7777777777777778,
              "#fb9f3a"
             ],
             [
              0.8888888888888888,
              "#fdca26"
             ],
             [
              1,
              "#f0f921"
             ]
            ],
            "type": "heatmapgl"
           }
          ],
          "histogram": [
           {
            "marker": {
             "pattern": {
              "fillmode": "overlay",
              "size": 10,
              "solidity": 0.2
             }
            },
            "type": "histogram"
           }
          ],
          "histogram2d": [
           {
            "colorbar": {
             "outlinewidth": 0,
             "ticks": ""
            },
            "colorscale": [
             [
              0,
              "#0d0887"
             ],
             [
              0.1111111111111111,
              "#46039f"
             ],
             [
              0.2222222222222222,
              "#7201a8"
             ],
             [
              0.3333333333333333,
              "#9c179e"
             ],
             [
              0.4444444444444444,
              "#bd3786"
             ],
             [
              0.5555555555555556,
              "#d8576b"
             ],
             [
              0.6666666666666666,
              "#ed7953"
             ],
             [
              0.7777777777777778,
              "#fb9f3a"
             ],
             [
              0.8888888888888888,
              "#fdca26"
             ],
             [
              1,
              "#f0f921"
             ]
            ],
            "type": "histogram2d"
           }
          ],
          "histogram2dcontour": [
           {
            "colorbar": {
             "outlinewidth": 0,
             "ticks": ""
            },
            "colorscale": [
             [
              0,
              "#0d0887"
             ],
             [
              0.1111111111111111,
              "#46039f"
             ],
             [
              0.2222222222222222,
              "#7201a8"
             ],
             [
              0.3333333333333333,
              "#9c179e"
             ],
             [
              0.4444444444444444,
              "#bd3786"
             ],
             [
              0.5555555555555556,
              "#d8576b"
             ],
             [
              0.6666666666666666,
              "#ed7953"
             ],
             [
              0.7777777777777778,
              "#fb9f3a"
             ],
             [
              0.8888888888888888,
              "#fdca26"
             ],
             [
              1,
              "#f0f921"
             ]
            ],
            "type": "histogram2dcontour"
           }
          ],
          "mesh3d": [
           {
            "colorbar": {
             "outlinewidth": 0,
             "ticks": ""
            },
            "type": "mesh3d"
           }
          ],
          "parcoords": [
           {
            "line": {
             "colorbar": {
              "outlinewidth": 0,
              "ticks": ""
             }
            },
            "type": "parcoords"
           }
          ],
          "pie": [
           {
            "automargin": true,
            "type": "pie"
           }
          ],
          "scatter": [
           {
            "marker": {
             "colorbar": {
              "outlinewidth": 0,
              "ticks": ""
             }
            },
            "type": "scatter"
           }
          ],
          "scatter3d": [
           {
            "line": {
             "colorbar": {
              "outlinewidth": 0,
              "ticks": ""
             }
            },
            "marker": {
             "colorbar": {
              "outlinewidth": 0,
              "ticks": ""
             }
            },
            "type": "scatter3d"
           }
          ],
          "scattercarpet": [
           {
            "marker": {
             "colorbar": {
              "outlinewidth": 0,
              "ticks": ""
             }
            },
            "type": "scattercarpet"
           }
          ],
          "scattergeo": [
           {
            "marker": {
             "colorbar": {
              "outlinewidth": 0,
              "ticks": ""
             }
            },
            "type": "scattergeo"
           }
          ],
          "scattergl": [
           {
            "marker": {
             "colorbar": {
              "outlinewidth": 0,
              "ticks": ""
             }
            },
            "type": "scattergl"
           }
          ],
          "scattermapbox": [
           {
            "marker": {
             "colorbar": {
              "outlinewidth": 0,
              "ticks": ""
             }
            },
            "type": "scattermapbox"
           }
          ],
          "scatterpolar": [
           {
            "marker": {
             "colorbar": {
              "outlinewidth": 0,
              "ticks": ""
             }
            },
            "type": "scatterpolar"
           }
          ],
          "scatterpolargl": [
           {
            "marker": {
             "colorbar": {
              "outlinewidth": 0,
              "ticks": ""
             }
            },
            "type": "scatterpolargl"
           }
          ],
          "scatterternary": [
           {
            "marker": {
             "colorbar": {
              "outlinewidth": 0,
              "ticks": ""
             }
            },
            "type": "scatterternary"
           }
          ],
          "surface": [
           {
            "colorbar": {
             "outlinewidth": 0,
             "ticks": ""
            },
            "colorscale": [
             [
              0,
              "#0d0887"
             ],
             [
              0.1111111111111111,
              "#46039f"
             ],
             [
              0.2222222222222222,
              "#7201a8"
             ],
             [
              0.3333333333333333,
              "#9c179e"
             ],
             [
              0.4444444444444444,
              "#bd3786"
             ],
             [
              0.5555555555555556,
              "#d8576b"
             ],
             [
              0.6666666666666666,
              "#ed7953"
             ],
             [
              0.7777777777777778,
              "#fb9f3a"
             ],
             [
              0.8888888888888888,
              "#fdca26"
             ],
             [
              1,
              "#f0f921"
             ]
            ],
            "type": "surface"
           }
          ],
          "table": [
           {
            "cells": {
             "fill": {
              "color": "#EBF0F8"
             },
             "line": {
              "color": "white"
             }
            },
            "header": {
             "fill": {
              "color": "#C8D4E3"
             },
             "line": {
              "color": "white"
             }
            },
            "type": "table"
           }
          ]
         },
         "layout": {
          "annotationdefaults": {
           "arrowcolor": "#2a3f5f",
           "arrowhead": 0,
           "arrowwidth": 1
          },
          "autotypenumbers": "strict",
          "coloraxis": {
           "colorbar": {
            "outlinewidth": 0,
            "ticks": ""
           }
          },
          "colorscale": {
           "diverging": [
            [
             0,
             "#8e0152"
            ],
            [
             0.1,
             "#c51b7d"
            ],
            [
             0.2,
             "#de77ae"
            ],
            [
             0.3,
             "#f1b6da"
            ],
            [
             0.4,
             "#fde0ef"
            ],
            [
             0.5,
             "#f7f7f7"
            ],
            [
             0.6,
             "#e6f5d0"
            ],
            [
             0.7,
             "#b8e186"
            ],
            [
             0.8,
             "#7fbc41"
            ],
            [
             0.9,
             "#4d9221"
            ],
            [
             1,
             "#276419"
            ]
           ],
           "sequential": [
            [
             0,
             "#0d0887"
            ],
            [
             0.1111111111111111,
             "#46039f"
            ],
            [
             0.2222222222222222,
             "#7201a8"
            ],
            [
             0.3333333333333333,
             "#9c179e"
            ],
            [
             0.4444444444444444,
             "#bd3786"
            ],
            [
             0.5555555555555556,
             "#d8576b"
            ],
            [
             0.6666666666666666,
             "#ed7953"
            ],
            [
             0.7777777777777778,
             "#fb9f3a"
            ],
            [
             0.8888888888888888,
             "#fdca26"
            ],
            [
             1,
             "#f0f921"
            ]
           ],
           "sequentialminus": [
            [
             0,
             "#0d0887"
            ],
            [
             0.1111111111111111,
             "#46039f"
            ],
            [
             0.2222222222222222,
             "#7201a8"
            ],
            [
             0.3333333333333333,
             "#9c179e"
            ],
            [
             0.4444444444444444,
             "#bd3786"
            ],
            [
             0.5555555555555556,
             "#d8576b"
            ],
            [
             0.6666666666666666,
             "#ed7953"
            ],
            [
             0.7777777777777778,
             "#fb9f3a"
            ],
            [
             0.8888888888888888,
             "#fdca26"
            ],
            [
             1,
             "#f0f921"
            ]
           ]
          },
          "colorway": [
           "#636efa",
           "#EF553B",
           "#00cc96",
           "#ab63fa",
           "#FFA15A",
           "#19d3f3",
           "#FF6692",
           "#B6E880",
           "#FF97FF",
           "#FECB52"
          ],
          "font": {
           "color": "#2a3f5f"
          },
          "geo": {
           "bgcolor": "white",
           "lakecolor": "white",
           "landcolor": "#E5ECF6",
           "showlakes": true,
           "showland": true,
           "subunitcolor": "white"
          },
          "hoverlabel": {
           "align": "left"
          },
          "hovermode": "closest",
          "mapbox": {
           "style": "light"
          },
          "paper_bgcolor": "white",
          "plot_bgcolor": "#E5ECF6",
          "polar": {
           "angularaxis": {
            "gridcolor": "white",
            "linecolor": "white",
            "ticks": ""
           },
           "bgcolor": "#E5ECF6",
           "radialaxis": {
            "gridcolor": "white",
            "linecolor": "white",
            "ticks": ""
           }
          },
          "scene": {
           "xaxis": {
            "backgroundcolor": "#E5ECF6",
            "gridcolor": "white",
            "gridwidth": 2,
            "linecolor": "white",
            "showbackground": true,
            "ticks": "",
            "zerolinecolor": "white"
           },
           "yaxis": {
            "backgroundcolor": "#E5ECF6",
            "gridcolor": "white",
            "gridwidth": 2,
            "linecolor": "white",
            "showbackground": true,
            "ticks": "",
            "zerolinecolor": "white"
           },
           "zaxis": {
            "backgroundcolor": "#E5ECF6",
            "gridcolor": "white",
            "gridwidth": 2,
            "linecolor": "white",
            "showbackground": true,
            "ticks": "",
            "zerolinecolor": "white"
           }
          },
          "shapedefaults": {
           "line": {
            "color": "#2a3f5f"
           }
          },
          "ternary": {
           "aaxis": {
            "gridcolor": "white",
            "linecolor": "white",
            "ticks": ""
           },
           "baxis": {
            "gridcolor": "white",
            "linecolor": "white",
            "ticks": ""
           },
           "bgcolor": "#E5ECF6",
           "caxis": {
            "gridcolor": "white",
            "linecolor": "white",
            "ticks": ""
           }
          },
          "title": {
           "x": 0.05
          },
          "xaxis": {
           "automargin": true,
           "gridcolor": "white",
           "linecolor": "white",
           "ticks": "",
           "title": {
            "standoff": 15
           },
           "zerolinecolor": "white",
           "zerolinewidth": 2
          },
          "yaxis": {
           "automargin": true,
           "gridcolor": "white",
           "linecolor": "white",
           "ticks": "",
           "title": {
            "standoff": 15
           },
           "zerolinecolor": "white",
           "zerolinewidth": 2
          }
         }
        },
        "title": {
         "text": "Covid19 No Brazil"
        },
        "xaxis": {
         "anchor": "y",
         "domain": [
          0,
          1
         ],
         "title": {
          "text": "x"
         }
        },
        "yaxis": {
         "anchor": "x",
         "domain": [
          0,
          1
         ],
         "title": {
          "text": "y"
         }
        }
       }
      }
     },
     "metadata": {}
    }
   ],
   "metadata": {}
  }
 ],
 "metadata": {
  "orig_nbformat": 4,
  "language_info": {
   "name": "python",
   "version": "3.8.6",
   "mimetype": "text/x-python",
   "codemirror_mode": {
    "name": "ipython",
    "version": 3
   },
   "pygments_lexer": "ipython3",
   "nbconvert_exporter": "python",
   "file_extension": ".py"
  },
  "kernelspec": {
   "name": "python3",
   "display_name": "Python 3.8.6 64-bit"
  },
  "interpreter": {
   "hash": "1baa965d5efe3ac65b79dfc60c0d706280b1da80fedb7760faf2759126c4f253"
  }
 },
 "nbformat": 4,
 "nbformat_minor": 2
}