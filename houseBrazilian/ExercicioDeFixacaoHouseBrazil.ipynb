{
 "cells": [
  {
   "cell_type": "code",
   "execution_count": 1,
   "metadata": {},
   "outputs": [],
   "source": [
    "import pandas as pd\n",
    "import plotly.express as px"
   ]
  },
  {
   "cell_type": "code",
   "execution_count": 2,
   "metadata": {},
   "outputs": [
    {
     "data": {
      "text/html": [
       "<div>\n",
       "<style scoped>\n",
       "    .dataframe tbody tr th:only-of-type {\n",
       "        vertical-align: middle;\n",
       "    }\n",
       "\n",
       "    .dataframe tbody tr th {\n",
       "        vertical-align: top;\n",
       "    }\n",
       "\n",
       "    .dataframe thead th {\n",
       "        text-align: right;\n",
       "    }\n",
       "</style>\n",
       "<table border=\"1\" class=\"dataframe\">\n",
       "  <thead>\n",
       "    <tr style=\"text-align: right;\">\n",
       "      <th></th>\n",
       "      <th>Cidade</th>\n",
       "      <th>Area</th>\n",
       "      <th>Quartos</th>\n",
       "      <th>Banheiro</th>\n",
       "      <th>Vagas Grm</th>\n",
       "      <th>Andar</th>\n",
       "      <th>Animal</th>\n",
       "      <th>Mobiliado</th>\n",
       "      <th>Condominio(R$)</th>\n",
       "      <th>Aluguel(R$)</th>\n",
       "      <th>IPTU(R$)</th>\n",
       "      <th>Seguro Incendio(R$)</th>\n",
       "      <th>Total(R$)</th>\n",
       "    </tr>\n",
       "  </thead>\n",
       "  <tbody>\n",
       "    <tr>\n",
       "      <th>0</th>\n",
       "      <td>São Paulo</td>\n",
       "      <td>70</td>\n",
       "      <td>2</td>\n",
       "      <td>1</td>\n",
       "      <td>1</td>\n",
       "      <td>7</td>\n",
       "      <td>Permitido</td>\n",
       "      <td>Mobilhado</td>\n",
       "      <td>2065</td>\n",
       "      <td>3300</td>\n",
       "      <td>211</td>\n",
       "      <td>42</td>\n",
       "      <td>5618</td>\n",
       "    </tr>\n",
       "    <tr>\n",
       "      <th>1</th>\n",
       "      <td>São Paulo</td>\n",
       "      <td>320</td>\n",
       "      <td>4</td>\n",
       "      <td>4</td>\n",
       "      <td>0</td>\n",
       "      <td>20</td>\n",
       "      <td>Permitido</td>\n",
       "      <td>Nào Mobilhado</td>\n",
       "      <td>1200</td>\n",
       "      <td>4960</td>\n",
       "      <td>1750</td>\n",
       "      <td>63</td>\n",
       "      <td>7973</td>\n",
       "    </tr>\n",
       "    <tr>\n",
       "      <th>2</th>\n",
       "      <td>Porto Alegre</td>\n",
       "      <td>80</td>\n",
       "      <td>1</td>\n",
       "      <td>1</td>\n",
       "      <td>1</td>\n",
       "      <td>6</td>\n",
       "      <td>Permitido</td>\n",
       "      <td>Nào Mobilhado</td>\n",
       "      <td>1000</td>\n",
       "      <td>2800</td>\n",
       "      <td>0</td>\n",
       "      <td>41</td>\n",
       "      <td>3841</td>\n",
       "    </tr>\n",
       "  </tbody>\n",
       "</table>\n",
       "</div>"
      ],
      "text/plain": [
       "         Cidade  Area  Quartos  Banheiro  Vagas Grm Andar     Animal  \\\n",
       "0     São Paulo    70        2         1          1     7  Permitido   \n",
       "1     São Paulo   320        4         4          0    20  Permitido   \n",
       "2  Porto Alegre    80        1         1          1     6  Permitido   \n",
       "\n",
       "       Mobiliado  Condominio(R$)  Aluguel(R$)  IPTU(R$)  Seguro Incendio(R$)  \\\n",
       "0      Mobilhado            2065         3300       211                   42   \n",
       "1  Nào Mobilhado            1200         4960      1750                   63   \n",
       "2  Nào Mobilhado            1000         2800         0                   41   \n",
       "\n",
       "   Total(R$)  \n",
       "0       5618  \n",
       "1       7973  \n",
       "2       3841  "
      ]
     },
     "execution_count": 2,
     "metadata": {},
     "output_type": "execute_result"
    }
   ],
   "source": [
    "# Carregando DateSet\n",
    "excel_file = pd.ExcelFile(r\"C:\\Users\\odair.colares\\Documents\\1_AnalistaDeDados\\houseBrazilian\\houses_to_rent_v2.xlsx\")\n",
    "df = pd.read_excel(excel_file, sheet_name='houses_to_rent_v2')\n",
    "# Renomear as colunas desejadas.\n",
    "df = df.rename({'city': 'Cidade', 'area': 'Area', 'rooms': 'Quartos', 'bathroom': 'Banheiro', 'parking spaces': 'Vagas Grm', 'floor': 'Andar', 'animal': 'Animal', 'furniture': 'Mobiliado', 'hoa (R$)': 'Condominio(R$)', 'rent amount (R$)': 'Aluguel(R$)', 'property tax (R$)': 'IPTU(R$)',\n",
    "'fire insurance (R$)': 'Seguro Incendio(R$)', 'total (R$)': 'Total(R$)'}, axis = 1)\n",
    "# Substituir multiplos texto em uma coluna.\n",
    "df['Cidade'] = df['Cidade'].str.replace('SÃ£o Paulo', 'São Paulo')\n",
    "df['Animal'] = df['Animal'].str.replace('acept', 'Permitido')\n",
    "df['Animal'] = df['Animal'].str.replace('not Permitido', 'Nào Permitido')\n",
    "df['Mobiliado'] = df['Mobiliado'].str.replace('furnished', 'Mobilhado')\n",
    "df['Mobiliado'] = df['Mobiliado'].str.replace('not Mobilhado', 'Nào Mobilhado')\n",
    "df.head(3)\n",
    "#df.sort_values(['Cidade', 'Aluguel(R$)']).head(15).reset_index().plot()"
   ]
  },
  {
   "cell_type": "code",
   "execution_count": null,
   "metadata": {},
   "outputs": [],
   "source": [
    "df['Area'].value_counts().reset_index()\n",
    "px.histogram(df, x='Vagas Grm', color='Cidade', title= 'Histograma relação vagas por cidades')\n",
    "#df2 = df.groupby(['Cidade', 'Area']).size() #Contar N valores dentro de uma colunas \n",
    "#df2 = df['Cidade'].value_counts()\n",
    "#px.bar(df2, x=None, y='Cidade', color='Cidade', title='Cidade com maior disponibilidades de locações')\n",
    "#df2 = df[df['Cidade'] == 'São Paulo'].reset_index()\n",
    "#df2[['Cidade','Area']].value_counts().reset_index()\n",
    "#px.histogram(df2, x='Area', y=None)"
   ]
  },
  {
   "cell_type": "code",
   "execution_count": null,
   "metadata": {},
   "outputs": [],
   "source": [
    "# Media de locação de alugueis?\n",
    "df2 = df.groupby('Cidade', sort=False).mean().round(2).reset_index()\n",
    "px.bar(df2, x='Cidade', y='Aluguel(R$)', color='Condominio(R$)')"
   ]
  },
  {
   "cell_type": "code",
   "execution_count": null,
   "metadata": {},
   "outputs": [],
   "source": [
    "df[['Cidade', 'Area', 'Aluguel(R$)']]"
   ]
  },
  {
   "cell_type": "code",
   "execution_count": null,
   "metadata": {},
   "outputs": [],
   "source": [
    "# Filtrar coluna por parte do nome.\n",
    "df.filter(like='do')"
   ]
  },
  {
   "cell_type": "code",
   "execution_count": null,
   "metadata": {},
   "outputs": [],
   "source": [
    "# Qnts casa tem 01 quarto?\n",
    "df[df['Quartos'] == 1].shape"
   ]
  },
  {
   "cell_type": "code",
   "execution_count": null,
   "metadata": {},
   "outputs": [],
   "source": [
    "# Quantas casas estão no 1 andar?\n",
    "df[df['Andar'] == 1].shape"
   ]
  },
  {
   "cell_type": "code",
   "execution_count": null,
   "metadata": {},
   "outputs": [],
   "source": [
    "# Qnts casas tem mais de 2 banheiros?\n",
    "df[df['Banheiro'] > 2].shape"
   ]
  },
  {
   "cell_type": "code",
   "execution_count": null,
   "metadata": {},
   "outputs": [],
   "source": [
    "# Quantos quartos em media, as casas possuem?\n",
    "df['Quartos'].mean().round(2)"
   ]
  },
  {
   "cell_type": "code",
   "execution_count": null,
   "metadata": {},
   "outputs": [],
   "source": [
    "# Quais os preços medios das casas?\n",
    "df['Total(R$)'].mean().round(2, )"
   ]
  },
  {
   "cell_type": "code",
   "execution_count": null,
   "metadata": {},
   "outputs": [],
   "source": [
    "# Qual o desvio padrão de preços das casas?\n",
    "df['Total(R$)'].skew().round(2)"
   ]
  },
  {
   "cell_type": "code",
   "execution_count": null,
   "metadata": {},
   "outputs": [],
   "source": [
    "# Qual a media de preço de casas e seus atributos em SP,PA e RJ em ordem crescente? \n",
    "#df[df['Cidade'] == 'São Paulo'].groupby('Total(R$)').mean().sort_values(by = ['Area'], ascending=False).reset_index()\n",
    "# Operadores e vetores logicos (==, &, |)\n",
    "df[(df.Animal == 'Permitido') & ((df.Cidade == 'Porto Alegre') | (df.Cidade == 'Rio de Janeiro'))].sort_values(by='Total(R$)')"
   ]
  }
 ],
 "metadata": {
  "kernelspec": {
   "display_name": "Python 3.8.6 64-bit",
   "language": "python",
   "name": "python3"
  },
  "language_info": {
   "codemirror_mode": {
    "name": "ipython",
    "version": 3
   },
   "file_extension": ".py",
   "mimetype": "text/x-python",
   "name": "python",
   "nbconvert_exporter": "python",
   "pygments_lexer": "ipython3",
   "version": "3.8.6"
  },
  "orig_nbformat": 4,
  "vscode": {
   "interpreter": {
    "hash": "570feb405e2e27c949193ac68f46852414290d515b0ba6e5d90d076ed2284471"
   }
  }
 },
 "nbformat": 4,
 "nbformat_minor": 2
}
