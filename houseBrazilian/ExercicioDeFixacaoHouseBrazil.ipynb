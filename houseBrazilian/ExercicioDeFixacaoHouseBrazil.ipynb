{
 "cells": [
  {
   "cell_type": "code",
   "execution_count": null,
   "metadata": {},
   "outputs": [],
   "source": [
    "import pandas as pd\n",
    "import plotly.express as px"
   ]
  },
  {
   "cell_type": "code",
   "execution_count": null,
   "metadata": {},
   "outputs": [],
   "source": [
    "# Carregando DateSet\n",
    "excel_file = pd.ExcelFile(r\"C:\\Users\\odair.colares\\Documents\\1_AnalistaDeDados\\houseBrazilian\\houses_to_rent_v2.xlsx\")\n",
    "df = pd.read_excel(excel_file, sheet_name='houses_to_rent_v2')\n",
    "# Renomear as colunas desejadas.\n",
    "df = df.rename({'city': 'Cidade', 'area': 'Area', 'rooms': 'Quartos', 'bathroom': 'Banheiro', 'parking spaces': 'Vagas Grm', 'floor': 'Andar', 'animal': 'Animal', 'furniture': 'Mobiliado', 'hoa (R$)': 'Condominio(R$)', 'rent amount (R$)': 'Aluguel(R$)', 'property tax (R$)': 'IPTU(R$)',\n",
    "'fire insurance (R$)': 'Seguro Incendio(R$)', 'total (R$)': 'Total(R$)'}, axis = 1)\n",
    "# Substituir multiplos texto em uma coluna.\n",
    "df['Cidade'] = df['Cidade'].str.replace('SÃ£o Paulo', 'São Paulo')\n",
    "df['Animal'] = df['Animal'].str.replace('acept', 'Permitido')\n",
    "df['Animal'] = df['Animal'].str.replace('not Permitido', 'Nào Permitido')\n",
    "df['Mobiliado'] = df['Mobiliado'].str.replace('furnished', 'Mobilhado')\n",
    "df['Mobiliado'] = df['Mobiliado'].str.replace('not Mobilhado', 'Nào Mobilhado')\n",
    "df.head(3)\n",
    "#df.sort_values(['Cidade', 'Aluguel(R$)']).head(15).reset_index().plot()"
   ]
  },
  {
   "cell_type": "code",
   "execution_count": null,
   "metadata": {},
   "outputs": [],
   "source": [
    "df['Area'].value_counts().reset_index()\n",
    "px.histogram(df, x='Vagas Grm', color='Cidade', title= 'Histograma relação vagas por cidades')\n",
    "#df2 = df.groupby(['Cidade', 'Area']).size() #Contar N valores dentro de uma colunas \n",
    "#df2 = df['Cidade'].value_counts()\n",
    "#px.bar(df2, x=None, y='Cidade', color='Cidade', title='Cidade com maior disponibilidades de locações')\n",
    "#df2 = df[df['Cidade'] == 'São Paulo'].reset_index()\n",
    "#df2[['Cidade','Area']].value_counts().reset_index()\n",
    "#px.histogram(df2, x='Area', y=None)"
   ]
  },
  {
   "cell_type": "code",
   "execution_count": null,
   "metadata": {},
   "outputs": [],
   "source": [
    "# Media de locação de alugueis?\n",
    "df2 = df.groupby('Cidade', sort=False).mean().round(2).reset_index()\n",
    "px.bar(df2, x='Cidade', y='Aluguel(R$)', color='Condominio(R$)')"
   ]
  },
  {
   "cell_type": "code",
   "execution_count": null,
   "metadata": {},
   "outputs": [],
   "source": [
    "df[['Cidade', 'Area', 'Aluguel(R$)']]"
   ]
  },
  {
   "cell_type": "code",
   "execution_count": null,
   "metadata": {},
   "outputs": [],
   "source": [
    "# Filtrar coluna por parte do nome.\n",
    "df.filter(like='do')"
   ]
  },
  {
   "cell_type": "code",
   "execution_count": null,
   "metadata": {},
   "outputs": [],
   "source": [
    "# Qnts casa tem 01 quarto?\n",
    "df[df['Quartos'] == 1].shape"
   ]
  },
  {
   "cell_type": "code",
   "execution_count": null,
   "metadata": {},
   "outputs": [],
   "source": [
    "# Quantas casas estão no 1 andar?\n",
    "df[df['Andar'] == 1].shape"
   ]
  },
  {
   "cell_type": "code",
   "execution_count": null,
   "metadata": {},
   "outputs": [],
   "source": [
    "# Qnts casas tem mais de 2 banheiros?\n",
    "df[df['Banheiro'] > 2].shape"
   ]
  },
  {
   "cell_type": "code",
   "execution_count": null,
   "metadata": {},
   "outputs": [],
   "source": [
    "# Quantos quartos em media, as casas possuem?\n",
    "df['Quartos'].mean().round(2)"
   ]
  },
  {
   "cell_type": "code",
   "execution_count": null,
   "metadata": {},
   "outputs": [],
   "source": [
    "# Quais os preços medios das casas?\n",
    "df['Total(R$)'].mean().round(2, )"
   ]
  },
  {
   "cell_type": "code",
   "execution_count": null,
   "metadata": {},
   "outputs": [],
   "source": [
    "# Qual o desvio padrão de preços das casas?\n",
    "df['Total(R$)'].skew().round(2)"
   ]
  },
  {
   "cell_type": "code",
   "execution_count": null,
   "metadata": {},
   "outputs": [],
   "source": [
    "# Qual a media de preço de casas e seus atributos em SP,PA e RJ em ordem crescente? \n",
    "#df[df['Cidade'] == 'São Paulo'].groupby('Total(R$)').mean().sort_values(by = ['Area'], ascending=False).reset_index()\n",
    "# Operadores e vetores logicos (==, &, |)\n",
    "df[(df.Animal == 'Permitido') & ((df.Cidade == 'Porto Alegre') | (df.Cidade == 'Rio de Janeiro'))].sort_values(by='Total(R$)')"
   ]
  }
 ],
 "metadata": {
  "kernelspec": {
   "display_name": "Python 3.8.6 64-bit",
   "language": "python",
   "name": "python3"
  },
  "language_info": {
   "codemirror_mode": {
    "name": "ipython",
    "version": 3
   },
   "file_extension": ".py",
   "mimetype": "text/x-python",
   "name": "python",
   "nbconvert_exporter": "python",
   "pygments_lexer": "ipython3",
   "version": "3.8.6"
  },
  "orig_nbformat": 4,
  "vscode": {
   "interpreter": {
    "hash": "570feb405e2e27c949193ac68f46852414290d515b0ba6e5d90d076ed2284471"
   }
  }
 },
 "nbformat": 4,
 "nbformat_minor": 2
}
