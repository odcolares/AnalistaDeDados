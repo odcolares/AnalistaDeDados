{
 "cells": [
  {
   "cell_type": "markdown",
   "metadata": {},
   "source": [
    "<link rel=\"stylesheet\" href=\"https://cdn.jsdelivr.net/npm/bootstrap@4.6.1/dist/css/bootstrap.min.css\">\n",
    "\n",
    "###  **👨🏽‍💻_Desafio DataScience_👨🏽‍💻.**\n",
    "\n",
    "### <div class=\"container\">\n",
    "   <p class=\"text-warning\">⚠️⚠️Realizar a análise de uma base de dados real utilizando Python e conceitos de datascience⚠️⚠️.</p>\n",
    "</div>"
   ]
  },
  {
   "cell_type": "markdown",
   "metadata": {},
   "source": [
    "### **_Responder as seguintes questões:_**\n",
    "#### a. Qual o tamanho desse dataset? ✅\n",
    "#### b. Qual a média da coluna windspeed? ✅\n",
    "#### c. Qual a média da coluna temp? ✅\n",
    "#### d. Quantos registros existem para o ano de 2011? ✅\n",
    "#### e. Quantos registros existem para o ano de 2012? ✅\n",
    "#### f. Quantas locações de bicicletas foram efetuadas em 2011? ✅\n",
    "#### g. Quantas locações de bicicletas foram efetuadas em 2012? ✅\n",
    "#### h. Qual estação do ano contém a maior média de locações de bicicletas? ✅\n",
    "#### i. Qual estação do ano contém a menor média de locações de bicicletas? ✅\n",
    "#### j. Qual horário do dia contém a maior média de locações de bicicletas? ✅\n",
    "#### k. Qual horário do dia contém a menor média de locações de bicicletas? ✅\n",
    "#### l. Que dia da semana contém a maior média de locações de bicicletas?  ✅\n",
    "#### m. Que dia da semana contém a menor média de locações de bicicletas?  ✅\n",
    "#### n. Às quartas-feiras (weekday = 3), qual o horário do dia contém a maior média de locações de bicicletas? ✅\n",
    "#### o. Aos sábados (weekday = 6), qual o horário do dia contém a maior média de locações de bicicletas? ✅"
   ]
  },
  {
   "cell_type": "code",
   "execution_count": 1,
   "metadata": {},
   "outputs": [],
   "source": [
    "# Importando bibliotecas\n",
    "import numpy as np\n",
    "import pandas as pd"
   ]
  },
  {
   "cell_type": "code",
   "execution_count": 2,
   "metadata": {},
   "outputs": [
    {
     "data": {
      "text/html": [
       "<div>\n",
       "<style scoped>\n",
       "    .dataframe tbody tr th:only-of-type {\n",
       "        vertical-align: middle;\n",
       "    }\n",
       "\n",
       "    .dataframe tbody tr th {\n",
       "        vertical-align: top;\n",
       "    }\n",
       "\n",
       "    .dataframe thead th {\n",
       "        text-align: right;\n",
       "    }\n",
       "</style>\n",
       "<table border=\"1\" class=\"dataframe\">\n",
       "  <thead>\n",
       "    <tr style=\"text-align: right;\">\n",
       "      <th></th>\n",
       "      <th>datetime</th>\n",
       "      <th>rec_id</th>\n",
       "      <th>season</th>\n",
       "      <th>year</th>\n",
       "      <th>month</th>\n",
       "      <th>hour</th>\n",
       "      <th>is_holiday</th>\n",
       "      <th>weekday</th>\n",
       "      <th>is_workingday</th>\n",
       "      <th>weather_condition</th>\n",
       "      <th>temp</th>\n",
       "      <th>atemp</th>\n",
       "      <th>humidity</th>\n",
       "      <th>windspeed</th>\n",
       "      <th>casual</th>\n",
       "      <th>registered</th>\n",
       "      <th>total_count</th>\n",
       "    </tr>\n",
       "  </thead>\n",
       "  <tbody>\n",
       "    <tr>\n",
       "      <th>0</th>\n",
       "      <td>2011-01-01</td>\n",
       "      <td>1</td>\n",
       "      <td>1</td>\n",
       "      <td>0</td>\n",
       "      <td>1</td>\n",
       "      <td>0</td>\n",
       "      <td>0</td>\n",
       "      <td>6</td>\n",
       "      <td>0</td>\n",
       "      <td>1</td>\n",
       "      <td>0.24</td>\n",
       "      <td>0.2879</td>\n",
       "      <td>0.81</td>\n",
       "      <td>0.0</td>\n",
       "      <td>3</td>\n",
       "      <td>13</td>\n",
       "      <td>16</td>\n",
       "    </tr>\n",
       "    <tr>\n",
       "      <th>1</th>\n",
       "      <td>2011-01-01</td>\n",
       "      <td>2</td>\n",
       "      <td>1</td>\n",
       "      <td>0</td>\n",
       "      <td>1</td>\n",
       "      <td>1</td>\n",
       "      <td>0</td>\n",
       "      <td>6</td>\n",
       "      <td>0</td>\n",
       "      <td>1</td>\n",
       "      <td>0.22</td>\n",
       "      <td>0.2727</td>\n",
       "      <td>0.80</td>\n",
       "      <td>0.0</td>\n",
       "      <td>8</td>\n",
       "      <td>32</td>\n",
       "      <td>40</td>\n",
       "    </tr>\n",
       "    <tr>\n",
       "      <th>2</th>\n",
       "      <td>2011-01-01</td>\n",
       "      <td>3</td>\n",
       "      <td>1</td>\n",
       "      <td>0</td>\n",
       "      <td>1</td>\n",
       "      <td>2</td>\n",
       "      <td>0</td>\n",
       "      <td>6</td>\n",
       "      <td>0</td>\n",
       "      <td>1</td>\n",
       "      <td>0.22</td>\n",
       "      <td>0.2727</td>\n",
       "      <td>0.80</td>\n",
       "      <td>0.0</td>\n",
       "      <td>5</td>\n",
       "      <td>27</td>\n",
       "      <td>32</td>\n",
       "    </tr>\n",
       "    <tr>\n",
       "      <th>3</th>\n",
       "      <td>2011-01-01</td>\n",
       "      <td>4</td>\n",
       "      <td>1</td>\n",
       "      <td>0</td>\n",
       "      <td>1</td>\n",
       "      <td>3</td>\n",
       "      <td>0</td>\n",
       "      <td>6</td>\n",
       "      <td>0</td>\n",
       "      <td>1</td>\n",
       "      <td>0.24</td>\n",
       "      <td>0.2879</td>\n",
       "      <td>0.75</td>\n",
       "      <td>0.0</td>\n",
       "      <td>3</td>\n",
       "      <td>10</td>\n",
       "      <td>13</td>\n",
       "    </tr>\n",
       "    <tr>\n",
       "      <th>4</th>\n",
       "      <td>2011-01-01</td>\n",
       "      <td>5</td>\n",
       "      <td>1</td>\n",
       "      <td>0</td>\n",
       "      <td>1</td>\n",
       "      <td>4</td>\n",
       "      <td>0</td>\n",
       "      <td>6</td>\n",
       "      <td>0</td>\n",
       "      <td>1</td>\n",
       "      <td>0.24</td>\n",
       "      <td>0.2879</td>\n",
       "      <td>0.75</td>\n",
       "      <td>0.0</td>\n",
       "      <td>0</td>\n",
       "      <td>1</td>\n",
       "      <td>1</td>\n",
       "    </tr>\n",
       "  </tbody>\n",
       "</table>\n",
       "</div>"
      ],
      "text/plain": [
       "     datetime  rec_id  season  year  month  hour  is_holiday  weekday  \\\n",
       "0  2011-01-01       1       1     0      1     0           0        6   \n",
       "1  2011-01-01       2       1     0      1     1           0        6   \n",
       "2  2011-01-01       3       1     0      1     2           0        6   \n",
       "3  2011-01-01       4       1     0      1     3           0        6   \n",
       "4  2011-01-01       5       1     0      1     4           0        6   \n",
       "\n",
       "   is_workingday  weather_condition  temp   atemp  humidity  windspeed  \\\n",
       "0              0                  1  0.24  0.2879      0.81        0.0   \n",
       "1              0                  1  0.22  0.2727      0.80        0.0   \n",
       "2              0                  1  0.22  0.2727      0.80        0.0   \n",
       "3              0                  1  0.24  0.2879      0.75        0.0   \n",
       "4              0                  1  0.24  0.2879      0.75        0.0   \n",
       "\n",
       "   casual  registered  total_count  \n",
       "0       3          13           16  \n",
       "1       8          32           40  \n",
       "2       5          27           32  \n",
       "3       3          10           13  \n",
       "4       0           1            1  "
      ]
     },
     "execution_count": 2,
     "metadata": {},
     "output_type": "execute_result"
    }
   ],
   "source": [
    "df = pd.read_csv(\"https://pycourse.s3.amazonaws.com/bike-sharing.csv\")\n",
    "df.head()"
   ]
  },
  {
   "cell_type": "code",
   "execution_count": 6,
   "metadata": {},
   "outputs": [
    {
     "name": "stdout",
     "output_type": "stream",
     "text": [
      "O tamanho do Dataset é:  (17379, 17)\n"
     ]
    }
   ],
   "source": [
    "# Qual o tamanho desse dataset?\n",
    "t = df.shape\n",
    "print(\"O tamanho do Dataset é: \", t)"
   ]
  },
  {
   "cell_type": "code",
   "execution_count": 13,
   "metadata": {},
   "outputs": [
    {
     "name": "stdout",
     "output_type": "stream",
     "text": [
      "A media da coluna windspeed será:  0.1901\n"
     ]
    }
   ],
   "source": [
    "# Qual a média da coluna windspeed?\n",
    "m = df['windspeed'].mean().round(4)\n",
    "print(\"A media da coluna windspeed será: \", m)"
   ]
  },
  {
   "cell_type": "code",
   "execution_count": 15,
   "metadata": {},
   "outputs": [
    {
     "name": "stdout",
     "output_type": "stream",
     "text": [
      "A media da coluna temp será:  0.497\n"
     ]
    }
   ],
   "source": [
    "# Qual a média da coluna temp?\n",
    "m = df['temp'].mean().round(4)\n",
    "print(\"A media da coluna temp será: \", m)"
   ]
  },
  {
   "cell_type": "code",
   "execution_count": 78,
   "metadata": {},
   "outputs": [
    {
     "data": {
      "text/plain": [
       "1    8734\n",
       "0    8645\n",
       "Name: year, dtype: int64"
      ]
     },
     "execution_count": 78,
     "metadata": {},
     "output_type": "execute_result"
    }
   ],
   "source": [
    "# Quantos registros existem para o ano de 2011 e 2012?\n",
    "df['year'].value_counts() #TRAS A CONTAGEM SIMPLES DA COLUNA YEAR (0 = 2011, 1 = 2012)\n",
    "\n",
    "#df.loc[df['year'] == 1].value_counts() #TRAS O DATASET COMPLETO SOMENTE COM O FILTRO DA COLUNA YEAR (0 = 2011, 1 = 2012)"
   ]
  },
  {
   "cell_type": "code",
   "execution_count": 94,
   "metadata": {},
   "outputs": [
    {
     "data": {
      "text/plain": [
       "2049576"
      ]
     },
     "execution_count": 94,
     "metadata": {},
     "output_type": "execute_result"
    }
   ],
   "source": [
    "# Quantas locações de bicicletas foram efetuadas em 2011 e 2012?\n",
    "# YEAR (0 = 2011, 1 = 2012)\n",
    "df.loc[df[\"year\"] == 1, \"total_count\"].sum()"
   ]
  },
  {
   "cell_type": "code",
   "execution_count": 75,
   "metadata": {},
   "outputs": [
    {
     "data": {
      "text/plain": [
       "season\n",
       "3    236.016237\n",
       "2    208.344069\n",
       "4    198.868856\n",
       "1    111.114569\n",
       "Name: total_count, dtype: float64"
      ]
     },
     "execution_count": 75,
     "metadata": {},
     "output_type": "execute_result"
    }
   ],
   "source": [
    "# Qual estação do ano contém a MAIOR e MENOR média de locações de bicicletas?\n",
    "# Estações do ano:\n",
    "# 1: inverno,\n",
    "# 2: primavera, \n",
    "# 3: verão, \n",
    "# 4: outono.\n",
    "\n",
    "df.groupby('season')['total_count'].mean().sort_values(ascending=False)"
   ]
  },
  {
   "cell_type": "code",
   "execution_count": 76,
   "metadata": {},
   "outputs": [
    {
     "data": {
      "text/plain": [
       "hour\n",
       "17    461.452055\n",
       "18    425.510989\n",
       "8     359.011004\n",
       "16    311.983562\n",
       "19    311.523352\n",
       "13    253.661180\n",
       "12    253.315934\n",
       "15    251.233196\n",
       "14    240.949246\n",
       "20    226.030220\n",
       "9     219.309491\n",
       "7     212.064649\n",
       "11    208.143054\n",
       "10    173.668501\n",
       "21    172.314560\n",
       "22    131.335165\n",
       "23     87.831044\n",
       "6      76.044138\n",
       "0      53.898072\n",
       "1      33.375691\n",
       "2      22.869930\n",
       "5      19.889819\n",
       "3      11.727403\n",
       "4       6.352941\n",
       "Name: total_count, dtype: float64"
      ]
     },
     "execution_count": 76,
     "metadata": {},
     "output_type": "execute_result"
    }
   ],
   "source": [
    "# Qual horário do dia contém a MAIOR e MENOR média de locações de bicicletas?\n",
    "# Os hrs são apresentados de 0 a 23 na coluna HOUR.\n",
    "df.groupby(\"hour\")[\"total_count\"].mean().sort_values(ascending=False)"
   ]
  },
  {
   "cell_type": "code",
   "execution_count": 82,
   "metadata": {},
   "outputs": [
    {
     "data": {
      "text/plain": [
       "weekday\n",
       "4    196.436665\n",
       "5    196.135907\n",
       "2    191.238891\n",
       "3    191.130505\n",
       "6    190.209793\n",
       "1    183.744655\n",
       "0    177.468825\n",
       "Name: total_count, dtype: float64"
      ]
     },
     "execution_count": 82,
     "metadata": {},
     "output_type": "execute_result"
    }
   ],
   "source": [
    "# Que dia da semana contém a MAIOR E MENOR média de locações de bicicletas?\n",
    "# weekday (dia da semana):\n",
    "# 0: domingo, \n",
    "# 1: segunda-feira,\n",
    "# 2: terça-feira,\n",
    "# 3: quarta-feira,\n",
    "# 4: quinta-feira,\n",
    "# 5: sexta-feira,\n",
    "#  …, 6: sábado).\n",
    "\n",
    "df.groupby(\"weekday\")[\"total_count\"].mean().sort_values(ascending=False)"
   ]
  },
  {
   "cell_type": "code",
   "execution_count": 91,
   "metadata": {},
   "outputs": [
    {
     "data": {
      "text/plain": [
       "hour\n",
       "17    513.144231\n",
       "18    494.029126\n",
       "8     488.326923\n",
       "19    357.504854\n",
       "7     303.980769\n",
       "16    272.961538\n",
       "20    256.660194\n",
       "9     238.528846\n",
       "21    194.669903\n",
       "12    193.903846\n",
       "13    185.826923\n",
       "15    181.288462\n",
       "14    170.548077\n",
       "11    152.201923\n",
       "22    143.689320\n",
       "10    131.894231\n",
       "6     107.807692\n",
       "23     83.737864\n",
       "0      34.557692\n",
       "5      25.750000\n",
       "1      15.336538\n",
       "2       7.813725\n",
       "4       4.968750\n",
       "3       4.888889\n",
       "Name: total_count, dtype: float64"
      ]
     },
     "execution_count": 91,
     "metadata": {},
     "output_type": "execute_result"
    }
   ],
   "source": [
    "# Às quartas-feiras (weekday = 3), qual o horário do dia contém a maior média de locações de bicicletas?\n",
    "df.loc[df[\"weekday\"] == 3].groupby(\"hour\")[\"total_count\"].mean().sort_values(ascending=False)"
   ]
  },
  {
   "cell_type": "code",
   "execution_count": 92,
   "metadata": {},
   "outputs": [
    {
     "data": {
      "text/plain": [
       "hour\n",
       "13    385.371429\n",
       "15    382.428571\n",
       "14    381.333333\n",
       "12    375.380952\n",
       "16    366.142857\n",
       "17    334.409524\n",
       "11    328.609524\n",
       "18    292.048077\n",
       "10    263.723810\n",
       "19    239.932692\n",
       "9     186.790476\n",
       "20    180.865385\n",
       "21    156.000000\n",
       "22    139.663462\n",
       "23    115.855769\n",
       "8     114.476190\n",
       "0      94.304762\n",
       "1      67.780952\n",
       "2      50.495238\n",
       "7      45.961905\n",
       "3      22.885714\n",
       "6      21.000000\n",
       "5       8.291262\n",
       "4       7.657143\n",
       "Name: total_count, dtype: float64"
      ]
     },
     "execution_count": 92,
     "metadata": {},
     "output_type": "execute_result"
    }
   ],
   "source": [
    "# Aos sábados (weekday = 6), qual o horário do dia contém a maior média de locações de bicicletas?\n",
    "df.loc[df[\"weekday\"] == 6].groupby(\"hour\")[\"total_count\"].mean().sort_values(ascending=False)"
   ]
  }
 ],
 "metadata": {
  "interpreter": {
   "hash": "570feb405e2e27c949193ac68f46852414290d515b0ba6e5d90d076ed2284471"
  },
  "kernelspec": {
   "display_name": "Python 3.8.6 64-bit",
   "language": "python",
   "name": "python3"
  },
  "language_info": {
   "codemirror_mode": {
    "name": "ipython",
    "version": 3
   },
   "file_extension": ".py",
   "mimetype": "text/x-python",
   "name": "python",
   "nbconvert_exporter": "python",
   "pygments_lexer": "ipython3",
   "version": "3.8.6"
  },
  "orig_nbformat": 4
 },
 "nbformat": 4,
 "nbformat_minor": 2
}
