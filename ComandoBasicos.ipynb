{
 "cells": [
  {
   "cell_type": "code",
   "execution_count": 1,
   "source": [
    "# importando as bibliotecas\r\n",
    "import pandas as pd"
   ],
   "outputs": [],
   "metadata": {}
  },
  {
   "cell_type": "code",
   "execution_count": 3,
   "source": [
    "# leitura de planilhas excel\r\n",
    "# 2 abas (worksheets)\r\n",
    "# leitura do arquivo todo\r\n",
    "excel_file = pd.ExcelFile(\"C:\\Users\\odair.colares\\Documents\\AnalistaDeDados\\cursosprouni.xls\")"
   ],
   "outputs": [
    {
     "output_type": "error",
     "ename": "SyntaxError",
     "evalue": "(unicode error) 'unicodeescape' codec can't decode bytes in position 2-3: truncated \\UXXXXXXXX escape (Temp/ipykernel_11776/517933183.py, line 4)",
     "traceback": [
      "\u001b[1;36m  File \u001b[1;32m\"C:\\Users\\ODAIR~1.COL\\AppData\\Local\\Temp/ipykernel_11776/517933183.py\"\u001b[1;36m, line \u001b[1;32m4\u001b[0m\n\u001b[1;33m    excel_file = pd.ExcelFile(\"C:\\Users\\odair.colares\\Documents\\AnalistaDeDados\\cursosprouni.xls\")\u001b[0m\n\u001b[1;37m                              ^\u001b[0m\n\u001b[1;31mSyntaxError\u001b[0m\u001b[1;31m:\u001b[0m (unicode error) 'unicodeescape' codec can't decode bytes in position 2-3: truncated \\UXXXXXXXX escape\n"
     ]
    }
   ],
   "metadata": {}
  },
  {
   "cell_type": "code",
   "execution_count": null,
   "source": [
    "# leitura da primeira aba (Sheet1)\r\n",
    "# dados numéricos com separador decimal = '.'\r\n",
    "df = pd.read_excel(excel_file, sheet_name='Sheet1').sample(10).T\r\n",
    "df"
   ],
   "outputs": [],
   "metadata": {}
  },
  {
   "cell_type": "code",
   "execution_count": null,
   "source": [
    "# Visualizar as N primeiras linhas com metodo df.head(n)\r\n",
    "# Visualizar as N ultimas linhas com metodo df.tail(n)\r\n",
    "# Visualizar N linhas aleatorias dentro do seu dataset com o metodo df.sample(n)\r\n",
    "n = 5\r\n",
    "df.head(n)"
   ],
   "outputs": [],
   "metadata": {}
  },
  {
   "cell_type": "code",
   "execution_count": null,
   "source": [
    "# Visualizar tamanho do dataset com numeros de linhas e colunas\r\n",
    "df.shape"
   ],
   "outputs": [],
   "metadata": {}
  },
  {
   "cell_type": "code",
   "execution_count": null,
   "source": [
    "# Dtypes saber qual os dados inseridos do dataset\r\n",
    "df.dtypes"
   ],
   "outputs": [],
   "metadata": {}
  },
  {
   "cell_type": "code",
   "execution_count": null,
   "source": [
    "# Estatitiscas basicas\r\n",
    "df.describe()"
   ],
   "outputs": [],
   "metadata": {}
  },
  {
   "cell_type": "code",
   "execution_count": null,
   "source": [
    "# Infos sobre o dataset\r\n",
    "df.info()"
   ],
   "outputs": [],
   "metadata": {}
  },
  {
   "cell_type": "code",
   "execution_count": null,
   "source": [
    "# Nomes das colunas\r\n",
    "df.columns"
   ],
   "outputs": [],
   "metadata": {}
  },
  {
   "cell_type": "code",
   "execution_count": null,
   "source": [
    "df['cidade_busca'].value_counts(ascending = True).reset_index()"
   ],
   "outputs": [],
   "metadata": {}
  },
  {
   "cell_type": "code",
   "execution_count": null,
   "source": [
    "df[df['grau'] == 'Tecnológico']"
   ],
   "outputs": [],
   "metadata": {}
  },
  {
   "cell_type": "code",
   "execution_count": null,
   "source": [
    "# Encontrar colunas por parte do nome.\r\n",
    "df.filter(like='bo')"
   ],
   "outputs": [],
   "metadata": {}
  }
 ],
 "metadata": {
  "orig_nbformat": 4,
  "language_info": {
   "name": "python",
   "version": "3.8.6",
   "mimetype": "text/x-python",
   "codemirror_mode": {
    "name": "ipython",
    "version": 3
   },
   "pygments_lexer": "ipython3",
   "nbconvert_exporter": "python",
   "file_extension": ".py"
  },
  "kernelspec": {
   "name": "python3",
   "display_name": "Python 3.8.6 64-bit"
  },
  "interpreter": {
   "hash": "1baa965d5efe3ac65b79dfc60c0d706280b1da80fedb7760faf2759126c4f253"
  }
 },
 "nbformat": 4,
 "nbformat_minor": 2
}