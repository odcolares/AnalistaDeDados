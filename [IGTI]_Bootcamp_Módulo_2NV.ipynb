{
  "cells": [
    {
      "cell_type": "markdown",
      "metadata": {
        "id": "IGa1ElkAlEha"
      },
      "source": [
        "## **Numpy**"
      ]
    },
    {
      "cell_type": "code",
      "execution_count": 1,
      "metadata": {
        "id": "aL0_UKQ-n8pg"
      },
      "outputs": [],
      "source": [
        "# importando as bibliotecas\n",
        "import numpy as np"
      ]
    },
    {
      "cell_type": "markdown",
      "metadata": {
        "id": "glXv_BQc-eKm"
      },
      "source": [
        "### **Criação de arrays**"
      ]
    },
    {
      "cell_type": "code",
      "execution_count": null,
      "metadata": {
        "id": "JJDkzf_GcIPj"
      },
      "outputs": [],
      "source": [
        "np.array"
      ]
    },
    {
      "cell_type": "code",
      "execution_count": 7,
      "metadata": {
        "colab": {
          "base_uri": "https://localhost:8080/",
          "height": 53
        },
        "id": "6fyF9yoT9VQ8",
        "outputId": "89f894cd-5dc8-491e-bd59-6e01e8b5103f"
      },
      "outputs": [
        {
          "name": "stdout",
          "output_type": "stream",
          "text": [
            "x: [1 2 3]\n",
            "shape: (3,)\n"
          ]
        }
      ],
      "source": [
        "# criação de um array 1D: [1, 2, 3]\n",
        "l = [1, 2, 3]\n",
        "x = np.array(l)\n",
        "print(\"x:\", x)\n",
        "print(\"shape:\", x.shape)"
      ]
    },
    {
      "cell_type": "code",
      "execution_count": 8,
      "metadata": {
        "colab": {
          "base_uri": "https://localhost:8080/",
          "height": 35
        },
        "id": "3s3W1ZHLdzs_",
        "outputId": "2fe2bfd6-0acb-4759-a18a-f7cb5227b030"
      },
      "outputs": [
        {
          "data": {
            "text/plain": [
              "numpy.ndarray"
            ]
          },
          "execution_count": 8,
          "metadata": {},
          "output_type": "execute_result"
        }
      ],
      "source": [
        "#Saber qual o timpo de array\n",
        "type(x)"
      ]
    },
    {
      "cell_type": "code",
      "execution_count": 12,
      "metadata": {
        "colab": {
          "base_uri": "https://localhost:8080/",
          "height": 89
        },
        "id": "Q2_U-rjj9iN3",
        "outputId": "57ea7aa2-a3a8-4418-dd1c-d84e81b8d504"
      },
      "outputs": [
        {
          "name": "stdout",
          "output_type": "stream",
          "text": [
            "x:\n",
            " [[1 2]\n",
            " [3 4]]\n",
            "shape: (2, 2)\n"
          ]
        }
      ],
      "source": [
        "# criação de um array 2D: listas aninhadas\n",
        "l = [[1, 2], [3, 4]]\n",
        "x = np.array(l, dtype = int) #dtype: função força a criação de números inteiros.\n",
        "print(\"x:\\n\", x)\n",
        "print(\"shape:\", x.shape)"
      ]
    },
    {
      "cell_type": "code",
      "execution_count": 10,
      "metadata": {
        "colab": {
          "base_uri": "https://localhost:8080/",
          "height": 35
        },
        "id": "45OpNTFPeO5D",
        "outputId": "89b97724-5802-4261-e9fe-92f3bdb316c6"
      },
      "outputs": [
        {
          "data": {
            "text/plain": [
              "numpy.ndarray"
            ]
          },
          "execution_count": 10,
          "metadata": {},
          "output_type": "execute_result"
        }
      ],
      "source": [
        "type(x)"
      ]
    },
    {
      "cell_type": "code",
      "execution_count": null,
      "metadata": {
        "colab": {
          "base_uri": "https://localhost:8080/",
          "height": 953
        },
        "id": "RYd7frOFeWyh",
        "outputId": "1548d847-5daa-45d3-9a06-90bc6e83a59d"
      },
      "outputs": [],
      "source": [
        "help(np.zeros)"
      ]
    },
    {
      "cell_type": "code",
      "execution_count": 14,
      "metadata": {
        "colab": {
          "base_uri": "https://localhost:8080/",
          "height": 89
        },
        "id": "XjnO6UaW9_rr",
        "outputId": "edf3eefe-2890-4bb6-c107-9967f77a7c63"
      },
      "outputs": [
        {
          "name": "stdout",
          "output_type": "stream",
          "text": [
            "x:\n",
            " [[0. 0. 0.]\n",
            " [0. 0. 0.]]\n",
            "shape: (2, 3)\n"
          ]
        }
      ],
      "source": [
        "# array contendo apenas 0's\n",
        "dim = (2, 3)  # (linhas, colunas)\n",
        "x = np.zeros(dim)\n",
        "print(\"x:\\n\", x)\n",
        "print(\"shape:\", x.shape)"
      ]
    },
    {
      "cell_type": "code",
      "execution_count": 17,
      "metadata": {
        "colab": {
          "base_uri": "https://localhost:8080/",
          "height": 89
        },
        "id": "nPPcYGt4_fzU",
        "outputId": "ed3eff63-4d1b-4196-b4d2-7e12ed22c9c7"
      },
      "outputs": [
        {
          "name": "stdout",
          "output_type": "stream",
          "text": [
            "x:\n",
            " [[1. 1. 1.]\n",
            " [1. 1. 1.]\n",
            " [1. 1. 1.]\n",
            " [1. 1. 1.]]\n",
            "shape: (4, 3)\n"
          ]
        }
      ],
      "source": [
        "# array contendo apenas 1's\n",
        "size = (4, 3)  # (linhas, colunas)\n",
        "x = np.ones(size)\n",
        "print(\"x:\\n\", x)\n",
        "print(\"shape:\", x.shape)"
      ]
    },
    {
      "cell_type": "code",
      "execution_count": null,
      "metadata": {
        "id": "FD3QynDnfXyh"
      },
      "outputs": [],
      "source": [
        "np.linspace"
      ]
    },
    {
      "cell_type": "code",
      "execution_count": 23,
      "metadata": {
        "colab": {
          "base_uri": "https://localhost:8080/",
          "height": 53
        },
        "id": "x8eiwDYp_u_E",
        "outputId": "04765c03-3570-4aeb-e506-bc33eb69cb3d"
      },
      "outputs": [
        {
          "name": "stdout",
          "output_type": "stream",
          "text": [
            "x: [ 5.  7.  9. 11. 13. 15.]\n",
            "shape: (6,)\n"
          ]
        }
      ],
      "source": [
        "# criação de valores dentro de um intervalo\n",
        "# valores uniformes entre 5 e 15\n",
        "x_min, x_max = 5, 15\n",
        "x = np.linspace(start=x_min, stop=x_max, num=6)\n",
        "print(\"x:\", x)\n",
        "print(\"shape:\", x.shape)"
      ]
    },
    {
      "cell_type": "code",
      "execution_count": 27,
      "metadata": {
        "colab": {
          "base_uri": "https://localhost:8080/",
          "height": 125
        },
        "id": "AfLgXJBSAOYp",
        "outputId": "9c6cd8e3-d98e-4e63-e56e-e64155792a4d"
      },
      "outputs": [
        {
          "name": "stdout",
          "output_type": "stream",
          "text": [
            "x:\n",
            " [[1. 0. 0.]\n",
            " [0. 1. 0.]\n",
            " [0. 0. 1.]]\n",
            "shape: (3, 3)\n"
          ]
        }
      ],
      "source": [
        "# criação da matriz identidade\n",
        "n = 3\n",
        "x = np.eye(n)\n",
        "print(\"x:\\n\", x)\n",
        "print(\"shape:\", x.shape)"
      ]
    },
    {
      "cell_type": "code",
      "execution_count": null,
      "metadata": {
        "colab": {
          "base_uri": "https://localhost:8080/",
          "height": 161
        },
        "id": "3UOujghVgN7Z",
        "outputId": "56ae8910-8ead-4e06-a0cc-6c45bde20fa3"
      },
      "outputs": [],
      "source": [
        "help(np.random.random)"
      ]
    },
    {
      "cell_type": "code",
      "execution_count": 30,
      "metadata": {
        "colab": {
          "base_uri": "https://localhost:8080/",
          "height": 89
        },
        "id": "A618d3pvCPsC",
        "outputId": "457c263d-b867-43c5-e718-c5fe8c6c6783"
      },
      "outputs": [
        {
          "name": "stdout",
          "output_type": "stream",
          "text": [
            "x:\n",
            " [[0.82250291 0.18913312 0.69752036]\n",
            " [0.45805421 0.72620537 0.85733181]]\n",
            "shape: (2, 3)\n"
          ]
        }
      ],
      "source": [
        "# criação de valores aleatórios\n",
        "# np.random.seed(10)\n",
        "x = np.random.random(size=(2, 3))\n",
        "print(\"x:\\n\", x)\n",
        "print(\"shape:\", x.shape)"
      ]
    },
    {
      "cell_type": "markdown",
      "metadata": {
        "id": "769s_NzwDZII"
      },
      "source": [
        "### **Indexação de arrays**"
      ]
    },
    {
      "cell_type": "code",
      "execution_count": 2,
      "metadata": {
        "colab": {
          "base_uri": "https://localhost:8080/",
          "height": 53
        },
        "id": "lSSxZMAKCaEb",
        "outputId": "11c73a4d-0850-4984-9f47-e5b36319bb3b"
      },
      "outputs": [
        {
          "name": "stdout",
          "output_type": "stream",
          "text": [
            "x: [ 10.  20.  30.  40.  50.  60.  70.  80.  90. 100.]\n",
            "shape: (10,)\n"
          ]
        }
      ],
      "source": [
        "# os índices no Python vão de 0 a n-1,\n",
        "# onde n é o tamanho da dimensão\n",
        "x = np.linspace(start=10, stop=100, num=10)\n",
        "print(\"x:\", x)\n",
        "print(\"shape:\", x.shape)"
      ]
    },
    {
      "cell_type": "code",
      "execution_count": 9,
      "metadata": {
        "colab": {
          "base_uri": "https://localhost:8080/",
          "height": 107
        },
        "id": "ql5HQ3KhDzVm",
        "outputId": "b2eda45c-4f16-4c49-d7cf-01528b113f0d"
      },
      "outputs": [
        {
          "name": "stdout",
          "output_type": "stream",
          "text": [
            "x: [ 10.  20.  30.  40.  50.  60.  70.  80.  90. 100.]\n",
            "primeiro elemento: 10.0\n",
            "segundo elemento: 20.0\n",
            "último elemento: 100.0\n",
            "último elemento: 100.0\n"
          ]
        }
      ],
      "source": [
        "# acessando elementos de uma arrays\n",
        "print(\"x:\", x)\n",
        "print(\"primeiro elemento:\", x[0])\n",
        "print(\"segundo elemento:\", x[1])\n",
        "print(\"último elemento:\", x[9])\n",
        "print(\"último elemento:\", x[-1])"
      ]
    },
    {
      "cell_type": "code",
      "execution_count": 20,
      "metadata": {
        "colab": {
          "base_uri": "https://localhost:8080/",
          "height": 35
        },
        "id": "Ds3lSMhqqjIz",
        "outputId": "88799a7f-a67b-4f7c-e165-cf3318afaf7a"
      },
      "outputs": [
        {
          "data": {
            "text/plain": [
              "60.0"
            ]
          },
          "execution_count": 20,
          "metadata": {},
          "output_type": "execute_result"
        }
      ],
      "source": [
        "x[5]"
      ]
    },
    {
      "cell_type": "code",
      "execution_count": 21,
      "metadata": {
        "colab": {
          "base_uri": "https://localhost:8080/",
          "height": 89
        },
        "id": "Kam3n9fJD4a1",
        "outputId": "ce8bf8bd-4c59-4f9c-c5b0-b13fa722eca6"
      },
      "outputs": [
        {
          "name": "stdout",
          "output_type": "stream",
          "text": [
            "x: [ 10.  20.  30.  40.  50.  60.  70.  80.  90. 100.]\n",
            "dois primeiros elementos: [10. 20.]\n",
            "dois primeiros elementos: [10. 20.]\n",
            "dois últimos elementos: [ 90. 100.]\n"
          ]
        }
      ],
      "source": [
        "# slicing: extração de subarrays: \n",
        "print(\"x:\", x)\n",
        "print(\"dois primeiros elementos:\", x[0:2])  # 2 é exclusivo\n",
        "print(\"dois primeiros elementos:\", x[:2])\n",
        "print(\"dois últimos elementos:\", x[-2:])"
      ]
    },
    {
      "cell_type": "code",
      "execution_count": 22,
      "metadata": {
        "colab": {
          "base_uri": "https://localhost:8080/",
          "height": 71
        },
        "id": "14-JCNQBEg_4",
        "outputId": "6208c788-8d02-4139-aae3-19d8fba17fe8"
      },
      "outputs": [
        {
          "name": "stdout",
          "output_type": "stream",
          "text": [
            "x:\n",
            " [[ 10.  20.  30.  40.  50.]\n",
            " [ 60.  70.  80.  90. 100.]]\n"
          ]
        }
      ],
      "source": [
        "# slicing em arrays 2D (matrizes)\n",
        "x = x.reshape(2, 5)  # reshape de x para 2 linhas e 5 colunas\n",
        "print(\"x:\\n\", x)"
      ]
    },
    {
      "cell_type": "code",
      "execution_count": 27,
      "metadata": {
        "colab": {
          "base_uri": "https://localhost:8080/",
          "height": 89
        },
        "id": "1_npwPKAGgu_",
        "outputId": "8f8a462a-2db4-4010-9fd3-9df826508573"
      },
      "outputs": [
        {
          "name": "stdout",
          "output_type": "stream",
          "text": [
            "primeira linha, segunda coluna: 20.0\n",
            "segunda linha, penúltima coluna: 90.0\n",
            "última linha, última coluna: 100.0\n",
            "última linha, última coluna: 100.0\n",
            "primeira linha, indice 'zero': 60.0\n"
          ]
        }
      ],
      "source": [
        "# extração de elementos\n",
        "print(\"primeira linha, segunda coluna:\", x[0, 1])\n",
        "print(\"segunda linha, penúltima coluna:\", x[1, -2])\n",
        "print(\"última linha, última coluna:\", x[1, 4])\n",
        "print(\"última linha, última coluna:\", x[-1, -1])\n",
        "print(\"primeira linha, indice 'zero':\", x[1, 0])"
      ]
    },
    {
      "cell_type": "code",
      "execution_count": 29,
      "metadata": {
        "colab": {
          "base_uri": "https://localhost:8080/",
          "height": 161
        },
        "id": "X19pfvbVHT3X",
        "outputId": "c87b5e50-8428-4ad8-86ff-7078d73f2be7"
      },
      "outputs": [
        {
          "name": "stdout",
          "output_type": "stream",
          "text": [
            "x:\n",
            " [[ 10.  20.  30.  40.  50.]\n",
            " [ 60.  70.  80.  90. 100.]]\n",
            "primeira linha inteira:  [10. 20. 30. 40. 50.]\n",
            "primeira linha, segunda a quarta coluna:  [20. 30. 40.]\n",
            "última coluna inteira:\n",
            " [[ 50.]\n",
            " [100.]]\n",
            "segunda linha, terceiro a ultimo elemento:  [ 90. 100.]\n"
          ]
        }
      ],
      "source": [
        "# slicing: extração de subarrays\n",
        "print(\"x:\\n\", x)\n",
        "print(\"primeira linha inteira: \", x[0, :])\n",
        "print(\"primeira linha, segunda a quarta coluna: \", x[0, 1:4])\n",
        "print(\"última coluna inteira:\\n\", x[:, [-1]])\n",
        "print(\"segunda linha, terceiro a ultimo elemento: \", x[1, 3:])"
      ]
    },
    {
      "cell_type": "code",
      "execution_count": 5,
      "metadata": {
        "colab": {
          "base_uri": "https://localhost:8080/",
          "height": 53
        },
        "id": "l320gP9OH6dq",
        "outputId": "9f677915-72c9-4b90-b5d5-6dc0f900c84a"
      },
      "outputs": [
        {
          "name": "stdout",
          "output_type": "stream",
          "text": [
            "x antes: [1 2 3]\n",
            "x depois: [-100    2    3]\n"
          ]
        }
      ],
      "source": [
        "# atenção com compartilhamento de memória em subarrays!!\n",
        "x = np.array([1, 2, 3])\n",
        "print(\"x antes:\", x)\n",
        "y = x[:2]\n",
        "y[0] = -100  # alteração do valor em y altera o valor de x\n",
        "print(\"x depois:\", x)"
      ]
    },
    {
      "cell_type": "code",
      "execution_count": 6,
      "metadata": {
        "colab": {
          "base_uri": "https://localhost:8080/",
          "height": 53
        },
        "id": "zfM3tL3HI4yX",
        "outputId": "ce134314-1786-4e6b-e972-c97cd2506e64"
      },
      "outputs": [
        {
          "name": "stdout",
          "output_type": "stream",
          "text": [
            "x antes: [1 2 3]\n",
            "x depois: [1 2 3]\n"
          ]
        }
      ],
      "source": [
        "# atenção com compartilhamento de memória em subarrays!!\n",
        "x = np.array([1, 2, 3])\n",
        "print(\"x antes:\", x)\n",
        "y = x[:2].copy()\n",
        "y[0] = -100  # alteração do valor em y altera o valor de x\n",
        "print(\"x depois:\", x)"
      ]
    },
    {
      "cell_type": "markdown",
      "metadata": {
        "id": "emFS9rYEJlwa"
      },
      "source": [
        "### **Funções aritméticas: soma, subtração e divisão**"
      ]
    },
    {
      "cell_type": "code",
      "execution_count": 18,
      "metadata": {
        "colab": {
          "base_uri": "https://localhost:8080/",
          "height": 125
        },
        "id": "cxCuJmuCJE_f",
        "outputId": "7266ef4c-0eb1-49ec-f7d6-4fa71baa8221"
      },
      "outputs": [
        {
          "name": "stdout",
          "output_type": "stream",
          "text": [
            "x: \n",
            " [[1. 1.]\n",
            " [1. 1.]]\n",
            "y: \n",
            " [[1. 0.]\n",
            " [0. 1.]]\n"
          ]
        }
      ],
      "source": [
        "# criação de dois arrays x e y\n",
        "x = np.ones((2, 2))\n",
        "y = np.eye(2)\n",
        "print(\"x: \\n\", x)\n",
        "print(\"y: \\n\", y)"
      ]
    },
    {
      "cell_type": "code",
      "execution_count": 14,
      "metadata": {
        "id": "EWB48NHLJ3Pt"
      },
      "outputs": [
        {
          "name": "stdout",
          "output_type": "stream",
          "text": [
            "soma de dois arrays:\n",
            " [[2. 1.]\n",
            " [1. 2.]]\n",
            "soma com float/int:\n",
            " [[3. 3.]\n",
            " [3. 3.]]\n"
          ]
        }
      ],
      "source": [
        "# soma\n",
        "print(\"soma de dois arrays:\\n\", x + y)\n",
        "\n",
        "print(\"soma com float/int:\\n\", x + 2.)  # broadcasting"
      ]
    },
    {
      "cell_type": "code",
      "execution_count": 15,
      "metadata": {
        "id": "iqG4J9jjKEHu"
      },
      "outputs": [
        {
          "name": "stdout",
          "output_type": "stream",
          "text": [
            "subtração de dois arrays:\n",
            " [[0. 1.]\n",
            " [1. 0.]]\n",
            "subtração com float/int:\n",
            " [[-1. -1.]\n",
            " [-1. -1.]]\n"
          ]
        }
      ],
      "source": [
        "# subtração\n",
        "print(\"subtração de dois arrays:\\n\", x - y)\n",
        "print(\"subtração com float/int:\\n\", x - 2)  # broadcasting"
      ]
    },
    {
      "cell_type": "code",
      "execution_count": 23,
      "metadata": {
        "id": "napi10qVKdJi"
      },
      "outputs": [
        {
          "name": "stdout",
          "output_type": "stream",
          "text": [
            "x: \n",
            " [[1. 1.]\n",
            " [1. 1.]]\n",
            "y: \n",
            " [[1. 0.]\n",
            " [0. 1.]]\n",
            "divisão de dois arrays:\n",
            " [[ 1. inf]\n",
            " [inf  1.]]\n",
            "divisão com float/int:\n",
            " [[0.5 0.5]\n",
            " [0.5 0.5]]\n"
          ]
        },
        {
          "name": "stderr",
          "output_type": "stream",
          "text": [
            "C:\\Users\\ODAIR~1.COL\\AppData\\Local\\Temp/ipykernel_7716/3207621938.py:4: RuntimeWarning: divide by zero encountered in true_divide\n",
            "  print(\"divisão de dois arrays:\\n\", x / y)\n"
          ]
        }
      ],
      "source": [
        "# divisão\n",
        "print(\"x: \\n\", x)\n",
        "print(\"y: \\n\", y)\n",
        "print(\"divisão de dois arrays:\\n\", x / y)\n",
        "print(\"divisão com float/int:\\n\", x / 2)  # broadcasting"
      ]
    },
    {
      "cell_type": "code",
      "execution_count": null,
      "metadata": {
        "id": "gWqAQ9kfMzZU"
      },
      "outputs": [],
      "source": [
        "# quando o broadcasting não funciona, devemos manter a matrizes com formas iguais.\n",
        "np.array([1, 2, 3]) + np.array([1, 2])"
      ]
    },
    {
      "cell_type": "code",
      "execution_count": 30,
      "metadata": {
        "id": "yTSOAIAdLpXb"
      },
      "outputs": [
        {
          "name": "stdout",
          "output_type": "stream",
          "text": [
            "combinação de operações: \n",
            " [[-4. -2.]\n",
            " [-2. -4.]]\n"
          ]
        }
      ],
      "source": [
        "# soma, subtração e divisão\n",
        "print(\"combinação de operações: \\n\", ((x+y)/(x-2)*2))"
      ]
    },
    {
      "cell_type": "markdown",
      "metadata": {
        "id": "dvkMMUaRMlsQ"
      },
      "source": [
        "### **Funções aritméticas: multiplicação**"
      ]
    },
    {
      "cell_type": "code",
      "execution_count": 31,
      "metadata": {
        "colab": {
          "base_uri": "https://localhost:8080/",
          "height": 125
        },
        "id": "JUz-8PHIMeFh",
        "outputId": "81e82cba-5e51-412c-a828-b1fbfc2c8e11"
      },
      "outputs": [
        {
          "name": "stdout",
          "output_type": "stream",
          "text": [
            "x: \n",
            " [[1. 1.]\n",
            " [1. 1.]]\n",
            "y: \n",
            " [[1. 0.]\n",
            " [0. 1.]]\n"
          ]
        }
      ],
      "source": [
        "# multiplicação elemento a elemento\n",
        "print(\"x: \\n\", x)\n",
        "print(\"y: \\n\", y)"
      ]
    },
    {
      "cell_type": "code",
      "execution_count": null,
      "metadata": {
        "colab": {
          "base_uri": "https://localhost:8080/",
          "height": 125
        },
        "id": "mHOzJbLFNu5I",
        "outputId": "1f8b023d-08b2-4aac-c51f-c18a9ad0acaf"
      },
      "outputs": [],
      "source": [
        "# multiplicação\n",
        "print(\"multiplicação de dois arrays:\\n\", x * y)\n",
        "print(\"multiplicação com float/int:\\n\", x * 2)  # broadcasting"
      ]
    },
    {
      "cell_type": "code",
      "execution_count": 32,
      "metadata": {
        "colab": {
          "base_uri": "https://localhost:8080/",
          "height": 179
        },
        "id": "ndmeNPMPN7Fn",
        "outputId": "b5de8b2c-cb29-4223-ea6b-b3136bc146ee"
      },
      "outputs": [
        {
          "name": "stdout",
          "output_type": "stream",
          "text": [
            "multiplicação matricial (np.dot):\n",
            " [[1. 1.]\n",
            " [1. 1.]]\n",
            "multiplicação matricial (@):\n",
            " [[1. 1.]\n",
            " [1. 1.]]\n",
            "multiplicação matricial (.dot):\n",
            " [[1. 1.]\n",
            " [1. 1.]]\n"
          ]
        }
      ],
      "source": [
        "# multiplicação matricial\n",
        "print(\"multiplicação matricial (np.dot):\\n\", np.dot(x, y))\n",
        "print(\"multiplicação matricial (@):\\n\", x @ y)\n",
        "print(\"multiplicação matricial (.dot):\\n\", x.dot(y))"
      ]
    },
    {
      "cell_type": "code",
      "execution_count": 4,
      "metadata": {
        "colab": {
          "base_uri": "https://localhost:8080/",
          "height": 125
        },
        "id": "Bm7Bwx_XONkg",
        "outputId": "ec0c262c-7557-4e87-b349-feb06acdfc54"
      },
      "outputs": [
        {
          "name": "stdout",
          "output_type": "stream",
          "text": [
            "A: \n",
            " [[ 1  2]\n",
            " [ 3 -2]]\n",
            "c: \n",
            " [[  7]\n",
            " [-11]]\n"
          ]
        }
      ],
      "source": [
        "\"\"\" \n",
        "Exemplo:\n",
        "Solução de um sistema de equações:\n",
        "  1*a + 2*b = 7\n",
        "  3*a - 2*b = -11\n",
        "  solução análitica: (a, b) = (-1, 4)\n",
        "Matricialmente, este problema tem a seguinte forma:\n",
        "  Ax = c, onde:\n",
        "  - x = [a, b]\n",
        "  - A = [[1, 2], [3, -2]]\n",
        "  - c = [7, -11]\n",
        "  solução numérica: x = inv(A) @ c, \n",
        "\"\"\"\n",
        " \n",
        "# definição do problema\n",
        "A = np.array([[1, 2], [3, -2]])\n",
        "c = np.array([[7], [-11]])\n",
        "print(\"A: \\n\", A)\n",
        "print(\"c: \\n\", c)"
      ]
    },
    {
      "cell_type": "markdown",
      "metadata": {
        "id": "FHXwax4qzKL-"
      },
      "source": [
        "Sistema de equações:\n",
        "\n",
        "$$Ax=c,\\\\\\left[\\begin{array}{cc}1&2\\\\3&-2\\end{array}\\right]\\left[\\begin{array}{c}a\\\\b\\end{array}\\right] = \\left[\\begin{array}{c}7\\\\-11\\end{array}\\right].$$\n",
        "\n",
        "Solução:\n",
        "\n",
        "$$x=A^{-1}c.$$\n"
      ]
    },
    {
      "cell_type": "code",
      "execution_count": 5,
      "metadata": {
        "colab": {
          "base_uri": "https://localhost:8080/",
          "height": 35
        },
        "id": "4kJ62UMOQTwp",
        "outputId": "90645b9e-a5ab-410c-b1ff-42b3b0562eee"
      },
      "outputs": [
        {
          "name": "stdout",
          "output_type": "stream",
          "text": [
            "(a, b): [-1.  4.]\n"
          ]
        }
      ],
      "source": [
        "# solução\n",
        "x = np.dot(np.linalg.inv(A), c)\n",
        "# x = np.linalg.inv(A) @ c\n",
        "print(\"(a, b):\", x.ravel())"
      ]
    },
    {
      "cell_type": "markdown",
      "metadata": {
        "id": "IQZaGV6jRRD5"
      },
      "source": [
        "### **Comparações**"
      ]
    },
    {
      "cell_type": "code",
      "execution_count": 14,
      "metadata": {
        "colab": {
          "base_uri": "https://localhost:8080/",
          "height": 107
        },
        "id": "GJqFMWubQdRp",
        "outputId": "942c06f0-76ce-49e4-92f1-24fcfa522963"
      },
      "outputs": [
        {
          "name": "stdout",
          "output_type": "stream",
          "text": [
            "x: \n",
            " [[1 2 3]\n",
            " [3 4 5]\n",
            " [5 6 7]]\n",
            "y: \n",
            " [1.5 2.5 3.5]\n",
            "s: \n",
            " 3\n"
          ]
        }
      ],
      "source": [
        "# criação dos arrays\n",
        "x = np.array([[1, 2, 3], [3, 4, 5], [5, 6, 7]])\n",
        "y = np.array([1.5, 2.5, 3.5])\n",
        "s = 3\n",
        "print(\"x: \\n\", x)\n",
        "print(\"y: \\n\", y)\n",
        "print(\"s: \\n\", s)"
      ]
    },
    {
      "cell_type": "code",
      "execution_count": 17,
      "metadata": {
        "colab": {
          "base_uri": "https://localhost:8080/",
          "height": 395
        },
        "id": "bJI8UlGSSo5i",
        "outputId": "5e3dc10b-3461-4de6-d969-6a55c27f4ea2"
      },
      "outputs": [
        {
          "name": "stdout",
          "output_type": "stream",
          "text": [
            "Comparação de um array com um escalar (>): \n",
            " [[False False  True]\n",
            " [ True  True  True]\n",
            " [ True  True  True]]\n",
            "Comparação de um array com um escalar (>=): \n",
            " [[False  True  True]\n",
            " [ True  True  True]\n",
            " [ True  True  True]]\n",
            "Comparação de um array com um escalar (<): \n",
            " [[ True False False]\n",
            " [False False False]\n",
            " [False False False]]\n",
            "Comparação de um array com um escalar (<=): \n",
            " [[ True  True False]\n",
            " [False False False]\n",
            " [False False False]]\n",
            "Comparação entre arrays (==): \n",
            " [[ True  True  True]\n",
            " [ True  True  True]\n",
            " [ True  True  True]]\n",
            "Comparação entre arrays (>): \n",
            " [[False False False]\n",
            " [False False False]\n",
            " [False False False]]\n",
            "Comparação entre arrays (>): \n",
            " [[False False False]\n",
            " [False  True  True]\n",
            " [ True  True  True]]\n"
          ]
        }
      ],
      "source": [
        "# comparações ponto a ponto\n",
        "print(\"Comparação de um array com um escalar (>): \\n\", x > 2)  \n",
        "print(\"Comparação de um array com um escalar (>=): \\n\", x >= 2)\n",
        "print(\"Comparação de um array com um escalar (<): \\n\", x < 2)  \n",
        "print(\"Comparação de um array com um escalar (<=): \\n\", x <= 2)\n",
        "print(\"Comparação entre arrays (==): \\n\", x == x)\n",
        "print(\"Comparação entre arrays (>): \\n\", x > x)\n",
        "print(\"Comparação entre arrays (>): \\n\", x > s)  # broadcasting"
      ]
    },
    {
      "cell_type": "markdown",
      "metadata": {
        "id": "xbgWm1XGVdiq"
      },
      "source": [
        "### **Indexação booleana**"
      ]
    },
    {
      "cell_type": "code",
      "execution_count": 39,
      "metadata": {
        "colab": {
          "base_uri": "https://localhost:8080/",
          "height": 89
        },
        "id": "cCq137a7Sr8s",
        "outputId": "0ba8f270-3a82-46f4-f9ab-1e58a3d65d24"
      },
      "outputs": [
        {
          "name": "stdout",
          "output_type": "stream",
          "text": [
            "x:\n",
            " [[ 1  3  7]\n",
            " [ 4 11 21]\n",
            " [42  8  9]]\n"
          ]
        }
      ],
      "source": [
        "# indexação booleana\n",
        "x = np.array([[1, 3, 7],\n",
        "              [4, 11, 21],\n",
        "              [42, 8, 9]])\n",
        "print(\"x:\\n\", x)"
      ]
    },
    {
      "cell_type": "code",
      "execution_count": 44,
      "metadata": {
        "colab": {
          "base_uri": "https://localhost:8080/",
          "height": 125
        },
        "id": "IIBCawWNYtTR",
        "outputId": "d1a4b584-220b-47b7-de02-80608a7b61ce"
      },
      "outputs": [
        {
          "name": "stdout",
          "output_type": "stream",
          "text": [
            "condição: \n",
            " [[False False False]\n",
            " [False  True  True]\n",
            " [ True  True  True]]\n",
            "elementos maiores que 7: [11 21 42  8  9]\n",
            "números de elementos maiores que 7: 5\n",
            "Array resultante:  [11 21 42  8  9]\n",
            "Transformando VetorLinha usando RShape: \n",
            " [[ 1  3  7  4 11 21 42  8  9]]\n"
          ]
        }
      ],
      "source": [
        "# indexação boolena: retornar o número de elementos\n",
        "# maiores que k\n",
        "k = 7\n",
        "cond = x > k\n",
        "R = x[cond]\n",
        "print(\"condição: \\n\", cond)\n",
        "print(f\"elementos maiores que {k}:\", x[cond])\n",
        "print(f\"números de elementos maiores que {k}:\", len(x[cond]))\n",
        "print(\"Array resultante: \", R)\n",
        "print(\"Transformando VetorLinha usando RShape: \\n\", x.reshape (1, 9))"
      ]
    },
    {
      "cell_type": "code",
      "execution_count": 34,
      "metadata": {
        "colab": {
          "base_uri": "https://localhost:8080/",
          "height": 107
        },
        "id": "Dgpjx5xnV1Nf",
        "outputId": "1187f933-00d2-431f-bfaa-e0988936c31c"
      },
      "outputs": [
        {
          "name": "stdout",
          "output_type": "stream",
          "text": [
            "condição: \n",
            " [[False False False]\n",
            " [ True False False]\n",
            " [ True  True False]]\n",
            "números pares: [ 4 42  8]\n",
            "números de elemnetos pares dentro do arrays: 3\n"
          ]
        }
      ],
      "source": [
        "# indexação boolena: extração dos números pares\n",
        "cond = x % 2 == 0  # números pares\n",
        "print(\"condição: \\n\", cond)\n",
        "print(\"números pares:\", x[cond])\n",
        "print(\"números de elemnetos pares dentro do arrays:\", len(x[cond]))"
      ]
    },
    {
      "cell_type": "code",
      "execution_count": 35,
      "metadata": {
        "colab": {
          "base_uri": "https://localhost:8080/",
          "height": 107
        },
        "id": "l4xjwnpgWZNL",
        "outputId": "8294d70a-5596-40a0-f2c8-34c9cc158a9b"
      },
      "outputs": [
        {
          "name": "stdout",
          "output_type": "stream",
          "text": [
            "condição: \n",
            " [[ True  True  True]\n",
            " [False  True  True]\n",
            " [False False  True]]\n",
            "números impares: [ 1  3  7 11 21  9]\n",
            "números de elemento impares dentro do arrays:  6\n"
          ]
        }
      ],
      "source": [
        "# indexação boolena: extração dos números ímpares\n",
        "cond = x % 2 == 1  # números impares\n",
        "print(\"condição: \\n\", cond)\n",
        "print(\"números impares:\", x[cond])\n",
        "print(\"números de elemento impares dentro do arrays: \", len(x[cond]))"
      ]
    },
    {
      "cell_type": "markdown",
      "metadata": {
        "id": "oIfWCzfoaSzL"
      },
      "source": [
        "### **Outras operações úteis em numpy**"
      ]
    },
    {
      "cell_type": "code",
      "execution_count": 5,
      "metadata": {
        "colab": {
          "base_uri": "https://localhost:8080/",
          "height": 89
        },
        "id": "77006yraaxVQ",
        "outputId": "ceb12360-1b7e-4306-9521-8af63efa67f5"
      },
      "outputs": [
        {
          "name": "stdout",
          "output_type": "stream",
          "text": [
            "x:\n",
            " [[ 1  3  7]\n",
            " [ 4 11 21]\n",
            " [42  8  9]]\n"
          ]
        }
      ],
      "source": [
        "# array\n",
        "x = np.array([[1, 3, 7],\n",
        "              [4, 11, 21],\n",
        "              [42, 8, 9]])\n",
        "print(\"x:\\n\", x)"
      ]
    },
    {
      "cell_type": "code",
      "execution_count": 6,
      "metadata": {
        "id": "S0SOQ7U-bkB4"
      },
      "outputs": [
        {
          "name": "stdout",
          "output_type": "stream",
          "text": [
            "transformação de em um vetor coluna: \n",
            " [[ 1]\n",
            " [ 3]\n",
            " [ 7]\n",
            " [ 4]\n",
            " [11]\n",
            " [21]\n",
            " [42]\n",
            " [ 8]\n",
            " [ 9]]\n"
          ]
        }
      ],
      "source": [
        "# reshape: transformar a matriz em um vetor coluna\n",
        "# (3, 3) vira (9, 1): 3*3 = 9*1 = 9\n",
        "print(\"transformação de em um vetor coluna: \\n\", x.reshape(9, 1))"
      ]
    },
    {
      "cell_type": "code",
      "execution_count": 6,
      "metadata": {
        "id": "h6EWum1FbYiK"
      },
      "outputs": [
        {
          "name": "stdout",
          "output_type": "stream",
          "text": [
            "x transposta: \n",
            " [[ 1  4 42]\n",
            " [ 3 11  8]\n",
            " [ 7 21  9]]\n"
          ]
        }
      ],
      "source": [
        "# transposição de matriz\n",
        "print(\"x transposta: \\n\", x.T)"
      ]
    },
    {
      "cell_type": "code",
      "execution_count": 8,
      "metadata": {
        "id": "QG0LQUqzadSN"
      },
      "outputs": [
        {
          "name": "stdout",
          "output_type": "stream",
          "text": [
            "x:\n",
            " [[ 1  3  7]\n",
            " [ 4 11 21]\n",
            " [42  8  9]]\n",
            "soma de todos elementos de x: 106\n",
            "soma de x ao longo das linhas: [47 22 37]\n",
            "soma de x ao longo das colunas: [11 36 59]\n",
            "Matriz 2 X 3 resultante: \n",
            " [47 22 37] \n",
            " [11 36 59]\n"
          ]
        }
      ],
      "source": [
        "# np.sum: soma em um dado eixo, axis = {0: linha, 1: coluna}\n",
        "print(\"x:\\n\", x)\n",
        "print(\"soma de todos elementos de x:\", np.sum(x))\n",
        "print(\"soma de x ao longo das linhas:\", np.sum(x, axis=0))\n",
        "print(\"soma de x ao longo das colunas:\", np.sum(x, axis=1))\n",
        "y = np.sum(x, axis=0)\n",
        "z = np.sum(x, axis=1)\n",
        "print(\"Matriz 2 X 3 resultante: \\n\", y,\"\\n\", z)"
      ]
    },
    {
      "cell_type": "code",
      "execution_count": 9,
      "metadata": {},
      "outputs": [
        {
          "name": "stdout",
          "output_type": "stream",
          "text": [
            "x:\n",
            " [[ 1  3  7]\n",
            " [ 4 11 21]\n",
            " [42  8  9]]\n",
            "média de todos elementos de x: 11.78\n",
            "média de x ao longo das linhas: [15.66666667  7.33333333 12.33333333]\n",
            "média de x ao longo das colunas: [ 3.66666667 12.         19.66666667]\n"
          ]
        }
      ],
      "source": [
        "# np.mean: média em um dado eixo, axis = {0: linha, 1: coluna}\n",
        "print(\"x:\\n\", x)\n",
        "print(\"média de todos elementos de x:\", round(np.mean(x),2))\n",
        "print(\"média de x ao longo das linhas:\", np.mean(x, axis=0))\n",
        "print(\"média de x ao longo das colunas:\", np.mean(x, axis=1))"
      ]
    },
    {
      "cell_type": "code",
      "execution_count": 14,
      "metadata": {},
      "outputs": [
        {
          "name": "stdout",
          "output_type": "stream",
          "text": [
            "Matriz x:\n",
            " [[ 1  3  7]\n",
            " [ 4 11 21]\n",
            " [42  8  9]]\n",
            "\n",
            "condição: \n",
            " [[False False False]\n",
            " [ True False False]\n",
            " [ True  True False]]\n",
            "\n",
            "índice i (linhas): [1 2 2]\n",
            "índice j (colunas): [0 0 1]\n"
          ]
        }
      ],
      "source": [
        "# np.where, indentificação dos índices onde uma dada condição\n",
        "# é atendida. Uso conjunto com indexação booleana\n",
        "print(\"Matriz x:\\n\", x)\n",
        "cond = x % 2 == 0  # números pares\n",
        "print(\"\\ncondição: \\n\", cond)\n",
        "i, j = np.where(cond) # índices x[i, j] = x[cond]\n",
        "print(\"\\níndice i (linhas):\", i)\n",
        "print(\"índice j (colunas):\", j)"
      ]
    },
    {
      "cell_type": "code",
      "execution_count": 15,
      "metadata": {
        "colab": {
          "base_uri": "https://localhost:8080/",
          "height": 233
        },
        "id": "oAW11bdbXWhL",
        "outputId": "242b91ac-e37e-48a8-fdf4-2f450a2c5229"
      },
      "outputs": [
        {
          "name": "stdout",
          "output_type": "stream",
          "text": [
            "x:\n",
            " [[ 1  3  7]\n",
            " [ 4 11 21]\n",
            " [42  8  9]]\n",
            "condição: \n",
            " [[False False False]\n",
            " [ True False False]\n",
            " [ True  True False]]\n",
            "índice das linhas que possuem números pares: [1 2]\n",
            "linhas que possuem número pares: \n",
            " [[ 4 11 21]\n",
            " [42  8  9]]\n"
          ]
        }
      ],
      "source": [
        "# indexação booleana e slicing: selecionar as linhas\n",
        "# de x que possuem algum número par\n",
        "print(\"x:\\n\", x)\n",
        "cond = x % 2 == 0  # números pares\n",
        "print(\"condição: \\n\", cond)\n",
        "\n",
        "# # se houver alguma condição True na linha, a soma será > 0\n",
        "i_row = np.where(np.sum(cond, axis=1))[0]\n",
        "print(\"índice das linhas que possuem números pares:\", i_row)\n",
        "print(\"linhas que possuem número pares: \\n\", x[i_row, :])  \n"
      ]
    },
    {
      "cell_type": "markdown",
      "metadata": {
        "id": "Jh3dR2mFfl9F"
      },
      "source": [
        "### **Regressão linear no numpy**"
      ]
    },
    {
      "cell_type": "code",
      "execution_count": 16,
      "metadata": {
        "id": "uWgnDPcEat9K"
      },
      "outputs": [],
      "source": [
        "# visualização de dados\n",
        "import matplotlib.pyplot as plt"
      ]
    },
    {
      "cell_type": "code",
      "execution_count": 17,
      "metadata": {
        "id": "YNrcPD63YCKf"
      },
      "outputs": [],
      "source": [
        "# dados\n",
        "x = [-1., -0.77777778, -0.55555556, -0.33333333, -0.11111111,\n",
        "     0.11111111, 0.33333333, 0.55555556, 0.77777778, 1.]\n",
        "     \n",
        "y = [-1.13956201, -0.57177999, -0.21697033, 0.5425699, 0.49406657,\n",
        "     1.14972239, 1.64228553, 2.1749824, 2.64773614, 2.95684202]"
      ]
    },
    {
      "cell_type": "code",
      "execution_count": 23,
      "metadata": {
        "colab": {
          "base_uri": "https://localhost:8080/",
          "height": 334
        },
        "id": "HlfXmBHDggCf",
        "outputId": "0465c4a2-1221-4236-ebe9-34a9e9aef871"
      },
      "outputs": [
        {
          "data": {
            "image/png": "[encoded data removed]",
            "text/plain": [
              "<Figure size 720x360 with 1 Axes>"
            ]
          },
          "metadata": {},
          "output_type": "display_data"
        }
      ],
      "source": [
        "# plot dos dados\n",
        "plt.figure(figsize=(10, 5))\n",
        "plt.plot(x, y, 'o', label='Dados Originais')\n",
        "plt.legend()\n",
        "plt.xlabel(\"x\")\n",
        "plt.ylabel(\"y\")\n",
        "plt.grid()\n",
        "plt.show()"
      ]
    },
    {
      "cell_type": "markdown",
      "metadata": {
        "id": "LXMj1FbXELaj"
      },
      "source": [
        "Regressão linear:\n",
        "\n",
        "$$X\\beta=y,\\\\\\beta=\\left[\\begin{array}{c}a\\\\b\\end{array}\\right] .$$\n",
        "\n",
        "Solução via minimização do erro quadrático:\n",
        "\n",
        "$$\\beta=(X^TX)^{-1}X^Ty,$$\n",
        "onde $(X^TX)^{-1}X^T$ é a pseudo-inversa de $X$, facilmente calculada pelo método `np.linalg.pinv(X)`.\n"
      ]
    },
    {
      "cell_type": "code",
      "execution_count": 24,
      "metadata": {
        "colab": {
          "base_uri": "https://localhost:8080/",
          "height": 53
        },
        "id": "W_2BzIoTgi2w",
        "outputId": "861a4532-9e76-40bd-d551-65c2d66f5f33"
      },
      "outputs": [
        {
          "name": "stdout",
          "output_type": "stream",
          "text": [
            "a estimado: 2.0541495120384856\n",
            "b estimado: 0.967989262\n"
          ]
        }
      ],
      "source": [
        "\"\"\"\n",
        "Iremos estimar uma função do tipo: y = a*x + b\n",
        "ou seja, devemos achar quais os valores de a e b\n",
        "que melhor representam os dados.\n",
        "\n",
        "Os valores reais de a e b são: (a, b): 2, 1\n",
        "\"\"\"\n",
        "# transformando para numpy e vetor coluna\n",
        "x, y = np.array(x).reshape(-1, 1), np.array(y).reshape(-1, 1)\n",
        "\n",
        "# adicionando bias: para estimar o termo b\n",
        "X = np.hstack((x, np.ones(x.shape)))\n",
        "\n",
        "# estimando a e b\n",
        "beta = np.linalg.pinv(X).dot(y)\n",
        "print(\"a estimado:\", beta[0][0])\n",
        "print(\"b estimado:\", beta[1][0])"
      ]
    },
    {
      "cell_type": "code",
      "execution_count": 25,
      "metadata": {
        "colab": {
          "base_uri": "https://localhost:8080/",
          "height": 350
        },
        "id": "J5QlwxE7kADi",
        "outputId": "3642c920-1ce1-47f0-ce16-ac1a1f399623"
      },
      "outputs": [
        {
          "data": {
            "image/png": "[encoded data removed]",
            "text/plain": [
              "<Figure size 720x360 with 1 Axes>"
            ]
          },
          "metadata": {},
          "output_type": "display_data"
        }
      ],
      "source": [
        "# plot dos dados\n",
        "plt.figure(figsize=(10, 5))\n",
        "plt.plot(x, y, 'o', label='dados originais')\n",
        "plt.plot(x, X.dot(beta), label='regressão linear')\n",
        "plt.legend()\n",
        "plt.xlabel(\"x\")\n",
        "plt.ylabel(\"y\")\n",
        "plt.title(\"Regressão linear com numpy\")\n",
        "plt.grid()\n",
        "plt.show()"
      ]
    },
    {
      "cell_type": "code",
      "execution_count": null,
      "metadata": {
        "id": "YTGu7ra9MpHO"
      },
      "outputs": [],
      "source": []
    },
    {
      "cell_type": "markdown",
      "metadata": {
        "id": "6BocI3zPlRVh"
      },
      "source": [
        "## **Pandas**"
      ]
    },
    {
      "cell_type": "code",
      "execution_count": 87,
      "metadata": {
        "id": "PXFWm35ZlOkO"
      },
      "outputs": [],
      "source": [
        "# importando as bibliotecas\n",
        "import pandas as pd"
      ]
    },
    {
      "cell_type": "markdown",
      "metadata": {
        "id": "25Y-6lLcoJ6v"
      },
      "source": [
        "### **Leitura de dados**"
      ]
    },
    {
      "cell_type": "code",
      "execution_count": null,
      "metadata": {
        "id": "XJ54BBHRe1ae"
      },
      "outputs": [],
      "source": [
        "pd.read_csv?"
      ]
    },
    {
      "cell_type": "code",
      "execution_count": 89,
      "metadata": {
        "colab": {
          "base_uri": "https://localhost:8080/",
          "height": 227
        },
        "id": "9UqjkM2Jo_E9",
        "outputId": "92befff1-b1e8-4599-e9e3-ca49f3bea4b2"
      },
      "outputs": [
        {
          "data": {
            "text/html": [
              "<div>\n",
              "<style scoped>\n",
              "    .dataframe tbody tr th:only-of-type {\n",
              "        vertical-align: middle;\n",
              "    }\n",
              "\n",
              "    .dataframe tbody tr th {\n",
              "        vertical-align: top;\n",
              "    }\n",
              "\n",
              "    .dataframe thead th {\n",
              "        text-align: right;\n",
              "    }\n",
              "</style>\n",
              "<table border=\"1\" class=\"dataframe\">\n",
              "  <thead>\n",
              "    <tr style=\"text-align: right;\">\n",
              "      <th></th>\n",
              "      <th>date</th>\n",
              "      <th>temperatura</th>\n",
              "      <th>classification</th>\n",
              "    </tr>\n",
              "  </thead>\n",
              "  <tbody>\n",
              "    <tr>\n",
              "      <th>0</th>\n",
              "      <td>2020-01-01</td>\n",
              "      <td>29.1</td>\n",
              "      <td>quente</td>\n",
              "    </tr>\n",
              "    <tr>\n",
              "      <th>1</th>\n",
              "      <td>2020-02-01</td>\n",
              "      <td>31.2</td>\n",
              "      <td>muito quente</td>\n",
              "    </tr>\n",
              "    <tr>\n",
              "      <th>2</th>\n",
              "      <td>2020-03-01</td>\n",
              "      <td>28.5</td>\n",
              "      <td>quente</td>\n",
              "    </tr>\n",
              "    <tr>\n",
              "      <th>3</th>\n",
              "      <td>2020-04-01</td>\n",
              "      <td>28.0</td>\n",
              "      <td>quente</td>\n",
              "    </tr>\n",
              "    <tr>\n",
              "      <th>4</th>\n",
              "      <td>2020-05-01</td>\n",
              "      <td>24.0</td>\n",
              "      <td>confortavel</td>\n",
              "    </tr>\n",
              "    <tr>\n",
              "      <th>5</th>\n",
              "      <td>2020-06-01</td>\n",
              "      <td>20.0</td>\n",
              "      <td>frio</td>\n",
              "    </tr>\n",
              "  </tbody>\n",
              "</table>\n",
              "</div>"
            ],
            "text/plain": [
              "         date  temperatura classification\n",
              "0  2020-01-01         29.1         quente\n",
              "1  2020-02-01         31.2   muito quente\n",
              "2  2020-03-01         28.5         quente\n",
              "3  2020-04-01         28.0         quente\n",
              "4  2020-05-01         24.0    confortavel\n",
              "5  2020-06-01         20.0           frio"
            ]
          },
          "execution_count": 89,
          "metadata": {},
          "output_type": "execute_result"
        }
      ],
      "source": [
        "# leitura dos dados csv\n",
        "df = pd.read_csv(\"https://pycourse.s3.amazonaws.com/temperature.csv\")\n",
        "df"
      ]
    },
    {
      "cell_type": "code",
      "execution_count": 78,
      "metadata": {
        "id": "ejKmUZpHaoQj"
      },
      "outputs": [],
      "source": [
        "# leitura de planilhas excel\n",
        "# 2 abas (worksheets)\n",
        "\n",
        "# leitura do arquivo todo\n",
        "excel_file = pd.ExcelFile(\"https://pycourse.s3.amazonaws.com/temperature.xlsx\")"
      ]
    },
    {
      "cell_type": "code",
      "execution_count": null,
      "metadata": {
        "colab": {
          "base_uri": "https://localhost:8080/",
          "height": 34
        },
        "id": "R2dmextegAHe",
        "outputId": "51fcd741-ee01-44ee-ecde-98d819abcb82"
      },
      "outputs": [],
      "source": [
        "type(excel_file)"
      ]
    },
    {
      "cell_type": "code",
      "execution_count": null,
      "metadata": {
        "colab": {
          "base_uri": "https://localhost:8080/",
          "height": 235
        },
        "id": "3pxoXVmjb2sJ",
        "outputId": "fc18dc74-a702-4f7e-8743-8114519ad059"
      },
      "outputs": [],
      "source": [
        "# leitura da primeira aba (Sheet1)\n",
        "# dados numéricos com separador decimal = '.'\n",
        "df2 = pd.read_excel(excel_file, sheet_name='Sheet1')\n",
        "df2"
      ]
    },
    {
      "cell_type": "code",
      "execution_count": null,
      "metadata": {
        "colab": {
          "base_uri": "https://localhost:8080/",
          "height": 227
        },
        "id": "wwEFKFjtb4Lc",
        "outputId": "944c4e16-8cb5-400b-9c7f-38df1b552db7"
      },
      "outputs": [],
      "source": [
        "# leitura da segunda aba (Sheet2)\n",
        "# dados numéricos com separador decimal = ','\n",
        "df3 = pd.read_excel(excel_file, sheet_name='Sheet2')\n",
        "df3['temperatura'] = df3['temperatura'].str.replace(',', '.').astype('float')\n",
        "df3"
      ]
    },
    {
      "cell_type": "code",
      "execution_count": null,
      "metadata": {
        "colab": {
          "base_uri": "https://localhost:8080/",
          "height": 142
        },
        "id": "MZpdPIEhpXc6",
        "outputId": "3c8a6e68-eae5-4ab2-9a35-6cc2b7305a62"
      },
      "outputs": [],
      "source": [
        "# visualizando as primeiras n linhas\n",
        "n = 3\n",
        "df.head(n)"
      ]
    },
    {
      "cell_type": "code",
      "execution_count": null,
      "metadata": {
        "colab": {
          "base_uri": "https://localhost:8080/",
          "height": 142
        },
        "id": "E5OOIZW_pt4m",
        "outputId": "bb6c5095-aeb2-465b-8bd0-092ae8e20e18"
      },
      "outputs": [],
      "source": [
        "# visualizando as últimas n linhas\n",
        "n = 3\n",
        "df.tail(n)"
      ]
    },
    {
      "cell_type": "code",
      "execution_count": null,
      "metadata": {
        "colab": {
          "base_uri": "https://localhost:8080/",
          "height": 89
        },
        "id": "W5ybJEyoqLzT",
        "outputId": "5cb18a0c-bac5-49ab-d8fa-2782583f9ea2"
      },
      "outputs": [],
      "source": [
        "# dtypes mostra as caracteristicas dos dataset\n",
        "df.dtypes"
      ]
    },
    {
      "cell_type": "code",
      "execution_count": null,
      "metadata": {
        "colab": {
          "base_uri": "https://localhost:8080/",
          "height": 297
        },
        "id": "1uMlDizuqRuj",
        "outputId": "513380e7-cd75-47d9-d6b3-d5fbad6fc228"
      },
      "outputs": [],
      "source": [
        "# estatísticas básicas\n",
        "df.describe()"
      ]
    },
    {
      "cell_type": "code",
      "execution_count": null,
      "metadata": {
        "colab": {
          "base_uri": "https://localhost:8080/",
          "height": 197
        },
        "id": "2lPQBYfhqi-G",
        "outputId": "5d923989-4fe9-4b97-f9f6-6d7e6473002f"
      },
      "outputs": [],
      "source": [
        "# dataframe info\n",
        "df.info()"
      ]
    },
    {
      "cell_type": "code",
      "execution_count": 92,
      "metadata": {
        "colab": {
          "base_uri": "https://localhost:8080/",
          "height": 35
        },
        "id": "DLRY7u-LrTMI",
        "outputId": "f3e33828-b089-4a7e-da70-be15d029b53a"
      },
      "outputs": [],
      "source": [
        "# Renomear os nomes das colunas\n",
        "df.columns = ['date','temperatura','classification']"
      ]
    },
    {
      "cell_type": "markdown",
      "metadata": {
        "id": "4gU2Pi7crNNq"
      },
      "source": [
        "### **Indexação**"
      ]
    },
    {
      "cell_type": "code",
      "execution_count": null,
      "metadata": {
        "colab": {
          "base_uri": "https://localhost:8080/",
          "height": 204
        },
        "id": "MYXjp9_ozlyo",
        "outputId": "1f31e87d-9eca-48ed-a267-d50d9a1ae9cc"
      },
      "outputs": [],
      "source": [
        "df.head()"
      ]
    },
    {
      "cell_type": "code",
      "execution_count": null,
      "metadata": {
        "colab": {
          "base_uri": "https://localhost:8080/",
          "height": 143
        },
        "id": "AFsKjAv9rPpS",
        "outputId": "3699ffce-ed56-439a-ce90-31a743f5a1d6"
      },
      "outputs": [],
      "source": [
        "# seleção de uma coluna\n",
        "df['temperatura']"
      ]
    },
    {
      "cell_type": "code",
      "execution_count": 94,
      "metadata": {
        "colab": {
          "base_uri": "https://localhost:8080/",
          "height": 35
        },
        "id": "LyshmpFeroZn",
        "outputId": "e38d0a7d-d64e-4ab8-cc73-8cc302cb081b"
      },
      "outputs": [
        {
          "data": {
            "text/plain": [
              "pandas.core.series.Series"
            ]
          },
          "execution_count": 94,
          "metadata": {},
          "output_type": "execute_result"
        }
      ],
      "source": [
        "# tipo de uma coluna\n",
        "type(df['temperatura'])"
      ]
    },
    {
      "cell_type": "code",
      "execution_count": null,
      "metadata": {
        "colab": {
          "base_uri": "https://localhost:8080/",
          "height": 235
        },
        "id": "wNi1uHGyrv_J",
        "outputId": "f63052f3-0b4d-43e7-eda8-2e4dfdb983a0"
      },
      "outputs": [],
      "source": [
        "# seleção de múltiplas colunas\n",
        "df[['date', 'classification', 'temperatura']]"
      ]
    },
    {
      "cell_type": "code",
      "execution_count": null,
      "metadata": {},
      "outputs": [],
      "source": [
        "df.loc[df['classification'] == 'quente', 'temperatura']"
      ]
    },
    {
      "cell_type": "code",
      "execution_count": null,
      "metadata": {},
      "outputs": [],
      "source": [
        "df.head(6)"
      ]
    },
    {
      "cell_type": "code",
      "execution_count": null,
      "metadata": {},
      "outputs": [],
      "source": [
        "df[['date', 'classification']]"
      ]
    },
    {
      "cell_type": "code",
      "execution_count": null,
      "metadata": {
        "colab": {
          "base_uri": "https://localhost:8080/",
          "height": 35
        },
        "id": "o793Y9Hxr9tR",
        "outputId": "1c556ba0-35a9-4680-a8db-14fad24ab291"
      },
      "outputs": [],
      "source": [
        "# tipo\n",
        "type(df[['date', 'classification']])"
      ]
    },
    {
      "cell_type": "code",
      "execution_count": null,
      "metadata": {
        "id": "Aak_N4UMuIpV"
      },
      "outputs": [],
      "source": [
        "# iloc\n",
        "df.iloc"
      ]
    },
    {
      "cell_type": "code",
      "execution_count": null,
      "metadata": {
        "id": "EhQdVkbmsGsU"
      },
      "outputs": [],
      "source": [
        "# indexação por índice\n",
        "# selecionado TODAS(:,) as linhas e a COLUNA 1\n",
        "# coluna 1: temperatura\n",
        "df.iloc[:, 1]"
      ]
    },
    {
      "cell_type": "code",
      "execution_count": null,
      "metadata": {
        "colab": {
          "base_uri": "https://localhost:8080/",
          "height": 143
        },
        "id": "0FrYgFTpsKro",
        "outputId": "f40370c3-be89-4c52-af9e-be8785f86333"
      },
      "outputs": [],
      "source": [
        "# indexação por nome\n",
        "# selecionado todas as linhas e a coluna 1\n",
        "df.loc[:, 'temperatura']"
      ]
    },
    {
      "cell_type": "code",
      "execution_count": null,
      "metadata": {
        "colab": {
          "base_uri": "https://localhost:8080/",
          "height": 235
        },
        "id": "pV9onCPesS7h",
        "outputId": "b2c2178e-85a5-4754-c9ff-afffa57da0a5"
      },
      "outputs": [],
      "source": [
        "# indexação por índice de múltiplas colunas\n",
        "df.iloc[:, 1:]"
      ]
    },
    {
      "cell_type": "code",
      "execution_count": null,
      "metadata": {
        "colab": {
          "base_uri": "https://localhost:8080/",
          "height": 235
        },
        "id": "eMC0RktesdLO",
        "outputId": "82dc2e27-37c9-438a-fec6-b27ec25d08c3"
      },
      "outputs": [],
      "source": [
        "# indexação por nome de múltiplas colunas\n",
        "df.loc[:, ['temperatura', 'classification']]"
      ]
    },
    {
      "cell_type": "code",
      "execution_count": null,
      "metadata": {
        "colab": {
          "base_uri": "https://localhost:8080/",
          "height": 235
        },
        "id": "Mw0tAQCFsm17",
        "outputId": "7ee1460a-c3af-4563-921b-2ca2e6788c97"
      },
      "outputs": [],
      "source": [
        "# indexação por nome de múltiplas colunas\n",
        "df.loc[:, 'temperatura':]"
      ]
    },
    {
      "cell_type": "markdown",
      "metadata": {
        "id": "D5RHAvSdsvws"
      },
      "source": [
        "### **Indexação booleana**"
      ]
    },
    {
      "cell_type": "code",
      "execution_count": 95,
      "metadata": {
        "colab": {
          "base_uri": "https://localhost:8080/",
          "height": 235
        },
        "id": "2cWyNMvu6ydj",
        "outputId": "182937b6-4e28-48ba-83c5-bb83d8a4c95f"
      },
      "outputs": [
        {
          "data": {
            "text/html": [
              "<div>\n",
              "<style scoped>\n",
              "    .dataframe tbody tr th:only-of-type {\n",
              "        vertical-align: middle;\n",
              "    }\n",
              "\n",
              "    .dataframe tbody tr th {\n",
              "        vertical-align: top;\n",
              "    }\n",
              "\n",
              "    .dataframe thead th {\n",
              "        text-align: right;\n",
              "    }\n",
              "</style>\n",
              "<table border=\"1\" class=\"dataframe\">\n",
              "  <thead>\n",
              "    <tr style=\"text-align: right;\">\n",
              "      <th></th>\n",
              "      <th>date</th>\n",
              "      <th>temperatura</th>\n",
              "      <th>classification</th>\n",
              "    </tr>\n",
              "  </thead>\n",
              "  <tbody>\n",
              "    <tr>\n",
              "      <th>0</th>\n",
              "      <td>2020-01-01</td>\n",
              "      <td>29.1</td>\n",
              "      <td>quente</td>\n",
              "    </tr>\n",
              "    <tr>\n",
              "      <th>1</th>\n",
              "      <td>2020-02-01</td>\n",
              "      <td>31.2</td>\n",
              "      <td>muito quente</td>\n",
              "    </tr>\n",
              "    <tr>\n",
              "      <th>2</th>\n",
              "      <td>2020-03-01</td>\n",
              "      <td>28.5</td>\n",
              "      <td>quente</td>\n",
              "    </tr>\n",
              "    <tr>\n",
              "      <th>3</th>\n",
              "      <td>2020-04-01</td>\n",
              "      <td>28.0</td>\n",
              "      <td>quente</td>\n",
              "    </tr>\n",
              "    <tr>\n",
              "      <th>4</th>\n",
              "      <td>2020-05-01</td>\n",
              "      <td>24.0</td>\n",
              "      <td>confortavel</td>\n",
              "    </tr>\n",
              "    <tr>\n",
              "      <th>5</th>\n",
              "      <td>2020-06-01</td>\n",
              "      <td>20.0</td>\n",
              "      <td>frio</td>\n",
              "    </tr>\n",
              "  </tbody>\n",
              "</table>\n",
              "</div>"
            ],
            "text/plain": [
              "         date  temperatura classification\n",
              "0  2020-01-01         29.1         quente\n",
              "1  2020-02-01         31.2   muito quente\n",
              "2  2020-03-01         28.5         quente\n",
              "3  2020-04-01         28.0         quente\n",
              "4  2020-05-01         24.0    confortavel\n",
              "5  2020-06-01         20.0           frio"
            ]
          },
          "execution_count": 95,
          "metadata": {},
          "output_type": "execute_result"
        }
      ],
      "source": [
        "df"
      ]
    },
    {
      "cell_type": "code",
      "execution_count": 97,
      "metadata": {
        "colab": {
          "base_uri": "https://localhost:8080/",
          "height": 89
        },
        "id": "xQj5l5_Ht5yt",
        "outputId": "baacd3fb-de2f-41fe-c17e-636f52a891ba"
      },
      "outputs": [
        {
          "data": {
            "text/plain": [
              "date               object\n",
              "temperatura       float64\n",
              "classification     object\n",
              "dtype: object"
            ]
          },
          "execution_count": 97,
          "metadata": {},
          "output_type": "execute_result"
        }
      ],
      "source": [
        "# dtype\n",
        "df.dtypes"
      ]
    },
    {
      "cell_type": "code",
      "execution_count": 99,
      "metadata": {
        "colab": {
          "base_uri": "https://localhost:8080/",
          "height": 89
        },
        "id": "A5u4E73Ut0nq",
        "outputId": "52343bb1-8f85-4a1f-9a33-6be14b2b3a21"
      },
      "outputs": [
        {
          "data": {
            "text/plain": [
              "date              datetime64[ns]\n",
              "temperatura              float64\n",
              "classification            object\n",
              "dtype: object"
            ]
          },
          "execution_count": 99,
          "metadata": {},
          "output_type": "execute_result"
        }
      ],
      "source": [
        "# transformando o tipo da coluna date para datetime\n",
        "df['date'] = pd.to_datetime(df['date'])\n",
        "df.dtypes"
      ]
    },
    {
      "cell_type": "code",
      "execution_count": 100,
      "metadata": {
        "id": "Cy-Yg0WJt_ir"
      },
      "outputs": [],
      "source": [
        "# setando o índice\n",
        "df = df.set_index('date')"
      ]
    },
    {
      "cell_type": "code",
      "execution_count": 82,
      "metadata": {
        "colab": {
          "base_uri": "https://localhost:8080/",
          "height": 266
        },
        "id": "JAS-zBkvuCo0",
        "outputId": "7ef67d7b-3a32-4a9d-a897-99b778789744"
      },
      "outputs": [
        {
          "data": {
            "text/html": [
              "<div>\n",
              "<style scoped>\n",
              "    .dataframe tbody tr th:only-of-type {\n",
              "        vertical-align: middle;\n",
              "    }\n",
              "\n",
              "    .dataframe tbody tr th {\n",
              "        vertical-align: top;\n",
              "    }\n",
              "\n",
              "    .dataframe thead th {\n",
              "        text-align: right;\n",
              "    }\n",
              "</style>\n",
              "<table border=\"1\" class=\"dataframe\">\n",
              "  <thead>\n",
              "    <tr style=\"text-align: right;\">\n",
              "      <th></th>\n",
              "      <th>temperatura</th>\n",
              "      <th>classification</th>\n",
              "    </tr>\n",
              "    <tr>\n",
              "      <th>date</th>\n",
              "      <th></th>\n",
              "      <th></th>\n",
              "    </tr>\n",
              "  </thead>\n",
              "  <tbody>\n",
              "    <tr>\n",
              "      <th>2020-01-01</th>\n",
              "      <td>29.1</td>\n",
              "      <td>quente</td>\n",
              "    </tr>\n",
              "    <tr>\n",
              "      <th>2020-02-01</th>\n",
              "      <td>31.2</td>\n",
              "      <td>muito quente</td>\n",
              "    </tr>\n",
              "    <tr>\n",
              "      <th>2020-03-01</th>\n",
              "      <td>28.5</td>\n",
              "      <td>quente</td>\n",
              "    </tr>\n",
              "    <tr>\n",
              "      <th>2020-04-01</th>\n",
              "      <td>28.0</td>\n",
              "      <td>quente</td>\n",
              "    </tr>\n",
              "    <tr>\n",
              "      <th>2020-05-01</th>\n",
              "      <td>24.0</td>\n",
              "      <td>confortavel</td>\n",
              "    </tr>\n",
              "    <tr>\n",
              "      <th>2020-06-01</th>\n",
              "      <td>20.0</td>\n",
              "      <td>frio</td>\n",
              "    </tr>\n",
              "  </tbody>\n",
              "</table>\n",
              "</div>"
            ],
            "text/plain": [
              "            temperatura classification\n",
              "date                                  \n",
              "2020-01-01         29.1         quente\n",
              "2020-02-01         31.2   muito quente\n",
              "2020-03-01         28.5         quente\n",
              "2020-04-01         28.0         quente\n",
              "2020-05-01         24.0    confortavel\n",
              "2020-06-01         20.0           frio"
            ]
          },
          "execution_count": 82,
          "metadata": {},
          "output_type": "execute_result"
        }
      ],
      "source": [
        "# visualizando o índice \n",
        "df"
      ]
    },
    {
      "cell_type": "code",
      "execution_count": null,
      "metadata": {
        "colab": {
          "base_uri": "https://localhost:8080/",
          "height": 235
        },
        "id": "dMkmDHk4ujTz",
        "outputId": "eee77d35-80ec-47fe-ac92-51e4b7d3e5d0"
      },
      "outputs": [],
      "source": [
        "# 5 primeiras linas\n",
        "df.head()"
      ]
    },
    {
      "cell_type": "code",
      "execution_count": null,
      "metadata": {
        "colab": {
          "base_uri": "https://localhost:8080/",
          "height": 204
        },
        "id": "oZqnYBJEuyvi",
        "outputId": "45ff174a-7749-4084-98d1-196199e7ac42"
      },
      "outputs": [],
      "source": [
        "# indexação booleana\n",
        "# seleção de exemplos acima de 25 graus\n",
        "cond = df['temperatura'] >= 25\n",
        "df[cond]"
      ]
    },
    {
      "cell_type": "code",
      "execution_count": null,
      "metadata": {
        "colab": {
          "base_uri": "https://localhost:8080/",
          "height": 173
        },
        "id": "mhoVwQLJu2wP",
        "outputId": "88a40388-99d7-4ae1-8745-8829ff6b18c4"
      },
      "outputs": [],
      "source": [
        "# indexação booleana considerando datetime\n",
        "# seleção de entradas até Março de 2020\n",
        "cond = df.index <= '2020-03-01'\n",
        "#df[[df['classification'] == 'quente'] and df.index < '2020-03-01']\n",
        "df[cond]"
      ]
    },
    {
      "cell_type": "code",
      "execution_count": null,
      "metadata": {
        "colab": {
          "base_uri": "https://localhost:8080/",
          "height": 173
        },
        "id": "bLqqKCCDu6bu",
        "outputId": "629955f5-1e9c-4ab5-9e6d-ab92df22349c"
      },
      "outputs": [],
      "source": [
        "# indexação booleana considerando datetime\n",
        "# seleção de entradas até Março de 2020 e \n",
        "# slice na coluna classification\n",
        "df.loc[df.index <= '2020-03-01', ['classification']]"
      ]
    },
    {
      "cell_type": "code",
      "execution_count": null,
      "metadata": {
        "colab": {
          "base_uri": "https://localhost:8080/",
          "height": 173
        },
        "id": "PB3ZZ-qLu84Z",
        "outputId": "1b1faa2d-5e7e-4352-bd8a-fe521a41cac1"
      },
      "outputs": [],
      "source": [
        "# indexação booleana considerando datetime\n",
        "# seleção de entradas até Março de 2020 e \n",
        "# slice na coluna classification\n",
        "df.iloc[df.index <= '2020-03-01', [-1]]"
      ]
    },
    {
      "cell_type": "markdown",
      "metadata": {
        "id": "0sJc-R3uvEwU"
      },
      "source": [
        "### **Ordenação através de colunas e index**"
      ]
    },
    {
      "cell_type": "code",
      "execution_count": 12,
      "metadata": {
        "colab": {
          "base_uri": "https://localhost:8080/",
          "height": 266
        },
        "id": "Q7FqE0WNvKGd",
        "outputId": "a332bc3b-f81f-47c2-bd7a-1ba7f1367bdb"
      },
      "outputs": [
        {
          "data": {
            "text/html": [
              "<div>\n",
              "<style scoped>\n",
              "    .dataframe tbody tr th:only-of-type {\n",
              "        vertical-align: middle;\n",
              "    }\n",
              "\n",
              "    .dataframe tbody tr th {\n",
              "        vertical-align: top;\n",
              "    }\n",
              "\n",
              "    .dataframe thead th {\n",
              "        text-align: right;\n",
              "    }\n",
              "</style>\n",
              "<table border=\"1\" class=\"dataframe\">\n",
              "  <thead>\n",
              "    <tr style=\"text-align: right;\">\n",
              "      <th></th>\n",
              "      <th>date</th>\n",
              "      <th>temperatura</th>\n",
              "      <th>classification</th>\n",
              "    </tr>\n",
              "  </thead>\n",
              "  <tbody>\n",
              "    <tr>\n",
              "      <th>0</th>\n",
              "      <td>2020-01-01</td>\n",
              "      <td>29.1</td>\n",
              "      <td>quente</td>\n",
              "    </tr>\n",
              "    <tr>\n",
              "      <th>1</th>\n",
              "      <td>2020-02-01</td>\n",
              "      <td>31.2</td>\n",
              "      <td>muito quente</td>\n",
              "    </tr>\n",
              "    <tr>\n",
              "      <th>2</th>\n",
              "      <td>2020-03-01</td>\n",
              "      <td>28.5</td>\n",
              "      <td>quente</td>\n",
              "    </tr>\n",
              "    <tr>\n",
              "      <th>3</th>\n",
              "      <td>2020-04-01</td>\n",
              "      <td>28.0</td>\n",
              "      <td>quente</td>\n",
              "    </tr>\n",
              "    <tr>\n",
              "      <th>4</th>\n",
              "      <td>2020-05-01</td>\n",
              "      <td>24.0</td>\n",
              "      <td>confortavel</td>\n",
              "    </tr>\n",
              "    <tr>\n",
              "      <th>5</th>\n",
              "      <td>2020-06-01</td>\n",
              "      <td>20.0</td>\n",
              "      <td>frio</td>\n",
              "    </tr>\n",
              "  </tbody>\n",
              "</table>\n",
              "</div>"
            ],
            "text/plain": [
              "         date  temperatura classification\n",
              "0  2020-01-01         29.1         quente\n",
              "1  2020-02-01         31.2   muito quente\n",
              "2  2020-03-01         28.5         quente\n",
              "3  2020-04-01         28.0         quente\n",
              "4  2020-05-01         24.0    confortavel\n",
              "5  2020-06-01         20.0           frio"
            ]
          },
          "execution_count": 12,
          "metadata": {},
          "output_type": "execute_result"
        }
      ],
      "source": [
        "df.sort_values\n",
        "df"
      ]
    },
    {
      "cell_type": "code",
      "execution_count": 13,
      "metadata": {
        "colab": {
          "base_uri": "https://localhost:8080/",
          "height": 266
        },
        "id": "gUdLqE_PvigB",
        "outputId": "068625af-6672-4397-bae8-b1e668458d6b"
      },
      "outputs": [
        {
          "data": {
            "text/html": [
              "<div>\n",
              "<style scoped>\n",
              "    .dataframe tbody tr th:only-of-type {\n",
              "        vertical-align: middle;\n",
              "    }\n",
              "\n",
              "    .dataframe tbody tr th {\n",
              "        vertical-align: top;\n",
              "    }\n",
              "\n",
              "    .dataframe thead th {\n",
              "        text-align: right;\n",
              "    }\n",
              "</style>\n",
              "<table border=\"1\" class=\"dataframe\">\n",
              "  <thead>\n",
              "    <tr style=\"text-align: right;\">\n",
              "      <th></th>\n",
              "      <th>date</th>\n",
              "      <th>temperatura</th>\n",
              "      <th>classification</th>\n",
              "    </tr>\n",
              "  </thead>\n",
              "  <tbody>\n",
              "    <tr>\n",
              "      <th>5</th>\n",
              "      <td>2020-06-01</td>\n",
              "      <td>20.0</td>\n",
              "      <td>frio</td>\n",
              "    </tr>\n",
              "    <tr>\n",
              "      <th>4</th>\n",
              "      <td>2020-05-01</td>\n",
              "      <td>24.0</td>\n",
              "      <td>confortavel</td>\n",
              "    </tr>\n",
              "    <tr>\n",
              "      <th>3</th>\n",
              "      <td>2020-04-01</td>\n",
              "      <td>28.0</td>\n",
              "      <td>quente</td>\n",
              "    </tr>\n",
              "    <tr>\n",
              "      <th>2</th>\n",
              "      <td>2020-03-01</td>\n",
              "      <td>28.5</td>\n",
              "      <td>quente</td>\n",
              "    </tr>\n",
              "    <tr>\n",
              "      <th>0</th>\n",
              "      <td>2020-01-01</td>\n",
              "      <td>29.1</td>\n",
              "      <td>quente</td>\n",
              "    </tr>\n",
              "    <tr>\n",
              "      <th>1</th>\n",
              "      <td>2020-02-01</td>\n",
              "      <td>31.2</td>\n",
              "      <td>muito quente</td>\n",
              "    </tr>\n",
              "  </tbody>\n",
              "</table>\n",
              "</div>"
            ],
            "text/plain": [
              "         date  temperatura classification\n",
              "5  2020-06-01         20.0           frio\n",
              "4  2020-05-01         24.0    confortavel\n",
              "3  2020-04-01         28.0         quente\n",
              "2  2020-03-01         28.5         quente\n",
              "0  2020-01-01         29.1         quente\n",
              "1  2020-02-01         31.2   muito quente"
            ]
          },
          "execution_count": 13,
          "metadata": {},
          "output_type": "execute_result"
        }
      ],
      "source": [
        "# ordenação crescente por uma coluna\n",
        "df.sort_values(by='temperatura')"
      ]
    },
    {
      "cell_type": "code",
      "execution_count": 14,
      "metadata": {
        "colab": {
          "base_uri": "https://localhost:8080/",
          "height": 266
        },
        "id": "6HOyiWOvQ_VB",
        "outputId": "66e6fd9a-b66a-4fb0-b08a-9a418d8dea97"
      },
      "outputs": [
        {
          "data": {
            "text/html": [
              "<div>\n",
              "<style scoped>\n",
              "    .dataframe tbody tr th:only-of-type {\n",
              "        vertical-align: middle;\n",
              "    }\n",
              "\n",
              "    .dataframe tbody tr th {\n",
              "        vertical-align: top;\n",
              "    }\n",
              "\n",
              "    .dataframe thead th {\n",
              "        text-align: right;\n",
              "    }\n",
              "</style>\n",
              "<table border=\"1\" class=\"dataframe\">\n",
              "  <thead>\n",
              "    <tr style=\"text-align: right;\">\n",
              "      <th></th>\n",
              "      <th>date</th>\n",
              "      <th>temperatura</th>\n",
              "      <th>classification</th>\n",
              "    </tr>\n",
              "  </thead>\n",
              "  <tbody>\n",
              "    <tr>\n",
              "      <th>4</th>\n",
              "      <td>2020-05-01</td>\n",
              "      <td>24.0</td>\n",
              "      <td>confortavel</td>\n",
              "    </tr>\n",
              "    <tr>\n",
              "      <th>5</th>\n",
              "      <td>2020-06-01</td>\n",
              "      <td>20.0</td>\n",
              "      <td>frio</td>\n",
              "    </tr>\n",
              "    <tr>\n",
              "      <th>1</th>\n",
              "      <td>2020-02-01</td>\n",
              "      <td>31.2</td>\n",
              "      <td>muito quente</td>\n",
              "    </tr>\n",
              "    <tr>\n",
              "      <th>0</th>\n",
              "      <td>2020-01-01</td>\n",
              "      <td>29.1</td>\n",
              "      <td>quente</td>\n",
              "    </tr>\n",
              "    <tr>\n",
              "      <th>2</th>\n",
              "      <td>2020-03-01</td>\n",
              "      <td>28.5</td>\n",
              "      <td>quente</td>\n",
              "    </tr>\n",
              "    <tr>\n",
              "      <th>3</th>\n",
              "      <td>2020-04-01</td>\n",
              "      <td>28.0</td>\n",
              "      <td>quente</td>\n",
              "    </tr>\n",
              "  </tbody>\n",
              "</table>\n",
              "</div>"
            ],
            "text/plain": [
              "         date  temperatura classification\n",
              "4  2020-05-01         24.0    confortavel\n",
              "5  2020-06-01         20.0           frio\n",
              "1  2020-02-01         31.2   muito quente\n",
              "0  2020-01-01         29.1         quente\n",
              "2  2020-03-01         28.5         quente\n",
              "3  2020-04-01         28.0         quente"
            ]
          },
          "execution_count": 14,
          "metadata": {},
          "output_type": "execute_result"
        }
      ],
      "source": [
        "# ordenação crescente por uma coluna\n",
        "df.sort_values(by='classification')"
      ]
    },
    {
      "cell_type": "code",
      "execution_count": 15,
      "metadata": {
        "colab": {
          "base_uri": "https://localhost:8080/",
          "height": 266
        },
        "id": "Xxy50lOsQ3Fq",
        "outputId": "b32c6179-94aa-416c-9826-adfcb2a50c72"
      },
      "outputs": [
        {
          "data": {
            "text/html": [
              "<div>\n",
              "<style scoped>\n",
              "    .dataframe tbody tr th:only-of-type {\n",
              "        vertical-align: middle;\n",
              "    }\n",
              "\n",
              "    .dataframe tbody tr th {\n",
              "        vertical-align: top;\n",
              "    }\n",
              "\n",
              "    .dataframe thead th {\n",
              "        text-align: right;\n",
              "    }\n",
              "</style>\n",
              "<table border=\"1\" class=\"dataframe\">\n",
              "  <thead>\n",
              "    <tr style=\"text-align: right;\">\n",
              "      <th></th>\n",
              "      <th>date</th>\n",
              "      <th>temperatura</th>\n",
              "      <th>classification</th>\n",
              "    </tr>\n",
              "  </thead>\n",
              "  <tbody>\n",
              "    <tr>\n",
              "      <th>4</th>\n",
              "      <td>2020-05-01</td>\n",
              "      <td>24.0</td>\n",
              "      <td>confortavel</td>\n",
              "    </tr>\n",
              "    <tr>\n",
              "      <th>5</th>\n",
              "      <td>2020-06-01</td>\n",
              "      <td>20.0</td>\n",
              "      <td>frio</td>\n",
              "    </tr>\n",
              "    <tr>\n",
              "      <th>1</th>\n",
              "      <td>2020-02-01</td>\n",
              "      <td>31.2</td>\n",
              "      <td>muito quente</td>\n",
              "    </tr>\n",
              "    <tr>\n",
              "      <th>3</th>\n",
              "      <td>2020-04-01</td>\n",
              "      <td>28.0</td>\n",
              "      <td>quente</td>\n",
              "    </tr>\n",
              "    <tr>\n",
              "      <th>2</th>\n",
              "      <td>2020-03-01</td>\n",
              "      <td>28.5</td>\n",
              "      <td>quente</td>\n",
              "    </tr>\n",
              "    <tr>\n",
              "      <th>0</th>\n",
              "      <td>2020-01-01</td>\n",
              "      <td>29.1</td>\n",
              "      <td>quente</td>\n",
              "    </tr>\n",
              "  </tbody>\n",
              "</table>\n",
              "</div>"
            ],
            "text/plain": [
              "         date  temperatura classification\n",
              "4  2020-05-01         24.0    confortavel\n",
              "5  2020-06-01         20.0           frio\n",
              "1  2020-02-01         31.2   muito quente\n",
              "3  2020-04-01         28.0         quente\n",
              "2  2020-03-01         28.5         quente\n",
              "0  2020-01-01         29.1         quente"
            ]
          },
          "execution_count": 15,
          "metadata": {},
          "output_type": "execute_result"
        }
      ],
      "source": [
        "# ordenação crescente por mais de uma coluna\n",
        "df.sort_values(by=['classification', 'temperatura'])"
      ]
    },
    {
      "cell_type": "code",
      "execution_count": 17,
      "metadata": {
        "colab": {
          "base_uri": "https://localhost:8080/",
          "height": 266
        },
        "id": "P7gLEKNEvpfb",
        "outputId": "092b7117-90b6-4d74-f03b-3783736d5866"
      },
      "outputs": [
        {
          "data": {
            "text/html": [
              "<div>\n",
              "<style scoped>\n",
              "    .dataframe tbody tr th:only-of-type {\n",
              "        vertical-align: middle;\n",
              "    }\n",
              "\n",
              "    .dataframe tbody tr th {\n",
              "        vertical-align: top;\n",
              "    }\n",
              "\n",
              "    .dataframe thead th {\n",
              "        text-align: right;\n",
              "    }\n",
              "</style>\n",
              "<table border=\"1\" class=\"dataframe\">\n",
              "  <thead>\n",
              "    <tr style=\"text-align: right;\">\n",
              "      <th></th>\n",
              "      <th>date</th>\n",
              "      <th>temperatura</th>\n",
              "      <th>classification</th>\n",
              "    </tr>\n",
              "  </thead>\n",
              "  <tbody>\n",
              "    <tr>\n",
              "      <th>0</th>\n",
              "      <td>2020-01-01</td>\n",
              "      <td>29.1</td>\n",
              "      <td>quente</td>\n",
              "    </tr>\n",
              "    <tr>\n",
              "      <th>1</th>\n",
              "      <td>2020-02-01</td>\n",
              "      <td>31.2</td>\n",
              "      <td>muito quente</td>\n",
              "    </tr>\n",
              "    <tr>\n",
              "      <th>2</th>\n",
              "      <td>2020-03-01</td>\n",
              "      <td>28.5</td>\n",
              "      <td>quente</td>\n",
              "    </tr>\n",
              "    <tr>\n",
              "      <th>3</th>\n",
              "      <td>2020-04-01</td>\n",
              "      <td>28.0</td>\n",
              "      <td>quente</td>\n",
              "    </tr>\n",
              "    <tr>\n",
              "      <th>4</th>\n",
              "      <td>2020-05-01</td>\n",
              "      <td>24.0</td>\n",
              "      <td>confortavel</td>\n",
              "    </tr>\n",
              "    <tr>\n",
              "      <th>5</th>\n",
              "      <td>2020-06-01</td>\n",
              "      <td>20.0</td>\n",
              "      <td>frio</td>\n",
              "    </tr>\n",
              "  </tbody>\n",
              "</table>\n",
              "</div>"
            ],
            "text/plain": [
              "         date  temperatura classification\n",
              "0  2020-01-01         29.1         quente\n",
              "1  2020-02-01         31.2   muito quente\n",
              "2  2020-03-01         28.5         quente\n",
              "3  2020-04-01         28.0         quente\n",
              "4  2020-05-01         24.0    confortavel\n",
              "5  2020-06-01         20.0           frio"
            ]
          },
          "execution_count": 17,
          "metadata": {},
          "output_type": "execute_result"
        }
      ],
      "source": [
        "# ordenação decrescente por uma coluna\n",
        "df.sort_values(by=['classification', 'temperatura'], ascending=False).sort_index()"
      ]
    },
    {
      "cell_type": "code",
      "execution_count": 18,
      "metadata": {
        "colab": {
          "base_uri": "https://localhost:8080/",
          "height": 266
        },
        "id": "xQz2ONYJvyv-",
        "outputId": "2b0546c2-301d-4fa1-a9ad-d8fb358706ef"
      },
      "outputs": [
        {
          "data": {
            "text/html": [
              "<div>\n",
              "<style scoped>\n",
              "    .dataframe tbody tr th:only-of-type {\n",
              "        vertical-align: middle;\n",
              "    }\n",
              "\n",
              "    .dataframe tbody tr th {\n",
              "        vertical-align: top;\n",
              "    }\n",
              "\n",
              "    .dataframe thead th {\n",
              "        text-align: right;\n",
              "    }\n",
              "</style>\n",
              "<table border=\"1\" class=\"dataframe\">\n",
              "  <thead>\n",
              "    <tr style=\"text-align: right;\">\n",
              "      <th></th>\n",
              "      <th>date</th>\n",
              "      <th>temperatura</th>\n",
              "      <th>classification</th>\n",
              "    </tr>\n",
              "  </thead>\n",
              "  <tbody>\n",
              "    <tr>\n",
              "      <th>0</th>\n",
              "      <td>2020-01-01</td>\n",
              "      <td>29.1</td>\n",
              "      <td>quente</td>\n",
              "    </tr>\n",
              "    <tr>\n",
              "      <th>1</th>\n",
              "      <td>2020-02-01</td>\n",
              "      <td>31.2</td>\n",
              "      <td>muito quente</td>\n",
              "    </tr>\n",
              "    <tr>\n",
              "      <th>2</th>\n",
              "      <td>2020-03-01</td>\n",
              "      <td>28.5</td>\n",
              "      <td>quente</td>\n",
              "    </tr>\n",
              "    <tr>\n",
              "      <th>3</th>\n",
              "      <td>2020-04-01</td>\n",
              "      <td>28.0</td>\n",
              "      <td>quente</td>\n",
              "    </tr>\n",
              "    <tr>\n",
              "      <th>4</th>\n",
              "      <td>2020-05-01</td>\n",
              "      <td>24.0</td>\n",
              "      <td>confortavel</td>\n",
              "    </tr>\n",
              "    <tr>\n",
              "      <th>5</th>\n",
              "      <td>2020-06-01</td>\n",
              "      <td>20.0</td>\n",
              "      <td>frio</td>\n",
              "    </tr>\n",
              "  </tbody>\n",
              "</table>\n",
              "</div>"
            ],
            "text/plain": [
              "         date  temperatura classification\n",
              "0  2020-01-01         29.1         quente\n",
              "1  2020-02-01         31.2   muito quente\n",
              "2  2020-03-01         28.5         quente\n",
              "3  2020-04-01         28.0         quente\n",
              "4  2020-05-01         24.0    confortavel\n",
              "5  2020-06-01         20.0           frio"
            ]
          },
          "execution_count": 18,
          "metadata": {},
          "output_type": "execute_result"
        }
      ],
      "source": [
        "# ordenação crescente pelo índice\n",
        "df.sort_index()"
      ]
    },
    {
      "cell_type": "code",
      "execution_count": 19,
      "metadata": {
        "colab": {
          "base_uri": "https://localhost:8080/",
          "height": 266
        },
        "id": "NXSBvENCv3PW",
        "outputId": "07727121-fc19-41b0-f1d5-b8d4004f523a"
      },
      "outputs": [
        {
          "data": {
            "text/html": [
              "<div>\n",
              "<style scoped>\n",
              "    .dataframe tbody tr th:only-of-type {\n",
              "        vertical-align: middle;\n",
              "    }\n",
              "\n",
              "    .dataframe tbody tr th {\n",
              "        vertical-align: top;\n",
              "    }\n",
              "\n",
              "    .dataframe thead th {\n",
              "        text-align: right;\n",
              "    }\n",
              "</style>\n",
              "<table border=\"1\" class=\"dataframe\">\n",
              "  <thead>\n",
              "    <tr style=\"text-align: right;\">\n",
              "      <th></th>\n",
              "      <th>date</th>\n",
              "      <th>temperatura</th>\n",
              "      <th>classification</th>\n",
              "    </tr>\n",
              "  </thead>\n",
              "  <tbody>\n",
              "    <tr>\n",
              "      <th>5</th>\n",
              "      <td>2020-06-01</td>\n",
              "      <td>20.0</td>\n",
              "      <td>frio</td>\n",
              "    </tr>\n",
              "    <tr>\n",
              "      <th>4</th>\n",
              "      <td>2020-05-01</td>\n",
              "      <td>24.0</td>\n",
              "      <td>confortavel</td>\n",
              "    </tr>\n",
              "    <tr>\n",
              "      <th>3</th>\n",
              "      <td>2020-04-01</td>\n",
              "      <td>28.0</td>\n",
              "      <td>quente</td>\n",
              "    </tr>\n",
              "    <tr>\n",
              "      <th>2</th>\n",
              "      <td>2020-03-01</td>\n",
              "      <td>28.5</td>\n",
              "      <td>quente</td>\n",
              "    </tr>\n",
              "    <tr>\n",
              "      <th>1</th>\n",
              "      <td>2020-02-01</td>\n",
              "      <td>31.2</td>\n",
              "      <td>muito quente</td>\n",
              "    </tr>\n",
              "    <tr>\n",
              "      <th>0</th>\n",
              "      <td>2020-01-01</td>\n",
              "      <td>29.1</td>\n",
              "      <td>quente</td>\n",
              "    </tr>\n",
              "  </tbody>\n",
              "</table>\n",
              "</div>"
            ],
            "text/plain": [
              "         date  temperatura classification\n",
              "5  2020-06-01         20.0           frio\n",
              "4  2020-05-01         24.0    confortavel\n",
              "3  2020-04-01         28.0         quente\n",
              "2  2020-03-01         28.5         quente\n",
              "1  2020-02-01         31.2   muito quente\n",
              "0  2020-01-01         29.1         quente"
            ]
          },
          "execution_count": 19,
          "metadata": {},
          "output_type": "execute_result"
        }
      ],
      "source": [
        "# ordenação decrescente pelo índice\n",
        "df.sort_index(ascending=False)"
      ]
    },
    {
      "cell_type": "markdown",
      "metadata": {
        "id": "sjlWCwS_ycmt"
      },
      "source": [
        "### **Visualização**"
      ]
    },
    {
      "cell_type": "code",
      "execution_count": 102,
      "metadata": {},
      "outputs": [
        {
          "data": {
            "text/html": [
              "<div>\n",
              "<style scoped>\n",
              "    .dataframe tbody tr th:only-of-type {\n",
              "        vertical-align: middle;\n",
              "    }\n",
              "\n",
              "    .dataframe tbody tr th {\n",
              "        vertical-align: top;\n",
              "    }\n",
              "\n",
              "    .dataframe thead th {\n",
              "        text-align: right;\n",
              "    }\n",
              "</style>\n",
              "<table border=\"1\" class=\"dataframe\">\n",
              "  <thead>\n",
              "    <tr style=\"text-align: right;\">\n",
              "      <th></th>\n",
              "      <th>temperatura</th>\n",
              "      <th>classification</th>\n",
              "    </tr>\n",
              "    <tr>\n",
              "      <th>date</th>\n",
              "      <th></th>\n",
              "      <th></th>\n",
              "    </tr>\n",
              "  </thead>\n",
              "  <tbody>\n",
              "    <tr>\n",
              "      <th>2020-01-01</th>\n",
              "      <td>29.1</td>\n",
              "      <td>quente</td>\n",
              "    </tr>\n",
              "    <tr>\n",
              "      <th>2020-02-01</th>\n",
              "      <td>31.2</td>\n",
              "      <td>muito quente</td>\n",
              "    </tr>\n",
              "    <tr>\n",
              "      <th>2020-03-01</th>\n",
              "      <td>28.5</td>\n",
              "      <td>quente</td>\n",
              "    </tr>\n",
              "    <tr>\n",
              "      <th>2020-04-01</th>\n",
              "      <td>28.0</td>\n",
              "      <td>quente</td>\n",
              "    </tr>\n",
              "    <tr>\n",
              "      <th>2020-05-01</th>\n",
              "      <td>24.0</td>\n",
              "      <td>confortavel</td>\n",
              "    </tr>\n",
              "    <tr>\n",
              "      <th>2020-06-01</th>\n",
              "      <td>20.0</td>\n",
              "      <td>frio</td>\n",
              "    </tr>\n",
              "  </tbody>\n",
              "</table>\n",
              "</div>"
            ],
            "text/plain": [
              "            temperatura classification\n",
              "date                                  \n",
              "2020-01-01         29.1         quente\n",
              "2020-02-01         31.2   muito quente\n",
              "2020-03-01         28.5         quente\n",
              "2020-04-01         28.0         quente\n",
              "2020-05-01         24.0    confortavel\n",
              "2020-06-01         20.0           frio"
            ]
          },
          "execution_count": 102,
          "metadata": {},
          "output_type": "execute_result"
        }
      ],
      "source": [
        "#df['date'] = pd.to_datetime(df['date'])\n",
        "#df = df.set_index('date')\n",
        "df"
      ]
    },
    {
      "cell_type": "code",
      "execution_count": 103,
      "metadata": {
        "colab": {
          "base_uri": "https://localhost:8080/",
          "height": 291
        },
        "id": "Kc4SHEckVTzo",
        "outputId": "86cf981d-e595-49f8-a6f0-6f543b1ee9ec"
      },
      "outputs": [
        {
          "data": {
            "image/png": "[encoded data removed]",
            "text/plain": [
              "<Figure size 432x288 with 1 Axes>"
            ]
          },
          "metadata": {},
          "output_type": "display_data"
        }
      ],
      "source": [
        "# plot de linhas\n",
        "df.plot();"
      ]
    },
    {
      "cell_type": "code",
      "execution_count": 104,
      "metadata": {
        "colab": {
          "base_uri": "https://localhost:8080/",
          "height": 345
        },
        "id": "7f134FdaX1ws",
        "outputId": "80923d4d-c614-496e-a29e-ce4c4650c73b"
      },
      "outputs": [
        {
          "data": {
            "image/png": "[encoded data removed]",
            "text/plain": [
              "<Figure size 720x360 with 1 Axes>"
            ]
          },
          "metadata": {},
          "output_type": "display_data"
        }
      ],
      "source": [
        "# plot de linhas: tamanho\n",
        "df.plot(figsize=(10, 5));"
      ]
    },
    {
      "cell_type": "code",
      "execution_count": 105,
      "metadata": {
        "colab": {
          "base_uri": "https://localhost:8080/",
          "height": 345
        },
        "id": "KW7H1RMCYCgC",
        "outputId": "d25f0150-6a9e-42b2-a60c-278fcbeecd61"
      },
      "outputs": [
        {
          "data": {
            "image/png": "[encoded data removed]",
            "text/plain": [
              "<Figure size 720x360 with 1 Axes>"
            ]
          },
          "metadata": {},
          "output_type": "display_data"
        }
      ],
      "source": [
        "# plot de linhas: grid\n",
        "df.plot(figsize=(10, 5), grid=True);"
      ]
    },
    {
      "cell_type": "code",
      "execution_count": 106,
      "metadata": {
        "colab": {
          "base_uri": "https://localhost:8080/",
          "height": 345
        },
        "id": "8zUMF1OvygdZ",
        "outputId": "3e4e53e4-9c85-46b1-cbfe-8b84e4238111"
      },
      "outputs": [
        {
          "data": {
            "image/png": "[encoded data removed]",
            "text/plain": [
              "<Figure size 720x360 with 1 Axes>"
            ]
          },
          "metadata": {},
          "output_type": "display_data"
        }
      ],
      "source": [
        "# plot de linhas: style\n",
        "df.plot(style='-o', figsize=(10, 5), grid=True);\n",
        "# df.plot(style='--', figsize=(10, 5), grid=True);\n",
        "# df.plot(style='-.', figsize=(10, 5), grid=True);"
      ]
    },
    {
      "cell_type": "code",
      "execution_count": 107,
      "metadata": {
        "colab": {
          "base_uri": "https://localhost:8080/",
          "height": 345
        },
        "id": "-vMPaxaLYSkK",
        "outputId": "a8a423d7-7523-438c-8216-e88ae000fcee"
      },
      "outputs": [
        {
          "data": {
            "image/png": "[encoded data removed]",
            "text/plain": [
              "<Figure size 720x360 with 1 Axes>"
            ]
          },
          "metadata": {},
          "output_type": "display_data"
        }
      ],
      "source": [
        "# plot de linhas: linewidth\n",
        "df.plot(style='-o', linewidth=2, figsize=(10, 5), grid=True);"
      ]
    },
    {
      "cell_type": "code",
      "execution_count": 108,
      "metadata": {
        "colab": {
          "base_uri": "https://localhost:8080/",
          "height": 345
        },
        "id": "kONqALFXY9oZ",
        "outputId": "eb7aa2b7-8f28-4e43-a48d-9235fb4dfd65"
      },
      "outputs": [
        {
          "data": {
            "image/png": "[encoded data removed]",
            "text/plain": [
              "<Figure size 720x360 with 1 Axes>"
            ]
          },
          "metadata": {},
          "output_type": "display_data"
        }
      ],
      "source": [
        "# plot de linhas: color\n",
        "df.plot(style='-o', linewidth=2.5, color='green', figsize=(10, 5), grid=True);"
      ]
    },
    {
      "cell_type": "code",
      "execution_count": 109,
      "metadata": {
        "colab": {
          "base_uri": "https://localhost:8080/",
          "height": 345
        },
        "id": "eIgIZnZ2Ye_x",
        "outputId": "3e04e3fb-8b02-49d1-eb2a-b8a8326921c0"
      },
      "outputs": [
        {
          "data": {
            "image/png": "[encoded data removed]",
            "text/plain": [
              "<Figure size 720x360 with 1 Axes>"
            ]
          },
          "metadata": {},
          "output_type": "display_data"
        }
      ],
      "source": [
        "# plot de linhas: color\n",
        "df.plot(style='-o', linewidth=2.5, color='#822fb5', figsize=(10, 5), grid=True);"
      ]
    },
    {
      "cell_type": "code",
      "execution_count": null,
      "metadata": {
        "colab": {
          "base_uri": "https://localhost:8080/",
          "height": 266
        },
        "id": "Zk6vTv8HdRmz",
        "outputId": "4db06723-1473-460c-ee64-fde0f0790ced"
      },
      "outputs": [],
      "source": [
        "df"
      ]
    },
    {
      "cell_type": "code",
      "execution_count": null,
      "metadata": {},
      "outputs": [],
      "source": [
        "df.dtypes"
      ]
    },
    {
      "cell_type": "code",
      "execution_count": 112,
      "metadata": {
        "colab": {
          "base_uri": "https://localhost:8080/",
          "height": 320
        },
        "id": "vGohI5T50tBf",
        "outputId": "40bb317b-fd13-4ead-c662-8778545ce68e"
      },
      "outputs": [
        {
          "data": {
            "image/png": "[encoded data removed]",
            "text/plain": [
              "<Figure size 720x360 with 1 Axes>"
            ]
          },
          "metadata": {},
          "output_type": "display_data"
        }
      ],
      "source": [
        "# plot de barras\n",
        "df['classification'].value_counts().plot.bar(figsize=(10, 5), rot=0);"
      ]
    },
    {
      "cell_type": "code",
      "execution_count": 115,
      "metadata": {
        "colab": {
          "base_uri": "https://localhost:8080/",
          "height": 385
        },
        "id": "gsz3n6CTy1W-",
        "outputId": "7db6cf9d-66b6-43ad-be60-33ba83133bea"
      },
      "outputs": [
        {
          "data": {
            "image/png": "[encoded data removed]",
            "text/plain": [
              "<Figure size 720x360 with 1 Axes>"
            ]
          },
          "metadata": {},
          "output_type": "display_data"
        }
      ],
      "source": [
        "# plot de barras\n",
        "df.plot(kind='bar', figsize=(10, 5), rot=45);"
      ]
    },
    {
      "cell_type": "code",
      "execution_count": 120,
      "metadata": {
        "colab": {
          "base_uri": "https://localhost:8080/",
          "height": 411
        },
        "id": "1T12zZNW03AS",
        "outputId": "d3ddca96-5d35-4452-cbce-7d7dfeb345c3"
      },
      "outputs": [
        {
          "data": {
            "image/png": "[encoded data removed]",
            "text/plain": [
              "<Figure size 720x504 with 1 Axes>"
            ]
          },
          "metadata": {},
          "output_type": "display_data"
        }
      ],
      "source": [
        "# pie plot\n",
        "df['classification'].value_counts().plot.pie(autopct='%1.1f%%', #Aplicar sombras\n",
        "                                             shadow=True, #Aplicar Sombras\n",
        "                                             figsize=(10, 7));"
      ]
    },
    {
      "cell_type": "markdown",
      "metadata": {
        "id": "aZUFrYst7YWb"
      },
      "source": [
        "### **Outras operações úteis no pandas**"
      ]
    },
    {
      "cell_type": "code",
      "execution_count": null,
      "metadata": {
        "colab": {
          "base_uri": "https://localhost:8080/",
          "height": 235
        },
        "id": "w05p6hO17wTE",
        "outputId": "c0f9996a-58ac-4824-881a-3a9624340cbc"
      },
      "outputs": [],
      "source": [
        "# dataframe\n",
        "df.head(6)"
      ]
    },
    {
      "cell_type": "code",
      "execution_count": null,
      "metadata": {
        "colab": {
          "base_uri": "https://localhost:8080/",
          "height": 35
        },
        "id": "eSULlalQ79M7",
        "outputId": "5a6457dc-5025-46dc-84d5-13fd86d127db"
      },
      "outputs": [],
      "source": [
        "# groupby: agrupamento por valores únicos de uma ou mais colunas\n",
        "df.groupby(by='classification')"
      ]
    },
    {
      "cell_type": "code",
      "execution_count": null,
      "metadata": {
        "colab": {
          "base_uri": "https://localhost:8080/",
          "height": 204
        },
        "id": "ZNq-dHV57d3m",
        "outputId": "1a4d5f46-8894-49ad-a389-69f383c1c7ea"
      },
      "outputs": [],
      "source": [
        "# groupby: agrupamento por valores únicos de uma ou mais colunas\n",
        "df.groupby(by='classification').mean()"
      ]
    },
    {
      "cell_type": "code",
      "execution_count": null,
      "metadata": {
        "colab": {
          "base_uri": "https://localhost:8080/",
          "height": 204
        },
        "id": "pLwXeO2F73id",
        "outputId": "82a9a7ee-5833-4103-e79a-6812bc0dce42"
      },
      "outputs": [],
      "source": [
        "# groupby: agrupamento por valores únicos de uma ou mais colunas\n",
        "df.groupby(by='classification').sum()"
      ]
    },
    {
      "cell_type": "code",
      "execution_count": null,
      "metadata": {
        "colab": {
          "base_uri": "https://localhost:8080/",
          "height": 235
        },
        "id": "wkqq85JF8pb3",
        "outputId": "12dfa693-044e-491c-a808-83147b51e5cc"
      },
      "outputs": [],
      "source": [
        "# drop: remoção de uma coluna\n",
        "df.drop('temperatura', axis=1)"
      ]
    },
    {
      "cell_type": "code",
      "execution_count": null,
      "metadata": {
        "colab": {
          "base_uri": "https://localhost:8080/",
          "height": 235
        },
        "id": "KXQ_dikvnAff",
        "outputId": "20b6c896-a662-4500-8ac0-8444e473fed0"
      },
      "outputs": [],
      "source": [
        "df"
      ]
    },
    {
      "cell_type": "code",
      "execution_count": null,
      "metadata": {
        "id": "olsUSu1w9FKQ"
      },
      "outputs": [],
      "source": [
        "# cópia de um dataframe: evita compartilhamento de memória\n",
        "# sem copy(), operações inplace em df2 também alteram df\n",
        "# df2 = df.copy() \n",
        "df2 = df"
      ]
    },
    {
      "cell_type": "code",
      "execution_count": null,
      "metadata": {
        "id": "dBsx7tjb80WA"
      },
      "outputs": [],
      "source": [
        "# argumento inplace\n",
        "# inplace=True aplica a transformação no próprio objeto\n",
        "df3 = df2.drop(\"temperatura\", axis=1)"
      ]
    },
    {
      "cell_type": "code",
      "execution_count": null,
      "metadata": {
        "colab": {
          "base_uri": "https://localhost:8080/",
          "height": 204
        },
        "id": "zmYjdq0B9WFi",
        "outputId": "1bea5368-953a-42e2-b878-8ccaea51298a"
      },
      "outputs": [],
      "source": [
        "# sem inplace, df2 continua o mesmo\n",
        "df3.head()"
      ]
    },
    {
      "cell_type": "code",
      "execution_count": null,
      "metadata": {
        "id": "XHAEEuei9jsY"
      },
      "outputs": [],
      "source": [
        "# argumento inplace\n",
        "# inplace=True aplica a transformação no próprio objeto\n",
        "df2.drop(\"temperatura\", axis=1, inplace=True)"
      ]
    },
    {
      "cell_type": "code",
      "execution_count": null,
      "metadata": {
        "colab": {
          "base_uri": "https://localhost:8080/",
          "height": 204
        },
        "id": "U2_TboJ89oBA",
        "outputId": "c4d7cce5-95cc-4b7a-930e-2f6b4a700874"
      },
      "outputs": [],
      "source": [
        "# com inplace, df2 é alterado\n",
        "df2.head()"
      ]
    },
    {
      "cell_type": "code",
      "execution_count": null,
      "metadata": {
        "colab": {
          "base_uri": "https://localhost:8080/",
          "height": 204
        },
        "id": "bG2efm6khpMS",
        "outputId": "66805ee1-db96-4050-b71f-eff80004ec72"
      },
      "outputs": [],
      "source": [
        "# df\n",
        "df.head()"
      ]
    },
    {
      "cell_type": "markdown",
      "metadata": {
        "id": "J8PmXTv0nnG9"
      },
      "source": [
        "## **Scikit-learn**"
      ]
    },
    {
      "cell_type": "markdown",
      "metadata": {
        "id": "_5O28yN93phC"
      },
      "source": [
        "### **Classificação no scikit-learn**"
      ]
    },
    {
      "cell_type": "code",
      "execution_count": null,
      "metadata": {
        "colab": {
          "base_uri": "https://localhost:8080/",
          "height": 266
        },
        "id": "TdYlunqkpXMP",
        "outputId": "f66b885b-9a47-45c4-bbd2-e87a70e6683f"
      },
      "outputs": [],
      "source": [
        "df"
      ]
    },
    {
      "cell_type": "code",
      "execution_count": null,
      "metadata": {
        "colab": {
          "base_uri": "https://localhost:8080/",
          "height": 269
        },
        "id": "THBZz9mJw6u8",
        "outputId": "e255192b-70d9-40cd-f534-bd1a0bb893d0"
      },
      "outputs": [],
      "source": [
        "# extração de x e y\n",
        "x, y = df[['temperatura']].values, df[['classification']].values\n",
        "print(\"x:\\n\", x)\n",
        "print(\"y:\\n\", y)"
      ]
    },
    {
      "cell_type": "code",
      "execution_count": null,
      "metadata": {
        "id": "R_lQuLB33tyK"
      },
      "outputs": [],
      "source": [
        "# pré-processamento\n",
        "from sklearn.preprocessing import LabelEncoder"
      ]
    },
    {
      "cell_type": "code",
      "execution_count": null,
      "metadata": {
        "id": "xa8-1KSfpxaI"
      },
      "outputs": [],
      "source": [
        "LabelEncoder"
      ]
    },
    {
      "cell_type": "code",
      "execution_count": null,
      "metadata": {
        "colab": {
          "base_uri": "https://localhost:8080/",
          "height": 53
        },
        "id": "Wyaba5xK3vye",
        "outputId": "2a8e9140-5083-44cf-9b60-168021639e05"
      },
      "outputs": [],
      "source": [
        "# conversão de y para valores numéricos\n",
        "le = LabelEncoder()  # label enconder\n",
        "y = le.fit_transform(y.ravel())\n",
        "print(\"y:\\n\", y)"
      ]
    },
    {
      "cell_type": "code",
      "execution_count": null,
      "metadata": {
        "id": "Ko6_zxRZ3xYW"
      },
      "outputs": [],
      "source": [
        "# modelo\n",
        "from sklearn.linear_model import LogisticRegression"
      ]
    },
    {
      "cell_type": "code",
      "execution_count": null,
      "metadata": {
        "colab": {
          "base_uri": "https://localhost:8080/",
          "height": 107
        },
        "id": "06xNwo0d4CGy",
        "outputId": "c3f6cd5c-e8c8-4379-a72c-6075a0fa2fa8"
      },
      "outputs": [],
      "source": [
        "# classificador\n",
        "clf = LogisticRegression()\n",
        "clf.fit(x, y)"
      ]
    },
    {
      "cell_type": "code",
      "execution_count": null,
      "metadata": {
        "id": "ixg2gews4Fn5"
      },
      "outputs": [],
      "source": [
        "# gerando 100 valores de temperatura\n",
        "# linearmente espaçados entre 0 e 45\n",
        "# predição em novos valores de temperatura\n",
        "x_test = np.linspace(start=0., stop=45., num=100).reshape(-1, 1)\n",
        "\n",
        "# predição desses valores\n",
        "y_pred = clf.predict(x_test)"
      ]
    },
    {
      "cell_type": "code",
      "execution_count": null,
      "metadata": {
        "colab": {
          "base_uri": "https://localhost:8080/",
          "height": 71
        },
        "id": "Frtax63f4Kkl",
        "outputId": "148871af-3c06-4fef-b930-9d30765a6664"
      },
      "outputs": [],
      "source": [
        "print(y_pred)"
      ]
    },
    {
      "cell_type": "code",
      "execution_count": null,
      "metadata": {
        "id": "icEpsEJi4HaX"
      },
      "outputs": [],
      "source": [
        "# conversão de y_pred para os valores originais\n",
        "y_pred = le.inverse_transform(y_pred)\n",
        "# print(y_pred)"
      ]
    },
    {
      "cell_type": "code",
      "execution_count": null,
      "metadata": {
        "id": "MzxLJVPR4JxM"
      },
      "outputs": [],
      "source": [
        "# output\n",
        "output = {'new_temp': x_test.ravel(),\n",
        "         'new_class': y_pred.ravel()}\n",
        "output = pd.DataFrame(output)"
      ]
    },
    {
      "cell_type": "code",
      "execution_count": null,
      "metadata": {
        "colab": {
          "base_uri": "https://localhost:8080/",
          "height": 204
        },
        "id": "KLRJrXql4_47",
        "outputId": "f86445d3-8eb6-47df-f1b6-2e5d89cd85a5"
      },
      "outputs": [],
      "source": [
        "output.tail()"
      ]
    },
    {
      "cell_type": "code",
      "execution_count": null,
      "metadata": {
        "colab": {
          "base_uri": "https://localhost:8080/",
          "height": 179
        },
        "id": "xG8FuGy24MgQ",
        "outputId": "3768c986-4830-4c8c-d19c-af9f63bbad16"
      },
      "outputs": [],
      "source": [
        "# estatisticas\n",
        "output.info()"
      ]
    },
    {
      "cell_type": "code",
      "execution_count": null,
      "metadata": {
        "colab": {
          "base_uri": "https://localhost:8080/",
          "height": 297
        },
        "id": "ZqxmxUom4N6w",
        "outputId": "751a0c63-bbd1-4ed0-e895-0e400fae14b9"
      },
      "outputs": [],
      "source": [
        "# estatisticas\n",
        "output.describe()"
      ]
    },
    {
      "cell_type": "code",
      "execution_count": null,
      "metadata": {
        "colab": {
          "base_uri": "https://localhost:8080/",
          "height": 336
        },
        "id": "VgHAbbTP4PJs",
        "outputId": "ffc0bc9b-db6c-43fa-e2f5-ffb88dd72cf4"
      },
      "outputs": [],
      "source": [
        "# contagem de valores gerados\n",
        "output['new_class'].value_counts().plot.bar(figsize=(10, 5),\n",
        "                                            rot=0,\n",
        "                                            title=\"# de novos valores gerados\");"
      ]
    },
    {
      "cell_type": "code",
      "execution_count": null,
      "metadata": {
        "colab": {
          "base_uri": "https://localhost:8080/",
          "height": 362
        },
        "id": "UWK6GzV04RpY",
        "outputId": "4f170539-b7dd-4a2f-c175-e30af25ff594"
      },
      "outputs": [],
      "source": [
        "# distribuição do output produzido\n",
        "# conseguimos inferir a classificação novas temperaturas\n",
        "# a partir de um dataset com 6 exemplos\n",
        "output.boxplot(by='new_class', figsize=(10, 5));"
      ]
    },
    {
      "cell_type": "code",
      "execution_count": null,
      "metadata": {
        "id": "KlNss4v9qlw-"
      },
      "outputs": [],
      "source": [
        "# sistema automático\n",
        "def classify_temp():\n",
        "  \"\"\"Classifica o input do usuário.\"\"\"\n",
        "\n",
        "  ask = True\n",
        "  while ask:\n",
        "    # input de temperatura\n",
        "    temp = input(\"Insira a temperatura (graus Celsius): \")\n",
        "\n",
        "    # transformar para numpy array\n",
        "    temp = np.array(float(temp)).reshape(-1, 1)\n",
        "    \n",
        "    # realiza classificação\n",
        "    class_temp = clf.predict(temp)\n",
        "\n",
        "    # transformação inversa para retornar a string original\n",
        "    class_temp =  le.inverse_transform(class_temp)\n",
        "\n",
        "    # classificação\n",
        "    print(f\"A classificação da temperatura {temp.ravel()[0]} é:\", class_temp[0])\n",
        "\n",
        "    # perguntar\n",
        "    ask = input(\"Nova classificação (y/n): \") == 'y'"
      ]
    },
    {
      "cell_type": "code",
      "execution_count": null,
      "metadata": {
        "colab": {
          "base_uri": "https://localhost:8080/",
          "height": 233
        },
        "id": "YqHRWOfqrFyH",
        "outputId": "87b1bd9b-7eaa-4476-985d-b5358a6caf96"
      },
      "outputs": [],
      "source": [
        "# rodando programa \n",
        "classify_temp()"
      ]
    },
    {
      "cell_type": "markdown",
      "metadata": {
        "id": "zXYRe1uZ4Y3M"
      },
      "source": [
        "### **Regressão linear no scikit-learn - I**\n",
        "\n"
      ]
    },
    {
      "cell_type": "code",
      "execution_count": null,
      "metadata": {
        "id": "nVuf6gNN4THE"
      },
      "outputs": [],
      "source": [
        "# dados do segundo capítulo\n",
        "x = [-1., -0.77777778, -0.55555556, -0.33333333, -0.11111111,\n",
        "     0.11111111, 0.33333333, 0.55555556, 0.77777778, 1.]\n",
        "y = [-1.13956201, -0.57177999, -0.21697033, 0.5425699, 0.49406657,\n",
        "     1.14972239, 1.64228553, 2.1749824, 2.64773614, 2.95684202]"
      ]
    },
    {
      "cell_type": "code",
      "execution_count": null,
      "metadata": {
        "colab": {
          "base_uri": "https://localhost:8080/",
          "height": 334
        },
        "id": "ExzD2e7e5qCl",
        "outputId": "34a9123d-b253-445f-eb17-7ec824ab2208"
      },
      "outputs": [],
      "source": [
        "# plot dos dados\n",
        "plt.figure(figsize=(10, 5))\n",
        "plt.plot(x, y, 'o', label='dados originais')\n",
        "plt.legend()\n",
        "plt.xlabel(\"x\")\n",
        "plt.ylabel(\"y\")\n",
        "plt.grid()\n",
        "plt.show()"
      ]
    },
    {
      "cell_type": "code",
      "execution_count": null,
      "metadata": {
        "id": "ANMu9pMX5SEN"
      },
      "outputs": [],
      "source": [
        "# transformando em numpy array\n",
        "x, y = np.array(x).reshape(-1, 1), np.array(y).reshape(-1, 1)"
      ]
    },
    {
      "cell_type": "code",
      "execution_count": null,
      "metadata": {
        "id": "tVwybFtM44gR"
      },
      "outputs": [],
      "source": [
        "# modelo\n",
        "from sklearn.linear_model import LinearRegression"
      ]
    },
    {
      "cell_type": "code",
      "execution_count": null,
      "metadata": {
        "colab": {
          "base_uri": "https://localhost:8080/",
          "height": 35
        },
        "id": "ZyZzrOhd5MiM",
        "outputId": "48254fbc-086f-4590-911a-f06969a7470d"
      },
      "outputs": [],
      "source": [
        "# treinando o modelo: y = a*x + b, valores reais (a, b) = (2, 1)\n",
        "reg = LinearRegression()\n",
        "reg.fit(x, y)"
      ]
    },
    {
      "cell_type": "code",
      "execution_count": null,
      "metadata": {
        "colab": {
          "base_uri": "https://localhost:8080/",
          "height": 53
        },
        "id": "lCukYdH_53eF",
        "outputId": "508fe503-09eb-43b2-b3e0-d4bb61bf2426"
      },
      "outputs": [],
      "source": [
        "# coeficientes a, b estimados:\n",
        "# valores estimados usando o numpy diretamente\n",
        "# a estimado no numpy: 2.05414951\n",
        "# b estimado no numpy: 0.96798926\n",
        "print(\"a estimado:\", reg.coef_.ravel()[0])\n",
        "print(\"b estimado:\", reg.intercept_[0])"
      ]
    },
    {
      "cell_type": "code",
      "execution_count": null,
      "metadata": {
        "id": "y3PoSALG5vIV"
      },
      "outputs": [],
      "source": [
        "# predição do modelo\n",
        "y_pred = reg.predict(x)"
      ]
    },
    {
      "cell_type": "code",
      "execution_count": null,
      "metadata": {
        "colab": {
          "base_uri": "https://localhost:8080/",
          "height": 35
        },
        "id": "Hgkubn3D6ocw",
        "outputId": "8e6a6f2c-397b-4af4-d6d5-c28ff6840674"
      },
      "outputs": [],
      "source": [
        "# score do modelo\n",
        "score = reg.score(x, y)\n",
        "print(\"score:\", score)"
      ]
    },
    {
      "cell_type": "code",
      "execution_count": null,
      "metadata": {
        "colab": {
          "base_uri": "https://localhost:8080/",
          "height": 350
        },
        "id": "Jwca7UQA5QYO",
        "outputId": "960d0237-9d2b-4d76-e360-7800d2650047"
      },
      "outputs": [],
      "source": [
        "# plot dos dados\n",
        "plt.figure(figsize=(10, 5))\n",
        "plt.plot(x, y, 'o', label='dados originais')\n",
        "plt.plot(x, y_pred, label='regressão linear (R2: {:.3f})'.format(score))\n",
        "plt.legend()\n",
        "plt.xlabel(\"x\")\n",
        "plt.ylabel(\"y\")\n",
        "plt.title(\"Regressão linear no scikit-learn\")\n",
        "plt.grid()\n",
        "plt.show()"
      ]
    },
    {
      "cell_type": "markdown",
      "metadata": {
        "id": "ECTpxDdC-6Bs"
      },
      "source": [
        "### **Regressão linear no scikit-learn - II**\n"
      ]
    },
    {
      "cell_type": "code",
      "execution_count": null,
      "metadata": {
        "colab": {
          "base_uri": "https://localhost:8080/",
          "height": 350
        },
        "id": "_CqpevpU50t7",
        "outputId": "bc1c1ea5-99cc-453b-b9cb-a0ef20b3e4b6"
      },
      "outputs": [],
      "source": [
        "# plot dos dados\n",
        "plt.figure(figsize=(10, 5))\n",
        "plt.plot(x, y, 'o', label='dados originais')\n",
        "plt.plot(x, y_pred, label='regressão linear (R2: {:.4f})'.format(score))\n",
        "plt.hlines(y=y.mean(), xmin=x.min(), xmax=x.max(), linestyle='dashed',\n",
        "           label='Modelo de referência do $R^2$')\n",
        "plt.legend()\n",
        "plt.xlabel(\"x\")\n",
        "plt.ylabel(\"y\")\n",
        "plt.title(\"Regressão linear no scikit-learn\")\n",
        "plt.grid()\n",
        "plt.show()"
      ]
    },
    {
      "cell_type": "markdown",
      "metadata": {
        "id": "mOxmlPL7Lj7A"
      },
      "source": [
        "O erro quadrático médio de um modelo de regressão é dado por:\n",
        "\n",
        "$$MSE_{reg} = \\frac{1}{n}\\sum_{i=1}^{n} (y_i - \\hat{y}_i)^2.$$\n",
        "\n",
        "O coeficiente de determinação $R^2$ representa o quão melhor um modelo é em relação a um modelo de referência que prevê sempre a média dos pontos, ou seja, o MSE do modelo de referência é dado por:\n",
        "\n",
        "$$MSE_{ref} = \\frac{1}{n}\\sum_{i=1}^{n} (y_i - \\bar{y})^2,$$\n",
        "\n",
        "onde $\\bar{y}$ representa a média do vetor $y$.\n",
        "\n",
        "Sendo assim:\n",
        "\n",
        "$$R^2 = 1 - \\frac{MSE_{reg}}{MSE_{ref}}$$"
      ]
    },
    {
      "cell_type": "code",
      "execution_count": null,
      "metadata": {
        "id": "7Wg8zsdmLitv"
      },
      "outputs": [],
      "source": [
        "# função para cálculo do MSE\n",
        "def mse(y_true, y_pred, is_ref = False):\n",
        "\n",
        "  # mse modelo\n",
        "  if is_ref:\n",
        "    mse = ((y_true - y_true.mean())**2).mean()\n",
        "  else:\n",
        "    mse = ((y_true - y_pred)**2).mean()\n",
        "\n",
        "  return mse"
      ]
    },
    {
      "cell_type": "code",
      "execution_count": null,
      "metadata": {
        "id": "oLm3PiVe_CND"
      },
      "outputs": [],
      "source": [
        "# função para cálculo do coeficiente de determinação R2\n",
        "def r2(mse_reg, mse_ref):\n",
        "  return 1 - mse_reg/mse_ref"
      ]
    },
    {
      "cell_type": "code",
      "execution_count": null,
      "metadata": {
        "colab": {
          "base_uri": "https://localhost:8080/",
          "height": 89
        },
        "id": "eLE-CsnrOXgs",
        "outputId": "b7729d00-d29d-4e5d-c949-cc527dca15ff"
      },
      "outputs": [],
      "source": [
        "# visualizando y e y_pred\n",
        "print(\"y_true:\", y.ravel())\n",
        "print(\"y_pred:\", y_pred.ravel())"
      ]
    },
    {
      "cell_type": "code",
      "execution_count": null,
      "metadata": {
        "colab": {
          "base_uri": "https://localhost:8080/",
          "height": 53
        },
        "id": "5kSqL55IOH7J",
        "outputId": "3645343e-e197-45e1-b2f9-5100bf9c25dd"
      },
      "outputs": [],
      "source": [
        "# calculando o mse dos modelos\n",
        "mse_reg = mse(y_true=y, y_pred=y_pred)\n",
        "print(\"MSE do modelo de regressão:\", mse_reg)\n",
        "mse_ref = mse(y_true=y, y_pred=y_pred, is_ref=True)\n",
        "print(\"MSE do modelo de referência:\", mse_ref)"
      ]
    },
    {
      "cell_type": "code",
      "execution_count": null,
      "metadata": {
        "colab": {
          "base_uri": "https://localhost:8080/",
          "height": 35
        },
        "id": "rqB6OLfFOx_M",
        "outputId": "6483780c-9189-405f-c39b-1badced80a75"
      },
      "outputs": [],
      "source": [
        "# calculando o R2 score\n",
        "r2_score = r2(mse_reg=mse_reg, mse_ref=mse_ref)\n",
        "print(\"Coeficiente R2 do modelo implementado (calculado):\", r2_score)"
      ]
    },
    {
      "cell_type": "code",
      "execution_count": null,
      "metadata": {
        "colab": {
          "base_uri": "https://localhost:8080/",
          "height": 35
        },
        "id": "_oX5Ef7IPM6C",
        "outputId": "5508a75f-b1ec-435b-a910-1053b548c14f"
      },
      "outputs": [],
      "source": [
        "# score retornado pelo scikit-learn\n",
        "r2_score_skl = reg.score(x, y)\n",
        "print(\"Coeficiente R2 do modelo implementado (scikit-learn):\", r2_score_skl)"
      ]
    },
    {
      "cell_type": "code",
      "execution_count": null,
      "metadata": {
        "id": "jKKAUuKsPvTb"
      },
      "outputs": [],
      "source": []
    }
  ],
  "metadata": {
    "colab": {
      "collapsed_sections": [
        "IGa1ElkAlEha",
        "glXv_BQc-eKm",
        "769s_NzwDZII",
        "emFS9rYEJlwa",
        "dvkMMUaRMlsQ",
        "IQZaGV6jRRD5",
        "xbgWm1XGVdiq",
        "oIfWCzfoaSzL",
        "Jh3dR2mFfl9F",
        "4gU2Pi7crNNq",
        "D5RHAvSdsvws",
        "0sJc-R3uvEwU",
        "sjlWCwS_ycmt",
        "J8PmXTv0nnG9"
      ],
      "name": "[IGTI] Bootcamp - Módulo 2.ipynb",
      "provenance": []
    },
    "interpreter": {
      "hash": "570feb405e2e27c949193ac68f46852414290d515b0ba6e5d90d076ed2284471"
    },
    "kernelspec": {
      "display_name": "Python 3.8.6 64-bit",
      "language": "python",
      "name": "python3"
    },
    "language_info": {
      "codemirror_mode": {
        "name": "ipython",
        "version": 3
      },
      "file_extension": ".py",
      "mimetype": "text/x-python",
      "name": "python",
      "nbconvert_exporter": "python",
      "pygments_lexer": "ipython3",
      "version": "3.8.6"
    }
  },
  "nbformat": 4,
  "nbformat_minor": 0
}
